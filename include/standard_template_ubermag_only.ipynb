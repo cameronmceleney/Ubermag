{
 "cells": [
  {
   "metadata": {},
   "cell_type": "markdown",
   "source": [
    "# 0. Import packages\n",
    "Keep cell, and leave blank. If PyCharm (IDE) automatically imports any functions then they'll appear in this cell. This allows for easy sorting."
   ],
   "id": "b80090e5f5ac1eab"
  },
  {
   "metadata": {
    "ExecuteTime": {
     "end_time": "2025-04-17T13:19:34.704528Z",
     "start_time": "2025-04-17T13:19:34.702401Z"
    }
   },
   "cell_type": "code",
   "source": "# Intentionally blank\n",
   "id": "3f0ab56ec47bb2d8",
   "outputs": [],
   "execution_count": 175
  },
  {
   "metadata": {},
   "cell_type": "markdown",
   "source": "## 0.1. Clear the workspace",
   "id": "c2451216041baa4f"
  },
  {
   "metadata": {
    "ExecuteTime": {
     "end_time": "2025-04-17T13:19:35.004482Z",
     "start_time": "2025-04-17T13:19:34.756564Z"
    }
   },
   "cell_type": "code",
   "source": [
    "# Clear all variables in the workspace\n",
    "%reset -f"
   ],
   "id": "2431d6dcf74ec37e",
   "outputs": [],
   "execution_count": 176
  },
  {
   "metadata": {},
   "cell_type": "markdown",
   "source": "## 0.2. Ubermag",
   "id": "a0d4df48da1de557"
  },
  {
   "metadata": {
    "ExecuteTime": {
     "end_time": "2025-04-17T13:19:35.009356Z",
     "start_time": "2025-04-17T13:19:35.006915Z"
    }
   },
   "cell_type": "code",
   "source": [
    "import oommfc as oc\n",
    "oc.runner.runner"
   ],
   "id": "4284fbd43b4b727c",
   "outputs": [
    {
     "data": {
      "text/plain": [
       "TclOOMMFRunner(/Applications/oommf/oommf/oommf.tcl)"
      ]
     },
     "execution_count": 177,
     "metadata": {},
     "output_type": "execute_result"
    }
   ],
   "execution_count": 177
  },
  {
   "metadata": {
    "ExecuteTime": {
     "end_time": "2025-04-17T13:19:35.023508Z",
     "start_time": "2025-04-17T13:19:35.020826Z"
    }
   },
   "cell_type": "code",
   "source": [
    "import discretisedfield as df\n",
    "import micromagneticmodel as mm"
   ],
   "id": "d4c5b022b83bd00e",
   "outputs": [],
   "execution_count": 178
  },
  {
   "metadata": {},
   "cell_type": "markdown",
   "source": "## 0.3. My custom modules",
   "id": "728ac8e563c52cee"
  },
  {
   "metadata": {},
   "cell_type": "code",
   "outputs": [],
   "execution_count": null,
   "source": [
    "from custom_helper_files import (custom_image_processing as cip,\n",
    "                                 custom_system_properties as csp,\n",
    "                                 custom_dispersion_relations as cdr,\n",
    "                                 custom_physics_equations as cpe,\n",
    "                                 custom_temporal_field_tcl_scripts as ctf,\n",
    "                                 convert_field_units)\n",
    "\n",
    "from custom_ubermag_utils import damping_absorbing_region as dar"
   ],
   "id": "f5f26706b4b1a62"
  },
  {
   "metadata": {},
   "cell_type": "markdown",
   "source": "## 0.4. General Python",
   "id": "db679b18f838a763"
  },
  {
   "metadata": {},
   "cell_type": "code",
   "outputs": [],
   "execution_count": null,
   "source": [
    "%matplotlib inline\n",
    "import numpy as np"
   ],
   "id": "c914bb8cb5dda128"
  },
  {
   "metadata": {},
   "cell_type": "markdown",
   "source": [
    "# 1. Define the overall system\n",
    "\n",
    "Set your data and figure output directories; used for saving the simulation data and figures, respectively. The `json_params` dictionary is used to store parameters that will be passed to the JSON file."
   ],
   "id": "cc83c0dc78b6ac8"
  },
  {
   "metadata": {
    "ExecuteTime": {
     "end_time": "2025-04-17T13:19:35.056285Z",
     "start_time": "2025-04-17T13:19:35.054327Z"
    }
   },
   "cell_type": "code",
   "source": [
    "data_output = '/Users/cameronmceleney/Data/2025-04-17/Ubermag_data'\n",
    "figs_output = '/Users/cameronmceleney/Data/2025-04-17/Ubermag_output'"
   ],
   "id": "c863f456dc1743e0",
   "outputs": [],
   "execution_count": 181
  },
  {
   "metadata": {},
   "cell_type": "markdown",
   "source": [
    "OOMMF will automatically generate a JSON file containing most simulation parameters when a driver (`oommfc.Driver`) is executed. However, many parameters used to define customised fields (`df.Field`) will only appear, if at all, in binary-encoded files.\n",
    "\n",
    "To log these parameters, we can piggyback on OOMMF's auto-generated JSON by passing a dictionary of these parameters to the final driver."
   ],
   "id": "9f79f014c0668a0e"
  },
  {
   "metadata": {
    "ExecuteTime": {
     "end_time": "2025-04-17T13:19:35.062705Z",
     "start_time": "2025-04-17T13:19:35.060790Z"
    }
   },
   "cell_type": "code",
   "source": "json_params = {}",
   "id": "fc5f7ad2ceecf93a",
   "outputs": [],
   "execution_count": 182
  },
  {
   "metadata": {},
   "cell_type": "markdown",
   "source": [
    "## 1.1. Container\n",
    "\n",
    "- `system.name` will be used extensively for naming output files and figures. Ensure it is descriptive and key-search friendly.\n",
    "- Assume there is no temperature `T` to consider."
   ],
   "id": "d8d5444e71f8ccf4"
  },
  {
   "metadata": {
    "ExecuteTime": {
     "end_time": "2025-04-17T13:19:35.071440Z",
     "start_time": "2025-04-17T13:19:35.069751Z"
    }
   },
   "cell_type": "code",
   "source": [
    "system = mm.System(name='dmi_paper_validation',\n",
    "                   T=0)"
   ],
   "id": "e4a4a3e8be05446c",
   "outputs": [],
   "execution_count": 183
  },
  {
   "metadata": {},
   "cell_type": "markdown",
   "source": [
    "I prefer to use my own custom system properties class as this allows me to define dimensions, cell sizes, and other properties in a single place prior to declaring any region (`df.Region`) or mesh (`df.Mesh`) instances. For me, `csp.SystemProperties` improve code readability.\n",
    "\n",
    "> To only use functionality defined by Ubermag one must first define a mesh and then a region. The dimensions can be extracted from either, while the cell size is a property of the mesh."
   ],
   "id": "c8be5314b43737cc"
  },
  {
   "metadata": {
    "ExecuteTime": {
     "end_time": "2025-04-17T13:19:35.080859Z",
     "start_time": "2025-04-17T13:19:35.079064Z"
    }
   },
   "cell_type": "code",
   "source": [
    "# System dimensions\n",
    "system_prop = csp.SystemProperties(length=8802e-9,\n",
    "                                   width=1e-9,\n",
    "                                   thickness=12e-9)\n",
    "\n",
    "# System mesh cell size\n",
    "system_prop.cell = (1e-9, 1e-9, 12e-9)\n",
    "system_prop.units = ('m', 'm', 'm')\n",
    "system_prop.update_numcells()"
   ],
   "id": "e7b90d9b6cede895",
   "outputs": [],
   "execution_count": 184
  },
  {
   "metadata": {},
   "cell_type": "markdown",
   "source": [
    "## 1.2. Primary region\n",
    "\n",
    "All models must consistent of a primary `df.Region` from which the `df.Mesh` can be determined. Now, we set up the container for this primary region.\n",
    "\n",
    "> The command `%%capture` is a Jupyter magic command that suppresses the output of the cell. Comment it out to see the cell's output."
   ],
   "id": "5d4d195606e5e05b"
  },
  {
   "metadata": {
    "ExecuteTime": {
     "end_time": "2025-04-17T13:19:35.090480Z",
     "start_time": "2025-04-17T13:19:35.086153Z"
    }
   },
   "cell_type": "code",
   "source": [
    "%%capture\n",
    "system_region = csp.MyRegions(system.name + \"_regions\")\n",
    "\n",
    "system_region.main(p1=system_prop.p1,\n",
    "                   p2=system_prop.p2,\n",
    "                   dims=('x', 'y', 'z'),\n",
    "                   units=system_prop.units)"
   ],
   "id": "6b0abb3065bdf356",
   "outputs": [],
   "execution_count": 185
  },
  {
   "metadata": {},
   "cell_type": "markdown",
   "source": [
    "## 1.2.1. Material subregions\n",
    "One could solely use the `domain` container we just created to also hold these subregions. For demonstration purposes more than anything else, we first create a second, separate container for the subregions.\n",
    "\n",
    "While each subregion is separated define, we are somewhat able to automate the process by letting one subregion be the base for the next."
   ],
   "id": "5744d5ff12053e24"
  },
  {
   "metadata": {
    "ExecuteTime": {
     "end_time": "2025-04-17T13:19:35.096287Z",
     "start_time": "2025-04-17T13:19:35.094953Z"
    }
   },
   "cell_type": "code",
   "source": "system_subregions = csp.MyRegions(system.name + \"_subregions\")",
   "id": "23a8e118e34e3301",
   "outputs": [],
   "execution_count": 186
  },
  {
   "metadata": {
    "ExecuteTime": {
     "end_time": "2025-04-17T13:19:35.109923Z",
     "start_time": "2025-04-17T13:19:35.102858Z"
    }
   },
   "cell_type": "code",
   "source": [
    "%%capture\n",
    "system_subregions.fixedLhs(p1=system_region.main.pmin,\n",
    "                           p2=(system_prop.cell[0],\n",
    "                               system_prop.width,\n",
    "                               system_prop.thickness),\n",
    "                           dims=('x', 'y', 'z'),\n",
    "                           units=system_prop.units)\n",
    "\n",
    "system_subregions.dampingLhs(p1=csp.add_tuples(system_subregions.fixedLhs.pmax,\n",
    "                                               dims='x',\n",
    "                                               base=system_prop.p1),\n",
    "                             p2=csp.add_tuples(system_subregions.fixedLhs.pmax,\n",
    "                                               system_prop.cell,\n",
    "                                               mult=600,\n",
    "                                               dims='x'),\n",
    "                             dims=('x', 'y', 'z'),\n",
    "                             units=system_prop.units)\n",
    "\n",
    "system_subregions.freeLhs(p1=csp.add_tuples(system_subregions.dampingLhs.pmax,\n",
    "                                            dims='x',\n",
    "                                            base=system_prop.p1),\n",
    "                          p2=csp.add_tuples(system_subregions.dampingLhs.pmax,\n",
    "                                           system_prop.cell,\n",
    "                                           mult=3250,\n",
    "                                           dims='x'),\n",
    "                          dims=('x', 'y', 'z'),\n",
    "                          units=system_prop.units)\n",
    "\n",
    "system_subregions.gradientLhs(p1=csp.add_tuples(system_subregions.freeLhs.pmax,\n",
    "                                                dims='x',\n",
    "                                                base=system_prop.p1),\n",
    "                              p2=csp.add_tuples(system_subregions.freeLhs.pmax,\n",
    "                                                system_prop.cell,\n",
    "                                                mult=490,\n",
    "                                                dims='x'),\n",
    "                              dims=('x', 'y', 'z'),\n",
    "                              units=system_prop.units)\n",
    "\n",
    "system_subregions.driven(p1=csp.add_tuples(system_subregions.gradientLhs.pmax,\n",
    "                                           dims='x',\n",
    "                                           base=system_prop.p1),\n",
    "                         p2=csp.add_tuples(system_subregions.gradientLhs.pmax,\n",
    "                                           system_prop.cell,\n",
    "                                           mult=120,\n",
    "                                           dims='x'),\n",
    "                         dims=('x', 'y', 'z'),\n",
    "                         units=system_prop.units)\n",
    "\n",
    "system_subregions.gradientRhs(p1=csp.add_tuples(system_subregions.driven.pmax,\n",
    "                                                dims='x',\n",
    "                                                base=system_prop.p1),\n",
    "                              p2=csp.add_tuples(system_subregions.driven.pmax,\n",
    "                                                system_prop.cell,\n",
    "                                                mult=490,\n",
    "                                                dims='x'),\n",
    "                              dims=('x', 'y', 'z'),\n",
    "                              units=system_prop.units)\n",
    "\n",
    "system_subregions.freeRhs(p1=csp.add_tuples(system_subregions.gradientRhs.pmax,\n",
    "                                            dims='x',\n",
    "                                            base=system_prop.p1),\n",
    "                          p2=csp.add_tuples(system_subregions.gradientRhs.pmax,\n",
    "                                           system_prop.cell,\n",
    "                                           mult=3250,\n",
    "                                           dims='x'),\n",
    "                          dims=('x', 'y', 'z'),\n",
    "                          units=system_prop.units)\n",
    "\n",
    "system_subregions.dampingRhs(p1=csp.add_tuples(system_subregions.freeRhs.pmax,\n",
    "                                               dims='x',\n",
    "                                               base=system_prop.p1),\n",
    "                             p2=csp.add_tuples(system_subregions.freeRhs.pmax,\n",
    "                                               system_prop.cell,\n",
    "                                               mult=600,\n",
    "                                               dims='x'),\n",
    "                             dims=('x', 'y', 'z'),\n",
    "                             units=system_prop.units)\n",
    "\n",
    "system_subregions.fixedRhs(p1=csp.add_tuples(system_subregions.dampingRhs.pmax,\n",
    "                                             dims='x',\n",
    "                                             base=system_prop.p1),\n",
    "                           p2=system_region.main.pmax,\n",
    "                           dims=('x', 'y', 'z'),\n",
    "                           units=system_prop.units)"
   ],
   "id": "eb9f0968c28eab75",
   "outputs": [],
   "execution_count": 187
  },
  {
   "metadata": {
    "ExecuteTime": {
     "end_time": "2025-04-17T13:19:35.128452Z",
     "start_time": "2025-04-17T13:19:35.114350Z"
    }
   },
   "cell_type": "code",
   "source": "system_subregions.subregions",
   "id": "979831cb9a7ef48f",
   "outputs": [
    {
     "data": {
      "text/plain": [
       "{'fixedLhs': Region(pmin=[0.0, 0.0, 0.0], pmax=[1e-09, 1e-09, 1.2e-08], dims=['x', 'y', 'z'], units=['m', 'm', 'm']),\n",
       " 'dampingLhs': Region(pmin=[1e-09, 0.0, 0.0], pmax=[6.01e-07, 1e-09, 1.2e-08], dims=['x', 'y', 'z'], units=['m', 'm', 'm']),\n",
       " 'freeLhs': Region(pmin=[6.01e-07, 0.0, 0.0], pmax=[3.851e-06, 1e-09, 1.2e-08], dims=['x', 'y', 'z'], units=['m', 'm', 'm']),\n",
       " 'gradientLhs': Region(pmin=[3.851e-06, 0.0, 0.0], pmax=[4.341e-06, 1e-09, 1.2e-08], dims=['x', 'y', 'z'], units=['m', 'm', 'm']),\n",
       " 'driven': Region(pmin=[4.341e-06, 0.0, 0.0], pmax=[4.461e-06, 1e-09, 1.2e-08], dims=['x', 'y', 'z'], units=['m', 'm', 'm']),\n",
       " 'gradientRhs': Region(pmin=[4.461e-06, 0.0, 0.0], pmax=[4.951e-06, 1e-09, 1.2e-08], dims=['x', 'y', 'z'], units=['m', 'm', 'm']),\n",
       " 'freeRhs': Region(pmin=[4.951e-06, 0.0, 0.0], pmax=[8.201e-06, 1e-09, 1.2e-08], dims=['x', 'y', 'z'], units=['m', 'm', 'm']),\n",
       " 'dampingRhs': Region(pmin=[8.201e-06, 0.0, 0.0], pmax=[8.801e-06, 1e-09, 1.2e-08], dims=['x', 'y', 'z'], units=['m', 'm', 'm']),\n",
       " 'fixedRhs': Region(pmin=[8.801e-06, 0.0, 0.0], pmax=[8.802e-06, 1e-09, 1.2e-08], dims=['x', 'y', 'z'], units=['m', 'm', 'm'])}"
      ]
     },
     "execution_count": 188,
     "metadata": {},
     "output_type": "execute_result"
    }
   ],
   "execution_count": 188
  },
  {
   "metadata": {},
   "cell_type": "markdown",
   "source": "## 1.3. Define the overall mesh",
   "id": "509e5631c885bc58"
  },
  {
   "metadata": {
    "ExecuteTime": {
     "end_time": "2025-04-17T13:19:35.142081Z",
     "start_time": "2025-04-17T13:19:35.134981Z"
    }
   },
   "cell_type": "code",
   "source": [
    "%%capture\n",
    "system_region.mesh = df.Mesh(region=system_region.main.region,\n",
    "                             cell=system_prop.cell,\n",
    "                             subregions=system_subregions.subregions)"
   ],
   "id": "d375776c7f9441ef",
   "outputs": [],
   "execution_count": 189
  },
  {
   "metadata": {},
   "cell_type": "markdown",
   "source": "It's always a good idea to check that the mesh has been created correctly. The `mpl` method of the mesh object allows us to visualise the mesh and subregions. Note that the proportions of the mesh may not be accurately represented in the plot. The `box_aspect` argument can be tweaked as required to improve the visualisation.",
   "id": "cdcc88fe57122602"
  },
  {
   "metadata": {
    "ExecuteTime": {
     "end_time": "2025-04-17T13:19:35.243355Z",
     "start_time": "2025-04-17T13:19:35.153988Z"
    }
   },
   "cell_type": "code",
   "source": [
    "system_region.mesh.mpl.subregions(figsize=(4, 4),\n",
    "                                  multiplier=1e-9,\n",
    "                                  box_aspect=(40, 1, 4),\n",
    "                                  show_region=True)"
   ],
   "id": "eab16ad986ccfd6a",
   "outputs": [
    {
     "data": {
      "text/plain": [
       "<Figure size 400x400 with 1 Axes>"
      ],
      "image/png": "[encoded data removed]"
     },
     "metadata": {},
     "output_type": "display_data"
    }
   ],
   "execution_count": 190
  },
  {
   "metadata": {},
   "cell_type": "markdown",
   "source": "## 1.4. Boundary conditions",
   "id": "4c317a808fd278d"
  },
  {
   "metadata": {
    "ExecuteTime": {
     "end_time": "2025-04-17T13:19:35.250654Z",
     "start_time": "2025-04-17T13:19:35.248757Z"
    }
   },
   "cell_type": "code",
   "source": [
    "system_region.mesh.bc = 'x'\n",
    "\n",
    "evolver_fixed_spins_list = ['']#['fixedLhs', 'fixedRhs']"
   ],
   "id": "1d93ffb6f5344e54",
   "outputs": [],
   "execution_count": 191
  },
  {
   "metadata": {
    "ExecuteTime": {
     "end_time": "2025-04-17T13:19:35.262826Z",
     "start_time": "2025-04-17T13:19:35.261104Z"
    }
   },
   "cell_type": "code",
   "source": [
    "if any(evolver_fixed_spins_list) and system_region.mesh.bc:\n",
    "    raise ValueError(\"[evolver_fixed_spins_list] and [system_region.mesh.bc] cannot both be specified\")\n"
   ],
   "id": "a86c44469c1df75c",
   "outputs": [],
   "execution_count": 192
  },
  {
   "metadata": {},
   "cell_type": "markdown",
   "source": "# 2. Define the system's starting magnetisation state",
   "id": "930ef1ac5014fe92"
  },
  {
   "metadata": {},
   "cell_type": "markdown",
   "source": "## 2.1. Saturisation magnetisation, $M_{s}$",
   "id": "10ae7de004c9a802"
  },
  {
   "metadata": {
    "ExecuteTime": {
     "end_time": "2025-04-17T13:19:35.274310Z",
     "start_time": "2025-04-17T13:19:35.272268Z"
    }
   },
   "cell_type": "code",
   "source": "sat_mag = 8e5  # [A/m]",
   "id": "c96747cb9bdaa043",
   "outputs": [],
   "execution_count": 193
  },
  {
   "metadata": {
    "ExecuteTime": {
     "end_time": "2025-04-17T13:19:35.284278Z",
     "start_time": "2025-04-17T13:19:35.282566Z"
    }
   },
   "cell_type": "code",
   "source": "json_params['Saturation magnetisation [A/m]'] = str(sat_mag)",
   "id": "8dff92db52e451fe",
   "outputs": [],
   "execution_count": 194
  },
  {
   "metadata": {},
   "cell_type": "markdown",
   "source": [
    "## 2.2. (As needed) Create a mask for the magnetisation of the primary region\n",
    "\n",
    "Create a mask for the primary region. Cells where $M_{s} = 0$ will be treated as non-magnetic **only if** we pass `valid='norm'` as an argument when defining `system.m`.\n",
    "\n",
    "If `valid='norm'` is not used, then we must ensure that all other definitions, such as the regions defining $\\mathbf{m}_\\text{0}$ **exactly** match those used in the mask for $M_{s}$. In this example, failure to do so would lead to cells being initialised with unnormalised magnetisations. This almost always leads to garbage, and can be a very subtle error to debug."
   ],
   "id": "3eda1960798bc777"
  },
  {
   "metadata": {
    "ExecuteTime": {
     "end_time": "2025-04-17T13:19:35.291494Z",
     "start_time": "2025-04-17T13:19:35.289533Z"
    }
   },
   "cell_type": "code",
   "source": [
    "def sat_mag_func(pos):\n",
    "    valid_regions = [system_region.main.region]\n",
    "\n",
    "    if any(pos in region for region in valid_regions):\n",
    "        return sat_mag\n",
    "    else:\n",
    "        return 0.0"
   ],
   "id": "4ecf8b5ef9c731d1",
   "outputs": [],
   "execution_count": 195
  },
  {
   "metadata": {},
   "cell_type": "markdown",
   "source": "## 2.3. Initial magnetisation, $\\mathbf{m}_{0}$",
   "id": "8b4f5544e3131de4"
  },
  {
   "metadata": {
    "ExecuteTime": {
     "end_time": "2025-04-17T13:19:35.298124Z",
     "start_time": "2025-04-17T13:19:35.296199Z"
    }
   },
   "cell_type": "code",
   "source": [
    "def m_init_func(pos):\n",
    "    valid_regions = [system_subregions.fixedLhs.region, system_subregions.fixedRhs.region]\n",
    "\n",
    "    if any(pos in region for region in valid_regions):\n",
    "        return (0.0, 0.0, 1.0)\n",
    "    else:\n",
    "        return (0.0, 0.0, 1.0)"
   ],
   "id": "5c9cbb4f07661ca5",
   "outputs": [],
   "execution_count": 196
  },
  {
   "metadata": {},
   "cell_type": "markdown",
   "source": "## 2.4. Define the system's magnetisation field",
   "id": "e4d3a1da7a0d95db"
  },
  {
   "metadata": {
    "ExecuteTime": {
     "end_time": "2025-04-17T13:19:35.756805Z",
     "start_time": "2025-04-17T13:19:35.305978Z"
    }
   },
   "cell_type": "code",
   "source": [
    "system.m = df.Field(\n",
    "    mesh=system_region.mesh,\n",
    "    value=m_init_func,\n",
    "    norm=sat_mag,\n",
    "    #valid='norm',\n",
    "    nvdim=3\n",
    ")"
   ],
   "id": "eaf4324222199a58",
   "outputs": [],
   "execution_count": 197
  },
  {
   "metadata": {},
   "cell_type": "markdown",
   "source": "> From this point on temporary containers such as `system_region` are no longer needed. We can now use the `system` container to access the mesh, regions, and subregions. It is a good idea to remove these temporary containers to avoid confusion. The only real use-case for these containers later in the code is to check that `system` has been correctly updated.",
   "id": "1b5b976b8658fa3c"
  },
  {
   "metadata": {},
   "cell_type": "markdown",
   "source": [
    "# 3. Define the energy equation\n",
    "\n",
    "We will define the energy equation for our micromagnetic system in Ubermag's container `micromagneticmodel.Energy()`.\n",
    "\n",
    "> Ensure that variable names are descriptive and key-search friendly. When errors occur Ubermag, OOMMF, and Python messages are spewed out together; debugging is nightmare. This is why `sat_mag` is used instead of `Ms`.\n",
    "\n",
    "\n"
   ],
   "id": "d60c2d2e216d40a7"
  },
  {
   "metadata": {
    "ExecuteTime": {
     "end_time": "2025-04-17T13:19:35.760653Z",
     "start_time": "2025-04-17T13:19:35.759106Z"
    }
   },
   "cell_type": "code",
   "source": "system.energy = 0",
   "id": "38b909dad127fb55",
   "outputs": [],
   "execution_count": 198
  },
  {
   "metadata": {},
   "cell_type": "markdown",
   "source": [
    "## 3.1. Quick access\n",
    "\n",
    "To save scrolling deep into the Notebook, I like to forward declare my core material parameters.\n",
    "\n",
    "Not yet implemented properly; temporary solution below."
   ],
   "id": "6b7bef5ef13b7e8a"
  },
  {
   "metadata": {
    "ExecuteTime": {
     "end_time": "2025-04-17T13:19:35.766223Z",
     "start_time": "2025-04-17T13:19:35.763999Z"
    }
   },
   "cell_type": "code",
   "source": [
    "import dataclasses\n",
    "@dataclasses.dataclass\n",
    "class EnableEnergyTerm:\n",
    "    anisotropy: bool = False\n",
    "    demag: bool = False\n",
    "    dmi: dict = dataclasses.field(default_factory=dict)\n",
    "    driving_zeeman: bool = False\n",
    "    exchange: bool = False\n",
    "    static_zeeman: bool = False\n",
    "\n",
    "    def __post_init__(self):\n",
    "        if not self.dmi.get('constant'):\n",
    "            self.dmi['constant'] = False\n",
    "        if not self.dmi.get('dict'):\n",
    "            self.dmi['dict'] = False\n",
    "        if not self.dmi.get('subregions'):\n",
    "            self.dmi['subregions'] = False"
   ],
   "id": "91c3274c4ba8e7b2",
   "outputs": [],
   "execution_count": 199
  },
  {
   "metadata": {
    "ExecuteTime": {
     "end_time": "2025-04-17T13:19:35.772561Z",
     "start_time": "2025-04-17T13:19:35.771197Z"
    }
   },
   "cell_type": "code",
   "source": [
    "has_energy = EnableEnergyTerm(\n",
    "    anisotropy=False,\n",
    "    demag=True,\n",
    "    driving_zeeman=True,\n",
    "    exchange=True,\n",
    "    static_zeeman=True\n",
    ")\n",
    "\n",
    "has_energy.dmi['subregions'] = True"
   ],
   "id": "1628661d99fbdaa7",
   "outputs": [],
   "execution_count": 200
  },
  {
   "metadata": {},
   "cell_type": "markdown",
   "source": "## 3.2. Static Zeeman field",
   "id": "ce9e0a91dced6bc"
  },
  {
   "metadata": {
    "ExecuteTime": {
     "end_time": "2025-04-17T13:19:35.779496Z",
     "start_time": "2025-04-17T13:19:35.778191Z"
    }
   },
   "cell_type": "code",
   "source": [
    "zeeman_static_strength = [0.0, 0.0, 0.30]  # [T]\n",
    "zeeman_static_strength = convert_field_units.ampere_per_metre(zeeman_static_strength)"
   ],
   "id": "3002c5e5a2ceeaf",
   "outputs": [],
   "execution_count": 201
  },
  {
   "metadata": {
    "ExecuteTime": {
     "end_time": "2025-04-17T13:19:35.783597Z",
     "start_time": "2025-04-17T13:19:35.782325Z"
    }
   },
   "cell_type": "code",
   "source": [
    "if has_energy.static_zeeman:\n",
    "    system.energy += mm.Zeeman(H=zeeman_static_strength,\n",
    "                               name='static')"
   ],
   "id": "8714dc313e6a83f0",
   "outputs": [],
   "execution_count": 202
  },
  {
   "metadata": {},
   "cell_type": "markdown",
   "source": "## 3.3. Driving Zeeman field",
   "id": "524379be38933f9b"
  },
  {
   "metadata": {
    "ExecuteTime": {
     "end_time": "2025-04-17T13:19:35.788068Z",
     "start_time": "2025-04-17T13:19:35.786848Z"
    }
   },
   "cell_type": "code",
   "source": [
    "driving_field_freq = 12.00 * 1e9\n",
    "\n",
    "# Stepsize at which equations are evaluated\n",
    "stepsize = 1e-12  # [s]\n",
    "\n",
    "driving_field_strength = [1e-3, 0, 0]  # [T]"
   ],
   "id": "6f035666954a6570",
   "outputs": [],
   "execution_count": 203
  },
  {
   "metadata": {
    "ExecuteTime": {
     "end_time": "2025-04-17T13:19:35.794782Z",
     "start_time": "2025-04-17T13:19:35.793400Z"
    }
   },
   "cell_type": "code",
   "source": [
    "driving_field_strength = convert_field_units.ampere_per_metre(list(driving_field_strength))\n",
    "\n",
    "json_params['h0_x [A/m]'] = str(driving_field_strength[0])\n",
    "json_params['h0_y [A/m]'] = str(driving_field_strength[1])\n",
    "json_params['h0_z [A/m]'] = str(driving_field_strength[2])"
   ],
   "id": "f00c267bff802c29",
   "outputs": [],
   "execution_count": 204
  },
  {
   "metadata": {},
   "cell_type": "markdown",
   "source": "If not already set, then we now define where the line antennae are positioned. Update meshes, and print new mesh to visually check change(s).",
   "id": "4bba442e5239e482"
  },
  {
   "metadata": {},
   "cell_type": "markdown",
   "source": [
    "### 3.3.1. Strength of the driving field\n",
    "\n",
    "For true control over the implementation of $\\mathbf{h}_\\text{d}$ we must define a customised field (`df.Field`). This determines whether a cell is located in a driven region."
   ],
   "id": "8a0b12fc46dc783f"
  },
  {
   "metadata": {
    "ExecuteTime": {
     "end_time": "2025-04-17T13:19:35.799958Z",
     "start_time": "2025-04-17T13:19:35.798620Z"
    }
   },
   "cell_type": "code",
   "source": [
    "def h0_func(pos):\n",
    "    if pos in system_subregions.driven.region:\n",
    "        return driving_field_strength\n",
    "\n",
    "    return (0, 0, 0)  # No drive outside these regions"
   ],
   "id": "8d390180604dd67",
   "outputs": [],
   "execution_count": 205
  },
  {
   "metadata": {},
   "cell_type": "markdown",
   "source": "We can now create a field for $\\mathbf{h}_\\text{d}$, and add it to the respective energy term.",
   "id": "2844789ff83c565b"
  },
  {
   "metadata": {
    "ExecuteTime": {
     "end_time": "2025-04-17T13:19:36.065991Z",
     "start_time": "2025-04-17T13:19:35.805736Z"
    }
   },
   "cell_type": "code",
   "source": [
    "h0_field = df.Field(mesh=system.m.mesh,\n",
    "                    nvdim=3,\n",
    "                    value=h0_func)"
   ],
   "id": "685574aa2236e932",
   "outputs": [],
   "execution_count": 206
  },
  {
   "metadata": {},
   "cell_type": "markdown",
   "source": "If you are using `tcl_strings` then you **must** ensure that `mm.Zeeman.name` is identical to the name passed to the tcl script.",
   "id": "d2d98b98d3e71eaf"
  },
  {
   "metadata": {
    "ExecuteTime": {
     "end_time": "2025-04-17T13:19:36.074476Z",
     "start_time": "2025-04-17T13:19:36.072927Z"
    }
   },
   "cell_type": "code",
   "source": [
    "energy_zeeman_drive = mm.Zeeman(H=h0_field,\n",
    "                                name='pump',\n",
    "                                func='sin',\n",
    "                                f=driving_field_freq,\n",
    "                                t0=0*stepsize)"
   ],
   "id": "a57e15d5f66e25b2",
   "outputs": [],
   "execution_count": 207
  },
  {
   "metadata": {},
   "cell_type": "markdown",
   "source": "## 3.4. Dzyaloshinskii-Moriya interaction (DMI)",
   "id": "597438fcf6aa5d77"
  },
  {
   "metadata": {
    "ExecuteTime": {
     "end_time": "2025-04-17T13:19:36.095876Z",
     "start_time": "2025-04-17T13:19:36.092358Z"
    }
   },
   "cell_type": "code",
   "source": [
    "D_ij = 2.5e-3 # [J/m^2]\n",
    "\n",
    "D_ij_gradient = {'chain': D_ij / 2, 'driven': D_ij, 'lower': D_ij / 2, 'upper': D_ij}\n",
    "dmi_subregion_mapping = {}"
   ],
   "id": "9966d652014597e7",
   "outputs": [],
   "execution_count": 208
  },
  {
   "metadata": {
    "ExecuteTime": {
     "end_time": "2025-04-17T13:19:36.119612Z",
     "start_time": "2025-04-17T13:19:36.118Z"
    }
   },
   "cell_type": "code",
   "source": [
    "json_params['D_ij [J/m^2]'] = D_ij_gradient['driven']\n",
    "json_params['has_energy.dmi.constant'] = has_energy.dmi['constant']\n",
    "json_params['has_energy.dmi.dict'] = has_energy.dmi['dict']\n",
    "json_params['has_energy.dmi.subregions'] = has_energy.dmi['subregions']"
   ],
   "id": "2a5295cbc35f826c",
   "outputs": [],
   "execution_count": 209
  },
  {
   "metadata": {},
   "cell_type": "markdown",
   "source": "### 3.4.1. Option to manually define DMI for each region",
   "id": "28d3b63078692379"
  },
  {
   "metadata": {
    "ExecuteTime": {
     "end_time": "2025-04-17T13:19:36.124236Z",
     "start_time": "2025-04-17T13:19:36.122521Z"
    }
   },
   "cell_type": "code",
   "source": [
    "def generate_dmi_dict(region_with_subregions: csp.MyRegions):\n",
    "\n",
    "    dmi_region = {}\n",
    "    dmi_subregions = {key : D_ij for key in region_with_subregions.subregions.keys()}\n",
    "\n",
    "    last_region_seen = 'entire'\n",
    "\n",
    "\n",
    "    for key in dmi_subregions.keys():\n",
    "        dmi_region[f'{last_region_seen}:{key}'] = D_ij\n",
    "        last_region_seen = key\n",
    "        dmi_region[key] = D_ij\n",
    "    dmi_region[f'{last_region_seen}:entire'] = D_ij\n",
    "\n",
    "    return dmi_region"
   ],
   "id": "87e8812fdee6b92a",
   "outputs": [],
   "execution_count": 210
  },
  {
   "metadata": {
    "ExecuteTime": {
     "end_time": "2025-04-17T13:19:36.135313Z",
     "start_time": "2025-04-17T13:19:36.133725Z"
    }
   },
   "cell_type": "code",
   "source": [
    "if has_energy.dmi['dict']:\n",
    "    dmi_regions = {key: D_ij_gradient['chain'] for key in system_subregions.subregions.keys()}\n",
    "\n",
    "    dmi_subregion_mapping = csp.add_inter_subregion_values(dmi_regions,\n",
    "                                                           dmi_chain_left=D_ij_gradient['chain'],\n",
    "                                                           dmi_chain_right=D_ij_gradient['chain']\n",
    "                                                           )\n",
    "    json_params['D_ij (chain) [J/m^2]'] = D_ij_gradient['chain']\n",
    "    json_params['D_ij (driven) [J/m^2]'] = D_ij_gradient['driven']\n"
   ],
   "id": "a5f80c72a819bf14",
   "outputs": [],
   "execution_count": 211
  },
  {
   "metadata": {},
   "cell_type": "markdown",
   "source": "Manually set specific subregions' DMI values.",
   "id": "dce8526a926d62e"
  },
  {
   "metadata": {
    "ExecuteTime": {
     "end_time": "2025-04-17T13:19:36.145902Z",
     "start_time": "2025-04-17T13:19:36.144411Z"
    }
   },
   "cell_type": "code",
   "source": [
    "if has_energy.dmi['dict']:\n",
    "    dmi_subregion_mapping['gradientLhs:driven'] = D_ij_gradient['driven'] / 4\n",
    "    dmi_subregion_mapping['driven'] = D_ij_gradient['driven']\n",
    "    dmi_subregion_mapping['driven:gradientRhs'] = D_ij_gradient['driven'] / 4"
   ],
   "id": "4e964bb7c5000a46",
   "outputs": [],
   "execution_count": 212
  },
  {
   "metadata": {},
   "cell_type": "markdown",
   "source": "### 3.4.2. Option to apply gradients to region(s) with DMI",
   "id": "906bda765993ebb3"
  },
  {
   "metadata": {
    "ExecuteTime": {
     "end_time": "2025-04-17T13:19:36.155955Z",
     "start_time": "2025-04-17T13:19:36.154700Z"
    }
   },
   "cell_type": "code",
   "source": "num_dmi_subdivisions = 10",
   "id": "a53b8d520f8810b7",
   "outputs": [],
   "execution_count": 213
  },
  {
   "metadata": {},
   "cell_type": "markdown",
   "source": "Make sure to update the JSON with these values as the MIF file will be difficult to read.",
   "id": "bdbc61c4a02658"
  },
  {
   "metadata": {
    "ExecuteTime": {
     "end_time": "2025-04-17T13:19:36.166417Z",
     "start_time": "2025-04-17T13:19:36.165121Z"
    }
   },
   "cell_type": "code",
   "source": [
    "if has_energy.dmi['subregions']:\n",
    "    for key, value in D_ij_gradient.items():\n",
    "        json_params[key] = value"
   ],
   "id": "62447264991f7e57",
   "outputs": [],
   "execution_count": 214
  },
  {
   "metadata": {},
   "cell_type": "markdown",
   "source": "First we need to extract the DMI values for the subregions that have already been defined. We start with the left-hand side of the system. Note that we exclude the gradientLhs subregion itself.",
   "id": "58c8165d223af3f4"
  },
  {
   "metadata": {
    "ExecuteTime": {
     "end_time": "2025-04-17T13:19:36.176532Z",
     "start_time": "2025-04-17T13:19:36.175118Z"
    }
   },
   "cell_type": "code",
   "source": [
    "dmi_lhs_before_gradient = {}\n",
    "\n",
    "if has_energy.dmi['subregions']:\n",
    "    for key in system_subregions.subregions.keys():\n",
    "        if key == 'gradientLhs':\n",
    "            break\n",
    "        dmi_lhs_before_gradient[key] = D_ij_gradient['chain']"
   ],
   "id": "7e7dd9b4a72dc82a",
   "outputs": [],
   "execution_count": 215
  },
  {
   "metadata": {},
   "cell_type": "markdown",
   "source": "Now we move to create a dictionary for the right-hand side of the system.",
   "id": "37eb19d4ae4b4328"
  },
  {
   "metadata": {
    "ExecuteTime": {
     "end_time": "2025-04-17T13:19:36.187214Z",
     "start_time": "2025-04-17T13:19:36.185786Z"
    }
   },
   "cell_type": "code",
   "source": [
    "dmi_rhs_after_gradient = {}\n",
    "\n",
    "if has_energy.dmi['subregions']:\n",
    "    append_to_dmi_rhs = False\n",
    "    for key in system_subregions.subregions.keys():\n",
    "        if key == 'gradientRhs':\n",
    "            append_to_dmi_rhs = True\n",
    "            continue\n",
    "        if append_to_dmi_rhs:\n",
    "            dmi_rhs_after_gradient[key] = D_ij_gradient['chain']"
   ],
   "id": "fe2dafbd30df419d",
   "outputs": [],
   "execution_count": 216
  },
  {
   "metadata": {},
   "cell_type": "markdown",
   "source": "We are now able to begin discretising the gradient regions to fake a DMI field. We start with the left-hand size.",
   "id": "8186a3e483915bd7"
  },
  {
   "metadata": {
    "ExecuteTime": {
     "end_time": "2025-04-17T13:19:36.198572Z",
     "start_time": "2025-04-17T13:19:36.196333Z"
    }
   },
   "cell_type": "code",
   "source": [
    "dmi_lhs_mapping = {}\n",
    "if has_energy.dmi['subregions']:\n",
    "    system_subregions.gradientLhs.cell = system_prop.cell\n",
    "    system_subregions.gradientLhs.dims = (num_dmi_subdivisions, 1, 1)\n",
    "\n",
    "    dmi_lhs_mapping, dmi_lhs_subregions = csp.subdivide_region(system_subregions,\n",
    "                                                               system_subregions.gradientLhs,\n",
    "                                                               value_min=D_ij_gradient['lower'],\n",
    "                                                               value_max=D_ij_gradient['upper'],\n",
    "                                                               compatible_discretisation=True,\n",
    "                                                               subregion_name_root='dmiLhsGrad',\n",
    "                                                               n_subdivisions=num_dmi_subdivisions,\n",
    "                                                               axis='x',\n",
    "                                                               parent_key='gradientLhs',\n",
    "                                                               remove_parent=True)"
   ],
   "id": "8da6f5a4c429d96",
   "outputs": [],
   "execution_count": 217
  },
  {
   "metadata": {},
   "cell_type": "markdown",
   "source": "Make sure to include the DMI value within the driving region!",
   "id": "6d21119efd9cf6ac"
  },
  {
   "metadata": {
    "ExecuteTime": {
     "end_time": "2025-04-17T13:19:36.209161Z",
     "start_time": "2025-04-17T13:19:36.207758Z"
    }
   },
   "cell_type": "code",
   "source": [
    "dmi_center = {}\n",
    "if has_energy.dmi['subregions']:\n",
    "    dmi_center = {system_subregions.driven.name: D_ij_gradient['driven']}"
   ],
   "id": "86873f06ca022c0f",
   "outputs": [],
   "execution_count": 218
  },
  {
   "metadata": {},
   "cell_type": "markdown",
   "source": "Now the DMI values for the right-hand side gradient region.",
   "id": "90a85054a95f1411"
  },
  {
   "metadata": {
    "ExecuteTime": {
     "end_time": "2025-04-17T13:19:36.220495Z",
     "start_time": "2025-04-17T13:19:36.218314Z"
    }
   },
   "cell_type": "code",
   "source": [
    "dmi_rhs_mapping = {}\n",
    "if has_energy.dmi['subregions']:\n",
    "    system_subregions.gradientRhs.cell = system_prop.cell\n",
    "    system_subregions.gradientRhs.dims = (num_dmi_subdivisions, 1, 1)\n",
    "\n",
    "    dmi_rhs_mapping, dmi_rhs_subregions = csp.subdivide_region(system_subregions,\n",
    "                                                               system_subregions.gradientRhs,\n",
    "                                                               value_min=D_ij_gradient['upper'],\n",
    "                                                               value_max=D_ij_gradient['lower'],\n",
    "                                                               compatible_discretisation=True,\n",
    "                                                               subregion_name_root='dmiRhsGrad',\n",
    "                                                               n_subdivisions=num_dmi_subdivisions,\n",
    "                                                               axis='x',\n",
    "                                                               parent_key='gradientRhs',\n",
    "                                                               remove_parent=True)"
   ],
   "id": "66b8e6a6453839f7",
   "outputs": [],
   "execution_count": 219
  },
  {
   "metadata": {},
   "cell_type": "markdown",
   "source": "This is the main trick! By adding the dictionaries as arguments to `csp.add_inter_subregion_values` in the correct order we can automatically generate a dictionary in the form required by Ubermag.",
   "id": "770a6fb1ade4aa5"
  },
  {
   "metadata": {
    "ExecuteTime": {
     "end_time": "2025-04-17T13:19:36.231359Z",
     "start_time": "2025-04-17T13:19:36.229842Z"
    }
   },
   "cell_type": "code",
   "source": [
    "if has_energy.dmi['subregions']:\n",
    "    dmi_subregion_mapping = csp.add_inter_subregion_values(dmi_lhs_before_gradient,\n",
    "                                                           dmi_lhs_mapping,\n",
    "                                                           dmi_center,\n",
    "                                                           dmi_rhs_mapping,\n",
    "                                                           dmi_rhs_after_gradient,\n",
    "                                                           dmi_chain_left=D_ij_gradient['chain'],\n",
    "                                                           dmi_chain_right=D_ij_gradient['chain'])"
   ],
   "id": "f245a6957a4f9cff",
   "outputs": [],
   "execution_count": 220
  },
  {
   "metadata": {},
   "cell_type": "markdown",
   "source": "### 3.4.3. Check DMI flags and include energy term",
   "id": "5691f531fa67ddb5"
  },
  {
   "metadata": {
    "ExecuteTime": {
     "end_time": "2025-04-17T13:19:36.249297Z",
     "start_time": "2025-04-17T13:19:36.240812Z"
    }
   },
   "cell_type": "code",
   "source": [
    "# Build the symmetric version:\n",
    "D_complete = {}\n",
    "for key, val in dmi_subregion_mapping.items():\n",
    "    D_complete[key] = val\n",
    "    if ':' in key:\n",
    "        a, b = key.split(':', 1)\n",
    "        D_complete[f'{b}:{a}'] = val\n",
    "\n",
    "dmi_subregion_mapping = D_complete\n",
    "\n",
    "if has_energy.dmi['constant']:\n",
    "    system.energy += mm.DMI(D=D_ij,\n",
    "                            crystalclass='Cnv_y')\n",
    "elif has_energy.dmi['dict']:\n",
    "    system.energy += mm.DMI(D=dmi_subregion_mapping,\n",
    "                            crystalclass='Cnv_y')\n",
    "elif has_energy.dmi['subregions']:\n",
    "\n",
    "    system.energy += mm.DMI(D=D_complete,\n",
    "                        crystalclass='Cnv_y')\n",
    "\n",
    "    #system_region.mesh.subregions = system_subregions.subregions\n",
    "    # system_region.mesh = df.Mesh(region=system_region.main.region,\n",
    "    #                              cell=system_prop.cell,\n",
    "    #                              subregions=system_subregions.subregions)\n",
    "    system.m.mesh.subregions = system_subregions.subregions\n",
    "    # system.m = df.Field(\n",
    "    #     mesh=system_region.mesh,\n",
    "    #     value=m_init_func,\n",
    "    #     norm=sat_mag,\n",
    "    #     #valid='norm',\n",
    "    #     nvdim=3\n",
    "    # )\n",
    "else:\n",
    "    raise ValueError('DMI not set as constant, dict, or subregions. Please check your code.')"
   ],
   "id": "ee08ec6b007d8aa1",
   "outputs": [],
   "execution_count": 221
  },
  {
   "metadata": {
    "ExecuteTime": {
     "end_time": "2025-04-17T13:19:36.261555Z",
     "start_time": "2025-04-17T13:19:36.259367Z"
    }
   },
   "cell_type": "code",
   "source": "system.energy.dmi.D",
   "id": "a22e19424953ad5f",
   "outputs": [
    {
     "data": {
      "text/plain": [
       "{'entire:fixedLhs': 0.00125,\n",
       " 'fixedLhs:entire': 0.00125,\n",
       " 'fixedLhs': 0.00125,\n",
       " 'fixedLhs:dampingLhs': 0.0013,\n",
       " 'dampingLhs:fixedLhs': 0.0013,\n",
       " 'dampingLhs': 0.00125,\n",
       " 'dampingLhs:freeLhs': 0.0013,\n",
       " 'freeLhs:dampingLhs': 0.0013,\n",
       " 'freeLhs': 0.00125,\n",
       " 'freeLhs:dmiLhsGrad0': 0.0012,\n",
       " 'dmiLhsGrad0:freeLhs': 0.0012,\n",
       " 'dmiLhsGrad0': 0.0012,\n",
       " 'dmiLhsGrad0:dmiLhsGrad1': 0.0013,\n",
       " 'dmiLhsGrad1:dmiLhsGrad0': 0.0013,\n",
       " 'dmiLhsGrad1': 0.0014,\n",
       " 'dmiLhsGrad1:dmiLhsGrad2': 0.0014,\n",
       " 'dmiLhsGrad2:dmiLhsGrad1': 0.0014,\n",
       " 'dmiLhsGrad2': 0.0015,\n",
       " 'dmiLhsGrad2:dmiLhsGrad3': 0.0016,\n",
       " 'dmiLhsGrad3:dmiLhsGrad2': 0.0016,\n",
       " 'dmiLhsGrad3': 0.0017,\n",
       " 'dmiLhsGrad3:dmiLhsGrad4': 0.0017,\n",
       " 'dmiLhsGrad4:dmiLhsGrad3': 0.0017,\n",
       " 'dmiLhsGrad4': 0.0018,\n",
       " 'dmiLhsGrad4:dmiLhsGrad5': 0.0018,\n",
       " 'dmiLhsGrad5:dmiLhsGrad4': 0.0018,\n",
       " 'dmiLhsGrad5': 0.0019,\n",
       " 'dmiLhsGrad5:dmiLhsGrad6': 0.002,\n",
       " 'dmiLhsGrad6:dmiLhsGrad5': 0.002,\n",
       " 'dmiLhsGrad6': 0.0021,\n",
       " 'dmiLhsGrad6:dmiLhsGrad7': 0.0022,\n",
       " 'dmiLhsGrad7:dmiLhsGrad6': 0.0022,\n",
       " 'dmiLhsGrad7': 0.0022,\n",
       " 'dmiLhsGrad7:dmiLhsGrad8': 0.0023,\n",
       " 'dmiLhsGrad8:dmiLhsGrad7': 0.0023,\n",
       " 'dmiLhsGrad8': 0.0024,\n",
       " 'dmiLhsGrad8:dmiLhsGrad9': 0.0024,\n",
       " 'dmiLhsGrad9:dmiLhsGrad8': 0.0024,\n",
       " 'dmiLhsGrad9': 0.0025,\n",
       " 'dmiLhsGrad9:driven': 0.0025,\n",
       " 'driven:dmiLhsGrad9': 0.0025,\n",
       " 'driven': 0.0025,\n",
       " 'driven:dmiRhsGrad0': 0.0025,\n",
       " 'dmiRhsGrad0:driven': 0.0025,\n",
       " 'dmiRhsGrad0': 0.0025,\n",
       " 'dmiRhsGrad0:dmiRhsGrad1': 0.0024,\n",
       " 'dmiRhsGrad1:dmiRhsGrad0': 0.0024,\n",
       " 'dmiRhsGrad1': 0.0024,\n",
       " 'dmiRhsGrad1:dmiRhsGrad2': 0.0023,\n",
       " 'dmiRhsGrad2:dmiRhsGrad1': 0.0023,\n",
       " 'dmiRhsGrad2': 0.0022,\n",
       " 'dmiRhsGrad2:dmiRhsGrad3': 0.0022,\n",
       " 'dmiRhsGrad3:dmiRhsGrad2': 0.0022,\n",
       " 'dmiRhsGrad3': 0.0021,\n",
       " 'dmiRhsGrad3:dmiRhsGrad4': 0.002,\n",
       " 'dmiRhsGrad4:dmiRhsGrad3': 0.002,\n",
       " 'dmiRhsGrad4': 0.0019,\n",
       " 'dmiRhsGrad4:dmiRhsGrad5': 0.0018,\n",
       " 'dmiRhsGrad5:dmiRhsGrad4': 0.0018,\n",
       " 'dmiRhsGrad5': 0.0018,\n",
       " 'dmiRhsGrad5:dmiRhsGrad6': 0.0017,\n",
       " 'dmiRhsGrad6:dmiRhsGrad5': 0.0017,\n",
       " 'dmiRhsGrad6': 0.0017,\n",
       " 'dmiRhsGrad6:dmiRhsGrad7': 0.0016,\n",
       " 'dmiRhsGrad7:dmiRhsGrad6': 0.0016,\n",
       " 'dmiRhsGrad7': 0.0015,\n",
       " 'dmiRhsGrad7:dmiRhsGrad8': 0.0014,\n",
       " 'dmiRhsGrad8:dmiRhsGrad7': 0.0014,\n",
       " 'dmiRhsGrad8': 0.0014,\n",
       " 'dmiRhsGrad8:dmiRhsGrad9': 0.0013,\n",
       " 'dmiRhsGrad9:dmiRhsGrad8': 0.0013,\n",
       " 'dmiRhsGrad9': 0.0012,\n",
       " 'dmiRhsGrad9:freeRhs': 0.0012,\n",
       " 'freeRhs:dmiRhsGrad9': 0.0012,\n",
       " 'freeRhs': 0.00125,\n",
       " 'freeRhs:dampingRhs': 0.0013,\n",
       " 'dampingRhs:freeRhs': 0.0013,\n",
       " 'dampingRhs': 0.00125,\n",
       " 'dampingRhs:fixedRhs': 0.0013,\n",
       " 'fixedRhs:dampingRhs': 0.0013,\n",
       " 'fixedRhs': 0.00125,\n",
       " 'fixedRhs:entire': 0.00125,\n",
       " 'entire:fixedRhs': 0.00125}"
      ]
     },
     "execution_count": 222,
     "metadata": {},
     "output_type": "execute_result"
    }
   ],
   "execution_count": 222
  },
  {
   "metadata": {},
   "cell_type": "markdown",
   "source": [
    "### 3.4.4. Check for chiral texture\n",
    "\n",
    "Our larger dispersion relations' proven validity is predicated on the DMI not being strong enough to alter the ground  of the magnetic configuration. This is because the ground state is no longer a single magnetic domain, and instead a magnetic texture.\n",
    "\n",
    "Note that our dispersion relations **may** remain valid even if this condition fails, but this is not guaranteed. Suggested fixes include reducing the strength of `D_ij`, or increasing the thickness of the system along its symmetry-breaking axis.\n",
    "\n",
    "> This equation is marked Eq. (20) in the paper *moon2013spin*."
   ],
   "id": "3ff70c4ece1088b6"
  },
  {
   "metadata": {
    "ExecuteTime": {
     "end_time": "2025-04-17T13:19:36.274065Z",
     "start_time": "2025-04-17T13:19:36.272024Z"
    }
   },
   "cell_type": "code",
   "source": [
    "D_ij_threshold = np.sqrt(\n",
    "    ((2 * 1.3e-11) / (mm.consts.mu0 * sat_mag))\n",
    "    * (2 * max(zeeman_static_strength)\n",
    "     + sat_mag\n",
    "     + 2 * np.sqrt(\n",
    "                max(zeeman_static_strength)\n",
    "                * (max(zeeman_static_strength) + sat_mag)\n",
    "            )\n",
    "     )\n",
    ")\n",
    "\n",
    "print(f\"DMI threshold: {D_ij_threshold:.2e} J/m^2. True when A = {1.3e-11}\")"
   ],
   "id": "5c7ff4788b4cf54f",
   "outputs": [
    {
     "name": "stdout",
     "output_type": "stream",
     "text": [
      "DMI threshold: 7.67e-03 J/m^2. True when A = 1.3e-11\n"
     ]
    }
   ],
   "execution_count": 223
  },
  {
   "metadata": {
    "ExecuteTime": {
     "end_time": "2025-04-17T13:19:36.286260Z",
     "start_time": "2025-04-17T13:19:36.284776Z"
    }
   },
   "cell_type": "code",
   "source": [
    "if ((2 * D_ij) / (mm.consts.mu0 * sat_mag)) > D_ij_threshold:\n",
    "    raise ValueError(f\"The DM interaction was set as {D_ij} [J/m^2], \"\n",
    "                     f\"but the DMI threshold is {D_ij_threshold} J/m^2.\")\n"
   ],
   "id": "88db7c3c2b70a14c",
   "outputs": [],
   "execution_count": 224
  },
  {
   "metadata": {},
   "cell_type": "markdown",
   "source": "## 3.5. Heisenberg exchange interaction",
   "id": "6e46017b304c2f21"
  },
  {
   "metadata": {
    "ExecuteTime": {
     "end_time": "2025-04-17T13:19:36.301764Z",
     "start_time": "2025-04-17T13:19:36.300337Z"
    }
   },
   "cell_type": "code",
   "source": "exchange_stiffness = 1.3e-11 # [J/m]",
   "id": "5a31841934716d25",
   "outputs": [],
   "execution_count": 225
  },
  {
   "metadata": {
    "ExecuteTime": {
     "end_time": "2025-04-17T13:19:36.313271Z",
     "start_time": "2025-04-17T13:19:36.311962Z"
    }
   },
   "cell_type": "code",
   "source": [
    "if has_energy.exchange:\n",
    "    system.energy += mm.Exchange(A=exchange_stiffness)"
   ],
   "id": "f96eae21153a19c5",
   "outputs": [],
   "execution_count": 226
  },
  {
   "metadata": {},
   "cell_type": "markdown",
   "source": [
    "### 3.5.1. Check the exchange length\n",
    "\n",
    "Check if the selected cell and system dimensions are appropriate for the exchange length and helical length. Failed tests should prevent the simulation from running."
   ],
   "id": "df7e4bb9eab90a85"
  },
  {
   "metadata": {
    "ExecuteTime": {
     "end_time": "2025-04-17T13:19:36.325131Z",
     "start_time": "2025-04-17T13:19:36.323645Z"
    }
   },
   "cell_type": "code",
   "source": [
    "# Temporary check to catch a common mistake of mine during these simulations\n",
    "if system_prop.cell[0] != 1e-9 and exchange_stiffness == 1.3e-11:\n",
    "    raise ValueError('Exchange stiffness has likely not been rescaled; your cell size along the x-axis is not 1 nanometer! Was this intentional?')"
   ],
   "id": "72c7403e32c00c2a",
   "outputs": [],
   "execution_count": 227
  },
  {
   "metadata": {
    "ExecuteTime": {
     "end_time": "2025-04-17T13:19:36.337292Z",
     "start_time": "2025-04-17T13:19:36.335279Z"
    }
   },
   "cell_type": "code",
   "source": [
    "exchange_length = np.sqrt((2 * exchange_stiffness) / (mm.consts.mu0 * sat_mag ** 2))\n",
    "\n",
    "helical_length = (4 * np.pi * exchange_stiffness) / np.abs(D_ij) if D_ij != 0 else np.NZERO\n",
    "\n",
    "print(f\"Exchange length: {exchange_length * 1e9:.2f} nm\",\n",
    "      f\"\\nHelical length: {helical_length * 1e9:.2f} nm\",\n",
    "      f\"\\nMax cell length: {system_prop.cell[0] * 1e9 * 5:.2f} nm\")\n",
    "\n",
    "if exchange_length < system_prop.cell[0] * 5:\n",
    "    raise ValueError('Exchange length is less than five times the cell size!')\n",
    "\n",
    "if helical_length >= system_prop.length:\n",
    "    raise ValueError('Helical length is greater than the system length!')"
   ],
   "id": "18d59e1fbadf30e7",
   "outputs": [
    {
     "name": "stdout",
     "output_type": "stream",
     "text": [
      "Exchange length: 5.69 nm \n",
      "Helical length: 65.35 nm \n",
      "Max cell length: 5.00 nm\n"
     ]
    }
   ],
   "execution_count": 228
  },
  {
   "metadata": {},
   "cell_type": "markdown",
   "source": "## 3.6. Dipole-dipole interaction (demag)",
   "id": "6246691f2fce808b"
  },
  {
   "metadata": {
    "ExecuteTime": {
     "end_time": "2025-04-17T13:19:36.349405Z",
     "start_time": "2025-04-17T13:19:36.348056Z"
    }
   },
   "cell_type": "code",
   "source": [
    "if has_energy.demag:\n",
    "    system.energy += mm.Demag()#asymptotic_radius=16)"
   ],
   "id": "c7a3d9542d431222",
   "outputs": [],
   "execution_count": 229
  },
  {
   "metadata": {},
   "cell_type": "markdown",
   "source": "## 3.7. Uniaxial anisotropy",
   "id": "a047b8ceb38a940"
  },
  {
   "metadata": {
    "ExecuteTime": {
     "end_time": "2025-04-17T13:19:36.361237Z",
     "start_time": "2025-04-17T13:19:36.359827Z"
    }
   },
   "cell_type": "code",
   "source": [
    "K_1 = 6.2e4  # [J/m^3]\n",
    "K_2 = 0e5  # [J/m^3]\n",
    "\n",
    "# anisotropy axis\n",
    "aniso_axis = (0, 0, 1)"
   ],
   "id": "766c1828ff809b03",
   "outputs": [],
   "execution_count": 230
  },
  {
   "metadata": {
    "ExecuteTime": {
     "end_time": "2025-04-17T13:19:36.374187Z",
     "start_time": "2025-04-17T13:19:36.372331Z"
    }
   },
   "cell_type": "code",
   "source": [
    "if has_energy.anisotropy:\n",
    "    system.energy += mm.UniaxialAnisotropy(K1=K_1,\n",
    "                                           K2=K_2,\n",
    "                                           u=aniso_axis)"
   ],
   "id": "fdb849ce0178276f",
   "outputs": [],
   "execution_count": 231
  },
  {
   "metadata": {},
   "cell_type": "markdown",
   "source": "## 3.8. Check our energy equation",
   "id": "2831e02c7b0d07fe"
  },
  {
   "metadata": {
    "ExecuteTime": {
     "end_time": "2025-04-17T13:19:36.387351Z",
     "start_time": "2025-04-17T13:19:36.385436Z"
    }
   },
   "cell_type": "code",
   "source": "system.energy",
   "id": "f1857ca91360892f",
   "outputs": [
    {
     "data": {
      "text/plain": [
       "Zeeman(H=(0.0, 0.0, 238732.414637843)) + DMI(D={'entire:fixedLhs': 0.00125, 'fixedLhs:entire': 0.00125, 'fixedLhs': 0.00125, 'fixedLhs:dampingLhs': 0.0013, 'dampingLhs:fixedLhs': 0.0013, 'dampingLhs': 0.00125, 'dampingLhs:freeLhs': 0.0013, 'freeLhs:dampingLhs': 0.0013, 'freeLhs': 0.00125, 'freeLhs:dmiLhsGrad0': 0.0012, 'dmiLhsGrad0:freeLhs': 0.0012, 'dmiLhsGrad0': 0.0012, 'dmiLhsGrad0:dmiLhsGrad1': 0.0013, 'dmiLhsGrad1:dmiLhsGrad0': 0.0013, 'dmiLhsGrad1': 0.0014, 'dmiLhsGrad1:dmiLhsGrad2': 0.0014, 'dmiLhsGrad2:dmiLhsGrad1': 0.0014, 'dmiLhsGrad2': 0.0015, 'dmiLhsGrad2:dmiLhsGrad3': 0.0016, 'dmiLhsGrad3:dmiLhsGrad2': 0.0016, 'dmiLhsGrad3': 0.0017, 'dmiLhsGrad3:dmiLhsGrad4': 0.0017, 'dmiLhsGrad4:dmiLhsGrad3': 0.0017, 'dmiLhsGrad4': 0.0018, 'dmiLhsGrad4:dmiLhsGrad5': 0.0018, 'dmiLhsGrad5:dmiLhsGrad4': 0.0018, 'dmiLhsGrad5': 0.0019, 'dmiLhsGrad5:dmiLhsGrad6': 0.002, 'dmiLhsGrad6:dmiLhsGrad5': 0.002, 'dmiLhsGrad6': 0.0021, 'dmiLhsGrad6:dmiLhsGrad7': 0.0022, 'dmiLhsGrad7:dmiLhsGrad6': 0.0022, 'dmiLhsGrad7': 0.0022, 'dmiLhsGrad7:dmiLhsGrad8': 0.0023, 'dmiLhsGrad8:dmiLhsGrad7': 0.0023, 'dmiLhsGrad8': 0.0024, 'dmiLhsGrad8:dmiLhsGrad9': 0.0024, 'dmiLhsGrad9:dmiLhsGrad8': 0.0024, 'dmiLhsGrad9': 0.0025, 'dmiLhsGrad9:driven': 0.0025, 'driven:dmiLhsGrad9': 0.0025, 'driven': 0.0025, 'driven:dmiRhsGrad0': 0.0025, 'dmiRhsGrad0:driven': 0.0025, 'dmiRhsGrad0': 0.0025, 'dmiRhsGrad0:dmiRhsGrad1': 0.0024, 'dmiRhsGrad1:dmiRhsGrad0': 0.0024, 'dmiRhsGrad1': 0.0024, 'dmiRhsGrad1:dmiRhsGrad2': 0.0023, 'dmiRhsGrad2:dmiRhsGrad1': 0.0023, 'dmiRhsGrad2': 0.0022, 'dmiRhsGrad2:dmiRhsGrad3': 0.0022, 'dmiRhsGrad3:dmiRhsGrad2': 0.0022, 'dmiRhsGrad3': 0.0021, 'dmiRhsGrad3:dmiRhsGrad4': 0.002, 'dmiRhsGrad4:dmiRhsGrad3': 0.002, 'dmiRhsGrad4': 0.0019, 'dmiRhsGrad4:dmiRhsGrad5': 0.0018, 'dmiRhsGrad5:dmiRhsGrad4': 0.0018, 'dmiRhsGrad5': 0.0018, 'dmiRhsGrad5:dmiRhsGrad6': 0.0017, 'dmiRhsGrad6:dmiRhsGrad5': 0.0017, 'dmiRhsGrad6': 0.0017, 'dmiRhsGrad6:dmiRhsGrad7': 0.0016, 'dmiRhsGrad7:dmiRhsGrad6': 0.0016, 'dmiRhsGrad7': 0.0015, 'dmiRhsGrad7:dmiRhsGrad8': 0.0014, 'dmiRhsGrad8:dmiRhsGrad7': 0.0014, 'dmiRhsGrad8': 0.0014, 'dmiRhsGrad8:dmiRhsGrad9': 0.0013, 'dmiRhsGrad9:dmiRhsGrad8': 0.0013, 'dmiRhsGrad9': 0.0012, 'dmiRhsGrad9:freeRhs': 0.0012, 'freeRhs:dmiRhsGrad9': 0.0012, 'freeRhs': 0.00125, 'freeRhs:dampingRhs': 0.0013, 'dampingRhs:freeRhs': 0.0013, 'dampingRhs': 0.00125, 'dampingRhs:fixedRhs': 0.0013, 'fixedRhs:dampingRhs': 0.0013, 'fixedRhs': 0.00125, 'fixedRhs:entire': 0.00125, 'entire:fixedRhs': 0.00125}, crystalclass='Cnv_y') + Exchange(A=1.3e-11) + Demag()"
      ],
      "text/latex": "$-\\mu_{0}M_\\text{s} \\mathbf{m} \\cdot \\mathbf{H}_\\text{static}+ D ( \\mathbf{m} \\cdot \\nabla m_{y} - m_{y} \\nabla \\cdot \\mathbf{m} )- A \\mathbf{m} \\cdot \\nabla^{2} \\mathbf{m}-\\frac{1}{2}\\mu_{0}M_\\text{s}\\mathbf{m} \\cdot \\mathbf{H}_\\text{d}$"
     },
     "execution_count": 232,
     "metadata": {},
     "output_type": "execute_result"
    }
   ],
   "execution_count": 232
  },
  {
   "metadata": {},
   "cell_type": "markdown",
   "source": "# 4. Define the dynamics equation",
   "id": "476849dddaae6682"
  },
  {
   "metadata": {
    "ExecuteTime": {
     "end_time": "2025-04-17T13:19:36.400615Z",
     "start_time": "2025-04-17T13:19:36.399285Z"
    }
   },
   "cell_type": "code",
   "source": "system.dynamics = 0",
   "id": "1c1dbfa24296abb2",
   "outputs": [],
   "execution_count": 233
  },
  {
   "metadata": {},
   "cell_type": "markdown",
   "source": "## 4.1. Gilbert damping",
   "id": "d4f4635c0400d5fb"
  },
  {
   "metadata": {
    "ExecuteTime": {
     "end_time": "2025-04-17T13:19:36.412833Z",
     "start_time": "2025-04-17T13:19:36.411395Z"
    }
   },
   "cell_type": "code",
   "source": [
    "alpha_bulk = 0.001\n",
    "alpha_driven = 0.01\n",
    "alpha_interfacial = 0.01"
   ],
   "id": "e381061deb178ded",
   "outputs": [],
   "execution_count": 234
  },
  {
   "metadata": {
    "ExecuteTime": {
     "end_time": "2025-04-17T13:19:36.425798Z",
     "start_time": "2025-04-17T13:19:36.424299Z"
    }
   },
   "cell_type": "code",
   "source": [
    "json_params['alpha_bulk'] = str(alpha_bulk)\n",
    "json_params['alpha_driven'] = str(alpha_driven)\n",
    "json_params['alpha_interfacial'] = str(alpha_interfacial)"
   ],
   "id": "12839c60c1a8ea8f",
   "outputs": [],
   "execution_count": 235
  },
  {
   "metadata": {
    "ExecuteTime": {
     "end_time": "2025-04-17T13:19:36.438084Z",
     "start_time": "2025-04-17T13:19:36.436518Z"
    }
   },
   "cell_type": "code",
   "source": [
    "alpha_dict = {}\n",
    "for key in dmi_subregion_mapping.keys():\n",
    "    if ':' not in key:\n",
    "        alpha_dict[key] = 0.0"
   ],
   "id": "7ba21ec71341af19",
   "outputs": [],
   "execution_count": 236
  },
  {
   "metadata": {
    "ExecuteTime": {
     "end_time": "2025-04-17T13:19:36.451129Z",
     "start_time": "2025-04-17T13:19:36.449408Z"
    }
   },
   "cell_type": "code",
   "source": [
    "for key, val in alpha_dict.items():\n",
    "    if 'driven' in key:\n",
    "        alpha_dict[key] = alpha_driven\n",
    "    elif 'gradient' in key:\n",
    "        alpha_dict[key] = (alpha_driven + alpha_bulk) / 2\n",
    "    else:\n",
    "        alpha_dict[key] = alpha_bulk"
   ],
   "id": "9160a0676556b4d3",
   "outputs": [],
   "execution_count": 237
  },
  {
   "metadata": {
    "ExecuteTime": {
     "end_time": "2025-04-17T13:19:36.463650Z",
     "start_time": "2025-04-17T13:19:36.462183Z"
    }
   },
   "cell_type": "code",
   "source": [
    "alpha_func = dar.AlphaABC(alpha_bulk=alpha_bulk,\n",
    "                          alpha_driven=alpha_driven,\n",
    "                          system_prop=system_prop,\n",
    "                          system_subregions=system_subregions)"
   ],
   "id": "9bb13eb79e49e7a6",
   "outputs": [],
   "execution_count": 238
  },
  {
   "metadata": {
    "ExecuteTime": {
     "end_time": "2025-04-17T13:19:36.951002Z",
     "start_time": "2025-04-17T13:19:36.474616Z"
    }
   },
   "cell_type": "code",
   "source": [
    "alpha_field = df.Field(mesh=system_region.mesh,\n",
    "                       nvdim=1,\n",
    "                       value=alpha_func)"
   ],
   "id": "bef919273068a23",
   "outputs": [],
   "execution_count": 239
  },
  {
   "metadata": {
    "ExecuteTime": {
     "end_time": "2025-04-17T13:19:36.968198Z",
     "start_time": "2025-04-17T13:19:36.966804Z"
    }
   },
   "cell_type": "code",
   "source": "system.dynamics += mm.Damping(alpha=alpha_dict)",
   "id": "26392da974d6ac34",
   "outputs": [],
   "execution_count": 240
  },
  {
   "metadata": {},
   "cell_type": "markdown",
   "source": "### 4.1.1. Checks",
   "id": "53599759bd0d8b04"
  },
  {
   "metadata": {
    "ExecuteTime": {
     "end_time": "2025-04-17T13:19:36.984625Z",
     "start_time": "2025-04-17T13:19:36.982899Z"
    }
   },
   "cell_type": "code",
   "source": [
    "if system.m.mesh.bc:\n",
    "    if isinstance(system.dynamics.damping.alpha, df.field.Field):\n",
    "        raise ValueError(f\"The damping field is a function of position, but the mesh has periodic boundary conditions. This may be an error!\")\n",
    "\n",
    "elif any(evolver_fixed_spins_list):\n",
    "    if isinstance(system.dynamics.damping.alpha, float | int):\n",
    "        raise ValueError(f'The damping field is a constant value of {system.dynamics.damping.alpha}, but the mesh does not have periodic boundary conditions. This is likely an error!')"
   ],
   "id": "95af6eedb32c582b",
   "outputs": [],
   "execution_count": 241
  },
  {
   "metadata": {},
   "cell_type": "markdown",
   "source": [
    "## 4.2. Precession\n",
    "\n",
    "Gyromagnetic ratio, $\\gamma_{0}$.\n",
    "\n",
    "If value is provided here then one MUST use gamma_G (not gamma_LL) when defining subsequent evolvers"
   ],
   "id": "846e48ae5d6fdaf6"
  },
  {
   "metadata": {
    "ExecuteTime": {
     "end_time": "2025-04-17T13:19:37.012200Z",
     "start_time": "2025-04-17T13:19:37.010783Z"
    }
   },
   "cell_type": "code",
   "source": "gamma0 = 28.2e9 * 2 * np.pi  # [rad*Hz/T]",
   "id": "1c97ef777bcf97a",
   "outputs": [],
   "execution_count": 242
  },
  {
   "metadata": {
    "ExecuteTime": {
     "end_time": "2025-04-17T13:19:37.016400Z",
     "start_time": "2025-04-17T13:19:37.015084Z"
    }
   },
   "cell_type": "code",
   "source": "system.dynamics += mm.Precession(gamma0=gamma0*mm.consts.mu0)",
   "id": "e9a42fd240853f27",
   "outputs": [],
   "execution_count": 243
  },
  {
   "metadata": {},
   "cell_type": "markdown",
   "source": "## 4.3. Check our expression",
   "id": "d1716cfff8e273ee"
  },
  {
   "metadata": {
    "ExecuteTime": {
     "end_time": "2025-04-17T13:19:37.032252Z",
     "start_time": "2025-04-17T13:19:37.030145Z"
    }
   },
   "cell_type": "code",
   "source": "system.dynamics",
   "id": "fa040310d3571a4a",
   "outputs": [
    {
     "data": {
      "text/plain": [
       "Damping(alpha={'fixedLhs': 0.001, 'dampingLhs': 0.001, 'freeLhs': 0.001, 'dmiLhsGrad0': 0.001, 'dmiLhsGrad1': 0.001, 'dmiLhsGrad2': 0.001, 'dmiLhsGrad3': 0.001, 'dmiLhsGrad4': 0.001, 'dmiLhsGrad5': 0.001, 'dmiLhsGrad6': 0.001, 'dmiLhsGrad7': 0.001, 'dmiLhsGrad8': 0.001, 'dmiLhsGrad9': 0.001, 'driven': 0.01, 'dmiRhsGrad0': 0.001, 'dmiRhsGrad1': 0.001, 'dmiRhsGrad2': 0.001, 'dmiRhsGrad3': 0.001, 'dmiRhsGrad4': 0.001, 'dmiRhsGrad5': 0.001, 'dmiRhsGrad6': 0.001, 'dmiRhsGrad7': 0.001, 'dmiRhsGrad8': 0.001, 'dmiRhsGrad9': 0.001, 'freeRhs': 0.001, 'dampingRhs': 0.001, 'fixedRhs': 0.001}) + Precession(gamma0=222658.2752885759)"
      ],
      "text/latex": "$-\\frac{\\gamma_{0} \\alpha}{1 + \\alpha^{2}} \\mathbf{m} \\times (\\mathbf{m} \\times \\mathbf{H}_\\text{eff})-\\frac{\\gamma_{0}}{1 + \\alpha^{2}} \\mathbf{m} \\times \\mathbf{H}_\\text{eff}$"
     },
     "execution_count": 244,
     "metadata": {},
     "output_type": "execute_result"
    }
   ],
   "execution_count": 244
  },
  {
   "metadata": {},
   "cell_type": "markdown",
   "source": [
    "# 5. Relaxation\n",
    "\n",
    "## 5.1. Drive the system"
   ],
   "id": "9b38dfeface4f25f"
  },
  {
   "metadata": {},
   "cell_type": "markdown",
   "source": "### 5.1.1. Define the minimisation evolver",
   "id": "51bb8eb041dc3b6"
  },
  {
   "metadata": {
    "ExecuteTime": {
     "end_time": "2025-04-17T13:19:37.049191Z",
     "start_time": "2025-04-17T13:19:37.047021Z"
    }
   },
   "cell_type": "code",
   "source": [
    "min_evolver = oc.CGEvolver(method='Polak-Ribiere',\n",
    "                           fixed_spins=evolver_fixed_spins_list,\n",
    "                           #energy_precision=1e-10  # May need to increase for large systems\n",
    "                           )\n",
    "\n",
    "minD = oc.MinDriver(evolver=min_evolver,\n",
    "                    stopping_mxHxm=0.1\n",
    "                    )"
   ],
   "id": "c42c1447fc3baf7a",
   "outputs": [],
   "execution_count": 245
  },
  {
   "metadata": {},
   "cell_type": "markdown",
   "source": "### 5.1.2. Apply the `TimeDriver`",
   "id": "c5160c9aa7dcd59a"
  },
  {
   "metadata": {
    "ExecuteTime": {
     "end_time": "2025-04-17T13:19:37.717725Z",
     "start_time": "2025-04-17T13:19:37.063206Z"
    }
   },
   "cell_type": "code",
   "source": [
    "minD.drive(system,\n",
    "           dirname=data_output,\n",
    "           fixed_subregions=evolver_fixed_spins_list,\n",
    "           verbose=2\n",
    "           )"
   ],
   "id": "35d77e2fa04f5d6c",
   "outputs": [
    {
     "name": "stdout",
     "output_type": "stream",
     "text": [
      "Running OOMMF (TclOOMMFRunner)[2025/04/17 14:19]... (0.6 s)\n"
     ]
    }
   ],
   "execution_count": 246
  },
  {
   "metadata": {},
   "cell_type": "markdown",
   "source": "## 5.2. Display and save the output",
   "id": "c59130dd0daf7106"
  },
  {
   "metadata": {
    "ExecuteTime": {
     "end_time": "2025-04-17T13:19:39.064323Z",
     "start_time": "2025-04-17T13:19:37.732334Z"
    }
   },
   "cell_type": "code",
   "source": [
    "%%capture\n",
    "cip.default_three_pane(system=system,\n",
    "                       system_prop=system_prop,\n",
    "                       system_region=system_region,\n",
    "                       figs_output_dir=figs_output,\n",
    "                       drive_number=system.drive_number,\n",
    "                       fig_name='after_relaxation',\n",
    "                       has_schematic=False,\n",
    "                       #scalar_resample_shape=[256, 3],\n",
    "                       # vector_resample_shape=[16, 3]\n",
    "                       )"
   ],
   "id": "a15ee60dc3d00925",
   "outputs": [],
   "execution_count": 247
  },
  {
   "metadata": {},
   "cell_type": "markdown",
   "source": "# 6. Drive the system with the time-dependent field",
   "id": "e40280ee676ac7cc"
  },
  {
   "metadata": {},
   "cell_type": "markdown",
   "source": "## 6.1. Set temporal parameters",
   "id": "cd64c3a6f8f10d2f"
  },
  {
   "metadata": {
    "ExecuteTime": {
     "end_time": "2025-04-17T13:19:39.080530Z",
     "start_time": "2025-04-17T13:19:39.078664Z"
    }
   },
   "cell_type": "code",
   "source": [
    "# Maximum time for simulation\n",
    "tmax = 10e-9  # [s]\n",
    "\n",
    "# num_datapoints = round(tmax / stepsize)  # Warning: can lead to very large output files!\n",
    "num_datapoints = 400\n",
    "\n",
    "# Spacing between saved outputs\n",
    "stepsize_between_datapoints = tmax / num_datapoints"
   ],
   "id": "46e560bfad5d469d",
   "outputs": [],
   "execution_count": 248
  },
  {
   "metadata": {},
   "cell_type": "markdown",
   "source": "## 6.2. Add time-dependent fields to the energy equation",
   "id": "30078b3dae2f3409"
  },
  {
   "metadata": {
    "ExecuteTime": {
     "end_time": "2025-04-17T13:19:39.097667Z",
     "start_time": "2025-04-17T13:19:39.095423Z"
    }
   },
   "cell_type": "code",
   "source": [
    "if has_energy.driving_zeeman:\n",
    "    system.energy += energy_zeeman_drive"
   ],
   "id": "d583abae821e8373",
   "outputs": [],
   "execution_count": 249
  },
  {
   "metadata": {},
   "cell_type": "markdown",
   "source": "### 6.2.1. Check the energy equation",
   "id": "4d6c17132c677dcc"
  },
  {
   "metadata": {
    "ExecuteTime": {
     "end_time": "2025-04-17T13:19:39.118223Z",
     "start_time": "2025-04-17T13:19:39.112456Z"
    }
   },
   "cell_type": "code",
   "source": "system.energy",
   "id": "91dc6bc264454387",
   "outputs": [
    {
     "data": {
      "text/plain": [
       "Zeeman(H=(0.0, 0.0, 238732.414637843)) + DMI(D={'entire:fixedLhs': 0.00125, 'fixedLhs:entire': 0.00125, 'fixedLhs': 0.00125, 'fixedLhs:dampingLhs': 0.0013, 'dampingLhs:fixedLhs': 0.0013, 'dampingLhs': 0.00125, 'dampingLhs:freeLhs': 0.0013, 'freeLhs:dampingLhs': 0.0013, 'freeLhs': 0.00125, 'freeLhs:dmiLhsGrad0': 0.0012, 'dmiLhsGrad0:freeLhs': 0.0012, 'dmiLhsGrad0': 0.0012, 'dmiLhsGrad0:dmiLhsGrad1': 0.0013, 'dmiLhsGrad1:dmiLhsGrad0': 0.0013, 'dmiLhsGrad1': 0.0014, 'dmiLhsGrad1:dmiLhsGrad2': 0.0014, 'dmiLhsGrad2:dmiLhsGrad1': 0.0014, 'dmiLhsGrad2': 0.0015, 'dmiLhsGrad2:dmiLhsGrad3': 0.0016, 'dmiLhsGrad3:dmiLhsGrad2': 0.0016, 'dmiLhsGrad3': 0.0017, 'dmiLhsGrad3:dmiLhsGrad4': 0.0017, 'dmiLhsGrad4:dmiLhsGrad3': 0.0017, 'dmiLhsGrad4': 0.0018, 'dmiLhsGrad4:dmiLhsGrad5': 0.0018, 'dmiLhsGrad5:dmiLhsGrad4': 0.0018, 'dmiLhsGrad5': 0.0019, 'dmiLhsGrad5:dmiLhsGrad6': 0.002, 'dmiLhsGrad6:dmiLhsGrad5': 0.002, 'dmiLhsGrad6': 0.0021, 'dmiLhsGrad6:dmiLhsGrad7': 0.0022, 'dmiLhsGrad7:dmiLhsGrad6': 0.0022, 'dmiLhsGrad7': 0.0022, 'dmiLhsGrad7:dmiLhsGrad8': 0.0023, 'dmiLhsGrad8:dmiLhsGrad7': 0.0023, 'dmiLhsGrad8': 0.0024, 'dmiLhsGrad8:dmiLhsGrad9': 0.0024, 'dmiLhsGrad9:dmiLhsGrad8': 0.0024, 'dmiLhsGrad9': 0.0025, 'dmiLhsGrad9:driven': 0.0025, 'driven:dmiLhsGrad9': 0.0025, 'driven': 0.0025, 'driven:dmiRhsGrad0': 0.0025, 'dmiRhsGrad0:driven': 0.0025, 'dmiRhsGrad0': 0.0025, 'dmiRhsGrad0:dmiRhsGrad1': 0.0024, 'dmiRhsGrad1:dmiRhsGrad0': 0.0024, 'dmiRhsGrad1': 0.0024, 'dmiRhsGrad1:dmiRhsGrad2': 0.0023, 'dmiRhsGrad2:dmiRhsGrad1': 0.0023, 'dmiRhsGrad2': 0.0022, 'dmiRhsGrad2:dmiRhsGrad3': 0.0022, 'dmiRhsGrad3:dmiRhsGrad2': 0.0022, 'dmiRhsGrad3': 0.0021, 'dmiRhsGrad3:dmiRhsGrad4': 0.002, 'dmiRhsGrad4:dmiRhsGrad3': 0.002, 'dmiRhsGrad4': 0.0019, 'dmiRhsGrad4:dmiRhsGrad5': 0.0018, 'dmiRhsGrad5:dmiRhsGrad4': 0.0018, 'dmiRhsGrad5': 0.0018, 'dmiRhsGrad5:dmiRhsGrad6': 0.0017, 'dmiRhsGrad6:dmiRhsGrad5': 0.0017, 'dmiRhsGrad6': 0.0017, 'dmiRhsGrad6:dmiRhsGrad7': 0.0016, 'dmiRhsGrad7:dmiRhsGrad6': 0.0016, 'dmiRhsGrad7': 0.0015, 'dmiRhsGrad7:dmiRhsGrad8': 0.0014, 'dmiRhsGrad8:dmiRhsGrad7': 0.0014, 'dmiRhsGrad8': 0.0014, 'dmiRhsGrad8:dmiRhsGrad9': 0.0013, 'dmiRhsGrad9:dmiRhsGrad8': 0.0013, 'dmiRhsGrad9': 0.0012, 'dmiRhsGrad9:freeRhs': 0.0012, 'freeRhs:dmiRhsGrad9': 0.0012, 'freeRhs': 0.00125, 'freeRhs:dampingRhs': 0.0013, 'dampingRhs:freeRhs': 0.0013, 'dampingRhs': 0.00125, 'dampingRhs:fixedRhs': 0.0013, 'fixedRhs:dampingRhs': 0.0013, 'fixedRhs': 0.00125, 'fixedRhs:entire': 0.00125, 'entire:fixedRhs': 0.00125}, crystalclass='Cnv_y') + Exchange(A=1.3e-11) + Demag() + Zeeman(H=Field(Mesh(Region(pmin=[0.0, 0.0, 0.0], pmax=[8.802e-06, 1e-09, 1.2e-08], dims=['x', 'y', 'z'], units=['m', 'm', 'm']), n=[8802, 1, 1], bc=x, subregions: (Region`fixedLhs`(pmin=[0.0, 0.0, 0.0], pmax=[1e-09, 1e-09, 1.2e-08], dims=['x', 'y', 'z'], units=['m', 'm', 'm']), Region`dampingLhs`(pmin=[1e-09, 0.0, 0.0], pmax=[6.01e-07, 1e-09, 1.2e-08], dims=['x', 'y', 'z'], units=['m', 'm', 'm']), Region`freeLhs`(pmin=[6.01e-07, 0.0, 0.0], pmax=[3.851e-06, 1e-09, 1.2e-08], dims=['x', 'y', 'z'], units=['m', 'm', 'm']), Region`driven`(pmin=[4.341e-06, 0.0, 0.0], pmax=[4.461e-06, 1e-09, 1.2e-08], dims=['x', 'y', 'z'], units=['m', 'm', 'm']), Region`freeRhs`(pmin=[4.951e-06, 0.0, 0.0], pmax=[8.201e-06, 1e-09, 1.2e-08], dims=['x', 'y', 'z'], units=['m', 'm', 'm']), Region`dampingRhs`(pmin=[8.201e-06, 0.0, 0.0], pmax=[8.801e-06, 1e-09, 1.2e-08], dims=['x', 'y', 'z'], units=['m', 'm', 'm']), Region`fixedRhs`(pmin=[8.801e-06, 0.0, 0.0], pmax=[8.802e-06, 1e-09, 1.2e-08], dims=['x', 'y', 'z'], units=['m', 'm', 'm']), Region`dmiLhsGrad0`(pmin=[3.851e-06, 0.0, 0.0], pmax=[3.9e-06, 1e-09, 1.2e-08], dims=['x', 'y', 'z'], units=['m', 'm', 'm']), Region`dmiLhsGrad1`(pmin=[3.9e-06, 0.0, 0.0], pmax=[3.949e-06, 1e-09, 1.2e-08], dims=['x', 'y', 'z'], units=['m', 'm', 'm']), Region`dmiLhsGrad2`(pmin=[3.949e-06, 0.0, 0.0], pmax=[3.998e-06, 1e-09, 1.2e-08], dims=['x', 'y', 'z'], units=['m', 'm', 'm']), Region`dmiLhsGrad3`(pmin=[3.998e-06, 0.0, 0.0], pmax=[4.047e-06, 1e-09, 1.2e-08], dims=['x', 'y', 'z'], units=['m', 'm', 'm']), Region`dmiLhsGrad4`(pmin=[4.047e-06, 0.0, 0.0], pmax=[4.096e-06, 1e-09, 1.2e-08], dims=['x', 'y', 'z'], units=['m', 'm', 'm']), Region`dmiLhsGrad5`(pmin=[4.096e-06, 0.0, 0.0], pmax=[4.145e-06, 1e-09, 1.2e-08], dims=['x', 'y', 'z'], units=['m', 'm', 'm']), Region`dmiLhsGrad6`(pmin=[4.145e-06, 0.0, 0.0], pmax=[4.194e-06, 1e-09, 1.2e-08], dims=['x', 'y', 'z'], units=['m', 'm', 'm']), Region`dmiLhsGrad7`(pmin=[4.194e-06, 0.0, 0.0], pmax=[4.243e-06, 1e-09, 1.2e-08], dims=['x', 'y', 'z'], units=['m', 'm', 'm']), Region`dmiLhsGrad8`(pmin=[4.243e-06, 0.0, 0.0], pmax=[4.292e-06, 1e-09, 1.2e-08], dims=['x', 'y', 'z'], units=['m', 'm', 'm']), Region`dmiLhsGrad9`(pmin=[4.292e-06, 0.0, 0.0], pmax=[4.341e-06, 1e-09, 1.2e-08], dims=['x', 'y', 'z'], units=['m', 'm', 'm']), Region`dmiRhsGrad0`(pmin=[4.461e-06, 0.0, 0.0], pmax=[4.51e-06, 1e-09, 1.2e-08], dims=['x', 'y', 'z'], units=['m', 'm', 'm']), Region`dmiRhsGrad1`(pmin=[4.51e-06, 0.0, 0.0], pmax=[4.559e-06, 1e-09, 1.2e-08], dims=['x', 'y', 'z'], units=['m', 'm', 'm']), Region`dmiRhsGrad2`(pmin=[4.559e-06, 0.0, 0.0], pmax=[4.608e-06, 1e-09, 1.2e-08], dims=['x', 'y', 'z'], units=['m', 'm', 'm']), Region`dmiRhsGrad3`(pmin=[4.608e-06, 0.0, 0.0], pmax=[4.657e-06, 1e-09, 1.2e-08], dims=['x', 'y', 'z'], units=['m', 'm', 'm']), Region`dmiRhsGrad4`(pmin=[4.657e-06, 0.0, 0.0], pmax=[4.706e-06, 1e-09, 1.2e-08], dims=['x', 'y', 'z'], units=['m', 'm', 'm']), Region`dmiRhsGrad5`(pmin=[4.706e-06, 0.0, 0.0], pmax=[4.755e-06, 1e-09, 1.2e-08], dims=['x', 'y', 'z'], units=['m', 'm', 'm']), Region`dmiRhsGrad6`(pmin=[4.755e-06, 0.0, 0.0], pmax=[4.804e-06, 1e-09, 1.2e-08], dims=['x', 'y', 'z'], units=['m', 'm', 'm']), Region`dmiRhsGrad7`(pmin=[4.804e-06, 0.0, 0.0], pmax=[4.853e-06, 1e-09, 1.2e-08], dims=['x', 'y', 'z'], units=['m', 'm', 'm']), Region`dmiRhsGrad8`(pmin=[4.853e-06, 0.0, 0.0], pmax=[4.902e-06, 1e-09, 1.2e-08], dims=['x', 'y', 'z'], units=['m', 'm', 'm']), Region`dmiRhsGrad9`(pmin=[4.902e-06, 0.0, 0.0], pmax=[4.951e-06, 1e-09, 1.2e-08], dims=['x', 'y', 'z'], units=['m', 'm', 'm']))), nvdim=3, vdims: (x, y, z)), f=12000000000.0, t0=0.0, func='sin')"
      ],
      "text/latex": "$-\\mu_{0}M_\\text{s} \\mathbf{m} \\cdot \\mathbf{H}_\\text{static}+ D ( \\mathbf{m} \\cdot \\nabla m_{y} - m_{y} \\nabla \\cdot \\mathbf{m} )- A \\mathbf{m} \\cdot \\nabla^{2} \\mathbf{m}-\\frac{1}{2}\\mu_{0}M_\\text{s}\\mathbf{m} \\cdot \\mathbf{H}_\\text{d}-\\mu_{0}M_\\text{s} \\mathbf{m} \\cdot \\mathbf{H}_\\text{pump}$"
     },
     "execution_count": 250,
     "metadata": {},
     "output_type": "execute_result"
    }
   ],
   "execution_count": 250
  },
  {
   "metadata": {},
   "cell_type": "markdown",
   "source": "## 6.3. Drive the system",
   "id": "1791555daa0a1f9"
  },
  {
   "metadata": {},
   "cell_type": "markdown",
   "source": "### 6.3.1. Define the evolver",
   "id": "d688239cd95e9e45"
  },
  {
   "metadata": {
    "ExecuteTime": {
     "end_time": "2025-04-17T13:19:39.139934Z",
     "start_time": "2025-04-17T13:19:39.137820Z"
    }
   },
   "cell_type": "code",
   "source": [
    "sim_evolver = oc.RungeKuttaEvolver(method='rkf54',\n",
    "                                   #alpha=alpha,  # Do not supply `alpha` here if already defined in `system.dynamics`\n",
    "                                   #gamma_G=gamma0*mm.consts.mu0,\n",
    "                                   # Driver may override timestep conditions if stopping_criteria are given\n",
    "                                   #min_timestep=0,  # Default: zero.\n",
    "                                   #max_timestep=stepsize,  # Default: 1e-10 [s].\n",
    "                                   fixed_spins=evolver_fixed_spins_list,\n",
    "                                   do_precess=1,\n",
    "                                   #energy_precision=1e-10,  # May need to increase for large systems\n",
    "                                   allow_signed_gamma=0,\n",
    "                                   )\n",
    "\n",
    "td = oc.TimeDriver(evolver=sim_evolver)"
   ],
   "id": "d313e478898796c7",
   "outputs": [],
   "execution_count": 251
  },
  {
   "metadata": {},
   "cell_type": "markdown",
   "source": [
    "### 6.3.2. Apply the `TimeDriver`\n",
    "\n",
    "It's at this point we pass our JSON parameters to the driver."
   ],
   "id": "811bc9b32326c0d2"
  },
  {
   "metadata": {
    "ExecuteTime": {
     "end_time": "2025-04-17T13:40:28.267318Z",
     "start_time": "2025-04-17T13:19:39.172275Z"
    }
   },
   "cell_type": "code",
   "source": [
    "td.drive(system,\n",
    "         t=tmax,\n",
    "         dirname=data_output,\n",
    "         n=num_datapoints,\n",
    "         n_threads=10,\n",
    "         fixed_subregions=evolver_fixed_spins_list,\n",
    "         verbose=2,\n",
    "         **json_params\n",
    "         )"
   ],
   "id": "305cfa7ccad88ffe",
   "outputs": [
    {
     "data": {
      "text/plain": [
       "Running OOMMF (TclOOMMFRunner):   0%|          | 0/400 files written [00:00]"
      ],
      "application/vnd.jupyter.widget-view+json": {
       "version_major": 2,
       "version_minor": 0,
       "model_id": "e331b382620d49eca033474a5fc1526a"
      }
     },
     "metadata": {},
     "output_type": "display_data"
    },
    {
     "name": "stdout",
     "output_type": "stream",
     "text": [
      "Running OOMMF (TclOOMMFRunner)[2025/04/17 14:19] took 1248.8 s\n"
     ]
    }
   ],
   "execution_count": 252
  },
  {
   "metadata": {},
   "cell_type": "markdown",
   "source": "## 6.4. Display and save the output",
   "id": "24c9dd26415fd7c2"
  },
  {
   "metadata": {
    "ExecuteTime": {
     "end_time": "2025-04-17T13:40:29.663632Z",
     "start_time": "2025-04-17T13:40:28.296183Z"
    }
   },
   "cell_type": "code",
   "source": [
    "cip.default_three_pane(system=system,\n",
    "                       system_prop=system_prop,\n",
    "                       system_region=system_region,\n",
    "                       figs_output_dir=figs_output,\n",
    "                       drive_number=system.drive_number - 1,\n",
    "                       fig_name=f'driven_{system.drive_number - 1}',\n",
    "                       has_schematic=False)"
   ],
   "id": "2613425d1ea90f03",
   "outputs": [
    {
     "data": {
      "text/plain": [
       "<Figure size 800x600 with 8 Axes>"
      ],
      "image/png": "[encoded data removed]"
     },
     "metadata": {},
     "output_type": "display_data"
    }
   ],
   "execution_count": 253
  },
  {
   "metadata": {},
   "cell_type": "markdown",
   "source": [
    "## 6.5. Breakpoint\n",
    "\n",
    "Pause here to check the initial data outputs before completing more advanced post-processing.\n",
    "\n",
    "This is also an appropriate place to add temporary debug lines to the code. Note that these should be deleted after debugging is complete."
   ],
   "id": "46d865e6e6061e1b"
  },
  {
   "metadata": {
    "ExecuteTime": {
     "end_time": "2025-04-17T13:40:29.681662Z",
     "start_time": "2025-04-17T13:40:29.666347Z"
    }
   },
   "cell_type": "code",
   "source": [
    "# Cell which acts as a breakpoint; 0/0 intentionally produces an error. Alternative is to utilise the 'raise' keyword\n",
    "raise ValueError('Breakpoint')"
   ],
   "id": "a20e60795e036fe4",
   "outputs": [
    {
     "ename": "ValueError",
     "evalue": "Breakpoint",
     "output_type": "error",
     "traceback": [
      "\u001B[0;31m---------------------------------------------------------------------------\u001B[0m",
      "\u001B[0;31mValueError\u001B[0m                                Traceback (most recent call last)",
      "Cell \u001B[0;32mIn[254], line 2\u001B[0m\n\u001B[1;32m      1\u001B[0m \u001B[38;5;66;03m# Cell which acts as a breakpoint; 0/0 intentionally produces an error. Alternative is to utilise the 'raise' keyword\u001B[39;00m\n\u001B[0;32m----> 2\u001B[0m \u001B[38;5;28;01mraise\u001B[39;00m \u001B[38;5;167;01mValueError\u001B[39;00m(\u001B[38;5;124m'\u001B[39m\u001B[38;5;124mBreakpoint\u001B[39m\u001B[38;5;124m'\u001B[39m)\n",
      "\u001B[0;31mValueError\u001B[0m: Breakpoint"
     ]
    }
   ],
   "execution_count": 254
  },
  {
   "metadata": {},
   "cell_type": "markdown",
   "source": "# 7. Post-processing",
   "id": "3d69e4548406f98"
  },
  {
   "metadata": {},
   "cell_type": "markdown",
   "source": "## 7.1. Import data",
   "id": "30f3f2a78bf49ac0"
  },
  {
   "metadata": {},
   "cell_type": "code",
   "source": [
    "try:\n",
    "    system.name\n",
    "except NameError:\n",
    "    system = mm.System(name='dmi_paper_validation')\n",
    "    system.drive_number = 4"
   ],
   "id": "8d36bb505da6a4e8",
   "outputs": [],
   "execution_count": null
  },
  {
   "metadata": {},
   "cell_type": "code",
   "source": [
    "m_all_data = md.Drive(name=system.name, dirname=data_output,\n",
    "                      number=system.drive_number - 1, use_cache=True)"
   ],
   "id": "fe2f73698faf5e7f",
   "outputs": [],
   "execution_count": null
  },
  {
   "metadata": {},
   "cell_type": "markdown",
   "source": "## 7.2. Extract required values while handling NameErrors",
   "id": "851f2e0ae063ae22"
  },
  {
   "metadata": {},
   "cell_type": "code",
   "source": [
    "try:\n",
    "    system_prop\n",
    "except NameError:\n",
    "\n",
    "    system_prop = csp.SystemProperties(length=m_all_data.m0.mesh.region.pmax[0],\n",
    "                                       width=m_all_data.m0.mesh.region.pmax[1],\n",
    "                                       thickness=m_all_data.m0.mesh.region.pmax[2])\n",
    "\n",
    "    # System mesh cell size\n",
    "    system_prop.cell = tuple(m_all_data.m0.mesh.cell)\n",
    "    system_prop.units = m_all_data.m0.mesh.region.units\n",
    "    system_prop.update_numcells()\n",
    "\n",
    "try:\n",
    "    sat_mag\n",
    "except NameError:\n",
    "    sat_mag = float(m_all_data.info['Saturation magnetisation [A/m]'])\n",
    "\n",
    "try:\n",
    "    stepsize_between_datapoints\n",
    "except NameError:\n",
    "    stepsize_between_datapoints = m_all_data.table.data.t[0]\n"
   ],
   "id": "5fa1a5fa6d38ebb2",
   "outputs": [],
   "execution_count": null
  },
  {
   "metadata": {},
   "cell_type": "code",
   "source": [
    "data_m0 = m_all_data.m0.to_xarray().values\n",
    "\n",
    "m_pos = [int(round(system_prop.width * 0.5 / system_prop.cell[1], 0)),\n",
    "         int(round(system_prop.thickness * 0.5 / system_prop.cell[2], 0))]\n",
    "\n",
    "data_mx0 = data_m0[:, m_pos[0], m_pos[1], 0] / sat_mag\n",
    "data_my0 = data_m0[:, m_pos[0], m_pos[1], 1] / sat_mag\n",
    "data_mz0 = data_m0[:, m_pos[0], m_pos[1], 2] / sat_mag\n",
    "\n",
    "data_mx = np.zeros((m_all_data.n, int(system_prop.numcells[0])))\n",
    "data_my = np.zeros((m_all_data.n, int(system_prop.numcells[0])))\n",
    "data_mz = np.zeros((m_all_data.n, int(system_prop.numcells[0])))\n",
    "\n",
    "m_data = m_all_data.to_xarray()\n",
    "\n",
    "for i, _ in enumerate(m_data):\n",
    "    data_mx[i] = (m_data[i, :, m_pos[0], m_pos[1], 0].values / sat_mag) - data_mx0\n",
    "    data_my[i] = (m_data[i, :, m_pos[0], m_pos[1], 1].values / sat_mag) - data_my0\n",
    "    data_mz[i] = (m_data[i, :, m_pos[0], m_pos[1], 2].values / sat_mag) - data_mz0"
   ],
   "id": "96c7a221ac12586a",
   "outputs": [],
   "execution_count": null
  },
  {
   "metadata": {},
   "cell_type": "code",
   "source": [
    "%%capture\n",
    "# Prepare the meshgrid for 3D plot\n",
    "x = np.linspace(0, system_prop.length, data_mx.shape[1])\n",
    "z = np.linspace(0, system_prop.thickness, data_mx.shape[0])\n",
    "X, Z = np.meshgrid(x, z)\n",
    "Y = np.ones_like(X) * system_prop.width / 2  # y is fixed slice\n",
    "\n",
    "# Create a 3D plot\n",
    "fig = plt.figure()\n",
    "ax = fig.add_subplot(111, projection='3d')\n",
    "\n",
    "# Plot the surface\n",
    "surf = ax.plot_surface(X, Y,\n",
    "                       data_mx,\n",
    "                       cmap='viridis')  # data_mx as example\n",
    "\n",
    "# Add color bar to indicate the scale\n",
    "fig.colorbar(surf)\n",
    "\n",
    "# Customize the view angle\n",
    "ax.view_init(elev=30, azim=120)\n",
    "\n",
    "# Set labels\n",
    "ax.set_xlabel('Length')\n",
    "ax.set_ylabel('Width')\n",
    "ax.set_zlabel('Magnetization')"
   ],
   "id": "43b5af0b29aa4ed6",
   "outputs": [],
   "execution_count": null
  },
  {
   "metadata": {},
   "cell_type": "markdown",
   "source": "## 7.3. Temporal evolution of the system",
   "id": "5bbd1bb2caf694ad"
  },
  {
   "metadata": {},
   "cell_type": "code",
   "source": [
    "time_index = min(500, data_mx.shape[0])\n",
    "plt.plot(np.arange(0, system_prop.numcells[0] * (system_prop.cell[0] / 1e-9), system_prop.cell[0] / 1e-9),\n",
    "         data_mx[time_index-1, :], alpha=0.8, color='C1', label='OOMMF')\n",
    "#my_pos_times, my_pos_vals = np.loadtxt('/Users/cameronmceleney/pCloud Drive/test/data_se.txt')\n",
    "#plt.plot(my_pos_times, my_pos_vals[::-1], zorder=0.9, label='C++', color='C4')\n",
    "plt.gca().set(title=f'Drive: {m_all_data.info['drive_number']} | Time: {time_index * stepsize_between_datapoints / 1e-9: .3f} ns',\n",
    "              xlim=(1, system_prop.length * 1e9),\n",
    "              #ylim=(-0.015, 0.015),\n",
    "              xlabel='Distance (nm)', ylabel='Amplitude (a.u.)')\n",
    "plt.legend()\n",
    "plt.savefig(figs_output + '/drive-' + str(m_all_data.number) + f'_pos_{int(time_index * stepsize_between_datapoints * 1e9)}ns.png',\n",
    "            dpi=300, bbox_inches='tight')\n",
    "plt.show()"
   ],
   "id": "9b699bd53b87043e",
   "outputs": [],
   "execution_count": null
  },
  {
   "metadata": {},
   "cell_type": "code",
   "source": [
    " # Cell which acts as a breakpoint; 0/0 intentionally produces an error. Alternative is to utilise the 'raise' keyword\n",
    "#raise ValueError('Breakpoint')"
   ],
   "id": "c0a2af81ae9e3071",
   "outputs": [],
   "execution_count": null
  },
  {
   "metadata": {},
   "cell_type": "markdown",
   "source": "## 7.4. Spatial evolution of the system",
   "id": "cbe6d4652fbe42ae"
  },
  {
   "metadata": {},
   "cell_type": "code",
   "source": [
    "pos_index_1 = 3600\n",
    "pos_index_2 = system_prop.numcells[0] - 1 - pos_index_1\n",
    "plt.plot(np.linspace(0, tmax-stepsize, num_datapoints)*1e9, data_mx[:, pos_index_1], alpha=0.8, color='C1', label=f'{pos_index_1: .0f}')\n",
    "plt.plot(np.linspace(0, tmax-stepsize, num_datapoints)*1e9, data_mx[:, pos_index_2], alpha=0.8, color='C4', label=f'{pos_index_2: .0f}')\n",
    "\n",
    "#my_times, my_vals = np.loadtxt('/Users/cameronmceleney/pCloud Drive/test/data.txt')\n",
    "#plt.plot(my_times[:], my_vals, zorder=0.9, color='C4', label='C++')\n",
    "plt.gca().set(title=f'Drive: {m_all_data.number}', xlim=(0, 5),\n",
    "              xlabel='Time (ns)', ylabel='Amplitude (a.u.)')\n",
    "plt.legend(title='Site from\\nLHS (nm)')\n",
    "\n",
    "plt.savefig(figs_output + '/drive-' + str(m_all_data.number) + f'_time_{pos_index_1}nm.png', dpi=300, bbox_inches='tight')"
   ],
   "id": "7b56a9e0f56fa358",
   "outputs": [],
   "execution_count": null
  },
  {
   "metadata": {},
   "cell_type": "markdown",
   "source": "## Dispersion relation",
   "id": "fc08a8be8b527385"
  },
  {
   "metadata": {},
   "cell_type": "code",
   "source": [
    "def Omega_generalised_with_ua(system_prop, H0, Ms, A, D, k, d, K1, K2, aniso_axis, gamma, p=1,\n",
    "                              has_demag=1, has_dmi=1, has_aniso=1):\n",
    "    J = 2 * A / (mm.consts.mu0 * Ms)\n",
    "    DM = -2 * D / (mm.consts.mu0 * Ms)\n",
    "\n",
    "    demag_factors = cpe.calculate_demag_factor_uniform_prism(system_prop.length - 2 * d,\n",
    "                                                             system_prop.width,\n",
    "                                                             system_prop.thickness)\n",
    "    # print(demag_factors)\n",
    "\n",
    "    #om = np.sqrt((H0 + J * (k ** 2) + has_demag * Ms * (demag_factors['N_x'] - demag_factors['N_z']))\n",
    "    #             * (H0 + J * (k ** 2) + has_aniso * ((4 * (aniso_axis[2] ** 2)) / (Ms * mm.consts.mu0)\n",
    "    #                                                 * (1 * K1 + 2 * K2 * (aniso_axis[2] ** 2)))\n",
    "    #                + has_demag * Ms * (demag_factors['N_y'] - demag_factors['N_z'])\n",
    "    #                )\n",
    "    #             + has_aniso * (4 * (aniso_axis[2] ** 4)) / (Ms ** 2 * mm.consts.mu0 ** 2)\n",
    "    #             * (4 * (K1**2) + 4 * K1 * K2 * (aniso_axis[2] ** 2) + 4 * (K2 ** 2) * (aniso_axis[2] ** 4))\n",
    "    #             )\n",
    "    om = np.sqrt((H0\n",
    "                  + J * (k ** 2)\n",
    "                  + has_aniso * ((2 * (aniso_axis[2] ** 2)) / (Ms * mm.consts.mu0) * (1 * K1 + 2 * K2 * (aniso_axis[2] ** 2)))\n",
    "                  + has_demag * Ms * (demag_factors['N_x'] - demag_factors['N_z']))\n",
    "                 * (H0\n",
    "                    + J * (k ** 2)\n",
    "                    + has_aniso * ((2 * (aniso_axis[2] ** 2)) / (Ms * mm.consts.mu0) * (1 * K1 + 2 * K2 * (aniso_axis[2] ** 2)))\n",
    "                    + has_demag * Ms * (demag_factors['N_y'] - demag_factors['N_z'])\n",
    "                )\n",
    "             )\n",
    "\n",
    "    om += has_dmi * p * DM * k\n",
    "\n",
    "    # the mu0 factor shown in the paper is not necessary if we use gamma\n",
    "    # in Hz / (A / m)\n",
    "    om *= (gamma * mm.consts.mu0)\n",
    "\n",
    "    return om"
   ],
   "id": "48d50587a9a79396",
   "outputs": [],
   "execution_count": null
  },
  {
   "metadata": {},
   "cell_type": "code",
   "source": [
    "kmax = 0.8 * 1e9\n",
    "ks = np.linspace(1e-10, kmax, int(round(system_prop.numcells[0] / 2)))\n",
    "ks_n = np.linspace(-kmax, 1e-10, int(round(system_prop.numcells[0] / 2)))\n",
    "\n",
    "# Moon Eq. (12)\n",
    "#oms = cdr.Omega_Moon(zeeman_static[2], sat_mag, exchange_stiffness, D_ij, ks, 1e-9, gamma0 / (2 * np.pi * 1e9), p=1, demag=1, has_dmi=1)\n",
    "#oms_n = cdr.Omega_Moon(zeeman_static[2], sat_mag, exchange_stiffness, D_ij, ks_n, 1e-9, gamma0 / (2 * np.pi * 1e9), p=1, demag=1, has_dmi=1)\n",
    "#\n",
    "## Moon Eq. (14)\n",
    "#oms_l = cdr.Omega_Moon_large_k(zeeman_static[2], sat_mag, exchange_stiffness, D_ij, ks, 1e-9, gamma0 / (2 * np.pi * 1e9), p=1, demag=1, has_dmi=1)\n",
    "#oms_l_n = cdr.Omega_Moon_large_k(zeeman_static[2], sat_mag, exchange_stiffness, D_ij, ks_n, 1e-9, gamma0 / (2 * np.pi * 1e9), p=1, demag=1, has_dmi=1)\n",
    "#\n",
    "## Moon Eq. (16)\n",
    "#oms_s = cdr.Omega_Moon_small_k(zeeman_static[2], sat_mag, exchange_stiffness, D_ij, ks, 1e-9, gamma0 / (2 * np.pi * 1e9), p=1, demag=1, has_dmi=1)\n",
    "#oms_s_n = cdr.Omega_Moon_small_k(zeeman_static[2], sat_mag, exchange_stiffness, D_ij, ks_n, 1e-9, gamma0 / (2 * np.pi * 1e9), p=1, demag=1, has_dmi=1)\n",
    "#\n",
    "## Custom dispersion relation\n",
    "#oms_c = cdr.Omega_Moon_custom(zeeman_static[2], sat_mag, exchange_stiffness, D_ij, ks, 1e-9, gamma0 / (2 * np.pi * 1e9), p=1, demag=1, has_dmi=1)\n",
    "#oms_c_n = cdr.Omega_Moon_custom(zeeman_static[2], sat_mag, exchange_stiffness, D_ij, ks_n, 1e-9, gamma0 / (2 * np.pi * 1e9), p=1, demag=1, has_dmi=1)\n",
    "\n",
    "# Custom dispersion relation\n",
    "oms_g = cdr.Omega_generalised_with_ua(system_prop,\n",
    "                                         zeeman_static_strength[2], sat_mag, exchange_stiffness, D_ij,\n",
    "                                         ks, system_prop.cell[0],\n",
    "                                         K_1, K_2, aniso_axis,\n",
    "                                         gamma0 / (2 * np.pi * 1e9), p=1,\n",
    "                                         has_demag=1, has_dmi=1, has_aniso=1)\n",
    "oms_g_n = cdr.Omega_generalised_with_ua(system_prop,\n",
    "                                           zeeman_static_strength[2], sat_mag, exchange_stiffness, D_ij,\n",
    "                                           ks_n, system_prop.cell[0],\n",
    "                                           K_1, K_2, aniso_axis,\n",
    "                                           gamma0 / (2 * np.pi * 1e9), p=1,\n",
    "                                           has_demag=1, has_dmi=1, has_aniso=1)\n",
    "\n",
    "times = m_data['t'].values\n",
    "x = m_data['x'].values\n",
    "\n",
    "# Create Hanning windows\n",
    "times_filter = np.hanning(len(times))\n",
    "x_filter = np.hanning(len(x))\n",
    "\n",
    "# Apply the Hanning window to the data\n",
    "window = np.outer(times_filter, x_filter)\n",
    "data_mx_windowed = data_mx * window\n",
    "\n",
    "fft_data = np.fft.fft2(data_mx_windowed)\n",
    "fft_data = abs(np.fft.fftshift(fft_data))\n",
    "log_fft_data = np.log10(fft_data**2)\n",
    "\n",
    "freqs = np.fft.fftfreq(n=len(times), d=(times[1] - times[0])) * 1e-9\n",
    "freqs = np.fft.fftshift(freqs)\n",
    "\n",
    "k = np.fft.fftfreq(n=len(x), d=(x[1] - x[0])) * 1e-9\n",
    "k = np.fft.fftshift(k) * 2 * np.pi\n",
    "\n",
    "fig5, ax = plt.subplots(nrows=1, ncols=1)\n",
    "ax.imshow(log_fft_data, extent=[k[0], k[-1], freqs[0], freqs[-1]],\n",
    "          vmin=log_fft_data.min() / 10, vmax=log_fft_data.max(),\n",
    "          aspect='auto', interpolation='none',\n",
    "          cmap='magma')\n",
    "\n",
    "#ax.plot(ks * 1e-9, oms, lw=2, ls='--', color='white', alpha=0.5, label='Theory (Moon)')\n",
    "#ax.plot(ks_n * 1e-9, oms_n, lw=2, ls='--', alpha=0.5, color='white')\n",
    "\n",
    "#ax.plot(ks * 1e-9, oms_l, lw=2, ls='-.', color='lightgreen', alpha=0.5, label='Theory (Large k)')\n",
    "#ax.plot(ks_n * 1e-9, oms_l_n, lw=2, ls='-.', alpha=0.5, color='lightgreen')\n",
    "\n",
    "#ax.plot(ks * 1e-9, oms_s, lw=2, ls='-.', color='orange', alpha=1, label='Theory (Small k)')\n",
    "#ax.plot(ks_n * 1e-9, oms_s_n, lw=2, ls='-.', alpha=1, color='orange')\n",
    "\n",
    "#ax.plot(ks * 1e-9, oms_c, lw=2, ls=':', color='lightblue', alpha=1, label='Theory (Custom)')\n",
    "#ax.plot(ks_n * 1e-9, oms_c_n, lw=2, ls='-.', alpha=1, color='lightblue')\n",
    "\n",
    "ax.plot(ks * 1e-9, oms_g, lw=2, ls='-.', color='yellow', alpha=0.75, label='Theory (Ubermag)')\n",
    "ax.plot(ks_n * 1e-9, oms_g_n, lw=2, ls='-.', alpha=0.75, color='yellow')\n",
    "\n",
    "# Load the arrays from the .npz file\n",
    "#data = np.load('/Users/cameronmceleney/Data/2024-07-29/data.npz')\n",
    "#ksc = data['ks']\n",
    "#ksc_n = data['ks_n']\n",
    "#omsc_g = data['oms_g']\n",
    "#omsc_g_n = data['oms_g_n']\n",
    "\n",
    "#ax.plot(ksc * 1e-9, omsc_g, ls='-.', color='purple', alpha=0.75, label='Theory (C++)')\n",
    "#ax.plot(ksc_n * 1e-9, omsc_g_n, ls='-.', alpha=0.75, color='purple')\n",
    "\n",
    "ax.set(xlabel=r'Wavevector, $k$ (nm$^{-1}$)', ylabel=r'Frequency, $f$ (GHz)',\n",
    "       xlim=(-0.15, 0.15),\n",
    "       ylim=(0, 40)\n",
    "       )\n",
    "\n",
    "\n",
    "#handles, labels = ax.get_legend_handles_labels()\n",
    "#blacks = matplotlib.patches.Patch(color='purple', label='OOMMf')\n",
    "#ax.legend(handles=[handles[0], blacks])\n",
    "ax.legend(labelcolor='white')\n",
    "plt.savefig(figs_output + '/drive-' + str(system.drive_number - 1) + '_dispersion_relation.png', dpi=300, bbox_inches='tight')\n"
   ],
   "id": "3d88d0b24b47a3de",
   "outputs": [],
   "execution_count": null
  },
  {
   "metadata": {},
   "cell_type": "code",
   "source": [
    "fig_fft, fig_fft_axes = plt.subplot_mosaic(mosaic=[['k-space', 'k-space'],\n",
    "                                          ['freq-space-lhs', 'freq-space-rhs']],\n",
    "                                  figsize=(12, 8),\n",
    "                                  gridspec_kw={'width_ratios': (1, 1),\n",
    "                                               'height_ratios': (1, 1),\n",
    "                                               'wspace': 0.0,\n",
    "                                               'hspace': 0.0},\n",
    "                                  layout='constrained',\n",
    "                                  facecolor='lightgrey'\n",
    "                                  )\n",
    "\n",
    "fig_fft.suptitle(f'Drive: {m_all_data.number}', fontsize=20)\n",
    "\n",
    "for i in range(1, int(tmax * 1e9)+1):\n",
    "    fig_fft_axes['k-space'].plot(k, log_fft_data[i * 1000 - 1, :], label=f'{i}')\n",
    "fig_fft_axes['k-space'].set(title=f'FFT across full spin chain',\n",
    "              xlabel='Wavevector',\n",
    "              ylabel='Amplitude (log)',\n",
    "              xlim=[-0.2, 0.2])\n",
    "fig_fft_axes['k-space'].legend(title='Sim. time (ns)', ncols=2)\n",
    "\n",
    "for fft_pos_index in range(300, 2101, 300):\n",
    "     fig_fft_axes['freq-space-lhs'].plot(freqs, log_fft_data[:, fft_pos_index], #label=f'{fft_pos_index * system_prop.cell[0] * 1e9 * 2: .0f}')\n",
    "                                         label=f'{fft_pos_index * system_prop.cell[0] * 1e9: .0f}')\n",
    "fig_fft_axes['freq-space-lhs'].set(title=f'FFT at single site',\n",
    "              xlabel='Frequency (GHz)',\n",
    "              ylabel='Amplitude (log)',\n",
    "              xlim=[0, 40])\n",
    "fig_fft_axes['freq-space-lhs'].axvline(x=driving_field_freq*1e-9, color='black', zorder=1.1, alpha=0.75,\n",
    "                                       label=f'Driving freq: {driving_field_freq*1e-9:.2f} GHz')\n",
    "\n",
    "fig_fft_axes['freq-space-lhs'].legend(title='Site (nm)', ncols=2, loc='upper right')\n",
    "\n",
    "\n",
    "for fft_pos_index in range(4100, 2299, -300):\n",
    "    fig_fft_axes['freq-space-rhs'].plot(freqs, log_fft_data[:, fft_pos_index], #label=f'{fft_pos_index * system_prop.cell[0] * 1e9 * 2: .0f}')\n",
    "                                        label=f'{fft_pos_index * system_prop.cell[0] * 1e9: .0f}')\n",
    "fig_fft_axes['freq-space-rhs'].set(title=f'FFT at single site',\n",
    "              xlabel='Frequency (GHz)',\n",
    "              ylabel='Amplitude (log)',\n",
    "              xlim=[0, 40])\n",
    "fig_fft_axes['freq-space-rhs'].axvline(x=driving_field_freq*1e-9, color='black', zorder=1.1, alpha=0.75,\n",
    "                                        label=f'Driving freq: {driving_field_freq*1e-9:.2f} GHz')\n",
    "fig_fft_axes['freq-space-rhs'].legend(title='Site (nm)', ncols=2, loc='upper right')\n",
    "\n",
    "plt.savefig(figs_output + '/drive-' + str(m_all_data.number) + '_fft_mosaic.png', dpi=300, bbox_inches='tight')"
   ],
   "id": "951e5399fc8c49ed",
   "outputs": [],
   "execution_count": null
  },
  {
   "metadata": {},
   "cell_type": "code",
   "source": [
    "fig, ax = plt.subplots(figsize=(5, 5), nrows=1, ncols=1)\n",
    "#for fft_pos_index in range(300, 2101, 300):\n",
    "for fft_pos_index in [4402]:\n",
    "     ax.plot(k, log_fft_data[time_index-1, :], #label=f'{fft_pos_index * system_prop.cell[0] * 1e9 * 2: .0f}')\n",
    "                                         label=f'left')\n",
    "ax.set(title=f'FFT at single site',\n",
    "              xlabel='Wavevector (nm^-1)',\n",
    "              ylabel='Amplitude (log)',\n",
    "       )\n",
    "\n",
    "\n",
    "\n",
    "ax.legend(title='Site (nm)', ncols=1)"
   ],
   "id": "18233a734a00a498",
   "outputs": [],
   "execution_count": null
  },
  {
   "metadata": {},
   "cell_type": "code",
   "source": [
    "import scipy as sp\n",
    "import numpy as np\n",
    "\n",
    "def _fft_data(input_data, spatial_spacing: bool | float = None, fft_window: str = False):\n",
    "    \"\"\"\n",
    "    Computes the discrete Fourier transform (DFT) of a given 1-D signal using FFT algorithms.\n",
    "\n",
    "    Regarding the returned `dft_samples`, if the `input_data` contains:\n",
    "        - spatial information then dft_samples will represent 'wavevectors', and be in units of inverse-length.\n",
    "        - temporal information then dft_samples will represent 'frequencies', and be in units of Hz.\n",
    "\n",
    "    Regarding the returned `discrete_fourier_transform`, it will contain the magnitudes of the DFT results. It will\n",
    "    be the absolute value of the DFT results; caution if the phase information is needed for subsequent analysis.\n",
    "\n",
    "    :param input_data: Magnitudes of a magnetic moment components for a given axis.\n",
    "    :param spatial_spacing: The lattice constant for the system for spatial data.\n",
    "    :param fft_window: Apply a window to the data before taking the FFT; default is a Hann window.\n",
    "\n",
    "    :return: A tuple containing the sample frequencies [0] and DFT results [1].\n",
    "    \"\"\"\n",
    "\n",
    "    # Pad the data to greatly improve efficiency of the FFT computation\n",
    "    n_total = input_data.size\n",
    "\n",
    "    n_total_padded = sp.fft.next_fast_len(n_total)\n",
    "\n",
    "    # Find the bin size\n",
    "    if spatial_spacing is None:\n",
    "        # For temporal: divide the simulated time into equally sized segments based upon the number of data-points.\n",
    "        sample_spacing = (tmax / (num_datapoints - 1))\n",
    "    else:\n",
    "        # For spatial: division of lattice is already known with the lattice constant\n",
    "        sample_spacing = spatial_spacing\n",
    "\n",
    "    # Data for DFT (create copy to avoid modifying original data)\n",
    "    data_to_process = input_data\n",
    "\n",
    "    # Select a window for the FFT.\n",
    "    if fft_window is not None:\n",
    "        if isinstance(fft_window, str):\n",
    "            # For valid windows, see https://docs.scipy.org/doc/scipy/reference/signal.windows.html\n",
    "            if fft_window == 'bb':\n",
    "                window = 1\n",
    "            else:\n",
    "                window_func = getattr(sp.signal.windows, fft_window, \"hann\")\n",
    "                window = window_func(n_total)\n",
    "        elif callable(fft_window):\n",
    "            # Incase the user wants a custom window function\n",
    "            window = sp.signal.fft_window(n_total)\n",
    "        else:\n",
    "            # Default case\n",
    "            window = sp.signal.windows.hann(n_total)\n",
    "\n",
    "        # *= doesn't work here for some reason without breaking subplots\n",
    "        data_to_process = data_to_process * window\n",
    "\n",
    "    # Perform the FFT\n",
    "    discrete_fourier_transform = sp.fft.fft(data_to_process, n_total_padded)\n",
    "\n",
    "    # Samples from the DFT.\n",
    "    dft_samples = sp.fft.fftfreq(n_total_padded, sample_spacing)\n",
    "\n",
    "    # Always skip the DC component at y[0] as I don't need the signal's mean value\n",
    "    if n_total_padded % 2 == 0:\n",
    "        # For N even, the elements `y = [1, N / 2 -1]` contain the positive-frequency terms with the final\n",
    "        # element `y = N / 2` containing the Nyquist frequency\n",
    "        positive_wavevector_indices = slice(1, n_total_padded // 2)\n",
    "    else:\n",
    "        # For N odd, the elements `y = [1, (N - 1) / 2]` contain the positive-frequency terms\n",
    "        positive_wavevector_indices = slice(1, (n_total_padded + 1) // 2)\n",
    "\n",
    "    # Only want positive wavevectors and their corresponding fourier transform. Must take absolute value of DFT.\n",
    "    discrete_fourier_transform = np.abs(discrete_fourier_transform[positive_wavevector_indices])\n",
    "    dft_samples = dft_samples[positive_wavevector_indices]\n",
    "\n",
    "    return dft_samples, discrete_fourier_transform"
   ],
   "id": "36a13ca3344da59b",
   "outputs": [],
   "execution_count": null
  },
  {
   "metadata": {},
   "cell_type": "code",
   "source": [
    "cdr.Omega_generalised_with_ua(system_prop,\n",
    "                              zeeman_static_strength[2], sat_mag, exchange_stiffness, D_ij,\n",
    "                              0.075e9, system_prop.cell[0],\n",
    "                              K_1, K_2, aniso_axis,\n",
    "                              gamma0 / (2 * np.pi * 1e9), p=1,\n",
    "                              has_demag=1, has_dmi=1, has_aniso=1)"
   ],
   "id": "9de96c5d0a2f72a",
   "outputs": [],
   "execution_count": null
  },
  {
   "metadata": {},
   "cell_type": "code",
   "source": [
    "#k_lines_arr = np.array([ 0.0517, -0.0334,  0.0736, -0.0522,  0.0978, -0.0734,  0.1053,\n",
    "#       -0.0802,  0.1261, -0.0993,  0.1317, -0.1046,  0.1554, -0.1271,\n",
    "#        0.1807, -0.1516,  0.1857, -0.1564,  0.2099, -0.1802,  0.2331,\n",
    "#       -0.2031,  0.2404, -0.2103,])\n",
    "#k_lines_arr_bal = np.array([\n",
    "#    0.06400, -0.04390, 0.08540, -0.06240, 0.12120, -0.09480, 0.17430, -0.14530, 0.19580, -0.16640,\n",
    "#    0.22820, -0.19820,\n",
    "#])\n",
    "#k_lines_unknown = np.array([\n",
    "#    0.04, 0.14\n",
    "#])"
   ],
   "id": "a16454e375a68141",
   "outputs": [],
   "execution_count": null
  },
  {
   "metadata": {},
   "cell_type": "code",
   "source": [
    "#k_lines_arr = np.array(\n",
    "#    [\n",
    "#    #0.07300, -0.05160,\n",
    "#\t#0.09670, -0.07240,\n",
    "#\t#0.12570, -0.09890,\n",
    "#\t#0.15720,  -0.12880,\n",
    "#\t#0.18070,  -0.15160,\n",
    "#\t#0.20990,  -0.18020,\n",
    "#\t#0.23070,  -0.20070,\n",
    "#])\n",
    "#k_lines_arr_bal = np.array([\n",
    "#                            #0.07295, -0.05160,\n",
    "#                            #0.10450, -0.07945,\n",
    "#                            #0.13205, -0.10490,\n",
    "#                            #0.15720, -0.12880,\n",
    "#                            #0.18840, -0.15910,\n",
    "#                            #0.20990, -0.18015,\n",
    "#                            #0.24035, -0.21025,\n",
    "#])\n",
    "#k_lines_unknown = np.array([\n",
    "#                            0.04000, -0.02350,\n",
    "#                            0.05960, -0.04020,\n",
    "#                            0.09010, -0.06650,\n",
    "#                            0.12120, -0.09480,\n",
    "#                            0.14060,  -0.11300,\n",
    "#                            0.17425, -0.14530,\n",
    "#                            0.19290,  -0.16350,\n",
    "#                            0.22570,  -0.19570,\n",
    "#                            ])"
   ],
   "id": "a6ff33d90e4dcfd6",
   "outputs": [],
   "execution_count": null
  },
  {
   "metadata": {},
   "cell_type": "code",
   "source": [
    "#_lines_arr = np.array([\n",
    "#                       #0.03075, #-0.01550,\n",
    "#                       #0.05080, #-0.03270,\n",
    "#                       #0.07935, #-0.05710,\n",
    "#                       #0.10450, #-0.07945,\n",
    "#                       #0.12780, #-0.10095,\n",
    "#                       #0.15720, #-0.12880,\n",
    "#                       #0.18065, #-0.15155,\n",
    "#                       #0.20990, #-0.18015,\n",
    "#                       #0.23310, #-0.20310,\n",
    "#                       -0.109, 0.129  # 22.5 GHz\n",
    "#)\n",
    "#_lines_arr_bal = np.array([\n",
    "#                           #0.03075, #-0.01550,\n",
    "#                           #0.06255, #-0.04265,\n",
    "#                           #0.08830, #-0.06500,\n",
    "#                           #0.12120, #-0.09480,\n",
    "#                           #0.14985, #-0.12180,\n",
    "#                           #0.17590, #-0.14690,\n",
    "#                           #0.20015, #-0.17060,\n",
    "#                           #0.23065, #-0.20065,\n",
    "#                           #0.25870, #-0.22845,\n",
    "#                           -0.129, 0.157  # 30GHz\n",
    "#)\n",
    "#_lines_unknown = np.array([\n",
    "#                          # 0.063, -0.04 , # 10\n",
    "#                          # 0.169, -0.14, # 33\n",
    "#                          # 0.04,  -0.024, # 7.8\n",
    "#                          # 0.14,  -0.113, # 25.45\n",
    "#                           #-0.04, 0.059, # 10\n",
    "#                           #-0.14, 0.169, # 33\n",
    "#                           #0.04, -0.024, # 7.8\n",
    "#                           #0.14, -0.113, # 25.45\n",
    "#                           #0.18, -0.15, # 36.6\n",
    "#                           #0.094, -0.74, # 15.4\n",
    "\n",
    "#                           #0.13, 0.124,#?\n",
    "#                           #-0.103, 0.158\n",
    "#                           -0.079, 0.109 , # 17.6\n",
    "#   0.04\n",
    "\n",
    "\n",
    "#                                       ])"
   ],
   "id": "c7e7e40ecc5c3639",
   "outputs": [],
   "execution_count": null
  },
  {
   "metadata": {},
   "cell_type": "code",
   "source": [
    "fig, (ax1, ax2) = plt.subplots(figsize=(10, 3), nrows=1, ncols=2)\n",
    "fig.suptitle(f'Drive: {m_all_data.number}', fontsize=20)\n",
    "freq_loc_1 = pos_index_1\n",
    "freq_loc_2 = pos_index_2\n",
    "frequencies1, fourier_transform_freq1 = _fft_data(input_data=data_mx[:, freq_loc_1],\n",
    "                                    fft_window='bb')\n",
    "frequencies2, fourier_transform_freq2 = _fft_data(input_data=data_mx[:, freq_loc_2],\n",
    "                                     fft_window='bb')\n",
    "frequencies1 *= 1e-9\n",
    "frequencies2 *= 1e-9\n",
    "\n",
    "#for fft_pos_index in range(300, 2101, 300):\n",
    "ax1.plot(frequencies1, fourier_transform_freq1,\n",
    "       label=f'Site: {freq_loc_1}')\n",
    "\n",
    "ax1.plot(frequencies2, fourier_transform_freq2,\n",
    "         label=f'Site: {freq_loc_2}')\n",
    "\n",
    "ax1.set(title=f'FFT at single site',\n",
    "              xlabel='Frequency (GHz)',\n",
    "              ylabel='Amplitude (log)',\n",
    "              xlim=[0, 40])\n",
    "\n",
    "ax1.axvline(x=driving_field_freq*1e-9, color='black', zorder=1.1, alpha=0.75,\n",
    "            label=f'f_drive: {driving_field_freq*1e-9:.2f} GHz')\n",
    "\n",
    "\n",
    "#for fft_pos_index in range(4100, 2299, -300):\n",
    "\n",
    "\n",
    "ax1.legend(title='Site (nm)', ncols=1)\n",
    "\n",
    "###\n",
    "wavevectors1, fourier_transform_k1 = _fft_data(input_data=data_mx[time_index-1, 600:4002],\n",
    "                                    spatial_spacing=1e-9, fft_window='bb')\n",
    "wavevectors2, fourier_transform_k2 = _fft_data(input_data=data_mx[time_index-1, 4802:8204],\n",
    "                                    spatial_spacing=1e-9, fft_window='bb')\n",
    "wavevectors1 *= 1e-9 * 2 * np.pi\n",
    "wavevectors2 *= 1e-9 * 2 * np.pi\n",
    "\n",
    "ax2.plot(wavevectors1, fourier_transform_k1,\n",
    "           lw=1.5, marker='', markerfacecolor='black', markeredgecolor='black',\n",
    "           label=f\"Left of drive - no dmi\")\n",
    "ax2.plot(wavevectors2, fourier_transform_k2,\n",
    "           lw=1.5, marker='', markerfacecolor='black', markeredgecolor='black',\n",
    "           label=f\"Right of drive - no dmi\")\n",
    "ax2.set(title=\"FFT across whole chain\",\n",
    "    xlabel=f\"Wavevector, $k$\", ylabel=f\"Intensity (a.u.)\", yscale='log',\n",
    "       xlim=(0, 0.3))\n",
    "#ax.axvline(x=9.2)\n",
    "ax2.legend()"
   ],
   "id": "139f574d0ec95b",
   "outputs": [],
   "execution_count": null
  },
  {
   "metadata": {},
   "cell_type": "code",
   "source": [
    "# Cell which acts as a breakpoint; 0/0 intentionally produces an error. Alternative is to utilise the 'raise' keyword\n",
    "raise ValueError('Breakpoint')"
   ],
   "id": "69b2676b3ebd06ff",
   "outputs": [],
   "execution_count": null
  },
  {
   "metadata": {},
   "cell_type": "code",
   "source": [
    "kmax = 0.8 * 1e9\n",
    "ks = np.linspace(1e-10, kmax, int(round(system_prop.numcells[0] / 2)))\n",
    "ks_n = np.linspace(-kmax, 1e-10, int(round(system_prop.numcells[0] / 2)))\n",
    "\n",
    "\n",
    "oms_g = Omega_generalised(system_prop, zeeman_static[2], sat_mag, exchange_stiffness, D_ij, ks, 1e-9, gamma0 / (2 * np.pi * 1e9), p=1, has_demag=1, has_dmi=1)\n",
    "oms_g_n = Omega_generalised(system_prop, zeeman_static[2], sat_mag, exchange_stiffness, D_ij, ks_n, 1e-9, gamma0 / (2 * np.pi * 1e9), p=1, has_demag=1, has_dmi=1)\n",
    "\n",
    "# Custom dispersion relation\n",
    "oms_g_ua = cdr.Omega_generalised_with_ua(system_prop, zeeman_static[2], sat_mag, exchange_stiffness, D_ij, ks,\n",
    "                                         1e-9, K_1, K_2, aniso_axis,\n",
    "                                         gamma0 / (2 * np.pi * 1e9), p=1, has_demag=1, has_dmi=1, has_aniso=1)\n",
    "oms_g_ua_n = cdr.Omega_generalised_with_ua(system_prop, zeeman_static[2], sat_mag, exchange_stiffness, D_ij, ks_n,\n",
    "                                       1e-9, K_1, K_2, aniso_axis, gamma0 / (2 * np.pi * 1e9), p=1, has_demag=1, has_dmi=1, has_aniso=1)\n",
    "\n",
    "oms_g_n_ua = cdr.Omega_generalised_with_ua(system_prop, zeeman_static[2], sat_mag, exchange_stiffness, D_ij, ks,\n",
    "                                     1e-9, 0, 0, aniso_axis, gamma0 / (2 * np.pi * 1e9), p=1, has_demag=1, has_dmi=1, has_aniso=1)\n",
    "oms_g_n_ua_n = cdr.Omega_generalised_with_ua(system_prop, zeeman_static[2], sat_mag, exchange_stiffness, D_ij, ks_n,\n",
    "                                       1e-9, 0, 0, aniso_axis, gamma0 / (2 * np.pi * 1e9), p=1, has_demag=1, has_dmi=1, has_aniso=1)\n",
    "\n",
    "fig5, ax = plt.subplots(nrows=1, ncols=1)\n",
    "\n",
    "ax.plot(ks * 1e-9, oms_g_ua, lw=2, ls='-', color='purple', alpha=0.75, \n",
    "        label='Theory', zorder=1.99)\n",
    "ax.plot(ks_n * 1e-9, oms_g_ua_n, lw=2, ls='-', alpha=0.75, color='purple', \n",
    "        zorder=1.99)\n",
    "\n",
    "#ax.plot(ks * 1e-9, oms_g_n_ua, lw=2, ls='--', color='red', alpha=0.75, \n",
    "#        label='Theory (New equation - no anisotropy)', zorder=1.98)\n",
    "#ax.plot(ks_n * 1e-9, oms_g_n_ua_n, lw=2, ls='--', alpha=0.75, color='red', \n",
    "#        zorder=1.99)\n",
    "\n",
    "#ax.plot(ks * 1e-9, oms_g, lw=2, ls='-', color='blue', alpha=0.75, \n",
    "#        label='Theory (Old equation - no anisotropy)', zorder=1.97)\n",
    "#ax.plot(ks_n * 1e-9, oms_g_n, lw=2, ls='-', alpha=0.75, color='blue', \n",
    "#        zorder=1.97)\n",
    "\n",
    "ax.set(xlabel=r'Wavevector, $k$ (nm$^{-1}$)', ylabel=r'Frequency, $f$ (GHz)',\n",
    "       xlim=(-0.15, 0.15),\n",
    "       ylim=(0, 40)\n",
    "       )\n",
    "ax.legend(labelcolor='black')\n",
    "\n",
    "plt.show()"
   ],
   "id": "18d703929e14d411",
   "outputs": [],
   "execution_count": null
  }
 ],
 "metadata": {
  "kernelspec": {
   "display_name": "Python 3",
   "language": "python",
   "name": "python3"
  },
  "language_info": {
   "codemirror_mode": {
    "name": "ipython",
    "version": 2
   },
   "file_extension": ".py",
   "mimetype": "text/x-python",
   "name": "python",
   "nbconvert_exporter": "python",
   "pygments_lexer": "ipython2",
   "version": "2.7.6"
  }
 },
 "nbformat": 4,
 "nbformat_minor": 5
}
