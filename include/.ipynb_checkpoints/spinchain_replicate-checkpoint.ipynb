{
 "cells": [
  {
   "cell_type": "code",
   "execution_count": 1,
   "id": "9c8f3aad-e27e-4e6e-aaeb-1e4d73050f58",
   "metadata": {},
   "outputs": [],
   "source": [
    "import discretisedfield as df\n",
    "import numpy as np"
   ]
  },
  {
   "cell_type": "markdown",
   "id": "184d340f-8e09-4a5c-b7af-dfe06d194695",
   "metadata": {},
   "source": [
    "## 1. Setup"
   ]
  },
  {
   "cell_type": "code",
   "execution_count": 2,
   "id": "f72d4e8a-64b3-42ec-8ad7-a0b1af06aef0",
   "metadata": {},
   "outputs": [],
   "source": [
    "import micromagneticmodel as mm"
   ]
  },
  {
   "cell_type": "code",
   "execution_count": 3,
   "id": "cf1ac7b6-32e7-46cc-adea-40a3aea5b348",
   "metadata": {},
   "outputs": [],
   "source": [
    "#system = mm.System(name='spinchain')"
   ]
  },
  {
   "cell_type": "markdown",
   "id": "321a06b0-5b00-432d-9f04-cab7b37795d8",
   "metadata": {},
   "source": [
    "## 2. Primary spin chain"
   ]
  },
  {
   "cell_type": "code",
   "execution_count": 4,
   "id": "48fa1896-8c97-4117-8114-264bc0b5c837",
   "metadata": {},
   "outputs": [],
   "source": [
    "spinchain_name = 'primary_spinchain'"
   ]
  },
  {
   "cell_type": "markdown",
   "id": "9aef2609-0b15-4517-919f-70bb2041bf4a",
   "metadata": {},
   "source": [
    "### 2.1. Energy equation"
   ]
  },
  {
   "cell_type": "code",
   "execution_count": 5,
   "id": "076ca39e-a21e-47d5-bc6f-52b9eb501c9c",
   "metadata": {},
   "outputs": [],
   "source": [
    "spinchain_energy_terms = []"
   ]
  },
  {
   "cell_type": "markdown",
   "id": "1492e0ad-f93f-437c-9fc1-19846594cd19",
   "metadata": {},
   "source": [
    "#### 2.1.1. Static zeeman energy"
   ]
  },
  {
   "cell_type": "code",
   "execution_count": 6,
   "id": "900cb0ae-02d6-46be-9d04-d4d402dab0f5",
   "metadata": {},
   "outputs": [],
   "source": [
    "spinchain_H0 = (0, 0, 0.1/mm.consts.mu0) # Zeeman energy (A/m)\n",
    "spinchain_energy_terms.append(mm.Zeeman(H=spinchain_H0, \n",
    "                                        name='zeeman_static'))"
   ]
  },
  {
   "cell_type": "markdown",
   "id": "e692cefa-2d36-4283-834c-dcf7c65c1a90",
   "metadata": {},
   "source": [
    "#### 2.1.1. Dynamic zeeman energy"
   ]
  },
  {
   "cell_type": "code",
   "execution_count": 7,
   "id": "5b113683-3708-410b-9356-492a8b03640e",
   "metadata": {},
   "outputs": [],
   "source": [
    "spinchain_h0 = (3e-3/mm.consts.mu0, 0, 0)\n",
    "spinchain_freq = 15e9  # driving frequency (Hz)\n",
    "spinchain_timeshift = 1e-9  # time shift, t - t0, (s)\n",
    "\n",
    "spinchain_energy_terms.append(mm.Zeeman(H=spinchain_h0, \n",
    "                                        name='zeeman_dynamic',\n",
    "                                        func='sin',\n",
    "                                        f=spinchain_freq,\n",
    "                                        t0=spinchain_timeshift))"
   ]
  },
  {
   "cell_type": "markdown",
   "id": "a7fc0196-ee0f-4990-a508-1b8b51847d2e",
   "metadata": {},
   "source": [
    "#### 2.1.2. Heisenberg exchange energy"
   ]
  },
  {
   "cell_type": "code",
   "execution_count": 8,
   "id": "1ef06476-15ab-4fb4-a55e-39fe33f717a4",
   "metadata": {},
   "outputs": [],
   "source": [
    "spinchain_A = 1.6e-11  # exchange interaction energy (J/m)\n",
    "# A = 0.5 * mm.consts.mu0 * Ms**2 * lex**2\n",
    "spinchain_energy_terms.append(mm.Exchange(A=spinchain_A))"
   ]
  },
  {
   "cell_type": "markdown",
   "id": "b1a48635-a11f-4eba-a39a-c85b7db4fc86",
   "metadata": {},
   "source": [
    "#### 2.1.3. Dzyaloshinskii-Moriya energy"
   ]
  },
  {
   "cell_type": "code",
   "execution_count": 9,
   "id": "4d291450-15f0-498d-878d-a1d0fb9c259a",
   "metadata": {},
   "outputs": [],
   "source": [
    "spinchain_crystalclass = 'T'  # see documentation for list (https://ubermag.github.io/api/_autosummary/micromagneticmodel.DMI.html)\n",
    "spinchain_Dij = 1.5e-3  # microscopic DM interaction constant (J/m^2)"
   ]
  },
  {
   "cell_type": "code",
   "execution_count": 10,
   "id": "40decce5-437a-475b-ac29-45a5c5a8bab1",
   "metadata": {},
   "outputs": [],
   "source": [
    "spinchain_dmi_term = mm.DMI(D=spinchain_Dij, crystalclass=spinchain_crystalclass)"
   ]
  },
  {
   "cell_type": "code",
   "execution_count": 11,
   "id": "b026ee65-803f-425e-a7e2-b9faf82d8574",
   "metadata": {},
   "outputs": [
    {
     "data": {
      "text/latex": [
       "$D \\mathbf{m} \\cdot (\\nabla \\times \\mathbf{m})$"
      ],
      "text/plain": [
       "DMI(D=0.0015, crystalclass='T')"
      ]
     },
     "execution_count": 11,
     "metadata": {},
     "output_type": "execute_result"
    }
   ],
   "source": [
    "spinchain_dmi_term"
   ]
  },
  {
   "cell_type": "code",
   "execution_count": 12,
   "id": "f783a384-5d72-469b-b6f4-c092be593614",
   "metadata": {},
   "outputs": [],
   "source": [
    "#spinchain_energy_terms.append(spinchain_dmi_term)"
   ]
  },
  {
   "cell_type": "markdown",
   "id": "870c9c59-28a7-41b6-8b31-9ba93c48180f",
   "metadata": {},
   "source": [
    "#### 2.1.4. Demagnetisation energy"
   ]
  },
  {
   "cell_type": "code",
   "execution_count": 13,
   "id": "28f0580c-0dc7-4198-a9b2-08e8ec8f9502",
   "metadata": {},
   "outputs": [],
   "source": [
    "spinchain_energy_terms.append(mm.Demag())"
   ]
  },
  {
   "cell_type": "markdown",
   "id": "fb05a5d3-e2f8-494f-9859-7160061b57dc",
   "metadata": {},
   "source": [
    "#### 2. Hamiltonian"
   ]
  },
  {
   "cell_type": "code",
   "execution_count": 14,
   "id": "f09e8cda-e8f4-4f0c-b685-ba7f5f896818",
   "metadata": {},
   "outputs": [],
   "source": [
    "spinchain_energy =  mm.Energy(terms=spinchain_energy_terms)"
   ]
  },
  {
   "cell_type": "code",
   "execution_count": 15,
   "id": "d74df2a7-a44b-47d5-9670-3b39e8cdf553",
   "metadata": {},
   "outputs": [
    {
     "name": "stdout",
     "output_type": "stream",
     "text": [
      "This energy equation has 4 terms, and is given by: "
     ]
    }
   ],
   "source": [
    "print(f'This energy equation has {len(spinchain_energy)} terms, and is given by: ', end='')"
   ]
  },
  {
   "cell_type": "code",
   "execution_count": 16,
   "id": "725414b4-5eec-4539-a3b8-a65ef3e06e34",
   "metadata": {},
   "outputs": [
    {
     "data": {
      "text/latex": [
       "$-\\mu_{0}M_\\text{s} \\mathbf{m} \\cdot \\mathbf{H}_\\text{zeeman_static}-\\mu_{0}M_\\text{s} \\mathbf{m} \\cdot \\mathbf{H}_\\text{zeeman_dynamic}- A \\mathbf{m} \\cdot \\nabla^{2} \\mathbf{m}-\\frac{1}{2}\\mu_{0}M_\\text{s}\\mathbf{m} \\cdot \\mathbf{H}_\\text{d}$"
      ],
      "text/plain": [
       "Zeeman(H=(0, 0, 79577.47154594767)) + Zeeman(H=(2387.32414637843, 0, 0), f=15000000000.0, t0=1e-09, func='sin') + Exchange(A=1.6e-11) + Demag()"
      ]
     },
     "execution_count": 16,
     "metadata": {},
     "output_type": "execute_result"
    }
   ],
   "source": [
    "spinchain_energy"
   ]
  },
  {
   "cell_type": "markdown",
   "id": "fb4d5961-b538-4540-aeb4-79ac4685fddc",
   "metadata": {},
   "source": [
    "### 2.2. Magnetisation field"
   ]
  },
  {
   "cell_type": "markdown",
   "id": "09d1f1b8-4dfc-41b6-800c-6a681a43d92c",
   "metadata": {},
   "source": [
    "#### 2.2.1. Region"
   ]
  },
  {
   "cell_type": "code",
   "execution_count": 17,
   "id": "686353b5-2d67-4205-a727-2a54a9547845",
   "metadata": {},
   "outputs": [],
   "source": [
    "spinchain_region_p1 = (0, 0, 0)  # point1 (nm)\n",
    "spinchain_region_p2 = (20e-9, 1e-9, 1e-9)  # point 2 (nm)\n",
    "\n",
    "spinchain_region = df.Region(p1=spinchain_region_p1, p2=spinchain_region_p2)"
   ]
  },
  {
   "cell_type": "markdown",
   "id": "66234e26-bcf5-4481-8f4c-bdd20e415781",
   "metadata": {},
   "source": [
    "#### 2.2.2. Mesh"
   ]
  },
  {
   "cell_type": "code",
   "execution_count": 18,
   "id": "4b1b0158-e28d-4e1f-866b-7e90f67150f5",
   "metadata": {},
   "outputs": [],
   "source": [
    "spinchain_mesh_cell_size = (1e-9, 1e-9, 1e-9)\n",
    "\n",
    "# spinchain_mesh = df.Mesh(region=spinchain_region, n=(128, 1, 1))\n",
    "spinchain_mesh = df.Mesh(region=spinchain_region, cell=spinchain_mesh_cell_size)"
   ]
  },
  {
   "cell_type": "code",
   "execution_count": 19,
   "id": "7f60aaea-158c-4335-a9e2-830c43d48fa0",
   "metadata": {},
   "outputs": [
    {
     "name": "stdout",
     "output_type": "stream",
     "text": [
      "Spinchain mesh (Num. discretised cells)\n",
      "----------------\n",
      " - X: 20\n",
      " - Y: 1\n",
      " - Z: 1\n",
      "----------------\n",
      " - Total: 20\n",
      "\n"
     ]
    }
   ],
   "source": [
    "print(f'Spinchain mesh (Num. discretised cells)\\n'\n",
    "      f'----------------\\n'\n",
    "      f' - X: {spinchain_mesh.n[0]}\\n'\n",
    "      f' - Y: {spinchain_mesh.n[1]}\\n'\n",
    "      f' - Z: {spinchain_mesh.n[2]}\\n'\n",
    "      f'----------------\\n'\n",
    "      f' - Total: {len(spinchain_mesh)}\\n')"
   ]
  },
  {
   "cell_type": "code",
   "execution_count": 20,
   "id": "5326d176-6080-421c-a2ce-2b1dad5ddb91",
   "metadata": {},
   "outputs": [
    {
     "data": {
      "image/png": "[encoded data removed]",
      "text/plain": [
       "<Figure size 800x600 with 1 Axes>"
      ]
     },
     "metadata": {},
     "output_type": "display_data"
    }
   ],
   "source": [
    "spinchain_mesh.mpl()"
   ]
  },
  {
   "cell_type": "markdown",
   "id": "60bdfd6f-9077-40e1-95ad-ed01c81d0436",
   "metadata": {},
   "source": [
    "#### 2.2.3. Field"
   ]
  },
  {
   "cell_type": "code",
   "execution_count": 21,
   "id": "c5dd6c45-0726-4edb-a1cf-9b2fd61adc70",
   "metadata": {},
   "outputs": [],
   "source": [
    "spinchain_field_m_init = (1, 0, 0)\n",
    "Ms  = 800e3  # saturisation magnetisation (A/m)\n",
    "spinchain_num_dims = 3\n",
    "\n",
    "spinchain_magnetisation_field = df.Field(mesh=spinchain_mesh, \n",
    "                                         nvdim=spinchain_num_dims, \n",
    "                                         value=spinchain_field_m_init, \n",
    "                                         norm=Ms)"
   ]
  },
  {
   "cell_type": "code",
   "execution_count": 22,
   "id": "29402e98-6530-4739-86cc-e32b9f41bd65",
   "metadata": {},
   "outputs": [
    {
     "data": {
      "image/png": "[encoded data removed]",
      "text/plain": [
       "<Figure size 800x600 with 2 Axes>"
      ]
     },
     "metadata": {},
     "output_type": "display_data"
    }
   ],
   "source": [
    "spinchain_magnetisation_field.sel('z').mpl()"
   ]
  },
  {
   "cell_type": "markdown",
   "id": "8ad744a9-1e23-4810-93b5-25258ae8db79",
   "metadata": {},
   "source": [
    "### 2.3. Dynamics equations"
   ]
  },
  {
   "cell_type": "code",
   "execution_count": 23,
   "id": "0caab45d-1e4b-480f-be16-022ceb78511e",
   "metadata": {},
   "outputs": [],
   "source": [
    "spinchain_dynamics_terms = []"
   ]
  },
  {
   "cell_type": "markdown",
   "id": "aac15ec8-9446-4691-98e6-ec96b45e8969",
   "metadata": {},
   "source": [
    "#### 2.3.1. Precession term"
   ]
  },
  {
   "cell_type": "code",
   "execution_count": 24,
   "id": "bee669e4-6b38-40ec-a89a-cc6efb55be7f",
   "metadata": {},
   "outputs": [],
   "source": [
    "spinchain_gamma = 2 * np.pi * 29.2e9 * mm.consts.mu0  # gyrotropic ratio (A s / kg) i.e. (C/kg)\n",
    "spinchain_gamm0 = spinchain_gamma * mm.consts.mu0  # gyromagnetic ratio (m / As)\n",
    "\n",
    "spinchain_precession = mm.Precession(gamma0=spinchain_gamm0)\n",
    "\n",
    "spinchain_dynamics_terms.append(spinchain_precession)"
   ]
  },
  {
   "cell_type": "markdown",
   "id": "922b9997-f594-4989-95d6-507a99ac5b38",
   "metadata": {},
   "source": [
    "#### 2.3.2. Damping term"
   ]
  },
  {
   "cell_type": "code",
   "execution_count": 25,
   "id": "3d4761b5-9d6e-47a9-b89f-89976640a1ee",
   "metadata": {},
   "outputs": [],
   "source": [
    "spinchain_alpha = 1e-4\n",
    "\n",
    "spinchain_dynamics_terms.append(mm.Damping(alpha=spinchain_alpha))"
   ]
  },
  {
   "cell_type": "markdown",
   "id": "da99f8c0-8e2c-4664-b8d1-725ebb58c8db",
   "metadata": {},
   "source": [
    "#### 2.3.3. Dynamics equation"
   ]
  },
  {
   "cell_type": "code",
   "execution_count": 26,
   "id": "a3655212-7502-46cf-88ac-093bc5827c8c",
   "metadata": {},
   "outputs": [],
   "source": [
    "spinchain_dynamics = mm.Dynamics(terms=spinchain_dynamics_terms) "
   ]
  },
  {
   "cell_type": "code",
   "execution_count": 27,
   "id": "d730f92d-db66-4e33-93c3-bb6f668cf328",
   "metadata": {},
   "outputs": [
    {
     "name": "stdout",
     "output_type": "stream",
     "text": [
      "This dynamics equation has 2 terms, and is given by: "
     ]
    }
   ],
   "source": [
    "print(f'This dynamics equation has {len(spinchain_dynamics)} terms, and is given by: ', end='')"
   ]
  },
  {
   "cell_type": "code",
   "execution_count": 28,
   "id": "ae8e9abc-ebac-43d5-b9e0-50ea405148ba",
   "metadata": {},
   "outputs": [
    {
     "data": {
      "text/latex": [
       "$-\\frac{\\gamma_{0}}{1 + \\alpha^{2}} \\mathbf{m} \\times \\mathbf{H}_\\text{eff}-\\frac{\\gamma_{0} \\alpha}{1 + \\alpha^{2}} \\mathbf{m} \\times (\\mathbf{m} \\times \\mathbf{H}_\\text{eff})$"
      ],
      "text/plain": [
       "Precession(gamma0=0.2897226493007215) + Damping(alpha=0.0001)"
      ]
     },
     "execution_count": 28,
     "metadata": {},
     "output_type": "execute_result"
    }
   ],
   "source": [
    "spinchain_dynamics"
   ]
  },
  {
   "cell_type": "markdown",
   "id": "abb26cd3-8c43-40aa-aa33-ee1de7a1f1e1",
   "metadata": {},
   "source": [
    "### 2.4. Construct system"
   ]
  },
  {
   "cell_type": "code",
   "execution_count": 29,
   "id": "f3109fc7-908c-49bf-8957-f48c4f431acf",
   "metadata": {},
   "outputs": [],
   "source": [
    "spinchain_system = mm.System(name=spinchain_name,\n",
    "                             energy=spinchain_energy,\n",
    "                             dynamics=spinchain_dynamics,\n",
    "                             m=spinchain_magnetisation_field\n",
    "                            )"
   ]
  },
  {
   "cell_type": "markdown",
   "id": "554e1261-ff55-4059-9419-4521e8e04232",
   "metadata": {},
   "source": [
    "## 3. Driving region"
   ]
  },
  {
   "attachments": {},
   "cell_type": "markdown",
   "id": "20d199d2-3386-4047-9225-94f45f5f0b9f",
   "metadata": {},
   "source": [
    "## 4. Drivers"
   ]
  },
  {
   "cell_type": "code",
   "execution_count": 30,
   "id": "31f91e5d-6b08-4d2a-91a1-113271316948",
   "metadata": {},
   "outputs": [],
   "source": [
    "import oommfc as oc"
   ]
  },
  {
   "cell_type": "markdown",
   "id": "712f5965-797a-4407-b108-1a4e1a25be0f",
   "metadata": {},
   "source": [
    "### 4.1. Minimise energy"
   ]
  },
  {
   "cell_type": "markdown",
   "id": "10916cd7-ce9b-4773-a8e9-804a07171008",
   "metadata": {},
   "source": [
    "#### 4.1.1. Create driver"
   ]
  },
  {
   "cell_type": "code",
   "execution_count": 31,
   "id": "4d13c7c7-a986-4407-9e02-fa5de217a461",
   "metadata": {},
   "outputs": [],
   "source": [
    "mindriver = oc.MinDriver()"
   ]
  },
  {
   "cell_type": "markdown",
   "id": "6f7f973a-efe2-4fde-933e-8c5d4a8f2de6",
   "metadata": {},
   "source": [
    "#### 4.1.2. Run driver to minimise energy"
   ]
  },
  {
   "cell_type": "code",
   "execution_count": 32,
   "id": "86eae8df-b8e0-4c2f-b3c6-7ca41df9b553",
   "metadata": {},
   "outputs": [
    {
     "name": "stdout",
     "output_type": "stream",
     "text": [
      "Running OOMMF (TclOOMMFRunner)[2024/05/16 19:21]... (9.3 s)\n"
     ]
    },
    {
     "ename": "RuntimeError",
     "evalue": "Error in OOMMF run.\ncommand: tclsh C:\\Users\\Cameron McEleney\\oommf\\oommf.tcl boxsi +fg primary_spinchain.mif -exitondone 1\n",
     "output_type": "error",
     "traceback": [
      "\u001b[1;31m---------------------------------------------------------------------------\u001b[0m",
      "\u001b[1;31mRuntimeError\u001b[0m                              Traceback (most recent call last)",
      "Cell \u001b[1;32mIn[32], line 1\u001b[0m\n\u001b[1;32m----> 1\u001b[0m \u001b[43mmindriver\u001b[49m\u001b[38;5;241;43m.\u001b[39;49m\u001b[43mdrive\u001b[49m\u001b[43m(\u001b[49m\u001b[43mspinchain_system\u001b[49m\u001b[43m)\u001b[49m\n",
      "File \u001b[1;32m~\\PycharmProjects\\Ubermag\\.venv\\Lib\\site-packages\\micromagneticmodel\\driver.py:137\u001b[0m, in \u001b[0;36mExternalDriver.drive\u001b[1;34m(self, system, dirname, append, runner, ovf_format, verbose, **kwargs)\u001b[0m\n\u001b[0;32m    131\u001b[0m \u001b[38;5;28;01mwith\u001b[39;00m uu\u001b[38;5;241m.\u001b[39mchangedir(workingdir):\n\u001b[0;32m    132\u001b[0m     \u001b[38;5;28mself\u001b[39m\u001b[38;5;241m.\u001b[39m_write_input_files(\n\u001b[0;32m    133\u001b[0m         system\u001b[38;5;241m=\u001b[39msystem,\n\u001b[0;32m    134\u001b[0m         ovf_format\u001b[38;5;241m=\u001b[39movf_format,\n\u001b[0;32m    135\u001b[0m         \u001b[38;5;241m*\u001b[39m\u001b[38;5;241m*\u001b[39mkwargs,\n\u001b[0;32m    136\u001b[0m     )\n\u001b[1;32m--> 137\u001b[0m     \u001b[38;5;28;43mself\u001b[39;49m\u001b[38;5;241;43m.\u001b[39;49m\u001b[43m_call\u001b[49m\u001b[43m(\u001b[49m\u001b[43msystem\u001b[49m\u001b[38;5;241;43m=\u001b[39;49m\u001b[43msystem\u001b[49m\u001b[43m,\u001b[49m\u001b[43m \u001b[49m\u001b[43mrunner\u001b[49m\u001b[38;5;241;43m=\u001b[39;49m\u001b[43mrunner\u001b[49m\u001b[43m,\u001b[49m\u001b[43m \u001b[49m\u001b[43mverbose\u001b[49m\u001b[38;5;241;43m=\u001b[39;49m\u001b[43mverbose\u001b[49m\u001b[43m,\u001b[49m\u001b[43m \u001b[49m\u001b[38;5;241;43m*\u001b[39;49m\u001b[38;5;241;43m*\u001b[39;49m\u001b[43mkwargs\u001b[49m\u001b[43m)\u001b[49m\n\u001b[0;32m    138\u001b[0m     \u001b[38;5;28mself\u001b[39m\u001b[38;5;241m.\u001b[39m_read_data(system)\n\u001b[0;32m    140\u001b[0m system\u001b[38;5;241m.\u001b[39mdrive_number \u001b[38;5;241m+\u001b[39m\u001b[38;5;241m=\u001b[39m \u001b[38;5;241m1\u001b[39m\n",
      "File \u001b[1;32m~\\PycharmProjects\\Ubermag\\.venv\\Lib\\site-packages\\oommfc\\drivers\\driver.py:205\u001b[0m, in \u001b[0;36mDriver._call\u001b[1;34m(self, system, runner, n_threads, verbose, **kwargs)\u001b[0m\n\u001b[0;32m    203\u001b[0m \u001b[38;5;28;01mif\u001b[39;00m runner \u001b[38;5;129;01mis\u001b[39;00m \u001b[38;5;28;01mNone\u001b[39;00m:\n\u001b[0;32m    204\u001b[0m     runner \u001b[38;5;241m=\u001b[39m oc\u001b[38;5;241m.\u001b[39mrunner\u001b[38;5;241m.\u001b[39mrunner\n\u001b[1;32m--> 205\u001b[0m \u001b[43mrunner\u001b[49m\u001b[38;5;241;43m.\u001b[39;49m\u001b[43mcall\u001b[49m\u001b[43m(\u001b[49m\n\u001b[0;32m    206\u001b[0m \u001b[43m    \u001b[49m\u001b[43margstr\u001b[49m\u001b[38;5;241;43m=\u001b[39;49m\u001b[38;5;28;43mself\u001b[39;49m\u001b[38;5;241;43m.\u001b[39;49m\u001b[43m_miffilename\u001b[49m\u001b[43m(\u001b[49m\u001b[43msystem\u001b[49m\u001b[43m)\u001b[49m\u001b[43m,\u001b[49m\n\u001b[0;32m    207\u001b[0m \u001b[43m    \u001b[49m\u001b[43mn_threads\u001b[49m\u001b[38;5;241;43m=\u001b[39;49m\u001b[43mn_threads\u001b[49m\u001b[43m,\u001b[49m\n\u001b[0;32m    208\u001b[0m \u001b[43m    \u001b[49m\u001b[43mverbose\u001b[49m\u001b[38;5;241;43m=\u001b[39;49m\u001b[43mverbose\u001b[49m\u001b[43m,\u001b[49m\n\u001b[0;32m    209\u001b[0m \u001b[43m    \u001b[49m\u001b[43mtotal\u001b[49m\u001b[38;5;241;43m=\u001b[39;49m\u001b[43mkwargs\u001b[49m\u001b[38;5;241;43m.\u001b[39;49m\u001b[43mget\u001b[49m\u001b[43m(\u001b[49m\u001b[38;5;124;43m\"\u001b[39;49m\u001b[38;5;124;43mn\u001b[39;49m\u001b[38;5;124;43m\"\u001b[39;49m\u001b[43m)\u001b[49m\u001b[43m,\u001b[49m\n\u001b[0;32m    210\u001b[0m \u001b[43m    \u001b[49m\u001b[43mglob_name\u001b[49m\u001b[38;5;241;43m=\u001b[39;49m\u001b[38;5;124;43mf\u001b[39;49m\u001b[38;5;124;43m\"\u001b[39;49m\u001b[38;5;132;43;01m{\u001b[39;49;00m\u001b[43msystem\u001b[49m\u001b[38;5;241;43m.\u001b[39;49m\u001b[43mname\u001b[49m\u001b[38;5;132;43;01m}\u001b[39;49;00m\u001b[38;5;124;43m*.omf\u001b[39;49m\u001b[38;5;124;43m\"\u001b[39;49m\u001b[43m,\u001b[49m\n\u001b[0;32m    211\u001b[0m \u001b[43m\u001b[49m\u001b[43m)\u001b[49m\n",
      "File \u001b[1;32m~\\PycharmProjects\\Ubermag\\.venv\\Lib\\site-packages\\micromagneticmodel\\runner.py:95\u001b[0m, in \u001b[0;36mExternalRunner.call\u001b[1;34m(self, argstr, need_stderr, verbose, total, glob_name, **kwargs)\u001b[0m\n\u001b[0;32m     93\u001b[0m         msg \u001b[38;5;241m+\u001b[39m\u001b[38;5;241m=\u001b[39m \u001b[38;5;124mf\u001b[39m\u001b[38;5;124m\"\u001b[39m\u001b[38;5;124mstdout: \u001b[39m\u001b[38;5;132;01m{\u001b[39;00mres\u001b[38;5;241m.\u001b[39mstderr\u001b[38;5;241m.\u001b[39mdecode(\u001b[38;5;124m'\u001b[39m\u001b[38;5;124mutf-8\u001b[39m\u001b[38;5;124m'\u001b[39m,\u001b[38;5;250m \u001b[39m\u001b[38;5;124m'\u001b[39m\u001b[38;5;124mreplace\u001b[39m\u001b[38;5;124m'\u001b[39m)\u001b[38;5;132;01m}\u001b[39;00m\u001b[38;5;130;01m\\n\u001b[39;00m\u001b[38;5;124m\"\u001b[39m\n\u001b[0;32m     94\u001b[0m         msg \u001b[38;5;241m+\u001b[39m\u001b[38;5;241m=\u001b[39m \u001b[38;5;124mf\u001b[39m\u001b[38;5;124m\"\u001b[39m\u001b[38;5;124mstderr: \u001b[39m\u001b[38;5;132;01m{\u001b[39;00mres\u001b[38;5;241m.\u001b[39mstdout\u001b[38;5;241m.\u001b[39mdecode(\u001b[38;5;124m'\u001b[39m\u001b[38;5;124mutf-8\u001b[39m\u001b[38;5;124m'\u001b[39m,\u001b[38;5;250m \u001b[39m\u001b[38;5;124m'\u001b[39m\u001b[38;5;124mreplace\u001b[39m\u001b[38;5;124m'\u001b[39m)\u001b[38;5;132;01m}\u001b[39;00m\u001b[38;5;130;01m\\n\u001b[39;00m\u001b[38;5;124m\"\u001b[39m\n\u001b[1;32m---> 95\u001b[0m     \u001b[38;5;28;01mraise\u001b[39;00m \u001b[38;5;167;01mRuntimeError\u001b[39;00m(msg)\n\u001b[0;32m     97\u001b[0m \u001b[38;5;28;01mreturn\u001b[39;00m res\n",
      "\u001b[1;31mRuntimeError\u001b[0m: Error in OOMMF run.\ncommand: tclsh C:\\Users\\Cameron McEleney\\oommf\\oommf.tcl boxsi +fg primary_spinchain.mif -exitondone 1\n"
     ]
    }
   ],
   "source": [
    "mindriver.drive(spinchain_system)"
   ]
  },
  {
   "cell_type": "markdown",
   "id": "66bdcd09-fb9c-4af9-af18-301cf3bf9573",
   "metadata": {},
   "source": [
    "#### 4.1.3. Check output (model)"
   ]
  },
  {
   "cell_type": "code",
   "execution_count": null,
   "id": "a817ab93-9874-47a1-b083-cd4393e76de9",
   "metadata": {},
   "outputs": [],
   "source": [
    "spinchain_system.m.sel('z').mpl()"
   ]
  },
  {
   "cell_type": "markdown",
   "id": "52217de3-d696-485b-9a74-f5de3e70c480",
   "metadata": {},
   "source": [
    "#### 4.1.4. Check output (line plot)"
   ]
  },
  {
   "cell_type": "code",
   "execution_count": null,
   "id": "e7db04eb-5916-4eae-9447-89314acfbcff",
   "metadata": {},
   "outputs": [],
   "source": [
    "line = spinchain_system.m.line(p1=spinchain_system.m.mesh.region.pmin, p2=spinchain_system.m.mesh.region.pmax, n=19)\n",
    "line.mpl(marker='o')"
   ]
  },
  {
   "cell_type": "markdown",
   "id": "e2db6cc9-ca35-4003-9fe1-a6790622ddef",
   "metadata": {},
   "source": [
    "### 4.2. Dynamic drive"
   ]
  },
  {
   "cell_type": "markdown",
   "id": "35177edb-ca3a-4c2d-b4a8-ad886e0d253d",
   "metadata": {},
   "source": [
    "#### 4.2.1. Create driver (TimeDriver)"
   ]
  },
  {
   "cell_type": "code",
   "execution_count": null,
   "id": "c0f21f14-2ec5-49d4-b319-94d7596f463b",
   "metadata": {},
   "outputs": [],
   "source": [
    "spinchain_timedriver = oc.TimeDriver()"
   ]
  },
  {
   "cell_type": "markdown",
   "id": "d9221534-e790-4366-8efb-c4e0d97fb985",
   "metadata": {},
   "source": [
    "#### 4.2.2. Run driver"
   ]
  },
  {
   "cell_type": "code",
   "execution_count": null,
   "id": "f6066b87-ca03-400f-8f54-d87c98da0db8",
   "metadata": {},
   "outputs": [],
   "source": [
    "spinchain_time_max = 5e-9  # maximum simulated time (s)\n",
    "spinchain_num_steps = 200  # number of steps during simulation\n",
    "\n",
    "print(f'Stepsize, h: {spinchain_time_max/spinchain_num_steps} (s)')\n",
    "\n",
    "spinchain_timedriver.drive(spinchain_system, \n",
    "                           t=spinchain_time_max,\n",
    "                           n=spinchain_num_steps)"
   ]
  },
  {
   "cell_type": "markdown",
   "id": "f932b102-4bb3-4155-9fed-c8f369fc9f84",
   "metadata": {},
   "source": [
    "#### 4.2.3. Plot data (table)"
   ]
  },
  {
   "cell_type": "code",
   "execution_count": null,
   "id": "e58b81ea-1bb6-48ee-87ba-dc6e2c0210e1",
   "metadata": {},
   "outputs": [],
   "source": [
    "spinchain_system.table.data"
   ]
  },
  {
   "cell_type": "markdown",
   "id": "805f22a3-f8c5-41c9-9ef9-2bbe4a02b43d",
   "metadata": {},
   "source": [
    "#### 4.2.4. Plot data (graph)"
   ]
  },
  {
   "cell_type": "code",
   "execution_count": null,
   "id": "54cec1c8-82a9-4f15-bba9-fdbf528db3e9",
   "metadata": {},
   "outputs": [],
   "source": [
    "spinchain_system.table.mpl(y=['mx', 'my', 'mz'])"
   ]
  }
 ],
 "metadata": {
  "kernelspec": {
   "display_name": "Python 3 (ipykernel)",
   "language": "python",
   "name": "python3"
  },
  "language_info": {
   "codemirror_mode": {
    "name": "ipython",
    "version": 3
   },
   "file_extension": ".py",
   "mimetype": "text/x-python",
   "name": "python",
   "nbconvert_exporter": "python",
   "pygments_lexer": "ipython3",
   "version": "3.12.3"
  }
 },
 "nbformat": 4,
 "nbformat_minor": 5
}
