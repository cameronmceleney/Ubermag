{
 "cells": [
  {
   "metadata": {
    "ExecuteTime": {
     "end_time": "2024-06-05T17:32:20.882536Z",
     "start_time": "2024-06-05T17:32:20.702009Z"
    }
   },
   "cell_type": "code",
   "source": [
    "# Clear all variables in the workspace\n",
    "%reset -f"
   ],
   "id": "d4c5b022b83bd00e",
   "outputs": [],
   "execution_count": 26
  },
  {
   "cell_type": "code",
   "id": "initial_id",
   "metadata": {
    "collapsed": true,
    "ExecuteTime": {
     "end_time": "2024-06-05T17:32:21.063270Z",
     "start_time": "2024-06-05T17:32:21.060201Z"
    }
   },
   "source": "import include.custom_helper_files.custom_system_properties as csp",
   "outputs": [],
   "execution_count": 27
  },
  {
   "metadata": {
    "ExecuteTime": {
     "end_time": "2024-06-05T17:32:21.130518Z",
     "start_time": "2024-06-05T17:32:21.127740Z"
    }
   },
   "cell_type": "code",
   "source": [
    "import matplotlib.pyplot as plt\n",
    "import numpy as np"
   ],
   "id": "f096b4598bcc1f20",
   "outputs": [],
   "execution_count": 28
  },
  {
   "metadata": {
    "ExecuteTime": {
     "end_time": "2024-06-05T17:32:21.235299Z",
     "start_time": "2024-06-05T17:32:21.232636Z"
    }
   },
   "cell_type": "code",
   "source": [
    "import discretisedfield as df\n",
    "import micromagneticmodel as mm\n",
    "import micromagneticdata as md"
   ],
   "id": "2d40a9476fad60b1",
   "outputs": [],
   "execution_count": 29
  },
  {
   "metadata": {
    "ExecuteTime": {
     "end_time": "2024-06-05T17:32:21.245804Z",
     "start_time": "2024-06-05T17:32:21.243589Z"
    }
   },
   "cell_type": "code",
   "source": "import oommfc as oc",
   "id": "55388a0d187cd781",
   "outputs": [],
   "execution_count": 30
  },
  {
   "metadata": {},
   "cell_type": "markdown",
   "source": "## Main parameters",
   "id": "cc83c0dc78b6ac8"
  },
  {
   "metadata": {
    "ExecuteTime": {
     "end_time": "2024-06-05T17:32:21.301582Z",
     "start_time": "2024-06-05T17:32:21.297780Z"
    }
   },
   "cell_type": "code",
   "source": [
    "system = mm.System(name='mydmitest')\n",
    "\n",
    "system_prop = csp.SystemProperties(lx=6152e-9, ly=4e-9, lz=4e-9)\n",
    "system_prop.cell = (8e-9, 4e-9, 4e-9)\n",
    "system_prop.units = ('m', 'm', 'm')\n",
    "#system_prop.update_lengths()\n",
    "system_prop.update_numcells()"
   ],
   "id": "9a39298eb83f7f55",
   "outputs": [],
   "execution_count": 31
  },
  {
   "metadata": {
    "ExecuteTime": {
     "end_time": "2024-06-05T17:32:21.380565Z",
     "start_time": "2024-06-05T17:32:21.375909Z"
    }
   },
   "cell_type": "code",
   "source": "system_prop",
   "id": "5f3c2567a054db59",
   "outputs": [
    {
     "data": {
      "text/plain": [
       "SystemProperties(lx=6.152e-06, ly=4e-09, lz=4e-09, cell=(8e-09, 4e-09, 4e-09), p1=(0, 0, 0), units=('m', 'm', 'm'), p2=(6.152e-06, 4e-09, 4e-09), numcells=(768, 1, 1))"
      ]
     },
     "execution_count": 32,
     "metadata": {},
     "output_type": "execute_result"
    }
   ],
   "execution_count": 32
  },
  {
   "metadata": {
    "ExecuteTime": {
     "end_time": "2024-06-05T17:32:21.440378Z",
     "start_time": "2024-06-05T17:32:21.435611Z"
    }
   },
   "cell_type": "code",
   "source": [
    "# Saturisation magnetisation\n",
    "Ms = 800e3  # kA/m\n",
    "\n",
    "# exchange stiffness\n",
    "A = 2.1e-11 # (43.5 * Ms * system_prop.cell[0])/2\n",
    "\n",
    "# External static Zeeman field strength\n",
    "H0 = tuple(x/mm.consts.mu0 for x in [0, 0, 0.4])  # A/m\n",
    "\n",
    "# External dynamic Zeeman field strength\n",
    "h0 = tuple(x/mm.consts.mu0 for x in [3e-3, 0, 0])  # A/m\n",
    "\n",
    "# Driving frequency\n",
    "f = 15.6e9  # Hz\n",
    "\n",
    "# Stepsize at which equations are evaluated\n",
    "h = 1e-15  # s\n",
    "\n",
    "# Gilbert damping\n",
    "alpha = 0.001\n",
    "\n",
    "# DMI constant\n",
    "D_ij = 0.4e-3  # J/m^2\n",
    "\n",
    "gamma0 = 29.2e9 * (2 * np.pi * mm.consts.mu0) # [Hz / (rad T)] to correct units"
   ],
   "id": "5992eee82efc312a",
   "outputs": [],
   "execution_count": 33
  },
  {
   "metadata": {},
   "cell_type": "markdown",
   "source": "## Regions",
   "id": "4848ed1628f75100"
  },
  {
   "metadata": {
    "ExecuteTime": {
     "end_time": "2024-06-05T17:32:21.544578Z",
     "start_time": "2024-06-05T17:32:21.539479Z"
    }
   },
   "cell_type": "code",
   "source": "(((6152 - 2 * 8)- (25 * 8) - (38 * 8 * 2)) / 2) / 8",
   "id": "9eec5694fabfec7f",
   "outputs": [
    {
     "data": {
      "text/plain": [
       "333.0"
      ]
     },
     "execution_count": 34,
     "metadata": {},
     "output_type": "execute_result"
    }
   ],
   "execution_count": 34
  },
  {
   "metadata": {
    "ExecuteTime": {
     "end_time": "2024-06-05T17:32:21.582643Z",
     "start_time": "2024-06-05T17:32:21.578686Z"
    }
   },
   "cell_type": "code",
   "source": [
    "system_region = csp.MyRegions(system.name + \"_regions\");\n",
    "\n",
    "system_region.main(p1=system_prop.p1, \n",
    "                   p2=system_prop.p2, \n",
    "                   dims=('x', 'y', 'z'),\n",
    "                   units=system_prop.units);"
   ],
   "id": "f20364b355d7e193",
   "outputs": [
    {
     "name": "stdout",
     "output_type": "stream",
     "text": [
      "Created subregion: main\n"
     ]
    }
   ],
   "execution_count": 35
  },
  {
   "metadata": {
    "ExecuteTime": {
     "end_time": "2024-06-05T17:32:21.711790Z",
     "start_time": "2024-06-05T17:32:21.696979Z"
    }
   },
   "cell_type": "code",
   "source": [
    "%%capture\n",
    "system_subregions = csp.MyRegions(system.name + \"_subregions\")\n",
    "\n",
    "system_subregions.fixedLhs(p1=system_region.main.p1, \n",
    "                           p2=(system_prop.cell[0], system_prop.ly, system_prop.lz), \n",
    "                           dims=('x', 'y', 'z'), units=system_prop.units)\n",
    "\n",
    "system_subregions.dampingLhs(p1=csp.add_tuples(system_subregions.fixedLhs.p2, \n",
    "                                       dims='x', base=system_prop.p1),\n",
    "                         p2=csp.add_tuples(system_subregions.fixedLhs.p2, system_prop.cell, \n",
    "                                       mult=38, dims='x'), \n",
    "                         dims=('x', 'y', 'z'), units=system_prop.units)\n",
    "\n",
    "system_subregions.freeLhs(p1=csp.add_tuples(system_subregions.dampingLhs.p2, \n",
    "                                       dims='x', base=system_prop.p1),\n",
    "                         p2=csp.add_tuples(system_subregions.dampingLhs.p2, system_prop.cell, \n",
    "                                       mult=333, dims='x'), \n",
    "                         dims=('x', 'y', 'z'), units=system_prop.units)\n",
    "\n",
    "system_subregions.driven(p1=csp.add_tuples(system_subregions.freeLhs.p2, \n",
    "                                       dims='x', base=system_prop.p1),\n",
    "                         p2=csp.add_tuples(system_subregions.freeLhs.p2, system_prop.cell, mult=25, dims='x'), \n",
    "                         dims=('x', 'y', 'z'), units=system_prop.units)\n",
    "\n",
    "system_subregions.freeRhs(p1=csp.add_tuples(system_subregions.driven.p2, \n",
    "                                       dims='x', base=system_prop.p1),\n",
    "                         p2=csp.add_tuples(system_subregions.driven.p2, system_prop.cell, \n",
    "                                       mult=333, dims='x'), \n",
    "                         dims=('x', 'y', 'z'), units=system_prop.units)\n",
    "\n",
    "system_subregions.dampingRhs(p1=csp.add_tuples(system_subregions.freeRhs.p2, \n",
    "                                       dims='x', base=system_prop.p1),\n",
    "                         p2=csp.add_tuples(system_subregions.freeRhs .p2, system_prop.cell, \n",
    "                                       mult=38, dims='x'), \n",
    "                         dims=('x', 'y', 'z'), units=system_prop.units)\n",
    "\n",
    "system_subregions.fixedRhs(p1=csp.add_tuples(system_region.main.p2, system_prop.cell, \n",
    "                                         mult=-1, dims='x', base=system_prop.p1),\n",
    "                           p2=system_region.main.p2, \n",
    "                           dims=('x', 'y', 'z'), units=system_prop.units)"
   ],
   "id": "bf3ff47587a299a7",
   "outputs": [],
   "execution_count": 36
  },
  {
   "metadata": {
    "ExecuteTime": {
     "end_time": "2024-06-05T17:32:21.924947Z",
     "start_time": "2024-06-05T17:32:21.735931Z"
    }
   },
   "cell_type": "code",
   "source": [
    "system_region._mesh = df.Mesh(region=system_region.main.region, \n",
    "                              cell=system_prop.cell,\n",
    "                              subregions=system_subregions.regions)\n",
    "\n",
    "system_region._mesh.mpl.subregions(figsize=(8, 6), multiplier=1e-9,box_aspect=(10, 1, 1), show_region=True)"
   ],
   "id": "95da3843b0b84995",
   "outputs": [
    {
     "data": {
      "text/plain": [
       "<Figure size 800x600 with 1 Axes>"
      ],
      "image/png": "[encoded data removed]"
     },
     "metadata": {},
     "output_type": "display_data"
    }
   ],
   "execution_count": 37
  },
  {
   "metadata": {},
   "cell_type": "markdown",
   "source": "### Energy equations",
   "id": "a5f806c3602b8918"
  },
  {
   "metadata": {
    "ExecuteTime": {
     "end_time": "2024-06-05T17:32:21.929300Z",
     "start_time": "2024-06-05T17:32:21.925953Z"
    }
   },
   "cell_type": "code",
   "source": [
    "def h0_func(pos):\n",
    "    if pos in system_subregions.driven.region:\n",
    "        return h0\n",
    "    else:\n",
    "        return (0, 0, 0)\n",
    "    #x, y, z = pos\n",
    "    \n",
    "    #if system_subregions.driven.p1[0] <= x < system_subregions.driven.p2[0]:\n",
    "    #    return h0\n",
    "    #else:\n",
    "    #    return (0,0,0)"
   ],
   "id": "84ba7d09422f9b50",
   "outputs": [],
   "execution_count": 38
  },
  {
   "metadata": {
    "ExecuteTime": {
     "end_time": "2024-06-05T17:32:21.939153Z",
     "start_time": "2024-06-05T17:32:21.930306Z"
    }
   },
   "cell_type": "code",
   "source": "# system_subregions.driven.mesh = df.Mesh(region=system_region.main.region, cell=system_prop.cell)",
   "id": "75882884e6ba3bcd",
   "outputs": [],
   "execution_count": 39
  },
  {
   "metadata": {
    "ExecuteTime": {
     "end_time": "2024-06-05T17:32:22.004676Z",
     "start_time": "2024-06-05T17:32:21.948651Z"
    }
   },
   "cell_type": "code",
   "source": [
    "h0_field = df.Field(mesh=system_region._mesh, nvdim=3, value=h0_func)\n",
    "#region_values = {\"region1\": (1, 1, 1), \"region2\": (2, 2, 2)}\n",
    "#h0_field.update_field_values(region_values)"
   ],
   "id": "ab64f47717af930f",
   "outputs": [],
   "execution_count": 40
  },
  {
   "metadata": {
    "ExecuteTime": {
     "end_time": "2024-06-05T17:32:22.008949Z",
     "start_time": "2024-06-05T17:32:22.005686Z"
    }
   },
   "cell_type": "code",
   "source": "system.energy = mm.Zeeman(H=H0, name='static') + mm.Exchange(A=A)# + mm.DMI(D=D_ij, crystalclass='T')",
   "id": "ebfb8b7400734a99",
   "outputs": [],
   "execution_count": 41
  },
  {
   "metadata": {
    "ExecuteTime": {
     "end_time": "2024-06-05T17:32:22.088012Z",
     "start_time": "2024-06-05T17:32:22.083342Z"
    }
   },
   "cell_type": "code",
   "source": "system.energy",
   "id": "401c8f4c9e83696b",
   "outputs": [
    {
     "data": {
      "text/plain": [
       "Zeeman(H=(0.0, 0.0, 318309.8861837907)) + Exchange(A=2.1e-11)"
      ],
      "text/latex": "$-\\mu_{0}M_\\text{s} \\mathbf{m} \\cdot \\mathbf{H}_\\text{static}- A \\mathbf{m} \\cdot \\nabla^{2} \\mathbf{m}$"
     },
     "execution_count": 42,
     "metadata": {},
     "output_type": "execute_result"
    }
   ],
   "execution_count": 42
  },
  {
   "metadata": {},
   "cell_type": "markdown",
   "source": "### dynamics",
   "id": "90a395e98cb2ab82"
  },
  {
   "metadata": {
    "ExecuteTime": {
     "end_time": "2024-06-05T17:32:22.143536Z",
     "start_time": "2024-06-05T17:32:22.139448Z"
    }
   },
   "cell_type": "code",
   "source": [
    "alpha_scaled = np.linspace(alpha, alpha * 100, system_prop.numcells[0]+1)\n",
    "alpha_scaled_r = alpha_scaled[::-1]"
   ],
   "id": "fdea5cac27ca30dc",
   "outputs": [],
   "execution_count": 43
  },
  {
   "metadata": {
    "ExecuteTime": {
     "end_time": "2024-06-05T17:32:22.218576Z",
     "start_time": "2024-06-05T17:32:22.214497Z"
    }
   },
   "cell_type": "code",
   "source": [
    "def alpha_func(pos):\n",
    "    if pos in system_subregions.dampingLhs.region:\n",
    "        x_coord = int(pos[0] / system_prop.cell[0])\n",
    "        return alpha_scaled_r[x_coord]\n",
    "    elif pos in system_subregions.dampingRhs.region:\n",
    "        x_coord = int(pos[0] / system_prop.cell[0])\n",
    "        return alpha_scaled[x_coord]\n",
    "    elif pos in system_subregions.freeLhs.region or pos in system_subregions.driven.region or pos in system_subregions.freeRhs.region:\n",
    "        return alpha\n",
    "    else:\n",
    "        return alpha"
   ],
   "id": "8619400160891a53",
   "outputs": [],
   "execution_count": 44
  },
  {
   "metadata": {
    "ExecuteTime": {
     "end_time": "2024-06-05T17:32:22.436891Z",
     "start_time": "2024-06-05T17:32:22.264002Z"
    }
   },
   "cell_type": "code",
   "source": "alpha_field = df.Field(mesh=system_region._mesh, nvdim=1, value=alpha_func)",
   "id": "3903e40777b41f93",
   "outputs": [],
   "execution_count": 45
  },
  {
   "metadata": {
    "ExecuteTime": {
     "end_time": "2024-06-05T17:32:22.441173Z",
     "start_time": "2024-06-05T17:32:22.437898Z"
    }
   },
   "cell_type": "code",
   "source": "system.dynamics = mm.Precession(gamma0=gamma0) + mm.Damping(alpha=alpha_field)",
   "id": "63d864cd2ae27828",
   "outputs": [],
   "execution_count": 46
  },
  {
   "metadata": {
    "ExecuteTime": {
     "end_time": "2024-06-05T17:32:22.456597Z",
     "start_time": "2024-06-05T17:32:22.442183Z"
    }
   },
   "cell_type": "code",
   "source": "system.dynamics",
   "id": "77502738f7854353",
   "outputs": [
    {
     "data": {
      "text/plain": [
       "Precession(gamma0=230553.9588094474) + Damping(alpha=Field(Mesh(Region(pmin=[0.0, 0.0, 0.0], pmax=[6.152e-06, 4e-09, 4e-09], dims=['x', 'y', 'z'], units=['m', 'm', 'm']), n=[769, 1, 1], subregions: (Region`fixedLhs`(pmin=[0.0, 0.0, 0.0], pmax=[8e-09, 4e-09, 4e-09], dims=['x', 'y', 'z'], units=['m', 'm', 'm']), Region`dampingLhs`(pmin=[8e-09, 0.0, 0.0], pmax=[3.1200000000000004e-07, 4e-09, 4e-09], dims=['x', 'y', 'z'], units=['m', 'm', 'm']), Region`freeLhs`(pmin=[3.1200000000000004e-07, 0.0, 0.0], pmax=[2.9760000000000004e-06, 4e-09, 4e-09], dims=['x', 'y', 'z'], units=['m', 'm', 'm']), Region`driven`(pmin=[2.9760000000000004e-06, 0.0, 0.0], pmax=[3.1760000000000006e-06, 4e-09, 4e-09], dims=['x', 'y', 'z'], units=['m', 'm', 'm']), Region`freeRhs`(pmin=[3.1760000000000006e-06, 0.0, 0.0], pmax=[5.840000000000001e-06, 4e-09, 4e-09], dims=['x', 'y', 'z'], units=['m', 'm', 'm']), Region`dampingRhs`(pmin=[5.840000000000001e-06, 0.0, 0.0], pmax=[6.144000000000001e-06, 4e-09, 4e-09], dims=['x', 'y', 'z'], units=['m', 'm', 'm']), Region`fixedRhs`(pmin=[6.144e-06, 0.0, 0.0], pmax=[6.152e-06, 4e-09, 4e-09], dims=['x', 'y', 'z'], units=['m', 'm', 'm']))), nvdim=1))"
      ],
      "text/latex": "$-\\frac{\\gamma_{0}}{1 + \\alpha^{2}} \\mathbf{m} \\times \\mathbf{H}_\\text{eff}-\\frac{\\gamma_{0} \\alpha}{1 + \\alpha^{2}} \\mathbf{m} \\times (\\mathbf{m} \\times \\mathbf{H}_\\text{eff})$"
     },
     "execution_count": 47,
     "metadata": {},
     "output_type": "execute_result"
    }
   ],
   "execution_count": 47
  },
  {
   "metadata": {
    "ExecuteTime": {
     "end_time": "2024-06-05T17:32:22.461934Z",
     "start_time": "2024-06-05T17:32:22.457604Z"
    }
   },
   "cell_type": "code",
   "source": [
    "def m_init_func(pos):\n",
    "    if pos in system_subregions.fixedLhs.region or pos in system_subregions.fixedRhs.region:\n",
    "        return (0, 0, 1)\n",
    "    else:\n",
    "        return (0, 0, 1)"
   ],
   "id": "fa1eab60982f0ba7",
   "outputs": [],
   "execution_count": 48
  },
  {
   "metadata": {
    "ExecuteTime": {
     "end_time": "2024-06-05T17:32:22.482192Z",
     "start_time": "2024-06-05T17:32:22.477943Z"
    }
   },
   "cell_type": "code",
   "source": [
    "#system.m = df.Field(mesh=system_region._mesh, nvdim=3, value=mag_vals, norm=Ms)\n",
    "system.m = df.Field(mesh=system_region._mesh, nvdim=3, value=(0, 0, 1), norm=Ms)"
   ],
   "id": "ccf40bf502c7372b",
   "outputs": [],
   "execution_count": 49
  },
  {
   "metadata": {},
   "cell_type": "markdown",
   "source": "### Relaxation",
   "id": "ed8f08782bf0f89a"
  },
  {
   "metadata": {
    "ExecuteTime": {
     "end_time": "2024-06-05T17:32:28.623663Z",
     "start_time": "2024-06-05T17:32:22.564131Z"
    }
   },
   "cell_type": "code",
   "source": [
    "minD = oc.MinDriver()\n",
    "minD.drive(system,\n",
    "           fixed_subregions=['fixedLhs', 'fixedRhs'], \n",
    "           verbose=2)  # fixed_subregions=['fixedLhs', 'fixedRhs']"
   ],
   "id": "e6e98a4e5bda539b",
   "outputs": [
    {
     "name": "stdout",
     "output_type": "stream",
     "text": [
      "Running OOMMF (TclOOMMFRunner)[2024/06/05 18:32]... (6.0 s)\n"
     ]
    }
   ],
   "execution_count": 50
  },
  {
   "metadata": {},
   "cell_type": "code",
   "source": [
    "fig1, fig1_axs = plt.subplots(nrows=2, ncols=1, figsize=(8, 6))\n",
    "fig1.suptitle('Magnetisation fields after relaxation', fontsize=24)\n",
    "\n",
    "system.m.orientation.sel('y').resample((128, 2)).x.mpl.scalar(ax=fig1_axs[0], cmap='inferno', colorbar_label='m$_\\\\text{x}$ (A m$^{-1}$)')\n",
    "system.m.orientation.sel('y').resample((32, 1)).mpl.vector(ax=fig1_axs[0], \n",
    "                                               vdims=['x', 'z'],\n",
    "                                               color_field=system.m.z.sel(\"y\"),\n",
    "                                               use_color=False,\n",
    "                                               colorbar=False)\n",
    "fig1_axs[0].set(title='Top elevation (xz plane)', aspect=180)\n",
    "\n",
    "system.m.orientation.sel('z').resample((128, 2)).z.mpl.scalar(ax=fig1_axs[1], cmap='Wistia', colorbar_label='m$_\\\\text{z}$ (A m$^{-1}$)')\n",
    "system.m.orientation.sel('z').resample((32, 1)).mpl.vector(ax=fig1_axs[1], \n",
    "                                               vdims=['x', 'y'],\n",
    "                                               color='black',\n",
    "                                               use_color=False)\n",
    "\n",
    "fig1_axs[1].set(title='End elevation (xy plane)', aspect=180)\n",
    "\n",
    "\n",
    "fig1.tight_layout()"
   ],
   "id": "d58a91c66c27d264",
   "outputs": [],
   "execution_count": null
  },
  {
   "metadata": {},
   "cell_type": "code",
   "source": "#m = system.m.orientation",
   "id": "5cd2b02c75e20ef9",
   "outputs": [],
   "execution_count": null
  },
  {
   "metadata": {},
   "cell_type": "markdown",
   "source": "### Time-dependent field",
   "id": "30078b3dae2f3409"
  },
  {
   "metadata": {},
   "cell_type": "code",
   "source": [
    "system.energy += mm.Zeeman(H=h0_field, \n",
    "                           name='pump', \n",
    "                           func='sin',\n",
    "                           f=f, \n",
    "                           t0=0)"
   ],
   "id": "d583abae821e8373",
   "outputs": [],
   "execution_count": null
  },
  {
   "metadata": {},
   "cell_type": "code",
   "source": "system.energy",
   "id": "67b013d72c376b9",
   "outputs": [],
   "execution_count": null
  },
  {
   "metadata": {},
   "cell_type": "code",
   "source": "#oc.RungeKuttaEvolver._allowed_attributes",
   "id": "846e352d2a58f646",
   "outputs": [],
   "execution_count": null
  },
  {
   "metadata": {},
   "cell_type": "code",
   "source": [
    "sim_evolver = oc.RungeKuttaEvolver(method='rk4',\n",
    "                                   alpha=alpha,\n",
    "                                   gamma_G=gamma0,\n",
    "                                   min_timestep=0,\n",
    "                                   max_timestep=h,\n",
    "                                   fixed_spins=['main', 'fixedLhs', 'fixedRhs'],\n",
    "                                   do_precess=1,\n",
    "                                   allow_signed_gamma=0)"
   ],
   "id": "d313e478898796c7",
   "outputs": [],
   "execution_count": null
  },
  {
   "metadata": {},
   "cell_type": "code",
   "source": "#oc.TimeDriver._allowed_attributes",
   "id": "d3cd76148e6b3842",
   "outputs": [],
   "execution_count": null
  },
  {
   "metadata": {},
   "cell_type": "code",
   "source": "td = oc.TimeDriver(name='stage2_timedriver')",
   "id": "924ef5b1fc0b810",
   "outputs": [],
   "execution_count": null
  },
  {
   "metadata": {},
   "cell_type": "code",
   "source": [
    "td.drive(system, \n",
    "         t=5e-9, n=1000, \n",
    "         dirname='D:/Data/2024-06-05/Simulation_Data/',\n",
    "         fixed_subregions=['fixedLhs', 'fixedRhs'], \n",
    "         verbose=2)"
   ],
   "id": "305cfa7ccad88ffe",
   "outputs": [],
   "execution_count": null
  },
  {
   "metadata": {},
   "cell_type": "code",
   "source": [
    "fig2, fig2_axs = plt.subplots(nrows=2, ncols=1, figsize=(8, 6))\n",
    "fig2.suptitle('Magnetisation fields after drive', fontsize=24)\n",
    "\n",
    "system.m.orientation.sel('y').resample((512, 2)).x.mpl.scalar(ax=fig2_axs[0], cmap='inferno', colorbar_label='m$_\\\\text{x}$ (normalised)')\n",
    "system.m.orientation.sel('y').resample((32, 1)).mpl.vector(ax=fig2_axs[0],\n",
    "                                               #color_field=system.m.orientation.y.sel(\"y\"),\n",
    "                                               color='black', alpha=0,\n",
    "                                               use_color=False,\n",
    "                                               colorbar=False)\n",
    "fig2_axs[0].set(title='Top elevation (xz plane)', aspect=240)\n",
    "\n",
    "system.m.orientation.sel('z').resample((256, 2)).z.mpl.scalar(ax=fig2_axs[1], cmap='Wistia', colorbar_label='m$_\\\\text{z}$ (normalised)')\n",
    "system.m.orientation.sel('z').resample((32, 1)).mpl.vector(ax=fig2_axs[1],\n",
    "                                               color='black',\n",
    "                                               use_color=False)\n",
    "\n",
    "fig2_axs[1].set(title='End elevation (xy plane)', aspect=240)\n",
    "\n",
    "\n",
    "fig2.tight_layout()"
   ],
   "id": "189ba85e67dfa4bd",
   "outputs": [],
   "execution_count": null
  },
  {
   "metadata": {},
   "cell_type": "code",
   "source": "my_data = md.Drive(name=system.name, number=system.drive_number-1)  # -1 is to plot latest drive",
   "id": "8f7f586c74934046",
   "outputs": [],
   "execution_count": null
  },
  {
   "metadata": {},
   "cell_type": "code",
   "source": [
    "m_vals1 = np.empty((my_data.n, 3))\n",
    "m_vals2 = np.empty((my_data.n, 3))\n",
    "\n",
    "for i in range(0, my_data.n):\n",
    "    m_vals1[i] = my_data[i].to_xarray()[160, 0, 0]\n",
    "    m_vals2[i] = my_data[i].to_xarray()[600, 0, 0]"
   ],
   "id": "e9fa4b8f602d6fa2",
   "outputs": [],
   "execution_count": null
  },
  {
   "metadata": {},
   "cell_type": "code",
   "source": [
    "fig3, fig3_axs = plt.subplots(nrows=2, ncols=1, figsize=(8, 6), sharex=True)\n",
    "fig3.suptitle(f'Magnetisation fields at different positions', fontsize=24)\n",
    "\n",
    "fig3_axs[0].plot(my_data.table.data['t'].to_numpy(),\n",
    "         m_vals1[:, 0])\n",
    "fig3_axs[0].set(title=f'Cell: {160 * system_prop.cell[0]: 2.2e}', ylabel='m$_\\\\text{x}$ (A m$^{-1}$)')\n",
    "\n",
    "fig3_axs[1].plot(my_data.table.data['t'].to_numpy(),\n",
    "         m_vals2[:, 0])\n",
    "fig3_axs[1].set(title=f'Cell: {600 * system_prop.cell[0]: 2.2e}', \n",
    "                xlabel='Time, t (s)', ylabel='m$_\\\\text{x}$ (A m$^{-1}$)')\n",
    "plt.show()"
   ],
   "id": "221b0ae844b38cd2",
   "outputs": [],
   "execution_count": null
  },
  {
   "metadata": {},
   "cell_type": "code",
   "source": [
    "def plt_mag(t_val):\n",
    "    fig4, fig4_axs = plt.subplots(nrows=2, ncols=1, figsize=(8, 6))\n",
    "    fig4.suptitle('Magnetisation fields after drive', fontsize=24)\n",
    "    \n",
    "    my_data[t_val].orientation.sel('y').resample((256, 2)).x.mpl.scalar(ax=fig4_axs[0], cmap='inferno', colorbar_label='m$_\\\\text{x}$ (normalised)')\n",
    "    my_data[t_val].orientation.sel('y').resample((32, 1)).mpl.vector(ax=fig4_axs[0],\n",
    "                                                   #color_field=system.m.orientation.y.sel(\"y\"),\n",
    "                                                   color='black', alpha=0,\n",
    "                                                   use_color=False,\n",
    "                                                   colorbar=False)\n",
    "    fig4_axs[0].set(title='Top elevation (xz plane)', aspect=180)\n",
    "    \n",
    "    my_data[t_val].orientation.sel('z').resample((256, 2)).z.mpl.scalar(ax=fig4_axs[1], cmap='Wistia', colorbar_label='m$_\\\\text{z}$ (normalised)')\n",
    "    my_data[t_val].orientation.sel('z').resample((32, 1)).mpl.vector(ax=fig4_axs[1],\n",
    "                                                   color='black',\n",
    "                                                   use_color=False)\n",
    "    \n",
    "    fig4_axs[1].set(title='End elevation (xy plane)', aspect=180)\n",
    "    \n",
    "    \n",
    "    fig4.tight_layout()"
   ],
   "id": "9ef42b11dc97cc7d",
   "outputs": [],
   "execution_count": null
  },
  {
   "metadata": {},
   "cell_type": "code",
   "source": "plt_mag(90)",
   "id": "9e44d7e2e2b6845",
   "outputs": [],
   "execution_count": null
  },
  {
   "metadata": {},
   "cell_type": "code",
   "source": "my_data.table.data['t'].to_numpy()",
   "id": "ee8a3e831288f5f2",
   "outputs": [],
   "execution_count": null
  },
  {
   "metadata": {},
   "cell_type": "code",
   "source": "plt.plot()",
   "id": "5bbfc0c0b0101718",
   "outputs": [],
   "execution_count": null
  },
  {
   "metadata": {},
   "cell_type": "code",
   "source": "#system.m",
   "id": "5f56fe2eb3a34d67",
   "outputs": [],
   "execution_count": null
  },
  {
   "metadata": {},
   "cell_type": "code",
   "source": "system.table.data.plot('t', 'mx', xlabel='time, t (ns)', ylabel='avg. m$_\\\\text{x}$ (A m$^{-1}$)')",
   "id": "1afdd0dc25a411b9",
   "outputs": [],
   "execution_count": null
  },
  {
   "metadata": {},
   "cell_type": "code",
   "source": "position = (1024e-9, 0, 0)",
   "id": "607fe10849150ed6",
   "outputs": [],
   "execution_count": null
  },
  {
   "metadata": {},
   "cell_type": "code",
   "source": "system.m.orientation((position[0], position[1], position[2]))",
   "id": "337e86773dced13e",
   "outputs": [],
   "execution_count": null
  },
  {
   "metadata": {},
   "cell_type": "code",
   "source": "import os",
   "id": "44f68d30fddd60c9",
   "outputs": [],
   "execution_count": null
  },
  {
   "metadata": {},
   "cell_type": "code",
   "source": [
    "# Define the directory containing your .omf files\n",
    "omf_dir = '/Users/cameronmceleney/PycharmProjects/Ubermag/include/breaking_test/drive-14'\n",
    "\n",
    "# List all .omf files in the directory\n",
    "omf_files = sorted([f for f in os.listdir(omf_dir) if f.endswith('.omf') and f != 'm0.omf'])"
   ],
   "id": "a0a91ee7feaa69ca",
   "outputs": [],
   "execution_count": null
  },
  {
   "metadata": {},
   "cell_type": "code",
   "source": "times = system.table.data['t']",
   "id": "e3d47a7f3fdb8f4f",
   "outputs": [],
   "execution_count": null
  },
  {
   "metadata": {},
   "cell_type": "code",
   "source": [
    "# Initialize lists to store magnetization components\n",
    "times = []\n",
    "mx_values = []\n",
    "my_values = []\n",
    "mz_values = []\n",
    "\n",
    "# Read each .omf file and extract the magnetization at the specified position\n",
    "for omf_file in omf_files:\n",
    "    # Read the field from the .omf file\n",
    "    field = df.Field.from_file(os.path.join(omf_dir, omf_file))\n",
    "    exit(0)\n",
    "    \n",
    "    # Extract the magnetization components at the specified position\n",
    "    m_at_pos = field(position)\n",
    "    mx_values.append(m_at_pos[0])\n",
    "    my_values.append(m_at_pos[1])\n",
    "    mz_values.append(m_at_pos[2])\n",
    "    \n",
    "    # Extract the time from the filename (assuming filenames have time information)\n",
    "    # Example: \"filename_t=0.omf\" -> time = 0\n",
    "    time = float(omf_file.split('t=')[1].split('.omf')[0])\n",
    "    times.append(time)"
   ],
   "id": "44ff384111fc24a6",
   "outputs": [],
   "execution_count": null
  },
  {
   "metadata": {},
   "cell_type": "code",
   "source": "plt.plot(times, mx_values)",
   "id": "404b0ffc947cb535",
   "outputs": [],
   "execution_count": null
  },
  {
   "metadata": {},
   "cell_type": "code",
   "source": [
    "# Plot the magnetization components over time\n",
    "plt.figure(figsize=(8, 6))\n",
    "plt.plot(times, mx_values, label='m$_\\\\text{x}$ (normalized)')\n",
    "plt.plot(times, my_values, label='m$_\\\\text{y}$ (normalized)')\n",
    "#plt.plot(times, mz_values, label='m$_\\\\text{z}$ (normalized)')\n",
    "plt.xlabel('Time (s)')\n",
    "plt.ylabel('Magnetization (normalized)')\n",
    "plt.title('Magnetization components at position {} over time'.format(position))\n",
    "plt.legend()\n",
    "plt.grid()\n",
    "plt.show()"
   ],
   "id": "b3a6e8fc6b51cab6",
   "outputs": [],
   "execution_count": null
  },
  {
   "metadata": {},
   "cell_type": "code",
   "source": [
    "fig2, (fig2_ax1, fig2_ax2, fig2_ax3) = plt.subplots(nrows=3, ncols=1, figsize=(20, 5))\n",
    "fig2.suptitle('Magnetisation fields after relaxation (y-plane)', fontsize=24)\n",
    "\n",
    "# plot vectors on grid of 20 x 5 over the numerical resulotion\n",
    "system.m.x.sel(\"y\").mpl(ax=fig2_ax1, scalar_kw={\"colorbar_label\": \"m$_\\\\text{x}$ (A m$^{-1}$)\"})\n",
    "fig2_ax1.set(aspect=200)\n",
    "\n",
    "system.m.y.sel('y').mpl(ax=fig2_ax2, scalar_kw={\"colorbar_label\": \"m$_\\\\text{y}$ (A m$^{-1}$)\"})\n",
    "fig2_ax2.set(aspect=200)\n",
    "\n",
    "system.m.z.sel('y').mpl(ax=fig2_ax3, scalar_kw={\"colorbar_label\": \"m$_\\\\text{z}$ (A m$^{-1}$)\"})\n",
    "fig2_ax3.set(aspect=200)"
   ],
   "id": "3328835a8ae6fa0a",
   "outputs": [],
   "execution_count": null
  },
  {
   "metadata": {},
   "cell_type": "code",
   "source": "data = md.Data(system.name)",
   "id": "7250a5aec1f978be",
   "outputs": [],
   "execution_count": null
  },
  {
   "metadata": {},
   "cell_type": "code",
   "source": "data.info",
   "id": "2bf010a8534be544",
   "outputs": [],
   "execution_count": null
  },
  {
   "metadata": {},
   "cell_type": "code",
   "source": [
    "# Use only the last time drive\n",
    "time_drive = data[1]\n",
    "time_drive.info\n",
    "print(time_drive.calculator_script)"
   ],
   "id": "fedd918d821c01c8",
   "outputs": [],
   "execution_count": null
  },
  {
   "metadata": {},
   "cell_type": "code",
   "source": [
    "#list(time_drive)\n",
    "#time_drive.to_xarray()"
   ],
   "id": "ada792f4002e99ec",
   "outputs": [],
   "execution_count": null
  },
  {
   "metadata": {},
   "cell_type": "code",
   "source": [
    "fig3, fig3_axs = plt.subplots(nrows=1, ncols=1, figsize=(8, 6))\n",
    "time_drive[700].sel('y').mpl(ax=fig3_axs, vector_kw={'color':'white', 'alpha':0})\n",
    "fig3_axs.set(aspect=60)"
   ],
   "id": "baf7e81928db17e1",
   "outputs": [],
   "execution_count": null
  },
  {
   "metadata": {},
   "cell_type": "code",
   "source": "data_oi = []",
   "id": "54a87bf6333dc9d7",
   "outputs": [],
   "execution_count": null
  },
  {
   "metadata": {},
   "cell_type": "code",
   "source": [
    "for i in range(0, 4000):\n",
    "    data_oi.append(time_drive[])"
   ],
   "id": "febc7c86ca8926f1",
   "outputs": [],
   "execution_count": null
  },
  {
   "metadata": {},
   "cell_type": "code",
   "source": [
    "\n",
    "time_drive.hv(\n",
    "    kdims=[\"x\", \"y\"],\n",
    "    scalar_kw={\"clim\": (-Ms, Ms), \"cmap\": \"coolwarm\"},\n",
    ")"
   ],
   "id": "c3f815439001ecfb",
   "outputs": [],
   "execution_count": null
  }
 ],
 "metadata": {
  "kernelspec": {
   "display_name": "Python 3",
   "language": "python",
   "name": "python3"
  },
  "language_info": {
   "codemirror_mode": {
    "name": "ipython",
    "version": 2
   },
   "file_extension": ".py",
   "mimetype": "text/x-python",
   "name": "python",
   "nbconvert_exporter": "python",
   "pygments_lexer": "ipython2",
   "version": "2.7.6"
  }
 },
 "nbformat": 4,
 "nbformat_minor": 5
}
