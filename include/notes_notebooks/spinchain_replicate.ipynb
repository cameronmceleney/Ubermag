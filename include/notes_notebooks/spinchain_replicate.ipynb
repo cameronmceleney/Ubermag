{
 "cells": [
  {
   "cell_type": "markdown",
   "id": "8210c16dd912361d",
   "metadata": {},
   "source": [
    "# Spin Chain Replication"
   ]
  },
  {
   "cell_type": "markdown",
   "id": "d5c0150892514944",
   "metadata": {},
   "source": [
    "## 1. Problem specification\n",
    "\n",
    "The sample is a one-dimensional spin chain with dimensions: \n",
    "- length $l_{x} = 60\\text{nm}$,\n",
    "- width $l_{y} = 4\\text{nm}$, and\n",
    "- depth $l_{z} = 4\\text{nm}$.\n",
    "\n",
    "The material parameters are YIG-like:\n",
    "- exchange energy constant, A = $1.6\\times10^{-11}\\text{J/m}$,\n",
    "- saturation magnetisation, $M_{s} = 800\\text{kA/m}$,\n",
    "- Dzyaloshinskii-Moriya interaction constant, $D = 1.5\\text{mJ/m}^{2}$,\n",
    "- Gilbert damping, $\\alpha = 1\\times10^{-4}$, and\n",
    "- gyromagnetic ratio, $\\gamma = 29.2 \\text{GHz/rad T}$.\n",
    "\n",
    "The magnetisation dynamics are governed by the Landau-Lifshitz-Gilbert equation:\n",
    "\\begin{equation}\n",
    "\\frac{d\\mathbf{m}}{dt} = -\\gamma_{0} (\\mathbf{m} \\times \\mathbf{H}_{\\text{eff}}) + \\alpha (\\mathbf{m} \\times \\frac{d\\mathbf{m}}{dt}),\n",
    "\\end{equation}\n",
    "where $\\gamma_{0} = \\gamma \\mu_{0}$, $\\mu_{0}$ is the magnetic constant, and $\\mathbf{H}_{\\text{eff}}$ is the effective field.\n",
    "\n",
    "The effective field is given by:\n",
    "\\begin{equation}\n",
    "\\mathbf{H}_{\\text{eff}} = -\\frac{1}{\\mu_{0} M_{s}} \\frac{\\delta W}{\\delta \\mathbf{m}},\n",
    "\\end{equation}\n",
    "where $W$ is the total energy of the system.\n",
    "\n",
    "In this problem, the system is set at a known magnetisation state which is assumed to be an equilibrium state. The system is then perturbed by a time-dependent Zeeman magnetic field $h_{x,t}$ in the $\\hat{x}$ direction. The boundaries of the problem are handled by fixing the magnetisation of the first and last spins in the chain.\n"
   ]
  },
  {
   "cell_type": "markdown",
   "id": "7bf4943eac7f35c0",
   "metadata": {},
   "source": [
    "## 2. Python setup"
   ]
  },
  {
   "cell_type": "markdown",
   "id": "77e7bc6593d4a2d4",
   "metadata": {},
   "source": [
    "### 2.1. General Tools\n",
    "\n",
    "Once a cell has been run any defined variables are stored in memory and can be accessed by any other cell. This is useful for defining constants, functions, and other objects that are used throughout the notebook. However, it may be desirable to clear all variables from memory and start from scratch. This can be done by running the following cell:"
   ]
  },
  {
   "cell_type": "code",
   "id": "3442e65e5c62a051",
   "metadata": {
    "ExecuteTime": {
     "end_time": "2024-06-03T11:53:50.044828Z",
     "start_time": "2024-06-03T11:53:49.942933Z"
    }
   },
   "source": "%reset -f",
   "outputs": [],
   "execution_count": 13
  },
  {
   "cell_type": "markdown",
   "id": "184d340f-8e09-4a5c-b7af-dfe06d194695",
   "metadata": {},
   "source": [
    "### 2.2. Python setup"
   ]
  },
  {
   "cell_type": "markdown",
   "id": "1420b37b0b13ca60",
   "metadata": {},
   "source": [
    "#### 2.2.1. Common Python modules\n",
    "\n",
    "Place common Python modules here."
   ]
  },
  {
   "cell_type": "code",
   "id": "bbca7f0bcf972a64",
   "metadata": {
    "ExecuteTime": {
     "end_time": "2024-06-03T11:53:50.121630Z",
     "start_time": "2024-06-03T11:53:50.119507Z"
    }
   },
   "source": [
    "import matplotlib.pyplot as plt\n",
    "import numpy as np"
   ],
   "outputs": [],
   "execution_count": 14
  },
  {
   "cell_type": "markdown",
   "id": "30c1586536850806",
   "metadata": {},
   "source": [
    "#### 2.2.2. Ubermag modules\n",
    "\n",
    "Place Ubermag modules here."
   ]
  },
  {
   "cell_type": "code",
   "id": "f72d4e8a-64b3-42ec-8ad7-a0b1af06aef0",
   "metadata": {
    "ExecuteTime": {
     "end_time": "2024-06-03T11:53:50.162977Z",
     "start_time": "2024-06-03T11:53:50.161174Z"
    }
   },
   "source": [
    "import discretisedfield as df\n",
    "import micromagneticmodel as mm\n",
    "import micromagneticdata as md"
   ],
   "outputs": [],
   "execution_count": 15
  },
  {
   "cell_type": "markdown",
   "id": "65ff421bdd834e46",
   "metadata": {},
   "source": [
    "#### 2.2.3. Ubermag calculators\n",
    "\n",
    "Place Ubermag calculators here."
   ]
  },
  {
   "cell_type": "code",
   "id": "8bfcbe428b2bf6e",
   "metadata": {
    "ExecuteTime": {
     "end_time": "2024-06-03T11:53:50.227643Z",
     "start_time": "2024-06-03T11:53:50.226132Z"
    }
   },
   "source": [
    "import oommfc as oc"
   ],
   "outputs": [],
   "execution_count": 16
  },
  {
   "cell_type": "code",
   "id": "f6385334a353cfea",
   "metadata": {
    "ExecuteTime": {
     "end_time": "2024-06-03T11:53:50.249172Z",
     "start_time": "2024-06-03T11:53:50.247847Z"
    }
   },
   "source": [
    "# OOMMF test: Check if the runner is active\n",
    "# oc.runner.runner.status  "
   ],
   "outputs": [],
   "execution_count": 17
  },
  {
   "metadata": {},
   "cell_type": "markdown",
   "source": "#### 2.2.4. Other modules",
   "id": "9647ec58741e4888"
  },
  {
   "metadata": {
    "ExecuteTime": {
     "end_time": "2024-06-03T11:53:50.272790Z",
     "start_time": "2024-06-03T11:53:50.271378Z"
    }
   },
   "cell_type": "code",
   "source": "from include.custom_helper_files.custom_system_properties import SystemProperties, SubRegion, MyRegions",
   "id": "4c4a8d8ea85d6252",
   "outputs": [],
   "execution_count": 18
  },
  {
   "cell_type": "markdown",
   "id": "864087307a3a5a73",
   "metadata": {},
   "source": [
    "## (Aside) Simulation parameters\n",
    "\n",
    "Normally there would be a section here, of code, that would allow the user to input parameters for the simulation. However, for the purposes of this notebook, we will hard-code the parameters into the notebook as the are required."
   ]
  },
  {
   "cell_type": "markdown",
   "id": "321a06b0-5b00-432d-9f04-cab7b37795d8",
   "metadata": {},
   "source": [
    "## 3. Define our system (spin chain)\n",
    "\n",
    "Each micromagnetic simulation is construed as a model which a micromagnetic calculator is then able to interpret and simulate. In Übermag each model is uniquely represented as a container called `mm.System`. In order to populate the container we need to provide (straight from the documentation) the:\n",
    "\n",
    "1. energy equation;\n",
    "2. dynamics equation\n",
    "3. state of initial magnetisation (the \"field\")\n",
    "4. temperature of the system;\n",
    "5. name of the system.\n",
    "\n",
    "With Ubermag there is a 'chicken-and-egg' with mesh definitions, and the first three items on our list. It is entirely possible to define a mesh *between* #2 and #3. Doing this keeps the mesh information close to the `system.m = df.Field()` statement which is useful when the key changes between simulation run are to do with differences in *spatial* dimensions and initial magnetisations states. I find this to be less readable, and it often requires defining the same properties in your own local variables instead of directly in Ubermag objects.\n",
    "\n",
    "The other option is to define the mesh *before* #1. This separates the mesh from `system.m = df.Field()`, and works best when the spatial properties of the system are constant across multiple simulations. The advantage of this approach is that subregions, like two driving regions and a propagation region, can be provided an internal Ubermag mesh-name which you can pass to your energy/dynamics equations as well as your spatially- and/or time-dependent fields.\n",
    "\n",
    "We'll be taking the latter approach. So, in this section we will work through each `mm.System` parameter in turn.\n",
    "\n",
    "Note: The name of the system, and all other `name` `**kwargs` for that matter, must not container underscores `_` as this leads to errors within the Übermag framework."
   ]
  },
  {
   "cell_type": "markdown",
   "id": "5c15b3b6e89ace2e",
   "metadata": {},
   "source": [
    "### 3.1. System name"
   ]
  },
  {
   "cell_type": "code",
   "id": "48fa1896-8c97-4117-8114-264bc0b5c837",
   "metadata": {
    "ExecuteTime": {
     "end_time": "2024-06-03T11:53:50.339349Z",
     "start_time": "2024-06-03T11:53:50.337673Z"
    }
   },
   "source": [
    "system_spinchain = mm.System(name='PrimarySpinchain')"
   ],
   "outputs": [],
   "execution_count": 19
  },
  {
   "cell_type": "markdown",
   "id": "455e3026723111c3",
   "metadata": {},
   "source": [
    "### 3.2. Mesh configuration"
   ]
  },
  {
   "cell_type": "markdown",
   "id": "ff8fd34ebc3c464",
   "metadata": {},
   "source": [
    "#### 3.2.1. Main region\n",
    "\n",
    "[Documentation page](https://ubermag.github.io/api/_autosummary/discretisedfield.Region.html#discretisedfield.Region).\n",
    "\n",
    "Each mesh (seen in §3.2.2) requires is composed of at least one region; implicitly through default actions or explicitly as we shall do here in §3.4.1. If a simple system only has a single region then it is common to define the region (and mesh) alongside handling the energy, dynamics, and magnetisation field components, in a single code block.\n",
    "\n",
    "Note: I disliked how Ubermag handled storing these value, so I created my own dataclass `SystemProperties` to store these values."
   ]
  },
  {
   "metadata": {
    "ExecuteTime": {
     "end_time": "2024-06-03T11:54:02.554570Z",
     "start_time": "2024-06-03T11:54:02.553110Z"
    }
   },
   "cell_type": "code",
   "source": [
    "# Geometry\n",
    "spinchains_props = SystemProperties(lx=1002, ly=2, lz=2)"
   ],
   "id": "c0d1a2bd1136bebe",
   "outputs": [],
   "execution_count": 24
  },
  {
   "cell_type": "markdown",
   "id": "39c88aca6bb00354",
   "metadata": {},
   "source": [
    "In Ubermag, all finite-difference methods can only be applied to cuboidal meshes. To define such a mesh all Ubermag requires are two diagonally opposite positions $p1$ and $p2$:"
   ]
  },
  {
   "cell_type": "code",
   "id": "9ca43985008bc2d3",
   "metadata": {
    "ExecuteTime": {
     "end_time": "2024-06-03T11:54:03.047114Z",
     "start_time": "2024-06-03T11:54:03.045107Z"
    }
   },
   "source": [
    "# Starting point, p1\n",
    "spinchains_props.p1 = (0, 0, 0)\n",
    "\n",
    "# End point, p2, which is diagonally opposite p1\n",
    "spinchains_props.p2 = (spinchains_props.lx, spinchains_props.ly, spinchains_props.lz)"
   ],
   "outputs": [],
   "execution_count": 25
  },
  {
   "metadata": {
    "ExecuteTime": {
     "end_time": "2024-06-03T11:54:03.910565Z",
     "start_time": "2024-06-03T11:54:03.908829Z"
    }
   },
   "cell_type": "code",
   "source": [
    "# Mesh discretisation cell size\n",
    "spinchains_props.cell = (4e-9, 2e-9, 2e-9)  # (m, m, m)\n",
    "spinchains_props.update_lengths()\n",
    "\n",
    "# Number of discretised cells in each dimension\n",
    "spinchains_props.update_numcells()"
   ],
   "id": "39140c639d53771d",
   "outputs": [],
   "execution_count": 26
  },
  {
   "metadata": {
    "ExecuteTime": {
     "end_time": "2024-06-03T11:54:04.822364Z",
     "start_time": "2024-06-03T11:54:04.819994Z"
    }
   },
   "cell_type": "code",
   "source": "spinchains_props",
   "id": "efc776130c472541",
   "outputs": [
    {
     "data": {
      "text/plain": [
       "SystemProperties(lx=4.008e-06, ly=4e-09, lz=4e-09, cell=(4e-09, 2e-09, 2e-09), p1=(0, 0, 0), units=('m', 'm', 'm'), p2=(4.008e-06, 4e-09, 4e-09), numcells=(1002, 2, 2))"
      ]
     },
     "execution_count": 27,
     "metadata": {},
     "output_type": "execute_result"
    }
   ],
   "execution_count": 27
  },
  {
   "cell_type": "markdown",
   "id": "6aa65fdfc196a15f",
   "metadata": {},
   "source": [
    "\n",
    "We can now define the main region via the `df.Region` class`. Two optional parameters have been included:\n",
    "- `dims` which is a list of the region's dimensions that are used for labelling on plots, and\n",
    "- `units` which is a list of the region's units.\n",
    "\n",
    "These default to `['x', 'y', 'z']` and `['m', 'm', 'm']` respectively for a 3D region. If a 2D region is used then the `dims` list should be `['x', 'y']` and the `units` list should be `['m', 'm']` *etc*."
   ]
  },
  {
   "cell_type": "code",
   "id": "62bcbcd69e5367a9",
   "metadata": {
    "ExecuteTime": {
     "end_time": "2024-06-03T11:54:29.943447Z",
     "start_time": "2024-06-03T11:54:29.941886Z"
    }
   },
   "source": "spinchain_regions = MyRegions(system_spinchain.name)",
   "outputs": [],
   "execution_count": 28
  },
  {
   "metadata": {
    "ExecuteTime": {
     "end_time": "2024-06-03T11:55:00.989044Z",
     "start_time": "2024-06-03T11:55:00.987211Z"
    }
   },
   "cell_type": "code",
   "source": "spinchain_regions.region1(p1=spinchains_props.p1, p2=spinchains_props.p2, dims=('x', 'y', 'z'), units=('m', 'm', 'm'));",
   "id": "481c3535327d2c4a",
   "outputs": [],
   "execution_count": 34
  },
  {
   "metadata": {
    "ExecuteTime": {
     "end_time": "2024-06-03T11:54:36.464586Z",
     "start_time": "2024-06-03T11:54:36.460299Z"
    }
   },
   "cell_type": "code",
   "source": "spinchain_regions.regions",
   "id": "78862075552bdbbe",
   "outputs": [
    {
     "data": {
      "text/plain": [
       "{'region1': Region(pmin=[0.0, 0.0, 0.0], pmax=[4.008e-06, 4e-09, 4e-09], dims=['x', 'y', 'z'], units=['m', 'm', 'm'])}"
      ]
     },
     "execution_count": 30,
     "metadata": {},
     "output_type": "execute_result"
    }
   ],
   "execution_count": 30
  },
  {
   "cell_type": "markdown",
   "id": "b9fdc3d8c6d24bf9",
   "metadata": {},
   "source": [
    "#### 3.2.2. Subregions\n",
    "\n",
    "[Example page](https://ubermag.github.io/examples/notebooks/fixed-subregions.html).\n",
    "\n",
    "A region can be split into unique subdivisions called `subregions`. This approach greatly simplifies generating multilayer structures as one doesn't need to treat each layer as an independent entity or system; reducing boilerplate code. To create our subregions we define a dictionary of `df.Region` objects. \n",
    "\n",
    "I find it easiest to define the cell size first (which is required by `df.Mesh`) because this lets us scale subregions in a more intuitive manner by generating the number of cells in each dimension.\n",
    "\n",
    "Note: Ensure that the subregions remain within the bounds of the parent region. This can be checked through the `df.Region.__contains__()` method.\n",
    "\n",
    "For a 1D spin chain where the fixed subregions are at both ends of the spin chain and are one cell size in length, we can define the subregions by:\n",
    "- by providing the `p1` and `p2` coordinates for each subregion, or\n",
    "- by providing the `p2` coordinate for each subregion knowing that the `p1` coordinate is the coordinate of the preceding subregion.\n",
    "\n",
    "I've done the latter here while using `system_props.cell` and `system_props.numcells` as required to ensure that all subregions span the entire $\\hat{y}$ and $\\hat{z}$ dimensions.\n",
    "\n",
    "How Ubermag's examples encourage you to define subregions really bothers me as it leads to huge dictionaries that are hard to read and manage. I've created the classes below to make this slightly easier. You can't change subregions once a mesh is defined, so this is essentially my subregions container"
   ]
  },
  {
   "cell_type": "code",
   "id": "65d641ee3e848a88",
   "metadata": {
    "ExecuteTime": {
     "end_time": "2024-06-03T11:54:40.091340Z",
     "start_time": "2024-06-03T11:54:40.089500Z"
    }
   },
   "source": "spinchain_subregions = MyRegions(system_spinchain.name)",
   "outputs": [],
   "execution_count": 31
  },
  {
   "cell_type": "markdown",
   "id": "3ea5d51592e25f9a",
   "metadata": {},
   "source": [
    "We can now define the subregions, ensuring that each subregion is within the bounds of the parent region and has a unique name."
   ]
  },
  {
   "metadata": {
    "ExecuteTime": {
     "end_time": "2024-06-03T11:56:43.998158Z",
     "start_time": "2024-06-03T11:56:43.995332Z"
    }
   },
   "cell_type": "code",
   "source": [
    "%%capture\n",
    "spinchain_subregions.fixedLhs(p1=(0, 0, 0), p2=(1, 2, 2), cellsize=spinchains_props.cell)\n",
    "spinchain_subregions.driven(p1=(1, 0, 0), p2=(21, 2, 2), cellsize=spinchains_props.cell)\n",
    "spinchain_subregions.free(p1=(21, 0, 0), p2=(1001, 2, 2), cellsize=spinchains_props.cell)\n",
    "spinchain_subregions.fixedRhs(p1=(1001, 0, 0), p2=(1002, 2, 2), cellsize=spinchains_props.cell);"
   ],
   "id": "e1b201515ecfd75b",
   "outputs": [],
   "execution_count": 43
  },
  {
   "cell_type": "markdown",
   "id": "8553332a7305f89a",
   "metadata": {},
   "source": [
    "#### 3.2.3. Mesh\n",
    "\n",
    "[Documentation page](https://ubermag.github.io/api/_autosummary/discretisedfield.Mesh.html#discretisedfield.Mesh).\n",
    "\n",
    "Now that we have bounded a region in space we can discretise it. This results in a mesh which is defined by the `df.Mesh` class which requires a region and a cell size. The region can be generated internally by `df.Mesh` through the provision of the same `p1` and `p2` arguments as `df.Region`. However, it is best practice to define the region explicitly, as we have done in §3.4.1., to improve code readability and maintainability.\n",
    "\n",
    "There are two mutually-exclusive ways to discretise a region and create a mesh:\n",
    "- pass `n` to `df.Mesh` which is a tuple of the number of discretisation cells in each dimension, and\n",
    "- pass `cell` to `df.Mesh` which is a tuple of the length of each discretisation cell in each dimension."
   ]
  },
  {
   "cell_type": "code",
   "id": "3814fa0646b692c7",
   "metadata": {
    "ExecuteTime": {
     "end_time": "2024-06-03T11:56:45.581741Z",
     "start_time": "2024-06-03T11:56:45.578036Z"
    }
   },
   "source": [
    "spinchain_mesh = df.Mesh(region=spinchain_regions.region1.region,\n",
    "                         cell=spinchains_props.cell,\n",
    "                         subregions=spinchain_subregions.regions)#,\n",
    "                         #bc='x')"
   ],
   "outputs": [],
   "execution_count": 44
  },
  {
   "cell_type": "markdown",
   "id": "3d6befe35bf47ed5",
   "metadata": {},
   "source": [
    "We can print out the mesh to check how many total cells have been discretised as this will impact the computational cost of the simulation. "
   ]
  },
  {
   "cell_type": "code",
   "id": "6b3dafe84ae80a0f",
   "metadata": {
    "ExecuteTime": {
     "end_time": "2024-06-03T11:56:47.313139Z",
     "start_time": "2024-06-03T11:56:47.310953Z"
    }
   },
   "source": [
    "print(f'Spinchain mesh (Num. discretised cells)\\n'\n",
    "      f'----------------\\n'\n",
    "      f' - X: {spinchain_mesh.n[0]}\\n'\n",
    "      f' - Y: {spinchain_mesh.n[1]}\\n'\n",
    "      f' - Z: {spinchain_mesh.n[2]}\\n'\n",
    "      f'----------------\\n'\n",
    "      f' - Total: {len(spinchain_mesh)}\\n')"
   ],
   "outputs": [
    {
     "name": "stdout",
     "output_type": "stream",
     "text": [
      "Spinchain mesh (Num. discretised cells)\n",
      "----------------\n",
      " - X: 1002\n",
      " - Y: 2\n",
      " - Z: 2\n",
      "----------------\n",
      " - Total: 4008\n",
      "\n"
     ]
    }
   ],
   "execution_count": 45
  },
  {
   "cell_type": "markdown",
   "id": "3ba9691d3f8dbb95",
   "metadata": {},
   "source": [
    "It's also a good idea to plot the mesh to ensure that the discretisation has been done correctly - no subregions are overlapping and the full region is defined as intended."
   ]
  },
  {
   "cell_type": "code",
   "id": "e5c5a0bdc239ab84",
   "metadata": {
    "ExecuteTime": {
     "end_time": "2024-06-03T11:56:48.952479Z",
     "start_time": "2024-06-03T11:56:48.871659Z"
    }
   },
   "source": "spinchain_mesh.mpl.subregions(multiplier=1e-9,box_aspect=(10, 3, 3), show_region=True)",
   "outputs": [
    {
     "data": {
      "text/plain": [
       "<Figure size 800x600 with 1 Axes>"
      ],
      "image/png": "[encoded data removed]"
     },
     "metadata": {},
     "output_type": "display_data"
    }
   ],
   "execution_count": 46
  },
  {
   "cell_type": "markdown",
   "id": "6e3a5bf4744da92f",
   "metadata": {},
   "source": [
    "### 3.3. Energy equation\n",
    "\n",
    "[Documentation page](https://ubermag.github.io/api/_autosummary/micromagneticmodel.Energy.html#micromagneticmodel.Energy)\n",
    "\n",
    "The *energy terms* can be stored either a container class `mm.Energy(terms=None)`, or directly in a system `mm.System.energy(terms=myEnergyTerms)`. Both container options are fundamentally composed of children and siblings that inherit their properties from the `mm.EnergyTerm(**kwargs)` [parent class](https://ubermag.github.io/api/_autosummary/micromagneticmodel.EnergyTerm.html#micromagneticmodel.EnergyTerm).\n",
    "\n",
    "To build our energy equation we can:\n",
    "1. define an empty list and append each term to the list through the `append` method.\n",
    "2. define each `EnergyTerm` object and then combine them into a list: \n",
    "- `energy_terms = [term1, term2, term3]`.\n",
    "- `energy_terms = term1 + term2 + term3`.\n",
    "\n",
    "It's then a simple matter to do `system.energy = mm.Energy(terms=energy_terms)`.\n",
    "\n",
    "Note: It is possible to initialise an empty variable with `energy_terms = None` and append to it through `+=`. However, the first term must be assigned to the variable, not appended. So this is method normally just adds boilerplate code."
   ]
  },
  {
   "cell_type": "code",
   "id": "076ca39e-a21e-47d5-bc6f-52b9eb501c9c",
   "metadata": {},
   "source": [
    "#spinchain_energy_terms = None"
   ],
   "outputs": [],
   "execution_count": null
  },
  {
   "cell_type": "markdown",
   "id": "1492e0ad-f93f-437c-9fc1-19846594cd19",
   "metadata": {},
   "source": [
    "#### 3.2.1. Static zeeman energy\n",
    "\n",
    "[Documentation page](https://ubermag.github.io/api/_autosummary/micromagneticmodel.Zeeman.html#micromagneticmodel.Zeeman). \n",
    "\n",
    "It's important to note that:\n",
    "- This term covers both static, *i.e.* $\\mathbf{H}_{0}$, and dynamic, *i.e.* $\\mathbf{h}_{(x,t)}$, magnetic fields.\n",
    "- If one wants to include more than one `mm.Zeeman()` in the same region then these Zeeman energies **must** be given different names."
   ]
  },
  {
   "cell_type": "code",
   "id": "d006abd5c624ebc6",
   "metadata": {
    "ExecuteTime": {
     "end_time": "2024-06-03T11:57:18.846837Z",
     "start_time": "2024-06-03T11:57:18.844788Z"
    }
   },
   "source": [
    "# Align along the z-direction\n",
    "spinchain_H0 = (0, 0, 0.1)  # (T) "
   ],
   "outputs": [],
   "execution_count": 47
  },
  {
   "cell_type": "markdown",
   "id": "424a52b31b248b2f",
   "metadata": {},
   "source": [
    "If our initial pumping field strength was given in $T$ then we need to convert to a tuple in the required units $A/m$."
   ]
  },
  {
   "cell_type": "code",
   "id": "678cb40923c5b8e",
   "metadata": {
    "ExecuteTime": {
     "end_time": "2024-06-03T11:57:23.698311Z",
     "start_time": "2024-06-03T11:57:23.696344Z"
    }
   },
   "source": [
    "spinchain_H0 = tuple([x/mm.consts.mu0 for x in spinchain_H0])  # (A/m)"
   ],
   "outputs": [],
   "execution_count": 48
  },
  {
   "cell_type": "markdown",
   "id": "a037be56ce4a63fd",
   "metadata": {},
   "source": [
    "We can now create the static Zeeman energy term, give it an appropriate name to uniquely identify it, and append to the region's `EnergyTerm` container. If we don't want to reuse `spinchain_Hext_static`, such as to print it or add it to another system, then we can simply append it to `system_spinchain.energy`.\n",
    "\n",
    "Remember that the first term must be assigned, not appended."
   ]
  },
  {
   "cell_type": "code",
   "id": "69172189a20ba23e",
   "metadata": {},
   "source": [
    "spinchain_zeeman_static = mm.Zeeman(H=spinchain_H0, \n",
    "                                    name='SpinchainZeemanStatic')"
   ],
   "outputs": [],
   "execution_count": null
  },
  {
   "cell_type": "code",
   "id": "900cb0ae-02d6-46be-9d04-d4d402dab0f5",
   "metadata": {},
   "source": [
    "system_spinchain.energy += spinchain_zeeman_static "
   ],
   "outputs": [],
   "execution_count": null
  },
  {
   "cell_type": "markdown",
   "id": "36ca12d0cb0d1183",
   "metadata": {},
   "source": [
    "To avoid an odd behaviours, particularly with graphical outputs or text involving the Math environment, it is best to handle output in a separate cell to an assingment. This is because the output of the assignment is the object itself, and not the output of the object's `__repr__` method."
   ]
  },
  {
   "cell_type": "code",
   "id": "b24bcfd1b4c660fd",
   "metadata": {},
   "source": [
    "# Print equation of Zeeman energy\n",
    "# spinchain_zeeman_static"
   ],
   "outputs": [],
   "execution_count": null
  },
  {
   "cell_type": "markdown",
   "id": "e692cefa-2d36-4283-834c-dcf7c65c1a90",
   "metadata": {},
   "source": [
    "#### 3.3.2. Dynamic zeeman energy\n",
    "\n",
    "See comments for Section 3.2.1.\n",
    "\n",
    "There are two approaches on can take to apply this field. For clarity, I'll show both and denote which is actively being employed. Let's first define the constants we'll require."
   ]
  },
  {
   "cell_type": "code",
   "id": "1bbce7b69f71f5b9",
   "metadata": {},
   "source": [
    "# Pumping field strength in the driven region\n",
    "spinchain_h0 = (3e-3, 0, 0)  # (T)\n",
    "\n",
    "# Driving (cut-off) frequency\n",
    "spinchain_freq = 16e9  # (Hz)\n",
    "\n",
    "# Time to adjust the phase (time shift) of a wave [t - t0]\n",
    "spinchain_timeshift = 0  # (s)\n",
    "\n",
    "# Time steps to evaluate at\n",
    "stepsize = 1e-15  # (s)"
   ],
   "outputs": [],
   "execution_count": null
  },
  {
   "cell_type": "code",
   "id": "6ac04cb1ebe470aa",
   "metadata": {},
   "source": [
    "spinchain_h0 = tuple([x/mm.consts.mu0 for x in spinchain_h0])  # (A/m)"
   ],
   "outputs": [],
   "execution_count": null
  },
  {
   "cell_type": "markdown",
   "id": "fc505ba0b64e8e97",
   "metadata": {},
   "source": [
    "##### 3.3.2.1. Using pre-defined functions"
   ]
  },
  {
   "cell_type": "markdown",
   "id": "9e7ad4f94e77986b",
   "metadata": {},
   "source": [
    "If `mm_Zeeman()` is given a tuple for the `H` `kwarg` then the field is applied uniformly across the entire system; we utilised this behaviour in §3.3.1. to apply a static field. If we provide a dictionary to `H` then we can constrain our new `mm_Zeeman` to a specific subregion. All that remains is to introduce a time-dependence to this driven field, and Ubermag helps us out with some direct tools. This function "
   ]
  },
  {
   "cell_type": "code",
   "id": "640f0930c9503a84",
   "metadata": {},
   "source": [
    "spinchain_zeeman_dynamic_dict = mm.Zeeman(H={spinchain_subregions_names[1]: spinchain_h0}, \n",
    "                                    name='SpinchainZeemanDynamic',\n",
    "                                    func='sin',\n",
    "                                    f=spinchain_freq,\n",
    "                                    t0=spinchain_timeshift,\n",
    "                                    dt=stepsize)"
   ],
   "outputs": [],
   "execution_count": null
  },
  {
   "cell_type": "markdown",
   "id": "4171afa5a8b11355",
   "metadata": {},
   "source": [
    "\n",
    "Here, we want our driving field, $\\mathbf{h}_{(x, t)}$, to depend upon position (only applied in the driving region) and time (vary as the simulation progresses). To achieve this we'll need to write a custom callable function that will be used to define a `df.Field` object. Then we can pass this field object to `mm.Zeeman()`.\n",
    "\n",
    "The only required argument of the callable function is `pos` which is a tuple of the position coordinates $(x, y, z)$. The function must return a tuple of the field components $(h_{x}, h_{y}, h_{z})$."
   ]
  },
  {
   "cell_type": "code",
   "id": "858de612d13da293",
   "metadata": {},
   "source": [
    "def dynamic_zeeman_func(pos):\n",
    "    # Unpack position\n",
    "    x, y, z = pos\n",
    "    \n",
    "    # Should match dimensions given in mesh definition in §3.4.2.\n",
    "    if x >= 5e-9 and x < 55e-9:\n",
    "        # Return the time-dependent field\n",
    "        return spinchain_h0\n",
    "    else:\n",
    "        # Return the base case (typically will just be zero outside the driven region)\n",
    "        return (0, 0, 0)\n"
   ],
   "outputs": [],
   "execution_count": null
  },
  {
   "cell_type": "markdown",
   "id": "ef5dbe7c63713761",
   "metadata": {},
   "source": [
    "Now we can create the dynamic Zeeman energy term, give it an appropriate name to uniquely identify it, and append to the region's `EnergyTerm` container. \n",
    "\n",
    "If the `name` `**kwargs` is not provided then an `EnergyTerm` is provided the `name` `**kwarg` then the default value is used. When a single `mm.System` has two or more `mm.EnergyTerm` with the same name value, including the default, then an error is thrown.\n",
    "\n",
    "Notice that if we didn't use a `func` to define any oscillatory behaviour then we would return the *ZeemanStatic* case. "
   ]
  },
  {
   "cell_type": "code",
   "id": "552303409029814b",
   "metadata": {},
   "source": [
    "spinchain_zeeman_dynamic = mm.Zeeman(H={spinchain_subregions_names[1]: spinchain_h0}, \n",
    "                                    name='SpinchainZeemanDynamic',\n",
    "                                    func='sin',\n",
    "                                    f=spinchain_freq,\n",
    "                                    t0=spinchain_timeshift,\n",
    "                                    dt=stepsize)"
   ],
   "outputs": [],
   "execution_count": null
  },
  {
   "cell_type": "code",
   "id": "41e007bd64e97426",
   "metadata": {},
   "source": [
    "spinchain_h0_field = df.Field(mesh=spinchain_mesh,\n",
    "                              nvdim=3,\n",
    "                              value=dynamic_zeeman_func)"
   ],
   "outputs": [],
   "execution_count": null
  },
  {
   "cell_type": "code",
   "id": "1fa3935486c9af54",
   "metadata": {},
   "source": [
    "spinchain_h0_field.sel('z').mpl()"
   ],
   "outputs": [],
   "execution_count": null
  },
  {
   "cell_type": "code",
   "id": "be64a614b6ccd34a",
   "metadata": {},
   "source": [
    "zee_dyn_test_energy = mm.Zeeman(H=spinchain_h0_field,\n",
    "                                name='TestDynamicZeeman',\n",
    "                                func='sin',\n",
    "                                f=spinchain_freq,\n",
    "                                t0=spinchain_timeshift,\n",
    "                                dt=stepsize)"
   ],
   "outputs": [],
   "execution_count": null
  },
  {
   "cell_type": "markdown",
   "id": "f730f4f2448c2f94",
   "metadata": {},
   "source": [
    "We don't want to immediately add this term to our energy equation, because it'll cause problems during the relaxation process. Once that is completed, then we'll then append this term to the energy equation."
   ]
  },
  {
   "cell_type": "code",
   "id": "56bc14a2f152815a",
   "metadata": {},
   "source": [
    "# Print equation of Zeeman energy\n",
    "# spinchain_zeeman_dynamic"
   ],
   "outputs": [],
   "execution_count": null
  },
  {
   "cell_type": "markdown",
   "id": "a7fc0196-ee0f-4990-a508-1b8b51847d2e",
   "metadata": {},
   "source": [
    "#### 3.2.3. (Heisenberg) Exchange energy\n",
    "\n",
    "[Documentation page](https://ubermag.github.io/api/_autosummary/micromagneticmodel.Exchange.html#micromagneticmodel.Exchange).\n",
    "\n",
    "Be cautious! Übermag requires that we provide an exchange interaction energy in $J/m$ and not in $T$ like we normally use!"
   ]
  },
  {
   "cell_type": "code",
   "id": "5f0cc733af44a92a",
   "metadata": {},
   "source": [
    "# Exchange interaction energy, A\n",
    "spinchain_exch_energy_const = 1.6 * 1.3e-11  # (J/m)\n",
    "\n",
    "# Alternative way to define A\n",
    "# spinchain_exch_energy_const = 0.5 * mm.consts.mu0 * Ms**2 * lex**2"
   ],
   "outputs": [],
   "execution_count": null
  },
  {
   "cell_type": "markdown",
   "id": "62ecf5adde9470da",
   "metadata": {},
   "source": [
    "Similar to §3.2.2, we can create the exchange energy term, give it an appropriate name to uniquely identify it, and append to the region's `EnergyTerm` container."
   ]
  },
  {
   "cell_type": "code",
   "id": "f566db7db784a944",
   "metadata": {},
   "source": [
    "spinchain_exchange_energy = mm.Exchange(A=spinchain_exch_energy_const,\n",
    "                                        name='SpinchainExchange')"
   ],
   "outputs": [],
   "execution_count": null
  },
  {
   "cell_type": "code",
   "id": "8206a0adb7bfe375",
   "metadata": {},
   "source": [
    "system_spinchain.energy += spinchain_exchange_energy"
   ],
   "outputs": [],
   "execution_count": null
  },
  {
   "cell_type": "code",
   "id": "d3ead657f7534abd",
   "metadata": {},
   "source": [
    "# Print equation of Heisenberg exchange energy\n",
    "# spinchain_exchange_energy"
   ],
   "outputs": [],
   "execution_count": null
  },
  {
   "cell_type": "markdown",
   "id": "b1a48635-a11f-4eba-a39a-c85b7db4fc86",
   "metadata": {},
   "source": [
    "#### 3.2.4. Dzyaloshinskii-Moriya interaction energy\n",
    "\n",
    "[Documentation page](https://ubermag.github.io/api/_autosummary/micromagneticmodel.DMI.html#micromagneticmodel.DMI).\n",
    "\n",
    "Ubermag added additional extensions to OOMMF enabling the use of the DM interaction in more generalised cases for both interfacial and bulk. Therefore, one must pass both a $D_{i,j}$ constant and a crystalographic classification (`crystalclass`) to `mm.DMI()`. The possible values for `crystalclass` are:\n",
    "- `T` (transverse),\n",
    "- `O` (longitudinal),\n",
    "- `Cnv` (cyclical), and\n",
    "- `D2d` (dihedral).\n",
    "\n",
    "Both cyclical and dihedral also require the provision of the norm's direction through appending an underscore `_` and the cardinal direction, *e.g.* `Cnv_x`."
   ]
  },
  {
   "cell_type": "code",
   "id": "4d291450-15f0-498d-878d-a1d0fb9c259a",
   "metadata": {},
   "source": [
    "# Crystalographic classification\n",
    "spinchain_dmi_crystalclass = 'T'\n",
    "\n",
    "# Microscopic DM interaction constant\n",
    "spinchain_dmi_D = 0.4e-3  # (J/m^2)"
   ],
   "outputs": [],
   "execution_count": null
  },
  {
   "cell_type": "code",
   "id": "3e9dceb26b440f74",
   "metadata": {},
   "source": [
    "spinchain_dmi_energy = mm.DMI(D=spinchain_dmi_D, \n",
    "                              crystalclass=spinchain_dmi_crystalclass,\n",
    "                              name='SpinchainDMI')"
   ],
   "outputs": [],
   "execution_count": null
  },
  {
   "cell_type": "code",
   "id": "40decce5-437a-475b-ac29-45a5c5a8bab1",
   "metadata": {},
   "source": [
    "# Append to EnergyTerm\n",
    "system_spinchain.energy += spinchain_dmi_energy"
   ],
   "outputs": [],
   "execution_count": null
  },
  {
   "cell_type": "code",
   "id": "f783a384-5d72-469b-b6f4-c092be593614",
   "metadata": {},
   "source": [
    "# Print equation of DM interaction energy term\n",
    "# spinchain_dmi_energy"
   ],
   "outputs": [],
   "execution_count": null
  },
  {
   "cell_type": "markdown",
   "id": "4fa760bb3c99135a",
   "metadata": {},
   "source": [
    "#### 3.2.5. Demagnetisation energy\n",
    "\n",
    "[Documentation page](https://ubermag.github.io/api/_autosummary/micromagneticmodel.Demag.html#micromagneticmodel.Demag).\n",
    "\n",
    "Unless there is an *asymptotic radius* to consider then this simply involves a method call. \n",
    "\n",
    "Note: Adding $\\mathbf{H}_{demag}$ to a simulation greatly increases the computational cost per iteration of the numerical model, and consequentually the total (real-world) runtime!"
   ]
  },
  {
   "cell_type": "code",
   "id": "119434346f341255",
   "metadata": {},
   "source": [
    "spinchain_demag_energy = mm.Demag(name='SpinchainDemag')"
   ],
   "outputs": [],
   "execution_count": null
  },
  {
   "cell_type": "code",
   "id": "28f0580c-0dc7-4198-a9b2-08e8ec8f9502",
   "metadata": {},
   "source": [
    "# Append to EnergyTerm\n",
    "# system_spinchain.energy += spinchain_demag_energy"
   ],
   "outputs": [],
   "execution_count": null
  },
  {
   "cell_type": "code",
   "id": "c53154e6f4f37bfc",
   "metadata": {},
   "source": [
    "# Print equation of DM interaction energy term\n",
    "# spinchain_demag_energy"
   ],
   "outputs": [],
   "execution_count": null
  },
  {
   "cell_type": "markdown",
   "id": "fb05a5d3-e2f8-494f-9859-7160061b57dc",
   "metadata": {},
   "source": [
    "#### 3.2.6. Hamiltonian\n",
    "\n",
    "[Documentation page](https://ubermag.github.io/api/_autosummary/micromagneticmodel.Energy.html#micromagneticmodel.Energy).\n",
    "\n",
    "If we collected the various energy terms in a separate container then we now need to assign this to the system's energy. If we used `system.energy += term` then we can skip this step."
   ]
  },
  {
   "cell_type": "code",
   "id": "f09e8cda-e8f4-4f0c-b685-ba7f5f896818",
   "metadata": {},
   "source": [
    "# Uncomment if needed\n",
    "# system_spinchain.energy =  mm.Energy(terms=spinchain_energy_terms)"
   ],
   "outputs": [],
   "execution_count": null
  },
  {
   "cell_type": "markdown",
   "id": "8462bc807bbf3142",
   "metadata": {},
   "source": [
    "At this stage, we've defined our Hamiltonian! By invoking `system.energy` like a function we are able to utilise the `__repr__` method (provided by Übermag) to print out the Hamiltonian in a human-readable format."
   ]
  },
  {
   "cell_type": "code",
   "id": "d74df2a7-a44b-47d5-9670-3b39e8cdf553",
   "metadata": {},
   "source": [
    "print(f'This energy equation has {len(system_spinchain.energy)} terms, and is given by the following equation')\n",
    "\n",
    "# Print equation of system's energy terms\n",
    "system_spinchain.energy"
   ],
   "outputs": [],
   "execution_count": null
  },
  {
   "cell_type": "markdown",
   "id": "41ae391777c232e8",
   "metadata": {},
   "source": [
    "### 3.4. Dynamics equation\n",
    "\n",
    "[Documentation page](https://ubermag.github.io/api/_autosummary/micromagneticmodel.Dynamics.html#micromagneticmodel.Dynamics).\n",
    "\n",
    "The *dynamics terms* are defined in an identical way to the *energy terms*. They can also be stored in either a container class `mm.Dynamics(terms=None)`, or directly in a system `mm.System.dynamics(terms=myDynamicsTerms)`. Both container options are fundamentally composed of children and siblings that inherit their properties from the `mm.DynamicsTerm(**kwargs)` [parent class](https://ubermag.github.io/api/_autosummary/micromagneticmodel.DynamicsTerm.html#micromagneticmodel.DynamicsTerm)."
   ]
  },
  {
   "cell_type": "code",
   "id": "4b60a982eae74ee4",
   "metadata": {},
   "source": [
    "#spinchain_dynamics_terms = None"
   ],
   "outputs": [],
   "execution_count": null
  },
  {
   "cell_type": "markdown",
   "id": "ab0a6e0ea158d946",
   "metadata": {},
   "source": [
    "#### 3.3.1. Precession term\n",
    "\n",
    "[Documentation page](https://ubermag.github.io/api/_autosummary/micromagneticmodel.Precession.html#micromagneticmodel.Precession)."
   ]
  },
  {
   "cell_type": "code",
   "id": "885ad33cd5771369",
   "metadata": {},
   "source": [
    "# Gyrotropic ratio (A*s/kg) i.e. (C/kg)\n",
    "spinchain_gamma = 2 * np.pi * 29.2e9  # (rad*Hz/T)\n",
    "\n",
    "# Gyromagnetic ratio\n",
    "spinchain_gamma0 = spinchain_gamma * mm.consts.mu0  # (m/A*s)"
   ],
   "outputs": [],
   "execution_count": null
  },
  {
   "cell_type": "code",
   "id": "56db0e152df40991",
   "metadata": {},
   "source": [
    "spinchain_dynamics_precession = mm.Precession(gamma0=mm.consts.gamma0,\n",
    "                                     name='SpinchainPrecession')"
   ],
   "outputs": [],
   "execution_count": null
  },
  {
   "cell_type": "code",
   "id": "8f80e2b7f583119c",
   "metadata": {},
   "source": [
    "# First DynamicsTerm so we assign instead of append\n",
    "system_spinchain.dynamics = spinchain_dynamics_precession"
   ],
   "outputs": [],
   "execution_count": null
  },
  {
   "cell_type": "code",
   "id": "14324be1dd4a7bac",
   "metadata": {},
   "source": [
    "# Print equation of the precession dynamics term\n",
    "# spinchain_dynamics_precession"
   ],
   "outputs": [],
   "execution_count": null
  },
  {
   "cell_type": "markdown",
   "id": "7ffdeacf3796a80d",
   "metadata": {},
   "source": [
    "#### 3.3.2. Damping term\n",
    "\n",
    "[Documentation page](https://ubermag.github.io/api/_autosummary/micromagneticmodel.Damping.html#micromagneticmodel.Damping)."
   ]
  },
  {
   "cell_type": "code",
   "id": "701d133dc3a35180",
   "metadata": {},
   "source": [
    "spinchain_gilbert_factor = 1e-4"
   ],
   "outputs": [],
   "execution_count": null
  },
  {
   "cell_type": "code",
   "id": "b43a7ee3d40eb29",
   "metadata": {},
   "source": [
    "spinchain_dynamics_damping = mm.Damping(alpha=spinchain_gilbert_factor,\n",
    "                                       name='SpinchainDamping')"
   ],
   "outputs": [],
   "execution_count": null
  },
  {
   "cell_type": "code",
   "id": "d2f6c37e473dfc2",
   "metadata": {},
   "source": [
    "system_spinchain.dynamics += spinchain_dynamics_damping"
   ],
   "outputs": [],
   "execution_count": null
  },
  {
   "cell_type": "code",
   "id": "f58549c7de552329",
   "metadata": {
    "ExecuteTime": {
     "end_time": "2024-05-27T14:59:56.773773Z",
     "start_time": "2024-05-27T14:59:56.772331Z"
    }
   },
   "source": [
    "# Print equation of the damping dynamics term\n",
    "# spinchain_dynamics_damping"
   ],
   "outputs": [],
   "execution_count": 17
  },
  {
   "cell_type": "markdown",
   "id": "20529275bb4c11cb",
   "metadata": {},
   "source": [
    "#### 3.3.3. Dynamics equation\n",
    "\n",
    "[Documentation page](https://ubermag.github.io/api/_autosummary/micromagneticmodel.Dynamics.html#micromagneticmodel.Dynamics).\n",
    "\n",
    "The dynamics equation is now complete! By invoking `system.dynamics` like a function we are able to utilise the `__repr__` method (provided by Übermag) to print out the dynamics equation in a human-readable format.\n",
    "\n",
    "If we collected the various dynamics terms in a separate container then we now need to pass this to the system's dynamics argument. If we used `system.dynamics += term` then we can skip this step."
   ]
  },
  {
   "cell_type": "code",
   "id": "b6fc99550c6f8ea3",
   "metadata": {
    "ExecuteTime": {
     "end_time": "2024-05-27T14:59:57.055762Z",
     "start_time": "2024-05-27T14:59:57.053716Z"
    }
   },
   "source": [
    "# Uncomment if needed\n",
    "# system_spinchain.dynamics = mm.Dynamics(terms=spinchain_dynamics_terms)"
   ],
   "outputs": [],
   "execution_count": 18
  },
  {
   "cell_type": "code",
   "id": "38e675cc7502d100",
   "metadata": {
    "ExecuteTime": {
     "end_time": "2024-05-27T14:59:58.391102Z",
     "start_time": "2024-05-27T14:59:58.388705Z"
    }
   },
   "source": [
    "print(f'This dynamics equation has {len(system_spinchain.dynamics)} terms, and is given by the following equation')\n",
    "\n",
    "# Print out equation of system's dynamics terms\n",
    "system_spinchain.dynamics"
   ],
   "outputs": [
    {
     "name": "stdout",
     "output_type": "stream",
     "text": [
      "This dynamics equation has 0 terms, and is given by the following equation\n"
     ]
    },
    {
     "data": {
      "text/plain": [
       "Dynamics()"
      ],
      "text/latex": "$0$"
     },
     "execution_count": 19,
     "metadata": {},
     "output_type": "execute_result"
    }
   ],
   "execution_count": 19
  },
  {
   "cell_type": "markdown",
   "id": "fb4d5961-b538-4540-aeb4-79ac4685fddc",
   "metadata": {},
   "source": [
    "### 3.5. Magnetisation field\n",
    "\n",
    "[Documentation page](https://ubermag.github.io/api/_autosummary/discretisedfield.Field.html#discretisedfield.Field).\n",
    "\n",
    "We are now able to define the overall magnetisation field of the system. The field is defined by the `df.Field` class which requires a mesh, the number of vector dimensions, the initial value of the field, and the norm of the field (the saturisation magnetisation $M_{\\text{S}}$. A field can be defined in a number of ways:\n",
    "- as a constant value,\n",
    "- as a function of space,\n",
    "- as a function of time,\n",
    "- as a function of both space and time, or\n",
    "- as a function of space and a scalar value.\n",
    "\n",
    "Note: There is lots of flexibility in how fields can be defined, so do read through the documentation given throughout S. 3.2."
   ]
  },
  {
   "cell_type": "markdown",
   "id": "60bdfd6f-9077-40e1-95ad-ed01c81d0436",
   "metadata": {},
   "source": [
    "#### 3.5.1. Initial state(s) of region(s)\n",
    "\n",
    "In Ubermag the convention is to provide the initial magnetisation $\\mathbf{\\hat{m}}_{\\text{0}}$ for a region(s) as a tuple of unit vectors *i.e.* $(0.25, 0.1, 1.0)$ for a mixed-state. The correct units are them found by providing the saturisation magnetisation $M_{S}$ as the `norm` argument to `df.Field`. This ensures that the reader can clearly and easily interpret the relative magnitudes (of the initial state) along each axis, and thus the orientation of each spin.\n",
    "\n",
    "We first define any constants and then the initial magnetisation $\\mathbf{\\hat{m}}_{\\text{0}}$."
   ]
  },
  {
   "cell_type": "code",
   "id": "e1416ff050b35b74",
   "metadata": {
    "ExecuteTime": {
     "end_time": "2024-05-27T14:59:58.455581Z",
     "start_time": "2024-05-27T14:59:58.453995Z"
    }
   },
   "source": [
    "# Saturisation magnetisation, Ms\n",
    "spinchain_sat_mag  = 800e3  # (A/m)\n",
    "\n",
    "# Number of vector dimensions\n",
    "spinchain_num_dims = 3"
   ],
   "outputs": [],
   "execution_count": 20
  },
  {
   "cell_type": "code",
   "id": "36669c2739d178eb",
   "metadata": {
    "ExecuteTime": {
     "end_time": "2024-05-27T14:59:58.618500Z",
     "start_time": "2024-05-27T14:59:58.609810Z"
    }
   },
   "source": [
    "# Initial magnetisation unit vectors\n",
    "spinchain_field_m0 = (0, 0, 1)\n",
    "\n",
    "# Associate initial m_init states with our subregion names\n",
    "spinchain_field_subregions = {spinchain_subregions_names[0]: spinchain_field_m0,\n",
    "                                spinchain_subregions_names[1]: spinchain_field_m0,\n",
    "                                spinchain_subregions_names[2]: spinchain_field_m0,\n",
    "                                spinchain_subregions_names[3]: spinchain_field_m0}"
   ],
   "outputs": [
    {
     "ename": "NameError",
     "evalue": "name 'spinchain_subregions_names' is not defined",
     "output_type": "error",
     "traceback": [
      "\u001B[0;31m---------------------------------------------------------------------------\u001B[0m",
      "\u001B[0;31mNameError\u001B[0m                                 Traceback (most recent call last)",
      "Cell \u001B[0;32mIn[21], line 5\u001B[0m\n\u001B[1;32m      2\u001B[0m spinchain_field_m0 \u001B[38;5;241m=\u001B[39m (\u001B[38;5;241m0\u001B[39m, \u001B[38;5;241m0\u001B[39m, \u001B[38;5;241m1\u001B[39m)\n\u001B[1;32m      4\u001B[0m \u001B[38;5;66;03m# Associate initial m_init states with our subregion names\u001B[39;00m\n\u001B[0;32m----> 5\u001B[0m spinchain_field_subregions \u001B[38;5;241m=\u001B[39m {\u001B[43mspinchain_subregions_names\u001B[49m[\u001B[38;5;241m0\u001B[39m]: spinchain_field_m0,\n\u001B[1;32m      6\u001B[0m                                 spinchain_subregions_names[\u001B[38;5;241m1\u001B[39m]: spinchain_field_m0,\n\u001B[1;32m      7\u001B[0m                                 spinchain_subregions_names[\u001B[38;5;241m2\u001B[39m]: spinchain_field_m0,\n\u001B[1;32m      8\u001B[0m                                 spinchain_subregions_names[\u001B[38;5;241m3\u001B[39m]: spinchain_field_m0}\n",
      "\u001B[0;31mNameError\u001B[0m: name 'spinchain_subregions_names' is not defined"
     ]
    }
   ],
   "execution_count": 21
  },
  {
   "cell_type": "markdown",
   "id": "f3b9c84ba6b2761f",
   "metadata": {},
   "source": [
    "#### 3.5.2. Subregion-specific fields\n",
    "\n",
    "The last step before defining the system's magnetisation field is to define any custom fields in the subregions. In our case this means defining `spinchain_h0_field` as shown below."
   ]
  },
  {
   "cell_type": "code",
   "id": "ef1eb5c912e9ddb3",
   "metadata": {
    "ExecuteTime": {
     "end_time": "2024-05-27T14:59:58.706457Z",
     "start_time": "2024-05-27T14:59:58.698951Z"
    }
   },
   "source": [
    "spinchain_h0_field = df.Field(mesh=spinchain_mesh,\n",
    "                              nvdim=3,\n",
    "                              value=dynamic_zeeman_func)"
   ],
   "outputs": [
    {
     "ename": "NameError",
     "evalue": "name 'spinchain_mesh' is not defined",
     "output_type": "error",
     "traceback": [
      "\u001B[0;31m---------------------------------------------------------------------------\u001B[0m",
      "\u001B[0;31mNameError\u001B[0m                                 Traceback (most recent call last)",
      "Cell \u001B[0;32mIn[22], line 1\u001B[0m\n\u001B[0;32m----> 1\u001B[0m spinchain_h0_field \u001B[38;5;241m=\u001B[39m df\u001B[38;5;241m.\u001B[39mField(mesh\u001B[38;5;241m=\u001B[39m\u001B[43mspinchain_mesh\u001B[49m,\n\u001B[1;32m      2\u001B[0m                               nvdim\u001B[38;5;241m=\u001B[39m\u001B[38;5;241m3\u001B[39m,\n\u001B[1;32m      3\u001B[0m                               value\u001B[38;5;241m=\u001B[39mdynamic_zeeman_func)\n",
      "\u001B[0;31mNameError\u001B[0m: name 'spinchain_mesh' is not defined"
     ]
    }
   ],
   "execution_count": 22
  },
  {
   "cell_type": "code",
   "id": "6b0e87c53504672f",
   "metadata": {
    "ExecuteTime": {
     "end_time": "2024-05-27T14:59:58.813980Z",
     "start_time": "2024-05-27T14:59:58.806836Z"
    }
   },
   "source": [
    "spinchain_h0_field.sel('z').mpl()"
   ],
   "outputs": [
    {
     "ename": "NameError",
     "evalue": "name 'spinchain_h0_field' is not defined",
     "output_type": "error",
     "traceback": [
      "\u001B[0;31m---------------------------------------------------------------------------\u001B[0m",
      "\u001B[0;31mNameError\u001B[0m                                 Traceback (most recent call last)",
      "Cell \u001B[0;32mIn[23], line 1\u001B[0m\n\u001B[0;32m----> 1\u001B[0m \u001B[43mspinchain_h0_field\u001B[49m\u001B[38;5;241m.\u001B[39msel(\u001B[38;5;124m'\u001B[39m\u001B[38;5;124mz\u001B[39m\u001B[38;5;124m'\u001B[39m)\u001B[38;5;241m.\u001B[39mmpl()\n",
      "\u001B[0;31mNameError\u001B[0m: name 'spinchain_h0_field' is not defined"
     ]
    }
   ],
   "execution_count": 23
  },
  {
   "cell_type": "code",
   "id": "bfb2811974fc501d",
   "metadata": {
    "ExecuteTime": {
     "end_time": "2024-05-27T14:59:58.867844Z",
     "start_time": "2024-05-27T14:59:58.860152Z"
    }
   },
   "source": [
    "zee_dyn_test_energy = mm.Zeeman(H=spinchain_h0_field,\n",
    "                                name='TestDynamicZeeman',\n",
    "                                func='sin',\n",
    "                                f=spinchain_freq,\n",
    "                                t0=spinchain_timeshift,\n",
    "                                dt=stepsize)"
   ],
   "outputs": [
    {
     "ename": "NameError",
     "evalue": "name 'spinchain_h0_field' is not defined",
     "output_type": "error",
     "traceback": [
      "\u001B[0;31m---------------------------------------------------------------------------\u001B[0m",
      "\u001B[0;31mNameError\u001B[0m                                 Traceback (most recent call last)",
      "Cell \u001B[0;32mIn[24], line 1\u001B[0m\n\u001B[0;32m----> 1\u001B[0m zee_dyn_test_energy \u001B[38;5;241m=\u001B[39m mm\u001B[38;5;241m.\u001B[39mZeeman(H\u001B[38;5;241m=\u001B[39m\u001B[43mspinchain_h0_field\u001B[49m,\n\u001B[1;32m      2\u001B[0m                                 name\u001B[38;5;241m=\u001B[39m\u001B[38;5;124m'\u001B[39m\u001B[38;5;124mTestDynamicZeeman\u001B[39m\u001B[38;5;124m'\u001B[39m,\n\u001B[1;32m      3\u001B[0m                                 func\u001B[38;5;241m=\u001B[39m\u001B[38;5;124m'\u001B[39m\u001B[38;5;124msin\u001B[39m\u001B[38;5;124m'\u001B[39m,\n\u001B[1;32m      4\u001B[0m                                 f\u001B[38;5;241m=\u001B[39mspinchain_freq,\n\u001B[1;32m      5\u001B[0m                                 t0\u001B[38;5;241m=\u001B[39mspinchain_timeshift,\n\u001B[1;32m      6\u001B[0m                                 dt\u001B[38;5;241m=\u001B[39mstepsize)\n",
      "\u001B[0;31mNameError\u001B[0m: name 'spinchain_h0_field' is not defined"
     ]
    }
   ],
   "execution_count": 24
  },
  {
   "cell_type": "markdown",
   "id": "714c675c8c2dc1d",
   "metadata": {},
   "source": [
    "As a reminder, we don't want to include `spinchain_h0_field` in the system energy equation until after the relaxation.\n",
    " "
   ]
  },
  {
   "cell_type": "markdown",
   "id": "5852d779d35efd30",
   "metadata": {},
   "source": [
    "#### 3.5.3.Defining the magnetisation field\n",
    "\n",
    "We now define the system magnetisation field"
   ]
  },
  {
   "cell_type": "code",
   "id": "c5dd6c45-0726-4edb-a1cf-9b2fd61adc70",
   "metadata": {
    "ExecuteTime": {
     "end_time": "2024-05-27T14:59:58.980701Z",
     "start_time": "2024-05-27T14:59:58.973471Z"
    }
   },
   "source": [
    "system_spinchain.m = df.Field(mesh=spinchain_mesh, \n",
    "                              nvdim=spinchain_num_dims, \n",
    "                              value=spinchain_field_subregions,\n",
    "                              norm=spinchain_sat_mag)"
   ],
   "outputs": [
    {
     "ename": "NameError",
     "evalue": "name 'spinchain_mesh' is not defined",
     "output_type": "error",
     "traceback": [
      "\u001B[0;31m---------------------------------------------------------------------------\u001B[0m",
      "\u001B[0;31mNameError\u001B[0m                                 Traceback (most recent call last)",
      "Cell \u001B[0;32mIn[25], line 1\u001B[0m\n\u001B[0;32m----> 1\u001B[0m system_spinchain\u001B[38;5;241m.\u001B[39mm \u001B[38;5;241m=\u001B[39m df\u001B[38;5;241m.\u001B[39mField(mesh\u001B[38;5;241m=\u001B[39m\u001B[43mspinchain_mesh\u001B[49m, \n\u001B[1;32m      2\u001B[0m                               nvdim\u001B[38;5;241m=\u001B[39mspinchain_num_dims, \n\u001B[1;32m      3\u001B[0m                               value\u001B[38;5;241m=\u001B[39mspinchain_field_subregions,\n\u001B[1;32m      4\u001B[0m                               norm\u001B[38;5;241m=\u001B[39mspinchain_sat_mag)\n",
      "\u001B[0;31mNameError\u001B[0m: name 'spinchain_mesh' is not defined"
     ]
    }
   ],
   "execution_count": 25
  },
  {
   "cell_type": "markdown",
   "id": "de67163f6ccd1e01",
   "metadata": {},
   "source": [
    "This is a good time to check the field to ensure that the initial magnetisation has been defined correctly."
   ]
  },
  {
   "cell_type": "code",
   "id": "f71b470527b43611",
   "metadata": {
    "ExecuteTime": {
     "end_time": "2024-05-27T14:59:59.223462Z",
     "start_time": "2024-05-27T14:59:59.050053Z"
    }
   },
   "source": [
    "%%capture\n",
    "spinchain_field_fig, (spinchain_field_ax1, spinchain_field_ax2, spinchain_field_ax3) = plt.subplots(nrows=3, ncols=1, figsize=(12, 8));\n",
    "spinchain_field_fig.suptitle('Initial magnetisation fields', fontsize=24)\n",
    "\n",
    "system_spinchain.m.sel('x').mpl(ax=spinchain_field_ax1);\n",
    "\n",
    "system_spinchain.m.sel('y').mpl(ax=spinchain_field_ax2);\n",
    "spinchain_field_ax2.set(aspect=40)\n",
    "system_spinchain.m.sel('z').mpl(ax=spinchain_field_ax3);\n",
    "\n",
    "spinchain_field_fig.tight_layout()"
   ],
   "outputs": [
    {
     "ename": "AttributeError",
     "evalue": "'NoneType' object has no attribute 'sel'",
     "output_type": "error",
     "traceback": [
      "\u001B[0;31m---------------------------------------------------------------------------\u001B[0m",
      "\u001B[0;31mAttributeError\u001B[0m                            Traceback (most recent call last)",
      "Cell \u001B[0;32mIn[26], line 4\u001B[0m\n\u001B[1;32m      1\u001B[0m spinchain_field_fig, (spinchain_field_ax1, spinchain_field_ax2, spinchain_field_ax3) \u001B[38;5;241m=\u001B[39m plt\u001B[38;5;241m.\u001B[39msubplots(nrows\u001B[38;5;241m=\u001B[39m\u001B[38;5;241m3\u001B[39m, ncols\u001B[38;5;241m=\u001B[39m\u001B[38;5;241m1\u001B[39m, figsize\u001B[38;5;241m=\u001B[39m(\u001B[38;5;241m12\u001B[39m, \u001B[38;5;241m8\u001B[39m));\n\u001B[1;32m      2\u001B[0m spinchain_field_fig\u001B[38;5;241m.\u001B[39msuptitle(\u001B[38;5;124m'\u001B[39m\u001B[38;5;124mInitial magnetisation fields\u001B[39m\u001B[38;5;124m'\u001B[39m, fontsize\u001B[38;5;241m=\u001B[39m\u001B[38;5;241m24\u001B[39m)\n\u001B[0;32m----> 4\u001B[0m \u001B[43msystem_spinchain\u001B[49m\u001B[38;5;241;43m.\u001B[39;49m\u001B[43mm\u001B[49m\u001B[38;5;241;43m.\u001B[39;49m\u001B[43msel\u001B[49m(\u001B[38;5;124m'\u001B[39m\u001B[38;5;124mx\u001B[39m\u001B[38;5;124m'\u001B[39m)\u001B[38;5;241m.\u001B[39mmpl(ax\u001B[38;5;241m=\u001B[39mspinchain_field_ax1);\n\u001B[1;32m      6\u001B[0m system_spinchain\u001B[38;5;241m.\u001B[39mm\u001B[38;5;241m.\u001B[39msel(\u001B[38;5;124m'\u001B[39m\u001B[38;5;124my\u001B[39m\u001B[38;5;124m'\u001B[39m)\u001B[38;5;241m.\u001B[39mmpl(ax\u001B[38;5;241m=\u001B[39mspinchain_field_ax2);\n\u001B[1;32m      7\u001B[0m spinchain_field_ax2\u001B[38;5;241m.\u001B[39mset(aspect\u001B[38;5;241m=\u001B[39m\u001B[38;5;241m40\u001B[39m)\n",
      "\u001B[0;31mAttributeError\u001B[0m: 'NoneType' object has no attribute 'sel'"
     ]
    }
   ],
   "execution_count": 26
  },
  {
   "cell_type": "code",
   "id": "98f2caccce973fdb",
   "metadata": {
    "ExecuteTime": {
     "end_time": "2024-05-27T14:59:59.414764Z",
     "start_time": "2024-05-27T14:59:59.321204Z"
    }
   },
   "source": [
    "spinchain_field_fig"
   ],
   "outputs": [
    {
     "data": {
      "text/plain": [
       "<Figure size 1200x800 with 3 Axes>"
      ],
      "image/png": "[encoded data removed]"
     },
     "execution_count": 27,
     "metadata": {},
     "output_type": "execute_result"
    }
   ],
   "execution_count": 27
  },
  {
   "attachments": {},
   "cell_type": "markdown",
   "id": "20d199d2-3386-4047-9225-94f45f5f0b9f",
   "metadata": {},
   "source": [
    "## 4. Simulation\n",
    "\n",
    "We'll now begin our simulation stages!"
   ]
  },
  {
   "cell_type": "markdown",
   "id": "712f5965-797a-4407-b108-1a4e1a25be0f",
   "metadata": {},
   "source": [
    "### 4.1. Step 1: minimise energy\n",
    "\n",
    "The first step is to minimise the energy of the system and find an equilibrium state. Once this is achieved we can procede to our time-dependent drivers. If the system has been initialised in an equilibrium state then this step can be skipped."
   ]
  },
  {
   "cell_type": "markdown",
   "id": "10916cd7-ce9b-4773-a8e9-804a07171008",
   "metadata": {},
   "source": [
    "#### 4.1.1. Create driver\n",
    "\n",
    "[Übermag documentation: MinDriver()](https://ubermag.github.io/api/_autosummary/oommfc.MinDriver.html#oommfc.MinDriver)\n",
    "\n",
    "This energy minimisation driver we will use, `MinDriver`, is an implementation of the OOMMF `Oxs_MinDriver` driver. It is used to minimise the energy of the system and find an equilibrium state. The driver is based on the conjugate gradient method. The allowed parameters come from the [OOMMF v2.0 Userguide 2020 (pp.89-90): Oxs_MinDriver](https://math.nist.gov/oommf/doc/userguide20b0/userguide.pdf). \n"
   ]
  },
  {
   "cell_type": "code",
   "id": "26cc8053a8e8ad85",
   "metadata": {
    "ExecuteTime": {
     "end_time": "2024-05-27T14:59:59.418028Z",
     "start_time": "2024-05-27T14:59:59.416041Z"
    }
   },
   "source": [
    "sim_stage1_mindriver = oc.MinDriver() "
   ],
   "outputs": [],
   "execution_count": 28
  },
  {
   "cell_type": "markdown",
   "id": "6f7f973a-efe2-4fde-933e-8c5d4a8f2de6",
   "metadata": {},
   "source": [
    "#### 4.1.2. Run driver\n",
    "\n",
    "Übermag has made several adaptations to try and simplify the process of passing parameters to drivers. These parameters will therefore not be found in the OOMMF documentation, but they can be found here in the [Übermag documentation of the parent class (oommfc.Driver()](https://ubermag.github.io/api/_autosummary/oommfc.Driver.html#oommfc.Driver). Some examples include:\n",
    "- `n_threads` which is the number of threads to use for the calculation, and\n",
    "- `fixed_subregions` which is a dictionary of the fixed subregions in the mesh.\n",
    "\n",
    "After setting the driver's arguments we can now call the driver. This will begin the simulation as shown by the progressbar (activately via `verbose=2` below this notebook cell. You'll know that the simulation is complete when a time popus up *e.g.* Running OOMMF (ExeOOMMFRunner) \\[YYYY/MM/DD HH:MM]...(0.8 s).\n",
    "\n",
    "Note: It's important that we don't include any time-dependent contributions to `system.energy` while running an `oommfc.MinDriver()` as this will lead to an error."
   ]
  },
  {
   "cell_type": "code",
   "id": "86eae8df-b8e0-4c2f-b3c6-7ca41df9b553",
   "metadata": {
    "ExecuteTime": {
     "end_time": "2024-05-27T14:59:59.536117Z",
     "start_time": "2024-05-27T14:59:59.528259Z"
    }
   },
   "source": [
    "sim_stage1_mindriver.drive(system_spinchain,\n",
    "                           fixed_subregions=[spinchain_subregions_names[0], spinchain_subregions_names[3]],\n",
    "                           verbose=2)"
   ],
   "outputs": [
    {
     "ename": "NameError",
     "evalue": "name 'spinchain_subregions_names' is not defined",
     "output_type": "error",
     "traceback": [
      "\u001B[0;31m---------------------------------------------------------------------------\u001B[0m",
      "\u001B[0;31mNameError\u001B[0m                                 Traceback (most recent call last)",
      "Cell \u001B[0;32mIn[29], line 2\u001B[0m\n\u001B[1;32m      1\u001B[0m sim_stage1_mindriver\u001B[38;5;241m.\u001B[39mdrive(system_spinchain,\n\u001B[0;32m----> 2\u001B[0m                            fixed_subregions\u001B[38;5;241m=\u001B[39m[\u001B[43mspinchain_subregions_names\u001B[49m[\u001B[38;5;241m0\u001B[39m], spinchain_subregions_names[\u001B[38;5;241m3\u001B[39m]],\n\u001B[1;32m      3\u001B[0m                            verbose\u001B[38;5;241m=\u001B[39m\u001B[38;5;241m2\u001B[39m)\n",
      "\u001B[0;31mNameError\u001B[0m: name 'spinchain_subregions_names' is not defined"
     ]
    }
   ],
   "execution_count": 29
  },
  {
   "cell_type": "markdown",
   "id": "66bdcd09-fb9c-4af9-af18-301cf3bf9573",
   "metadata": {},
   "source": [
    "#### 4.1.3. Check output\n",
    "\n",
    "##### 4.1.3.1 Vector plot with colour bar"
   ]
  },
  {
   "cell_type": "code",
   "id": "d62e02fc9df87be3",
   "metadata": {
    "ExecuteTime": {
     "end_time": "2024-05-27T14:59:59.680670Z",
     "start_time": "2024-05-27T14:59:59.580939Z"
    }
   },
   "source": [
    "sim_stage1_fig, (sim_stage1_ax1, sim_stage1_ax2, sim_stage1_ax3) = plt.subplots(nrows=3, ncols=1, figsize=(12,6))\n",
    "sim_stage1_fig.suptitle('Magnetisation fields after relaxation', fontsize=24)\n",
    "system_spinchain.m.sel('x').mpl(ax=sim_stage1_ax1);\n",
    "\n",
    "\n",
    "system_spinchain.m.sel('y').mpl(ax=sim_stage1_ax2);\n",
    "sim_stage1_ax2.set(aspect=40)\n",
    "\n",
    "system_spinchain.m.sel('z').mpl(ax=sim_stage1_ax3);\n",
    "\n",
    "sim_stage1_fig.tight_layout()"
   ],
   "outputs": [
    {
     "ename": "AttributeError",
     "evalue": "'NoneType' object has no attribute 'sel'",
     "output_type": "error",
     "traceback": [
      "\u001B[0;31m---------------------------------------------------------------------------\u001B[0m",
      "\u001B[0;31mAttributeError\u001B[0m                            Traceback (most recent call last)",
      "Cell \u001B[0;32mIn[30], line 3\u001B[0m\n\u001B[1;32m      1\u001B[0m sim_stage1_fig, (sim_stage1_ax1, sim_stage1_ax2, sim_stage1_ax3) \u001B[38;5;241m=\u001B[39m plt\u001B[38;5;241m.\u001B[39msubplots(nrows\u001B[38;5;241m=\u001B[39m\u001B[38;5;241m3\u001B[39m, ncols\u001B[38;5;241m=\u001B[39m\u001B[38;5;241m1\u001B[39m, figsize\u001B[38;5;241m=\u001B[39m(\u001B[38;5;241m12\u001B[39m,\u001B[38;5;241m6\u001B[39m))\n\u001B[1;32m      2\u001B[0m sim_stage1_fig\u001B[38;5;241m.\u001B[39msuptitle(\u001B[38;5;124m'\u001B[39m\u001B[38;5;124mMagnetisation fields after relaxation\u001B[39m\u001B[38;5;124m'\u001B[39m, fontsize\u001B[38;5;241m=\u001B[39m\u001B[38;5;241m24\u001B[39m)\n\u001B[0;32m----> 3\u001B[0m \u001B[43msystem_spinchain\u001B[49m\u001B[38;5;241;43m.\u001B[39;49m\u001B[43mm\u001B[49m\u001B[38;5;241;43m.\u001B[39;49m\u001B[43msel\u001B[49m(\u001B[38;5;124m'\u001B[39m\u001B[38;5;124mx\u001B[39m\u001B[38;5;124m'\u001B[39m)\u001B[38;5;241m.\u001B[39mmpl(ax\u001B[38;5;241m=\u001B[39msim_stage1_ax1);\n\u001B[1;32m      6\u001B[0m system_spinchain\u001B[38;5;241m.\u001B[39mm\u001B[38;5;241m.\u001B[39msel(\u001B[38;5;124m'\u001B[39m\u001B[38;5;124my\u001B[39m\u001B[38;5;124m'\u001B[39m)\u001B[38;5;241m.\u001B[39mmpl(ax\u001B[38;5;241m=\u001B[39msim_stage1_ax2);\n\u001B[1;32m      7\u001B[0m sim_stage1_ax2\u001B[38;5;241m.\u001B[39mset(aspect\u001B[38;5;241m=\u001B[39m\u001B[38;5;241m40\u001B[39m)\n",
      "\u001B[0;31mAttributeError\u001B[0m: 'NoneType' object has no attribute 'sel'"
     ]
    },
    {
     "data": {
      "text/plain": [
       "<Figure size 1200x600 with 3 Axes>"
      ],
      "image/png": "[encoded data removed]"
     },
     "metadata": {},
     "output_type": "display_data"
    }
   ],
   "execution_count": 30
  },
  {
   "cell_type": "markdown",
   "id": "52217de3-d696-485b-9a74-f5de3e70c480",
   "metadata": {},
   "source": [
    "##### 4.1.4. Line plot\n",
    "\n",
    "We can see.."
   ]
  },
  {
   "cell_type": "code",
   "id": "e7db04eb-5916-4eae-9447-89314acfbcff",
   "metadata": {
    "ExecuteTime": {
     "end_time": "2024-05-27T14:59:59.770802Z",
     "start_time": "2024-05-27T14:59:59.756240Z"
    }
   },
   "source": [
    "sim_stage1_line = system_spinchain.m.line(p1=system_spinchain.m.mesh.region.pmin,\n",
    "                               p2=system_spinchain.m.mesh.region.pmax, n=100)\n",
    "#sim_stage1_line.mpl(marker='o', markersize=0)\n",
    "sim_stage1_line.mpl(figsize=(4, 4))"
   ],
   "outputs": [
    {
     "ename": "AttributeError",
     "evalue": "'NoneType' object has no attribute 'line'",
     "output_type": "error",
     "traceback": [
      "\u001B[0;31m---------------------------------------------------------------------------\u001B[0m",
      "\u001B[0;31mAttributeError\u001B[0m                            Traceback (most recent call last)",
      "Cell \u001B[0;32mIn[31], line 1\u001B[0m\n\u001B[0;32m----> 1\u001B[0m sim_stage1_line \u001B[38;5;241m=\u001B[39m \u001B[43msystem_spinchain\u001B[49m\u001B[38;5;241;43m.\u001B[39;49m\u001B[43mm\u001B[49m\u001B[38;5;241;43m.\u001B[39;49m\u001B[43mline\u001B[49m(p1\u001B[38;5;241m=\u001B[39msystem_spinchain\u001B[38;5;241m.\u001B[39mm\u001B[38;5;241m.\u001B[39mmesh\u001B[38;5;241m.\u001B[39mregion\u001B[38;5;241m.\u001B[39mpmin,\n\u001B[1;32m      2\u001B[0m                                p2\u001B[38;5;241m=\u001B[39msystem_spinchain\u001B[38;5;241m.\u001B[39mm\u001B[38;5;241m.\u001B[39mmesh\u001B[38;5;241m.\u001B[39mregion\u001B[38;5;241m.\u001B[39mpmax, n\u001B[38;5;241m=\u001B[39m\u001B[38;5;241m100\u001B[39m)\n\u001B[1;32m      3\u001B[0m \u001B[38;5;66;03m#sim_stage1_line.mpl(marker='o', markersize=0)\u001B[39;00m\n\u001B[1;32m      4\u001B[0m sim_stage1_line\u001B[38;5;241m.\u001B[39mmpl(figsize\u001B[38;5;241m=\u001B[39m(\u001B[38;5;241m4\u001B[39m, \u001B[38;5;241m4\u001B[39m))\n",
      "\u001B[0;31mAttributeError\u001B[0m: 'NoneType' object has no attribute 'line'"
     ]
    }
   ],
   "execution_count": 31
  },
  {
   "cell_type": "markdown",
   "id": "402468b42c626f84",
   "metadata": {},
   "source": [
    "### 4.2. Step 2: apply dynamic drive\n",
    "\n",
    "The second step of the simulation is applying our dynamic drive, $\\mathbf{h}_{(x, t)}$ to the system. This is done by creating a `TimeDriver` object and passing it to the system."
   ]
  },
  {
   "cell_type": "markdown",
   "id": "e2db6cc9-ca35-4003-9fe1-a6790622ddef",
   "metadata": {},
   "source": [
    "#### 4.2.1. Update energy equation\n",
    "\n",
    "First we add the dynamic Zeeman term to the energy equation."
   ]
  },
  {
   "cell_type": "code",
   "id": "3c2d02d6e5d47f04",
   "metadata": {
    "ExecuteTime": {
     "end_time": "2024-05-27T14:59:59.871444Z",
     "start_time": "2024-05-27T14:59:59.857937Z"
    }
   },
   "source": [
    "system_spinchain.energy += zee_dyn_test_energy"
   ],
   "outputs": [
    {
     "ename": "NameError",
     "evalue": "name 'zee_dyn_test_energy' is not defined",
     "output_type": "error",
     "traceback": [
      "\u001B[0;31m---------------------------------------------------------------------------\u001B[0m",
      "\u001B[0;31mNameError\u001B[0m                                 Traceback (most recent call last)",
      "Cell \u001B[0;32mIn[32], line 1\u001B[0m\n\u001B[0;32m----> 1\u001B[0m system_spinchain\u001B[38;5;241m.\u001B[39menergy \u001B[38;5;241m+\u001B[39m\u001B[38;5;241m=\u001B[39m \u001B[43mzee_dyn_test_energy\u001B[49m\n",
      "\u001B[0;31mNameError\u001B[0m: name 'zee_dyn_test_energy' is not defined"
     ]
    }
   ],
   "execution_count": 32
  },
  {
   "cell_type": "code",
   "id": "ee78cfc6d7cad723",
   "metadata": {
    "ExecuteTime": {
     "end_time": "2024-05-27T14:59:59.987293Z",
     "start_time": "2024-05-27T14:59:59.984715Z"
    }
   },
   "source": [
    "system_spinchain.energy"
   ],
   "outputs": [
    {
     "data": {
      "text/plain": [
       "Energy()"
      ],
      "text/latex": "$0$"
     },
     "execution_count": 33,
     "metadata": {},
     "output_type": "execute_result"
    }
   ],
   "execution_count": 33
  },
  {
   "cell_type": "markdown",
   "id": "35177edb-ca3a-4c2d-b4a8-ad886e0d253d",
   "metadata": {},
   "source": [
    "#### 4.2.2. Create driver (TimeDriver)\n",
    "\n",
    "[Übermag documentation: TimeDriver()](https://ubermag.github.io/api/_autosummary/oommfc.TimeDriver.html#oommfc.TimeDriver).\n",
    "\n",
    "The `TimeDriver` object is an implementation of the OOMMF `Oxs_TimeDriver` driver. It is used to drive the system in time and solve the Landau-Lifshitz-Gilbert equation. The driver is based on the Runge-Kutta-Fehlberg method. The allowed parameters come from the [OOMMF v2.0 Userguide 2020 (pp.89-90): Oxs_TimeDriver](https://math.nist.gov/oommf/doc/userguide20b0/userguide.pdf).\n",
    "\n",
    "You might have noticed in §4.1.2. that we didn't specify a stepsize for `oommfc.MinDriver()` or even a numerical method.This is because `oommfc.TimeDriver` objects (of which `MinDriver() is a specialised subclass) are high-level interfaces. They abstract away most details in favour of providing an easy-to-use interface for setting up and running simulations.\n",
    "\n",
    "We want more control over the simulation for this step, so we'll define which evolver, *i.e.* numerical method, to use when defining our `TimeDriver()`. The accepted single-purpose evolvers are:\n",
    "- [Conjugate-gradient: CGEvolver()](https://ubermag.github.io/api/_autosummary/oommfc.CGEvolver.html#oommfc.CGEvolver),\n",
    "- [Euler: EulerEvolver()](https://ubermag.github.io/api/_autosummary/oommfc.EulerEvolver.html#oommfc.EulerEvolver),\n",
    "- [Heun: HeunEvolver()](https://ubermag.github.io/api/_autosummary/oommfc.HeunEvolver.html#oommfc.HeunEvolver),\n",
    "- [Runge-Kutta: RungeKuttaEvolver()](https://ubermag.github.io/api/_autosummary/oommfc.RK23Evolver.html#oommfc.RK23Evolver),\n",
    "- [Zhang-Li: SpinTEvolver()](https://ubermag.github.io/api/_autosummary/oommfc.ZhangLiEvolver.html#oommfc.ZhangLiEvolver), and\n",
    "- [Slonczewski: SpinXferEvolver()](https://ubermag.github.io/api/_autosummary/oommfc.SpinXferEvolver.html#oommfc.SpinXferEvolver).\n",
    "\n",
    "The possible Runge-Kutta evolvers are found here: [OOMMF v2.0 Userguide 2020 (p. 84): Oxs_RungeKuttaEvolver](https://math.nist.gov/oommf/doc/userguide20b0/userguide.pdf)"
   ]
  },
  {
   "cell_type": "code",
   "id": "7bdd1c0ebb5d6d8",
   "metadata": {
    "ExecuteTime": {
     "end_time": "2024-05-27T15:00:00.045042Z",
     "start_time": "2024-05-27T15:00:00.042520Z"
    }
   },
   "source": [
    "# Maximum simulated time\n",
    "sim_stage_2_maxtime = 0.7e-9  # (s)\n",
    "\n",
    "# number of steps during simulation\n",
    "sim_stage_2_num_steps = 100\n",
    "\n",
    "# Stepsize\n",
    "sim_stage_2_stepsize = 1e-15  # (s)\n",
    "\n",
    "print(f'Stepsize, h: {sim_stage_2_stepsize} (s)')"
   ],
   "outputs": [
    {
     "name": "stdout",
     "output_type": "stream",
     "text": [
      "Stepsize, h: 1e-15 (s)\n"
     ]
    }
   ],
   "execution_count": 34
  },
  {
   "cell_type": "code",
   "id": "6c49f73cbfb23068",
   "metadata": {
    "ExecuteTime": {
     "end_time": "2024-05-27T15:00:00.228574Z",
     "start_time": "2024-05-27T15:00:00.226987Z"
    }
   },
   "source": [
    "# oc.RungeKuttaEvolver._allowed_attributes"
   ],
   "outputs": [],
   "execution_count": 35
  },
  {
   "cell_type": "code",
   "id": "c0f21f14-2ec5-49d4-b319-94d7596f463b",
   "metadata": {
    "ExecuteTime": {
     "end_time": "2024-05-27T15:00:00.277822Z",
     "start_time": "2024-05-27T15:00:00.276056Z"
    }
   },
   "source": [
    "sim_stage2_evolver = oc.RungeKuttaEvolver(method='rk2',\n",
    "                                          do_precess=1,\n",
    "                                          allow_signed_gamma=0,\n",
    "                                          min_timestep=sim_stage_2_stepsize, \n",
    "                                          max_timestep=sim_stage_2_stepsize,\n",
    "                                          )\n",
    "\n",
    "sim_stage2_timedriver = oc.TimeDriver(evolver=sim_stage2_evolver)"
   ],
   "outputs": [],
   "execution_count": 36
  },
  {
   "cell_type": "markdown",
   "id": "d9221534-e790-4366-8efb-c4e0d97fb985",
   "metadata": {},
   "source": [
    "#### 4.2.3. Run driver\n",
    "\n",
    "See comments for §4.1.2."
   ]
  },
  {
   "cell_type": "code",
   "id": "f6066b87-ca03-400f-8f54-d87c98da0db8",
   "metadata": {
    "ExecuteTime": {
     "end_time": "2024-05-27T15:00:00.405540Z",
     "start_time": "2024-05-27T15:00:00.398138Z"
    }
   },
   "source": [
    "sim_stage2_timedriver.drive(system_spinchain, \n",
    "                            t=sim_stage_2_maxtime,\n",
    "                            n=sim_stage_2_num_steps,\n",
    "                            fixed_subregions=[spinchain_subregions_names[0], spinchain_subregions_names[3]],\n",
    "                           verbose=2)"
   ],
   "outputs": [
    {
     "ename": "NameError",
     "evalue": "name 'spinchain_subregions_names' is not defined",
     "output_type": "error",
     "traceback": [
      "\u001B[0;31m---------------------------------------------------------------------------\u001B[0m",
      "\u001B[0;31mNameError\u001B[0m                                 Traceback (most recent call last)",
      "Cell \u001B[0;32mIn[37], line 4\u001B[0m\n\u001B[1;32m      1\u001B[0m sim_stage2_timedriver\u001B[38;5;241m.\u001B[39mdrive(system_spinchain, \n\u001B[1;32m      2\u001B[0m                             t\u001B[38;5;241m=\u001B[39msim_stage_2_maxtime,\n\u001B[1;32m      3\u001B[0m                             n\u001B[38;5;241m=\u001B[39msim_stage_2_num_steps,\n\u001B[0;32m----> 4\u001B[0m                             fixed_subregions\u001B[38;5;241m=\u001B[39m[\u001B[43mspinchain_subregions_names\u001B[49m[\u001B[38;5;241m0\u001B[39m], spinchain_subregions_names[\u001B[38;5;241m3\u001B[39m]],\n\u001B[1;32m      5\u001B[0m                            verbose\u001B[38;5;241m=\u001B[39m\u001B[38;5;241m2\u001B[39m)\n",
      "\u001B[0;31mNameError\u001B[0m: name 'spinchain_subregions_names' is not defined"
     ]
    }
   ],
   "execution_count": 37
  },
  {
   "cell_type": "markdown",
   "id": "f932b102-4bb3-4155-9fed-c8f369fc9f84",
   "metadata": {},
   "source": [
    "#### 4.2.4. Outputs"
   ]
  },
  {
   "cell_type": "markdown",
   "id": "d0c3764a207e1e41",
   "metadata": {},
   "source": [
    "##### 4.2.4.1. Vector graph"
   ]
  },
  {
   "cell_type": "code",
   "id": "f07f7429ff5aec8d",
   "metadata": {
    "ExecuteTime": {
     "end_time": "2024-05-27T15:00:00.541672Z",
     "start_time": "2024-05-27T15:00:00.439373Z"
    }
   },
   "source": [
    "sim_stage2_fig, (sim_stage2_ax1, sim_stage2_ax2, sim_stage2_ax3) = plt.subplots(nrows=3, ncols=1, figsize=(20, 5))\n",
    "sim_stage2_fig.suptitle('Magnetisation fields after relaxation', fontsize=24)\n",
    "\n",
    "# plot vectors on grid of 20 x 5 over the numerical resulotion\n",
    "system_spinchain.m.x.sel('z').mpl(ax=sim_stage2_ax1)\n",
    "sim_stage2_ax1.set(aspect=10)\n",
    "\n",
    "# plot vectors on grid of 20 x 5 over the numerical resulotion\n",
    "#system_spinchain.m.sel('z').resample(n=(80, 10)).mpl.vector(ax=sim_stage2_ax2)\n",
    "#system_spinchain.m.x.sel('z').resample(n=(80, 5)).mpl.scalar(ax=sim_stage2_ax2, cmap='magma')#resample((80, 1)).mpl.vector(ax=sim_stage2_ax2)\n",
    "#sim_stage2_ax2.set(aspect=10)\n",
    "system_spinchain.m.y.sel('z').mpl(ax=sim_stage2_ax2)\n",
    "sim_stage2_ax2.set(aspect=10)\n",
    "# plot vectors on grid of 20 x 5 over the numerical resulotion\n",
    "#system_spinchain.m.sel('z').resample(n=(80, 10)).mpl.vector(ax=sim_stage2_ax3)\n",
    "#system_spinchain.m.y.sel('z').resample(n=(80, 5)).mpl.scalar(ax=sim_stage2_ax3, cmap='magma')\n",
    "#sim_stage2_ax3.set(aspect=10)\n",
    "# add colouring for mx-component to this plot\n",
    "system_spinchain.m.sel('z').mpl(ax=sim_stage2_ax3)\n",
    "sim_stage2_ax3.set(aspect=10)\n",
    "#sim_stage2_ax3.set(aspect=100)"
   ],
   "outputs": [
    {
     "ename": "AttributeError",
     "evalue": "'NoneType' object has no attribute 'x'",
     "output_type": "error",
     "traceback": [
      "\u001B[0;31m---------------------------------------------------------------------------\u001B[0m",
      "\u001B[0;31mAttributeError\u001B[0m                            Traceback (most recent call last)",
      "Cell \u001B[0;32mIn[38], line 5\u001B[0m\n\u001B[1;32m      2\u001B[0m sim_stage2_fig\u001B[38;5;241m.\u001B[39msuptitle(\u001B[38;5;124m'\u001B[39m\u001B[38;5;124mMagnetisation fields after relaxation\u001B[39m\u001B[38;5;124m'\u001B[39m, fontsize\u001B[38;5;241m=\u001B[39m\u001B[38;5;241m24\u001B[39m)\n\u001B[1;32m      4\u001B[0m \u001B[38;5;66;03m# plot vectors on grid of 20 x 5 over the numerical resulotion\u001B[39;00m\n\u001B[0;32m----> 5\u001B[0m \u001B[43msystem_spinchain\u001B[49m\u001B[38;5;241;43m.\u001B[39;49m\u001B[43mm\u001B[49m\u001B[38;5;241;43m.\u001B[39;49m\u001B[43mx\u001B[49m\u001B[38;5;241m.\u001B[39msel(\u001B[38;5;124m'\u001B[39m\u001B[38;5;124mz\u001B[39m\u001B[38;5;124m'\u001B[39m)\u001B[38;5;241m.\u001B[39mmpl(ax\u001B[38;5;241m=\u001B[39msim_stage2_ax1)\n\u001B[1;32m      6\u001B[0m sim_stage2_ax1\u001B[38;5;241m.\u001B[39mset(aspect\u001B[38;5;241m=\u001B[39m\u001B[38;5;241m10\u001B[39m)\n\u001B[1;32m      8\u001B[0m \u001B[38;5;66;03m# plot vectors on grid of 20 x 5 over the numerical resulotion\u001B[39;00m\n\u001B[1;32m      9\u001B[0m \u001B[38;5;66;03m#system_spinchain.m.sel('z').resample(n=(80, 10)).mpl.vector(ax=sim_stage2_ax2)\u001B[39;00m\n\u001B[1;32m     10\u001B[0m \u001B[38;5;66;03m#system_spinchain.m.x.sel('z').resample(n=(80, 5)).mpl.scalar(ax=sim_stage2_ax2, cmap='magma')#resample((80, 1)).mpl.vector(ax=sim_stage2_ax2)\u001B[39;00m\n\u001B[1;32m     11\u001B[0m \u001B[38;5;66;03m#sim_stage2_ax2.set(aspect=10)\u001B[39;00m\n",
      "\u001B[0;31mAttributeError\u001B[0m: 'NoneType' object has no attribute 'x'"
     ]
    },
    {
     "data": {
      "text/plain": [
       "<Figure size 2000x500 with 3 Axes>"
      ],
      "image/png": "[encoded data removed]"
     },
     "metadata": {},
     "output_type": "display_data"
    }
   ],
   "execution_count": 38
  },
  {
   "cell_type": "markdown",
   "id": "f6eadacb374f37e8",
   "metadata": {},
   "source": [
    "##### 4.2.4.2. Line plot"
   ]
  },
  {
   "cell_type": "code",
   "id": "519f42fadcecd30c",
   "metadata": {
    "ExecuteTime": {
     "end_time": "2024-05-27T15:00:00.552661Z",
     "start_time": "2024-05-27T15:00:00.544123Z"
    }
   },
   "source": [
    "sim_stage2_line = system_spinchain.m.x.line(p1=system_spinchain.m.mesh.region.pmin,\n",
    "                               p2=system_spinchain.m.mesh.region.pmax, n=100)\n",
    "#sim_stage1_line.mpl(marker='o', markersize=0)\n",
    "sim_stage2_line.mpl(figsize=(4, 4))"
   ],
   "outputs": [
    {
     "ename": "AttributeError",
     "evalue": "'NoneType' object has no attribute 'x'",
     "output_type": "error",
     "traceback": [
      "\u001B[0;31m---------------------------------------------------------------------------\u001B[0m",
      "\u001B[0;31mAttributeError\u001B[0m                            Traceback (most recent call last)",
      "Cell \u001B[0;32mIn[39], line 1\u001B[0m\n\u001B[0;32m----> 1\u001B[0m sim_stage2_line \u001B[38;5;241m=\u001B[39m \u001B[43msystem_spinchain\u001B[49m\u001B[38;5;241;43m.\u001B[39;49m\u001B[43mm\u001B[49m\u001B[38;5;241;43m.\u001B[39;49m\u001B[43mx\u001B[49m\u001B[38;5;241m.\u001B[39mline(p1\u001B[38;5;241m=\u001B[39msystem_spinchain\u001B[38;5;241m.\u001B[39mm\u001B[38;5;241m.\u001B[39mmesh\u001B[38;5;241m.\u001B[39mregion\u001B[38;5;241m.\u001B[39mpmin,\n\u001B[1;32m      2\u001B[0m                                p2\u001B[38;5;241m=\u001B[39msystem_spinchain\u001B[38;5;241m.\u001B[39mm\u001B[38;5;241m.\u001B[39mmesh\u001B[38;5;241m.\u001B[39mregion\u001B[38;5;241m.\u001B[39mpmax, n\u001B[38;5;241m=\u001B[39m\u001B[38;5;241m100\u001B[39m)\n\u001B[1;32m      3\u001B[0m \u001B[38;5;66;03m#sim_stage1_line.mpl(marker='o', markersize=0)\u001B[39;00m\n\u001B[1;32m      4\u001B[0m sim_stage2_line\u001B[38;5;241m.\u001B[39mmpl(figsize\u001B[38;5;241m=\u001B[39m(\u001B[38;5;241m4\u001B[39m, \u001B[38;5;241m4\u001B[39m))\n",
      "\u001B[0;31mAttributeError\u001B[0m: 'NoneType' object has no attribute 'x'"
     ]
    }
   ],
   "execution_count": 39
  },
  {
   "cell_type": "markdown",
   "id": "805f22a3-f8c5-41c9-9ef9-2bbe4a02b43d",
   "metadata": {},
   "source": [
    "##### 4.2.4.3. Plot from table data"
   ]
  },
  {
   "cell_type": "code",
   "id": "e12ab7521a4e7f66",
   "metadata": {
    "ExecuteTime": {
     "end_time": "2024-05-27T15:00:00.629418Z",
     "start_time": "2024-05-27T15:00:00.621548Z"
    }
   },
   "source": [
    "system_spinchain.table.data #"
   ],
   "outputs": [
    {
     "ename": "AttributeError",
     "evalue": "'System' object has no attribute 'table'",
     "output_type": "error",
     "traceback": [
      "\u001B[0;31m---------------------------------------------------------------------------\u001B[0m",
      "\u001B[0;31mAttributeError\u001B[0m                            Traceback (most recent call last)",
      "Cell \u001B[0;32mIn[40], line 1\u001B[0m\n\u001B[0;32m----> 1\u001B[0m \u001B[43msystem_spinchain\u001B[49m\u001B[38;5;241;43m.\u001B[39;49m\u001B[43mtable\u001B[49m\u001B[38;5;241m.\u001B[39mdata \u001B[38;5;66;03m#\u001B[39;00m\n",
      "\u001B[0;31mAttributeError\u001B[0m: 'System' object has no attribute 'table'"
     ]
    }
   ],
   "execution_count": 40
  },
  {
   "cell_type": "code",
   "id": "54cec1c8-82a9-4f15-bba9-fdbf528db3e9",
   "metadata": {
    "ExecuteTime": {
     "end_time": "2024-05-27T15:00:00.780307Z",
     "start_time": "2024-05-27T15:00:00.773068Z"
    }
   },
   "source": [
    "system_spinchain.table.mpl(x='t',y=['mx','my'])"
   ],
   "outputs": [
    {
     "ename": "AttributeError",
     "evalue": "'System' object has no attribute 'table'",
     "output_type": "error",
     "traceback": [
      "\u001B[0;31m---------------------------------------------------------------------------\u001B[0m",
      "\u001B[0;31mAttributeError\u001B[0m                            Traceback (most recent call last)",
      "Cell \u001B[0;32mIn[41], line 1\u001B[0m\n\u001B[0;32m----> 1\u001B[0m \u001B[43msystem_spinchain\u001B[49m\u001B[38;5;241;43m.\u001B[39;49m\u001B[43mtable\u001B[49m\u001B[38;5;241m.\u001B[39mmpl(x\u001B[38;5;241m=\u001B[39m\u001B[38;5;124m'\u001B[39m\u001B[38;5;124mt\u001B[39m\u001B[38;5;124m'\u001B[39m,y\u001B[38;5;241m=\u001B[39m[\u001B[38;5;124m'\u001B[39m\u001B[38;5;124mmx\u001B[39m\u001B[38;5;124m'\u001B[39m,\u001B[38;5;124m'\u001B[39m\u001B[38;5;124mmy\u001B[39m\u001B[38;5;124m'\u001B[39m])\n",
      "\u001B[0;31mAttributeError\u001B[0m: 'System' object has no attribute 'table'"
     ]
    }
   ],
   "execution_count": 41
  },
  {
   "cell_type": "code",
   "id": "ff61b30198f0602d",
   "metadata": {
    "ExecuteTime": {
     "end_time": "2024-05-27T15:00:00.825952Z",
     "start_time": "2024-05-27T15:00:00.818587Z"
    }
   },
   "source": [
    "# Extract magnetization components along the x-axis  # Extract x-coordinates\n",
    "m_x = system_spinchain.m.array[:,0,0,0]  # Extract m_x component"
   ],
   "outputs": [
    {
     "ename": "AttributeError",
     "evalue": "'NoneType' object has no attribute 'array'",
     "output_type": "error",
     "traceback": [
      "\u001B[0;31m---------------------------------------------------------------------------\u001B[0m",
      "\u001B[0;31mAttributeError\u001B[0m                            Traceback (most recent call last)",
      "Cell \u001B[0;32mIn[42], line 2\u001B[0m\n\u001B[1;32m      1\u001B[0m \u001B[38;5;66;03m# Extract magnetization components along the x-axis  # Extract x-coordinates\u001B[39;00m\n\u001B[0;32m----> 2\u001B[0m m_x \u001B[38;5;241m=\u001B[39m \u001B[43msystem_spinchain\u001B[49m\u001B[38;5;241;43m.\u001B[39;49m\u001B[43mm\u001B[49m\u001B[38;5;241;43m.\u001B[39;49m\u001B[43marray\u001B[49m[:,\u001B[38;5;241m0\u001B[39m,\u001B[38;5;241m0\u001B[39m,\u001B[38;5;241m0\u001B[39m]  \u001B[38;5;66;03m# Extract m_x component\u001B[39;00m\n",
      "\u001B[0;31mAttributeError\u001B[0m: 'NoneType' object has no attribute 'array'"
     ]
    }
   ],
   "execution_count": 42
  },
  {
   "cell_type": "code",
   "id": "83a00bcaef7610e8",
   "metadata": {
    "ExecuteTime": {
     "end_time": "2024-05-27T15:00:00.933893Z",
     "start_time": "2024-05-27T15:00:00.926760Z"
    }
   },
   "source": [
    "m_x[0]"
   ],
   "outputs": [
    {
     "ename": "NameError",
     "evalue": "name 'm_x' is not defined",
     "output_type": "error",
     "traceback": [
      "\u001B[0;31m---------------------------------------------------------------------------\u001B[0m",
      "\u001B[0;31mNameError\u001B[0m                                 Traceback (most recent call last)",
      "Cell \u001B[0;32mIn[43], line 1\u001B[0m\n\u001B[0;32m----> 1\u001B[0m \u001B[43mm_x\u001B[49m[\u001B[38;5;241m0\u001B[39m]\n",
      "\u001B[0;31mNameError\u001B[0m: name 'm_x' is not defined"
     ]
    }
   ],
   "execution_count": 43
  },
  {
   "cell_type": "code",
   "id": "a6f39dd1997dfe08",
   "metadata": {
    "ExecuteTime": {
     "end_time": "2024-05-27T15:00:01.026418Z",
     "start_time": "2024-05-27T15:00:00.975847Z"
    }
   },
   "source": [
    "# Plot the magnetization components along the x-axis\n",
    "fig, ax = plt.subplots(figsize=(10, 5))\n",
    "ax.plot(np.arange(0, 1002, 1) * 1e-9, m_x, label='m_x')"
   ],
   "outputs": [
    {
     "ename": "NameError",
     "evalue": "name 'm_x' is not defined",
     "output_type": "error",
     "traceback": [
      "\u001B[0;31m---------------------------------------------------------------------------\u001B[0m",
      "\u001B[0;31mNameError\u001B[0m                                 Traceback (most recent call last)",
      "Cell \u001B[0;32mIn[44], line 3\u001B[0m\n\u001B[1;32m      1\u001B[0m \u001B[38;5;66;03m# Plot the magnetization components along the x-axis\u001B[39;00m\n\u001B[1;32m      2\u001B[0m fig, ax \u001B[38;5;241m=\u001B[39m plt\u001B[38;5;241m.\u001B[39msubplots(figsize\u001B[38;5;241m=\u001B[39m(\u001B[38;5;241m10\u001B[39m, \u001B[38;5;241m5\u001B[39m))\n\u001B[0;32m----> 3\u001B[0m ax\u001B[38;5;241m.\u001B[39mplot(np\u001B[38;5;241m.\u001B[39marange(\u001B[38;5;241m0\u001B[39m, \u001B[38;5;241m1002\u001B[39m, \u001B[38;5;241m1\u001B[39m) \u001B[38;5;241m*\u001B[39m \u001B[38;5;241m1e-9\u001B[39m, \u001B[43mm_x\u001B[49m, label\u001B[38;5;241m=\u001B[39m\u001B[38;5;124m'\u001B[39m\u001B[38;5;124mm_x\u001B[39m\u001B[38;5;124m'\u001B[39m)\n",
      "\u001B[0;31mNameError\u001B[0m: name 'm_x' is not defined"
     ]
    },
    {
     "data": {
      "text/plain": [
       "<Figure size 1000x500 with 1 Axes>"
      ],
      "image/png": "[encoded data removed]"
     },
     "metadata": {},
     "output_type": "display_data"
    }
   ],
   "execution_count": 44
  },
  {
   "cell_type": "code",
   "id": "6bfee9d81d702cd2",
   "metadata": {
    "ExecuteTime": {
     "end_time": "2024-05-27T15:00:01.105777Z",
     "start_time": "2024-05-27T15:00:01.103979Z"
    }
   },
   "source": [
    "import os"
   ],
   "outputs": [],
   "execution_count": 45
  },
  {
   "cell_type": "code",
   "id": "459000db0681766b",
   "metadata": {
    "ExecuteTime": {
     "end_time": "2024-05-27T15:00:01.176063Z",
     "start_time": "2024-05-27T15:00:01.171544Z"
    }
   },
   "source": [
    "dirname = os.path.join(\"../../tests\", \"PrimarySpinchain\")\n",
    "all_drives = md.Data(name='PrimarySpinchain', dirname='./')\n",
    "current_drive = all_drives[50]\n",
    "position_index = 100\n",
    "axis_index = 0"
   ],
   "outputs": [],
   "execution_count": 46
  },
  {
   "cell_type": "code",
   "id": "cf3149fd7571d73a",
   "metadata": {
    "ExecuteTime": {
     "end_time": "2024-05-27T15:00:01.652487Z",
     "start_time": "2024-05-27T15:00:01.344381Z"
    }
   },
   "source": [
    "sel_vals = [frame.array[position_index, 0, 0, axis_index] for frame in current_drive]"
   ],
   "outputs": [],
   "execution_count": 47
  },
  {
   "cell_type": "code",
   "id": "a7f451b6d48b8232",
   "metadata": {
    "ExecuteTime": {
     "end_time": "2024-05-27T15:00:01.719874Z",
     "start_time": "2024-05-27T15:00:01.653382Z"
    }
   },
   "source": [
    "plt.figure(figsize=(10, 5))\n",
    "plt.plot(np.arange(len(sel_vals)), sel_vals, label=f'm_{[\"x\", \"y\", \"z\"][axis_index]} at position {position_index}')\n",
    "plt.xlabel('Time step')\n",
    "plt.ylabel('Magnetization')\n",
    "plt.title('Magnetization Component over Time at Specified Position')\n",
    "plt.legend()\n",
    "plt.show()"
   ],
   "outputs": [
    {
     "data": {
      "text/plain": [
       "<Figure size 1000x500 with 1 Axes>"
      ],
      "image/png": "[encoded data removed]"
     },
     "metadata": {},
     "output_type": "display_data"
    }
   ],
   "execution_count": 48
  },
  {
   "cell_type": "code",
   "id": "ef56b0d393cd6617",
   "metadata": {
    "ExecuteTime": {
     "end_time": "2024-05-27T15:00:01.722235Z",
     "start_time": "2024-05-27T15:00:01.720720Z"
    }
   },
   "source": [],
   "outputs": [],
   "execution_count": 48
  }
 ],
 "metadata": {
  "kernelspec": {
   "display_name": "Python 3 (ipykernel)",
   "language": "python",
   "name": "python3"
  },
  "language_info": {
   "codemirror_mode": {
    "name": "ipython",
    "version": 3
   },
   "file_extension": ".py",
   "mimetype": "text/x-python",
   "name": "python",
   "nbconvert_exporter": "python",
   "pygments_lexer": "ipython3",
   "version": "3.12.3"
  }
 },
 "nbformat": 4,
 "nbformat_minor": 5
}
