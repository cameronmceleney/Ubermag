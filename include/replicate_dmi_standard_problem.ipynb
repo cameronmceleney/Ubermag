{
 "cells": [
  {
   "metadata": {
    "ExecuteTime": {
     "end_time": "2024-06-10T12:10:07.930546Z",
     "start_time": "2024-06-10T12:10:07.568130Z"
    }
   },
   "cell_type": "code",
   "source": [
    "# Clear all variables in the workspace\n",
    "%reset -f"
   ],
   "id": "d4c5b022b83bd00e",
   "outputs": [],
   "execution_count": 124
  },
  {
   "metadata": {},
   "cell_type": "markdown",
   "source": "## Imports",
   "id": "728ac8e563c52cee"
  },
  {
   "cell_type": "code",
   "id": "initial_id",
   "metadata": {
    "collapsed": true,
    "ExecuteTime": {
     "end_time": "2024-06-10T12:10:07.936611Z",
     "start_time": "2024-06-10T12:10:07.931571Z"
    }
   },
   "source": "import custom_system_properties as csp",
   "outputs": [],
   "execution_count": 125
  },
  {
   "metadata": {
    "ExecuteTime": {
     "end_time": "2024-06-10T12:10:07.955542Z",
     "start_time": "2024-06-10T12:10:07.944232Z"
    }
   },
   "cell_type": "code",
   "source": [
    "%matplotlib inline\n",
    "import matplotlib.pyplot as plt\n",
    "import matplotlib\n",
    "import numpy as np\n",
    "import scipy as sp"
   ],
   "id": "f096b4598bcc1f20",
   "outputs": [],
   "execution_count": 126
  },
  {
   "metadata": {
    "ExecuteTime": {
     "end_time": "2024-06-10T12:10:08.027830Z",
     "start_time": "2024-06-10T12:10:08.023254Z"
    }
   },
   "cell_type": "code",
   "source": [
    "import discretisedfield as df\n",
    "import micromagneticmodel as mm\n",
    "import micromagneticdata as md"
   ],
   "id": "2d40a9476fad60b1",
   "outputs": [],
   "execution_count": 127
  },
  {
   "metadata": {
    "ExecuteTime": {
     "end_time": "2024-06-10T12:10:08.107862Z",
     "start_time": "2024-06-10T12:10:08.103158Z"
    }
   },
   "cell_type": "code",
   "source": "import oommfc as oc",
   "id": "55388a0d187cd781",
   "outputs": [],
   "execution_count": 128
  },
  {
   "metadata": {},
   "cell_type": "markdown",
   "source": "## Main parameters",
   "id": "cc83c0dc78b6ac8"
  },
  {
   "metadata": {
    "ExecuteTime": {
     "end_time": "2024-06-10T12:10:08.172168Z",
     "start_time": "2024-06-10T12:10:08.168122Z"
    }
   },
   "cell_type": "code",
   "source": [
    "system = mm.System(name='dmi_sp')\n",
    "\n",
    "system_prop = csp.SystemProperties(length=2000e-9, width=200e-9, thickness=1e-9)\n",
    "system_prop.cell = (2e-9, 2e-9, 1e-9)\n",
    "system_prop.units = ('m', 'm', 'm')\n",
    "#system_prop.update_lengths()\n",
    "system_prop.update_numcells()"
   ],
   "id": "9a39298eb83f7f55",
   "outputs": [],
   "execution_count": 129
  },
  {
   "metadata": {
    "ExecuteTime": {
     "end_time": "2024-06-10T12:10:08.226403Z",
     "start_time": "2024-06-10T12:10:08.221373Z"
    }
   },
   "cell_type": "code",
   "source": "system_prop",
   "id": "5f3c2567a054db59",
   "outputs": [
    {
     "data": {
      "text/plain": [
       "SystemProperties(length=2e-06, width=2e-07, thickness=1e-09, cell=(2e-09, 2e-09, 1e-09), p1=(0, 0, 0), units=('m', 'm', 'm'), p2=(2e-06, 2e-07, 1e-09), numcells=(999, 99, 1))"
      ]
     },
     "execution_count": 130,
     "metadata": {},
     "output_type": "execute_result"
    }
   ],
   "execution_count": 130
  },
  {
   "metadata": {
    "ExecuteTime": {
     "end_time": "2024-06-10T12:10:08.264801Z",
     "start_time": "2024-06-10T12:10:08.261336Z"
    }
   },
   "cell_type": "code",
   "source": [
    "# Saturisation magnetisation\n",
    "sat_mag = 8.6e5  # kA/m\n",
    "\n",
    "# exchange stiffness\n",
    "exchange_stiffness = 1.3e-11  # J/m\n",
    "\n",
    "# External static Zeeman field strength\n",
    "bias_field = tuple(x/mm.consts.mu0 for x in [0, 0.4, 0])  # A/m\n",
    "\n",
    "# External dynamic Zeeman field strength\n",
    "h0 = tuple(x/mm.consts.mu0 for x in [0.04, 0, 0])  # A/m\n",
    "\n",
    "# Driving frequency\n",
    "f = 60e9  # Hz\n",
    "\n",
    "# Stepsize at which equations are evaluated\n",
    "h = 1e-12  # s\n",
    "\n",
    "#\n",
    "num_steps = 4000\n",
    "\n",
    "# Gilbert damping\n",
    "alpha = 0.01\n",
    "\n",
    "# DMI constant\n",
    "D_ij = -3e-3  # J/m^2\n",
    "\n",
    "gamma0 = 2.21e5  # 29.2e9 * (2 * np.pi * mm.consts.mu0) # [Hz / (rad T)] to correct units"
   ],
   "id": "5992eee82efc312a",
   "outputs": [],
   "execution_count": 131
  },
  {
   "metadata": {},
   "cell_type": "markdown",
   "source": "## Regions",
   "id": "4848ed1628f75100"
  },
  {
   "metadata": {
    "ExecuteTime": {
     "end_time": "2024-06-10T12:10:08.318215Z",
     "start_time": "2024-06-10T12:10:08.311305Z"
    }
   },
   "cell_type": "code",
   "source": [
    "system_region = csp.MyRegions(system.name + \"_regions\");\n",
    "\n",
    "system_region.main(p1=system_prop.p1, p2=system_prop.p2, \n",
    "                   dims=('x', 'y', 'z'), units=system_prop.units);"
   ],
   "id": "f20364b355d7e193",
   "outputs": [
    {
     "name": "stdout",
     "output_type": "stream",
     "text": [
      "Created subregion: main\n"
     ]
    }
   ],
   "execution_count": 132
  },
  {
   "metadata": {
    "ExecuteTime": {
     "end_time": "2024-06-10T12:10:08.354212Z",
     "start_time": "2024-06-10T12:10:08.331434Z"
    }
   },
   "cell_type": "code",
   "source": [
    "%%capture\n",
    "system_subregions = csp.MyRegions(system.name + \"_subregions\")\n",
    "\n",
    "system_subregions.fixedLhs(p1=system_region.main.p1, \n",
    "                           p2=(system_prop.cell[0], system_prop.width, system_prop.thickness), \n",
    "                           dims=('x', 'y', 'z'), units=system_prop.units)\n",
    "\n",
    "system_subregions.dampingLhs(p1=csp.add_tuples(system_subregions.fixedLhs.p2, \n",
    "                                       dims='x', base=system_prop.p1),\n",
    "                         p2=csp.add_tuples(system_subregions.fixedLhs.p2, system_prop.cell, \n",
    "                                       mult=20, dims='x'), \n",
    "                         dims=('x', 'y', 'z'), units=system_prop.units)\n",
    "\n",
    "system_subregions.freeLhs(p1=csp.add_tuples(system_subregions.dampingLhs.p2, \n",
    "                                       dims='x', base=system_prop.p1),\n",
    "                         p2=csp.add_tuples(system_subregions.dampingLhs.p2, system_prop.cell, \n",
    "                                       mult=478, dims='x'), \n",
    "                         dims=('x', 'y', 'z'), units=system_prop.units)\n",
    "\n",
    "system_subregions.driven(p1=csp.add_tuples(system_subregions.freeLhs.p2, \n",
    "                                       dims='x', base=system_prop.p1),\n",
    "                         p2=csp.add_tuples(system_subregions.freeLhs.p2, system_prop.cell,\n",
    "                                           mult=2, dims='x'), \n",
    "                         dims=('x', 'y', 'z'), units=system_prop.units)\n",
    "\n",
    "system_subregions.freeRhs(p1=csp.add_tuples(system_subregions.driven.p2, \n",
    "                                       dims='x', base=system_prop.p1),\n",
    "                         p2=csp.add_tuples(system_subregions.driven.p2, system_prop.cell, \n",
    "                                       mult=478, dims='x'),\n",
    "                         dims=('x', 'y', 'z'), units=system_prop.units)\n",
    "\n",
    "system_subregions.dampingRhs(p1=csp.add_tuples(system_subregions.freeRhs.p2, \n",
    "                                       dims='x', base=system_prop.p1),\n",
    "                         p2=csp.add_tuples(system_subregions.freeRhs .p2, system_prop.cell, \n",
    "                                       mult=20, dims='x'), \n",
    "                         dims=('x', 'y', 'z'), units=system_prop.units)\n",
    "\n",
    "system_subregions.fixedRhs(p1=(1998e-9, 0, 0),\n",
    "                           p2=system_region.main.p2, \n",
    "                           dims=('x', 'y', 'z'), units=system_prop.units)"
   ],
   "id": "bf3ff47587a299a7",
   "outputs": [],
   "execution_count": 133
  },
  {
   "metadata": {
    "ExecuteTime": {
     "end_time": "2024-06-10T12:10:08.558499Z",
     "start_time": "2024-06-10T12:10:08.372904Z"
    }
   },
   "cell_type": "code",
   "source": [
    "system_region._mesh = df.Mesh(region=system_region.main.region, \n",
    "                              cell=system_prop.cell,\n",
    "                              subregions=system_subregions.regions)\n",
    "\n",
    "system_region._mesh.mpl.subregions(figsize=(8, 6), multiplier=1e-9,box_aspect=(50, 5, 1), show_region=True)"
   ],
   "id": "95da3843b0b84995",
   "outputs": [
    {
     "data": {
      "text/plain": [
       "<Figure size 800x600 with 1 Axes>"
      ],
      "image/png": "[encoded data removed]"
     },
     "metadata": {},
     "output_type": "display_data"
    }
   ],
   "execution_count": 134
  },
  {
   "metadata": {},
   "cell_type": "markdown",
   "source": "### Energy equations",
   "id": "a5f806c3602b8918"
  },
  {
   "metadata": {
    "ExecuteTime": {
     "end_time": "2024-06-10T12:10:08.576893Z",
     "start_time": "2024-06-10T12:10:08.559506Z"
    }
   },
   "cell_type": "code",
   "source": "system_region._mesh",
   "id": "4d5485de26a9a4f7",
   "outputs": [
    {
     "data": {
      "text/plain": [
       "Mesh(Region(pmin=[0.0, 0.0, 0.0], pmax=[2e-06, 2e-07, 1e-09], dims=['x', 'y', 'z'], units=['m', 'm', 'm']), n=[1000, 100, 1], subregions: (Region`fixedLhs`(pmin=[0.0, 0.0, 0.0], pmax=[2e-09, 2e-07, 1e-09], dims=['x', 'y', 'z'], units=['m', 'm', 'm']), Region`dampingLhs`(pmin=[2e-09, 0.0, 0.0], pmax=[4.2e-08, 2e-07, 1e-09], dims=['x', 'y', 'z'], units=['m', 'm', 'm']), Region`freeLhs`(pmin=[4.2e-08, 0.0, 0.0], pmax=[9.98e-07, 2e-07, 1e-09], dims=['x', 'y', 'z'], units=['m', 'm', 'm']), Region`driven`(pmin=[9.98e-07, 0.0, 0.0], pmax=[1.002e-06, 2e-07, 1e-09], dims=['x', 'y', 'z'], units=['m', 'm', 'm']), Region`freeRhs`(pmin=[1.002e-06, 0.0, 0.0], pmax=[1.958e-06, 2e-07, 1e-09], dims=['x', 'y', 'z'], units=['m', 'm', 'm']), Region`dampingRhs`(pmin=[1.958e-06, 0.0, 0.0], pmax=[1.998e-06, 2e-07, 1e-09], dims=['x', 'y', 'z'], units=['m', 'm', 'm']), Region`fixedRhs`(pmin=[1.998e-06, 0.0, 0.0], pmax=[2e-06, 2e-07, 1e-09], dims=['x', 'y', 'z'], units=['m', 'm', 'm'])))"
      ],
      "text/html": [
       "<strong>Mesh</strong>\n",
       "<ul>\n",
       "  <li><strong>Region</strong>\n",
       "<ul>\n",
       "  <li>pmin = [0.0, 0.0, 0.0]</li>\n",
       "  <li>pmax = [2e-06, 2e-07, 1e-09]</li>\n",
       "  <li>dims = ['x', 'y', 'z']</li>\n",
       "  <li>units = ['m', 'm', 'm']</li>\n",
       "</ul></li>\n",
       "  <li>n = [1000, 100, 1]</li>\n",
       "  <li>subregions:\n",
       "    <ul>\n",
       "      <li><strong>Region</strong> <i>fixedLhs</i>\n",
       "<ul>\n",
       "  <li>pmin = [0.0, 0.0, 0.0]</li>\n",
       "  <li>pmax = [2e-09, 2e-07, 1e-09]</li>\n",
       "  <li>dims = ['x', 'y', 'z']</li>\n",
       "  <li>units = ['m', 'm', 'm']</li>\n",
       "</ul></li>\n",
       "      <li><strong>Region</strong> <i>dampingLhs</i>\n",
       "<ul>\n",
       "  <li>pmin = [2e-09, 0.0, 0.0]</li>\n",
       "  <li>pmax = [4.2e-08, 2e-07, 1e-09]</li>\n",
       "  <li>dims = ['x', 'y', 'z']</li>\n",
       "  <li>units = ['m', 'm', 'm']</li>\n",
       "</ul></li>\n",
       "      <li><strong>Region</strong> <i>freeLhs</i>\n",
       "<ul>\n",
       "  <li>pmin = [4.2e-08, 0.0, 0.0]</li>\n",
       "  <li>pmax = [9.98e-07, 2e-07, 1e-09]</li>\n",
       "  <li>dims = ['x', 'y', 'z']</li>\n",
       "  <li>units = ['m', 'm', 'm']</li>\n",
       "</ul></li>\n",
       "      <li><strong>Region</strong> <i>driven</i>\n",
       "<ul>\n",
       "  <li>pmin = [9.98e-07, 0.0, 0.0]</li>\n",
       "  <li>pmax = [1.002e-06, 2e-07, 1e-09]</li>\n",
       "  <li>dims = ['x', 'y', 'z']</li>\n",
       "  <li>units = ['m', 'm', 'm']</li>\n",
       "</ul></li>\n",
       "      <li><strong>Region</strong> <i>freeRhs</i>\n",
       "<ul>\n",
       "  <li>pmin = [1.002e-06, 0.0, 0.0]</li>\n",
       "  <li>pmax = [1.958e-06, 2e-07, 1e-09]</li>\n",
       "  <li>dims = ['x', 'y', 'z']</li>\n",
       "  <li>units = ['m', 'm', 'm']</li>\n",
       "</ul></li>\n",
       "      <li><strong>Region</strong> <i>dampingRhs</i>\n",
       "<ul>\n",
       "  <li>pmin = [1.958e-06, 0.0, 0.0]</li>\n",
       "  <li>pmax = [1.998e-06, 2e-07, 1e-09]</li>\n",
       "  <li>dims = ['x', 'y', 'z']</li>\n",
       "  <li>units = ['m', 'm', 'm']</li>\n",
       "</ul></li>\n",
       "      <li><strong>Region</strong> <i>fixedRhs</i>\n",
       "<ul>\n",
       "  <li>pmin = [1.998e-06, 0.0, 0.0]</li>\n",
       "  <li>pmax = [2e-06, 2e-07, 1e-09]</li>\n",
       "  <li>dims = ['x', 'y', 'z']</li>\n",
       "  <li>units = ['m', 'm', 'm']</li>\n",
       "</ul></li>\n",
       "      </ul></li>\n",
       "  </ul>"
      ]
     },
     "execution_count": 135,
     "metadata": {},
     "output_type": "execute_result"
    }
   ],
   "execution_count": 135
  },
  {
   "metadata": {
    "ExecuteTime": {
     "end_time": "2024-06-10T12:10:08.581438Z",
     "start_time": "2024-06-10T12:10:08.576893Z"
    }
   },
   "cell_type": "code",
   "source": [
    "def h0_func(pos):\n",
    "    if pos in system_subregions.driven.region:\n",
    "        return h0\n",
    "    else:\n",
    "        return (0, 0, 0)\n",
    "    #x, y, z = pos\n",
    "    \n",
    "    #if system_subregions.driven.p1[0] <= x < system_subregions.driven.p2[0]:\n",
    "    #    return h0\n",
    "    #else:\n",
    "    #    return (0,0,0)"
   ],
   "id": "84ba7d09422f9b50",
   "outputs": [],
   "execution_count": 136
  },
  {
   "metadata": {
    "ExecuteTime": {
     "end_time": "2024-06-10T12:10:08.589246Z",
     "start_time": "2024-06-10T12:10:08.581438Z"
    }
   },
   "cell_type": "code",
   "source": "# system_subregions.driven.mesh = df.Mesh(region=system_region.main.region, cell=system_prop.cell)",
   "id": "75882884e6ba3bcd",
   "outputs": [],
   "execution_count": 137
  },
  {
   "metadata": {
    "ExecuteTime": {
     "end_time": "2024-06-10T12:10:14.538861Z",
     "start_time": "2024-06-10T12:10:08.589246Z"
    }
   },
   "cell_type": "code",
   "source": [
    "h0_field = df.Field(mesh=system_region._mesh, nvdim=3, value=h0_func)\n",
    "#region_values = {\"region1\": (1, 1, 1), \"region2\": (2, 2, 2)}\n",
    "#h0_field.update_field_values(region_values)"
   ],
   "id": "ab64f47717af930f",
   "outputs": [],
   "execution_count": 138
  },
  {
   "metadata": {
    "ExecuteTime": {
     "end_time": "2024-06-10T12:10:14.543232Z",
     "start_time": "2024-06-10T12:10:14.538861Z"
    }
   },
   "cell_type": "code",
   "source": "system.energy = mm.Zeeman(H=bias_field, name='static') + mm.Exchange(A=exchange_stiffness) + mm.DMI(D=D_ij, crystalclass='T')",
   "id": "ebfb8b7400734a99",
   "outputs": [],
   "execution_count": 139
  },
  {
   "metadata": {
    "ExecuteTime": {
     "end_time": "2024-06-10T12:10:14.551806Z",
     "start_time": "2024-06-10T12:10:14.543232Z"
    }
   },
   "cell_type": "code",
   "source": "system.energy",
   "id": "401c8f4c9e83696b",
   "outputs": [
    {
     "data": {
      "text/plain": [
       "Zeeman(H=(0.0, 318309.8861837907, 0.0)) + Exchange(A=1.3e-11) + DMI(D=-0.003, crystalclass='T')"
      ],
      "text/latex": "$-\\mu_{0}M_\\text{s} \\mathbf{m} \\cdot \\mathbf{H}_\\text{static}- A \\mathbf{m} \\cdot \\nabla^{2} \\mathbf{m}+ D \\mathbf{m} \\cdot (\\nabla \\times \\mathbf{m})$"
     },
     "execution_count": 140,
     "metadata": {},
     "output_type": "execute_result"
    }
   ],
   "execution_count": 140
  },
  {
   "metadata": {},
   "cell_type": "markdown",
   "source": "### dynamics",
   "id": "90a395e98cb2ab82"
  },
  {
   "metadata": {
    "ExecuteTime": {
     "end_time": "2024-06-10T12:10:14.557307Z",
     "start_time": "2024-06-10T12:10:14.551806Z"
    }
   },
   "cell_type": "code",
   "source": [
    "def alpha_abc_func(pos):\n",
    "    # current positions\n",
    "    x, y, z = pos  # spatial coordinates\n",
    "    xn, yn, zn = (coord * 1e9 for coord in pos)  # cell coordinates\n",
    "    \n",
    "    # min and max cell coordinates of system\n",
    "    xmin, ymin, zmin = (p1_val * 1e9 for p1_val in system_prop.p1)\n",
    "    xmax, ymax, zmax = (p2_val * 1e9 for p2_val in system_prop.p2)\n",
    "    \n",
    "    # A.B.C. widths\n",
    "    widths = {'x': 20, 'y':100, 'z': 1}\n",
    "\n",
    "    # left (a) and right (b) bounds of the A.B.C. region\n",
    "    xa, ya, za = xmin + widths['x'], ymin + widths['y'], zmin + widths['z']\n",
    "    xb, yb, zb = xmax - widths['x'], ymax - widths['y'], zmax - widths['z']\n",
    "    \n",
    "    # Scales damping between [alpha, 1.0]\n",
    "    if xn <= xa:\n",
    "        return np.exp( ((xmin - xn) * np.log(alpha)) / (xmin - xa) )\n",
    "    elif xn >= xb:\n",
    "        return np.exp( ((xmax - xn) * np.log(alpha)) / (xmax - xb) )\n",
    "    else:\n",
    "        return alpha"
   ],
   "id": "8619400160891a53",
   "outputs": [],
   "execution_count": 141
  },
  {
   "metadata": {
    "ExecuteTime": {
     "end_time": "2024-06-10T12:10:16.904480Z",
     "start_time": "2024-06-10T12:10:14.557307Z"
    }
   },
   "cell_type": "code",
   "source": "alpha_field = df.Field(mesh=system_region._mesh, nvdim=1, value=alpha_abc_func)",
   "id": "3903e40777b41f93",
   "outputs": [],
   "execution_count": 142
  },
  {
   "metadata": {
    "ExecuteTime": {
     "end_time": "2024-06-10T12:10:16.911371Z",
     "start_time": "2024-06-10T12:10:16.904480Z"
    }
   },
   "cell_type": "code",
   "source": "system.dynamics = mm.Precession(gamma0=gamma0) + mm.Damping(alpha=alpha_field)",
   "id": "63d864cd2ae27828",
   "outputs": [],
   "execution_count": 143
  },
  {
   "metadata": {
    "ExecuteTime": {
     "end_time": "2024-06-10T12:10:16.928341Z",
     "start_time": "2024-06-10T12:10:16.911371Z"
    }
   },
   "cell_type": "code",
   "source": "system.dynamics",
   "id": "77502738f7854353",
   "outputs": [
    {
     "data": {
      "text/plain": [
       "Precession(gamma0=221000.0) + Damping(alpha=Field(Mesh(Region(pmin=[0.0, 0.0, 0.0], pmax=[2e-06, 2e-07, 1e-09], dims=['x', 'y', 'z'], units=['m', 'm', 'm']), n=[1000, 100, 1], subregions: (Region`fixedLhs`(pmin=[0.0, 0.0, 0.0], pmax=[2e-09, 2e-07, 1e-09], dims=['x', 'y', 'z'], units=['m', 'm', 'm']), Region`dampingLhs`(pmin=[2e-09, 0.0, 0.0], pmax=[4.2e-08, 2e-07, 1e-09], dims=['x', 'y', 'z'], units=['m', 'm', 'm']), Region`freeLhs`(pmin=[4.2e-08, 0.0, 0.0], pmax=[9.98e-07, 2e-07, 1e-09], dims=['x', 'y', 'z'], units=['m', 'm', 'm']), Region`driven`(pmin=[9.98e-07, 0.0, 0.0], pmax=[1.002e-06, 2e-07, 1e-09], dims=['x', 'y', 'z'], units=['m', 'm', 'm']), Region`freeRhs`(pmin=[1.002e-06, 0.0, 0.0], pmax=[1.958e-06, 2e-07, 1e-09], dims=['x', 'y', 'z'], units=['m', 'm', 'm']), Region`dampingRhs`(pmin=[1.958e-06, 0.0, 0.0], pmax=[1.998e-06, 2e-07, 1e-09], dims=['x', 'y', 'z'], units=['m', 'm', 'm']), Region`fixedRhs`(pmin=[1.998e-06, 0.0, 0.0], pmax=[2e-06, 2e-07, 1e-09], dims=['x', 'y', 'z'], units=['m', 'm', 'm']))), nvdim=1))"
      ],
      "text/latex": "$-\\frac{\\gamma_{0}}{1 + \\alpha^{2}} \\mathbf{m} \\times \\mathbf{H}_\\text{eff}-\\frac{\\gamma_{0} \\alpha}{1 + \\alpha^{2}} \\mathbf{m} \\times (\\mathbf{m} \\times \\mathbf{H}_\\text{eff})$"
     },
     "execution_count": 144,
     "metadata": {},
     "output_type": "execute_result"
    }
   ],
   "execution_count": 144
  },
  {
   "metadata": {
    "ExecuteTime": {
     "end_time": "2024-06-10T12:10:16.934265Z",
     "start_time": "2024-06-10T12:10:16.928341Z"
    }
   },
   "cell_type": "code",
   "source": [
    "def m_init_func(pos):\n",
    "    if pos in system_subregions.fixedLhs.region or pos in system_subregions.fixedRhs.region:\n",
    "        return (0.0, 1.0, 0.0)\n",
    "    else:\n",
    "        return (0.1, 0.9, 0.0)"
   ],
   "id": "fa1eab60982f0ba7",
   "outputs": [],
   "execution_count": 145
  },
  {
   "metadata": {
    "ExecuteTime": {
     "end_time": "2024-06-10T12:10:26.395877Z",
     "start_time": "2024-06-10T12:10:16.936296Z"
    }
   },
   "cell_type": "code",
   "source": [
    "#system.m = df.Field(mesh=system_region._mesh, nvdim=3, value=mag_vals, norm=Ms)\n",
    "system.m = df.Field(mesh=system_region._mesh, nvdim=3, value=m_init_func, norm=sat_mag)"
   ],
   "id": "ccf40bf502c7372b",
   "outputs": [],
   "execution_count": 146
  },
  {
   "metadata": {},
   "cell_type": "markdown",
   "source": "### Relaxation",
   "id": "ed8f08782bf0f89a"
  },
  {
   "metadata": {
    "ExecuteTime": {
     "end_time": "2024-06-10T12:10:32.525492Z",
     "start_time": "2024-06-10T12:10:26.395877Z"
    }
   },
   "cell_type": "code",
   "source": [
    "minD = oc.MinDriver()\n",
    "minD.drive(system)  # fixed_subregions=['fixedLhs', 'fixedRhs']"
   ],
   "id": "e6e98a4e5bda539b",
   "outputs": [
    {
     "name": "stdout",
     "output_type": "stream",
     "text": [
      "Running OOMMF (TclOOMMFRunner)[2024/06/10 13:10]... (6.1 s)\n"
     ]
    },
    {
     "ename": "RuntimeError",
     "evalue": "Error in OOMMF run.\ncommand: tclsh C:\\Users\\Cameron McEleney\\oommf\\oommf.tcl boxsi +fg dmi_sp.mif -exitondone 1\n",
     "output_type": "error",
     "traceback": [
      "\u001B[1;31m---------------------------------------------------------------------------\u001B[0m",
      "\u001B[1;31mRuntimeError\u001B[0m                              Traceback (most recent call last)",
      "Cell \u001B[1;32mIn[147], line 2\u001B[0m\n\u001B[0;32m      1\u001B[0m minD \u001B[38;5;241m=\u001B[39m oc\u001B[38;5;241m.\u001B[39mMinDriver()\n\u001B[1;32m----> 2\u001B[0m \u001B[43mminD\u001B[49m\u001B[38;5;241;43m.\u001B[39;49m\u001B[43mdrive\u001B[49m\u001B[43m(\u001B[49m\u001B[43msystem\u001B[49m\u001B[43m)\u001B[49m  \u001B[38;5;66;03m# fixed_subregions=['fixedLhs', 'fixedRhs']\u001B[39;00m\n",
      "File \u001B[1;32m~\\PycharmProjects\\Ubermag\\.venv\\Lib\\site-packages\\micromagneticmodel\\driver.py:137\u001B[0m, in \u001B[0;36mExternalDriver.drive\u001B[1;34m(self, system, dirname, append, runner, ovf_format, verbose, **kwargs)\u001B[0m\n\u001B[0;32m    131\u001B[0m \u001B[38;5;28;01mwith\u001B[39;00m uu\u001B[38;5;241m.\u001B[39mchangedir(workingdir):\n\u001B[0;32m    132\u001B[0m     \u001B[38;5;28mself\u001B[39m\u001B[38;5;241m.\u001B[39m_write_input_files(\n\u001B[0;32m    133\u001B[0m         system\u001B[38;5;241m=\u001B[39msystem,\n\u001B[0;32m    134\u001B[0m         ovf_format\u001B[38;5;241m=\u001B[39movf_format,\n\u001B[0;32m    135\u001B[0m         \u001B[38;5;241m*\u001B[39m\u001B[38;5;241m*\u001B[39mkwargs,\n\u001B[0;32m    136\u001B[0m     )\n\u001B[1;32m--> 137\u001B[0m     \u001B[38;5;28;43mself\u001B[39;49m\u001B[38;5;241;43m.\u001B[39;49m\u001B[43m_call\u001B[49m\u001B[43m(\u001B[49m\u001B[43msystem\u001B[49m\u001B[38;5;241;43m=\u001B[39;49m\u001B[43msystem\u001B[49m\u001B[43m,\u001B[49m\u001B[43m \u001B[49m\u001B[43mrunner\u001B[49m\u001B[38;5;241;43m=\u001B[39;49m\u001B[43mrunner\u001B[49m\u001B[43m,\u001B[49m\u001B[43m \u001B[49m\u001B[43mverbose\u001B[49m\u001B[38;5;241;43m=\u001B[39;49m\u001B[43mverbose\u001B[49m\u001B[43m,\u001B[49m\u001B[43m \u001B[49m\u001B[38;5;241;43m*\u001B[39;49m\u001B[38;5;241;43m*\u001B[39;49m\u001B[43mkwargs\u001B[49m\u001B[43m)\u001B[49m\n\u001B[0;32m    138\u001B[0m     \u001B[38;5;28mself\u001B[39m\u001B[38;5;241m.\u001B[39m_read_data(system)\n\u001B[0;32m    140\u001B[0m system\u001B[38;5;241m.\u001B[39mdrive_number \u001B[38;5;241m+\u001B[39m\u001B[38;5;241m=\u001B[39m \u001B[38;5;241m1\u001B[39m\n",
      "File \u001B[1;32m~\\PycharmProjects\\Ubermag\\.venv\\Lib\\site-packages\\oommfc\\drivers\\driver.py:205\u001B[0m, in \u001B[0;36mDriver._call\u001B[1;34m(self, system, runner, n_threads, verbose, **kwargs)\u001B[0m\n\u001B[0;32m    203\u001B[0m \u001B[38;5;28;01mif\u001B[39;00m runner \u001B[38;5;129;01mis\u001B[39;00m \u001B[38;5;28;01mNone\u001B[39;00m:\n\u001B[0;32m    204\u001B[0m     runner \u001B[38;5;241m=\u001B[39m oc\u001B[38;5;241m.\u001B[39mrunner\u001B[38;5;241m.\u001B[39mrunner\n\u001B[1;32m--> 205\u001B[0m \u001B[43mrunner\u001B[49m\u001B[38;5;241;43m.\u001B[39;49m\u001B[43mcall\u001B[49m\u001B[43m(\u001B[49m\n\u001B[0;32m    206\u001B[0m \u001B[43m    \u001B[49m\u001B[43margstr\u001B[49m\u001B[38;5;241;43m=\u001B[39;49m\u001B[38;5;28;43mself\u001B[39;49m\u001B[38;5;241;43m.\u001B[39;49m\u001B[43m_miffilename\u001B[49m\u001B[43m(\u001B[49m\u001B[43msystem\u001B[49m\u001B[43m)\u001B[49m\u001B[43m,\u001B[49m\n\u001B[0;32m    207\u001B[0m \u001B[43m    \u001B[49m\u001B[43mn_threads\u001B[49m\u001B[38;5;241;43m=\u001B[39;49m\u001B[43mn_threads\u001B[49m\u001B[43m,\u001B[49m\n\u001B[0;32m    208\u001B[0m \u001B[43m    \u001B[49m\u001B[43mverbose\u001B[49m\u001B[38;5;241;43m=\u001B[39;49m\u001B[43mverbose\u001B[49m\u001B[43m,\u001B[49m\n\u001B[0;32m    209\u001B[0m \u001B[43m    \u001B[49m\u001B[43mtotal\u001B[49m\u001B[38;5;241;43m=\u001B[39;49m\u001B[43mkwargs\u001B[49m\u001B[38;5;241;43m.\u001B[39;49m\u001B[43mget\u001B[49m\u001B[43m(\u001B[49m\u001B[38;5;124;43m\"\u001B[39;49m\u001B[38;5;124;43mn\u001B[39;49m\u001B[38;5;124;43m\"\u001B[39;49m\u001B[43m)\u001B[49m\u001B[43m,\u001B[49m\n\u001B[0;32m    210\u001B[0m \u001B[43m    \u001B[49m\u001B[43mglob_name\u001B[49m\u001B[38;5;241;43m=\u001B[39;49m\u001B[38;5;124;43mf\u001B[39;49m\u001B[38;5;124;43m\"\u001B[39;49m\u001B[38;5;132;43;01m{\u001B[39;49;00m\u001B[43msystem\u001B[49m\u001B[38;5;241;43m.\u001B[39;49m\u001B[43mname\u001B[49m\u001B[38;5;132;43;01m}\u001B[39;49;00m\u001B[38;5;124;43m*.omf\u001B[39;49m\u001B[38;5;124;43m\"\u001B[39;49m\u001B[43m,\u001B[49m\n\u001B[0;32m    211\u001B[0m \u001B[43m\u001B[49m\u001B[43m)\u001B[49m\n",
      "File \u001B[1;32m~\\PycharmProjects\\Ubermag\\.venv\\Lib\\site-packages\\micromagneticmodel\\runner.py:95\u001B[0m, in \u001B[0;36mExternalRunner.call\u001B[1;34m(self, argstr, need_stderr, verbose, total, glob_name, **kwargs)\u001B[0m\n\u001B[0;32m     93\u001B[0m         msg \u001B[38;5;241m+\u001B[39m\u001B[38;5;241m=\u001B[39m \u001B[38;5;124mf\u001B[39m\u001B[38;5;124m\"\u001B[39m\u001B[38;5;124mstdout: \u001B[39m\u001B[38;5;132;01m{\u001B[39;00mres\u001B[38;5;241m.\u001B[39mstderr\u001B[38;5;241m.\u001B[39mdecode(\u001B[38;5;124m'\u001B[39m\u001B[38;5;124mutf-8\u001B[39m\u001B[38;5;124m'\u001B[39m,\u001B[38;5;250m \u001B[39m\u001B[38;5;124m'\u001B[39m\u001B[38;5;124mreplace\u001B[39m\u001B[38;5;124m'\u001B[39m)\u001B[38;5;132;01m}\u001B[39;00m\u001B[38;5;130;01m\\n\u001B[39;00m\u001B[38;5;124m\"\u001B[39m\n\u001B[0;32m     94\u001B[0m         msg \u001B[38;5;241m+\u001B[39m\u001B[38;5;241m=\u001B[39m \u001B[38;5;124mf\u001B[39m\u001B[38;5;124m\"\u001B[39m\u001B[38;5;124mstderr: \u001B[39m\u001B[38;5;132;01m{\u001B[39;00mres\u001B[38;5;241m.\u001B[39mstdout\u001B[38;5;241m.\u001B[39mdecode(\u001B[38;5;124m'\u001B[39m\u001B[38;5;124mutf-8\u001B[39m\u001B[38;5;124m'\u001B[39m,\u001B[38;5;250m \u001B[39m\u001B[38;5;124m'\u001B[39m\u001B[38;5;124mreplace\u001B[39m\u001B[38;5;124m'\u001B[39m)\u001B[38;5;132;01m}\u001B[39;00m\u001B[38;5;130;01m\\n\u001B[39;00m\u001B[38;5;124m\"\u001B[39m\n\u001B[1;32m---> 95\u001B[0m     \u001B[38;5;28;01mraise\u001B[39;00m \u001B[38;5;167;01mRuntimeError\u001B[39;00m(msg)\n\u001B[0;32m     97\u001B[0m \u001B[38;5;28;01mreturn\u001B[39;00m res\n",
      "\u001B[1;31mRuntimeError\u001B[0m: Error in OOMMF run.\ncommand: tclsh C:\\Users\\Cameron McEleney\\oommf\\oommf.tcl boxsi +fg dmi_sp.mif -exitondone 1\n"
     ]
    }
   ],
   "execution_count": 147
  },
  {
   "metadata": {},
   "cell_type": "code",
   "source": [
    "fig1, fig1_axs = plt.subplots(nrows=3, ncols=1, figsize=(8, 8))\n",
    "fig1.suptitle('Magnetisation fields after relaxation', fontsize=24)\n",
    "\n",
    "system.m.orientation.sel('x').resample((48, 1)).y.mpl.scalar(ax=fig1_axs[0], cmap='inferno', colorbar_label='m$_\\\\text{y}$ (A m$^{-1}$)')\n",
    "system.m.orientation.sel('x').resample((24, 1)).mpl.vector(ax=fig1_axs[0], \n",
    "                                               vdims=['x', 'z'],\n",
    "                                               color_field=system.m.z.sel(\"y\"),\n",
    "                                               use_color=False,\n",
    "                                               colorbar=False)\n",
    "fig1_axs[0].set(title='End elevation (yz plane)', aspect=20)\n",
    "\n",
    "system.m.orientation.sel('y').resample((128, 2)).x.mpl.scalar(ax=fig1_axs[1], cmap='inferno', colorbar_label='m$_\\\\text{x}$ (A m$^{-1}$)')\n",
    "system.m.orientation.sel('y').resample((32, 1)).mpl.vector(ax=fig1_axs[1], \n",
    "                                               vdims=['x', 'z'],\n",
    "                                               color_field=system.m.z.sel(\"y\"),\n",
    "                                               use_color=False,\n",
    "                                               colorbar=False)\n",
    "fig1_axs[1].set(title='End elevation (xz plane)', aspect=180)\n",
    "\n",
    "system.m.orientation.sel('z').resample((240, 24)).z.mpl.scalar(ax=fig1_axs[2], cmap='Wistia', colorbar_label='m$_\\\\text{z}$ (A m$^{-1}$)')\n",
    "system.m.orientation.sel('z').resample((120, 12)).mpl.vector(ax=fig1_axs[2], \n",
    "                                               vdims=['x', 'y'],\n",
    "                                               color='black',\n",
    "                                               use_color=False)\n",
    "\n",
    "fig1_axs[2].set(title='Top elevation (xy plane)', aspect=10)\n",
    "\n",
    "\n",
    "fig1.tight_layout()"
   ],
   "id": "d58a91c66c27d264",
   "outputs": [],
   "execution_count": null
  },
  {
   "metadata": {},
   "cell_type": "code",
   "source": "#m = system.m.orientation",
   "id": "5cd2b02c75e20ef9",
   "outputs": [],
   "execution_count": null
  },
  {
   "metadata": {},
   "cell_type": "markdown",
   "source": "### Time-dependent field",
   "id": "30078b3dae2f3409"
  },
  {
   "metadata": {},
   "cell_type": "code",
   "source": "system.energy += mm.Zeeman(H=h0_field, name='pump', func='sinc',f=f, t0=0)",
   "id": "d583abae821e8373",
   "outputs": [],
   "execution_count": null
  },
  {
   "metadata": {},
   "cell_type": "code",
   "source": "system.energy",
   "id": "67b013d72c376b9",
   "outputs": [],
   "execution_count": null
  },
  {
   "metadata": {},
   "cell_type": "code",
   "source": [
    "sim_evolver = oc.RungeKuttaEvolver(method='rkf54',\n",
    "                                   alpha=alpha,\n",
    "                                   gamma_LL=gamma0,\n",
    "                                   fixed_spins=['fixedLhs', 'fixedRhs'],\n",
    "                                   do_precess=1,\n",
    "                                   allow_signed_gamma=0)"
   ],
   "id": "d313e478898796c7",
   "outputs": [],
   "execution_count": null
  },
  {
   "metadata": {},
   "cell_type": "code",
   "source": "#oc.TimeDriver._allowed_attributes",
   "id": "d3cd76148e6b3842",
   "outputs": [],
   "execution_count": null
  },
  {
   "metadata": {},
   "cell_type": "code",
   "source": "td = oc.TimeDriver(evolver=sim_evolver)",
   "id": "924ef5b1fc0b810",
   "outputs": [],
   "execution_count": null
  },
  {
   "metadata": {},
   "cell_type": "code",
   "source": "td.drive(system, t=4e-9, n=4000, fixed_subregions=['fixedLhs', 'fixedRhs'], verbose=2)",
   "id": "305cfa7ccad88ffe",
   "outputs": [],
   "execution_count": null
  },
  {
   "metadata": {},
   "cell_type": "code",
   "source": [
    "fig2, fig2_axs = plt.subplots(nrows=2, ncols=1, figsize=(8, 6))\n",
    "fig2.suptitle('Magnetisation fields after drive', fontsize=24)\n",
    "\n",
    "system.m.orientation.sel('y').resample((256, 2)).x.mpl.scalar(ax=fig2_axs[0], cmap='inferno', colorbar_label='m$_\\\\text{x}$ (normalised)')\n",
    "system.m.orientation.sel('y').resample((32, 1)).mpl.vector(ax=fig2_axs[0],\n",
    "                                               #color_field=system.m.orientation.y.sel(\"y\"),\n",
    "                                               color='black', alpha=0,\n",
    "                                               use_color=False,\n",
    "                                               colorbar=False)\n",
    "fig2_axs[0].set(title='Top elevation (xz plane)', aspect=240)\n",
    "\n",
    "system.m.orientation.sel('z').resample((256, 2)).z.mpl.scalar(ax=fig2_axs[1], cmap='Wistia', colorbar_label='m$_\\\\text{z}$ (normalised)')\n",
    "system.m.orientation.sel('z').resample((32, 1)).mpl.vector(ax=fig2_axs[1],\n",
    "                                               color='black',\n",
    "                                               use_color=False)\n",
    "\n",
    "fig2_axs[1].set(title='End elevation (xy plane)', aspect=240)\n",
    "\n",
    "\n",
    "fig2.tight_layout()"
   ],
   "id": "189ba85e67dfa4bd",
   "outputs": [],
   "execution_count": null
  },
  {
   "metadata": {},
   "cell_type": "code",
   "source": "%matplotlib inline",
   "id": "9abd39cf9266404f",
   "outputs": [],
   "execution_count": null
  },
  {
   "metadata": {},
   "cell_type": "code",
   "source": "my_data = md.Drive(name='dmi_test', number=system.drive_number - 1)",
   "id": "8f7f586c74934046",
   "outputs": [],
   "execution_count": null
  },
  {
   "metadata": {},
   "cell_type": "code",
   "source": [
    "m_vals = np.empty((my_data.n, 3))\n",
    "\n",
    "for i in range(0, my_data.n):\n",
    "    m_vals[i] = my_data[i].to_xarray()[system_prop.numcells[0], 0, 0]"
   ],
   "id": "e9fa4b8f602d6fa2",
   "outputs": [],
   "execution_count": null
  },
  {
   "metadata": {},
   "cell_type": "code",
   "source": [
    "fig3, fig3_axs = plt.subplots(nrows=2, ncols=1, figsize=(8, 6), sharex=True)\n",
    "fig3.suptitle(f'Magnetisation fields at different positions', fontsize=24)\n",
    "\n",
    "fig3_cell1 = 100\n",
    "fig3_axs[0].plot(my_data.table.data['t'].to_numpy(),\n",
    "         my_data.to_xarray()[:, fig3_cell1, 0, 0,0])\n",
    "fig3_axs[0].set(title=f'Cell: {fig3_cell1 * system_prop.cell[0]: 2.2e}', ylabel='m$_\\\\text{x}$ (A m$^{-1}$)')\n",
    "\n",
    "fig3_cell2 = 500\n",
    "fig3_axs[1].plot(my_data.table.data['t'].to_numpy(),\n",
    "         my_data.to_xarray()[:, fig3_cell2, 0, 0,0])\n",
    "fig3_axs[1].set(title=f'Cell: {fig3_cell2 * system_prop.cell[0]: 2.2e}', \n",
    "                xlabel='Time, t (ns)', ylabel='m$_\\\\text{x}$ (A m$^{-1}$)')\n",
    "plt.show()"
   ],
   "id": "221b0ae844b38cd2",
   "outputs": [],
   "execution_count": null
  },
  {
   "metadata": {},
   "cell_type": "code",
   "source": [
    "def plt_mag(t_val):\n",
    "    fig4, fig4_axs = plt.subplots(nrows=2, ncols=1, figsize=(8, 6))\n",
    "    fig4.suptitle('Magnetisation fields after drive', fontsize=24)\n",
    "    \n",
    "    my_data[t_val].orientation.sel('y').resample((256, 2)).x.mpl.scalar(ax=fig4_axs[0], cmap='inferno', colorbar_label='m$_\\\\text{x}$ (normalised)')\n",
    "    my_data[t_val].orientation.sel('y').resample((32, 1)).mpl.vector(ax=fig4_axs[0],\n",
    "                                                   #color_field=system.m.orientation.y.sel(\"y\"),\n",
    "                                                   color='black', alpha=0,\n",
    "                                                   use_color=False,\n",
    "                                                   colorbar=False)\n",
    "    fig4_axs[0].set(title='Top elevation (xz plane)', aspect=180)\n",
    "    \n",
    "    my_data[t_val].orientation.sel('z').resample((256, 2)).z.mpl.scalar(ax=fig4_axs[1], cmap='Wistia', colorbar_label='m$_\\\\text{z}$ (normalised)')\n",
    "    my_data[t_val].orientation.sel('z').resample((32, 1)).mpl.vector(ax=fig4_axs[1],\n",
    "                                                   color='black',\n",
    "                                                   use_color=False)\n",
    "    \n",
    "    fig4_axs[1].set(title='End elevation (xy plane)', aspect=180)\n",
    "    \n",
    "    \n",
    "    fig4.tight_layout()"
   ],
   "id": "9ef42b11dc97cc7d",
   "outputs": [],
   "execution_count": null
  },
  {
   "metadata": {},
   "cell_type": "code",
   "source": "plt_mag(90)",
   "id": "9e44d7e2e2b6845",
   "outputs": [],
   "execution_count": null
  },
  {
   "metadata": {},
   "cell_type": "code",
   "source": "my_data.table.data['t'].to_numpy()",
   "id": "ee8a3e831288f5f2",
   "outputs": [],
   "execution_count": null
  },
  {
   "metadata": {},
   "cell_type": "code",
   "source": "plt.plot()",
   "id": "5bbfc0c0b0101718",
   "outputs": [],
   "execution_count": null
  },
  {
   "metadata": {},
   "cell_type": "code",
   "source": "#system.m",
   "id": "5f56fe2eb3a34d67",
   "outputs": [],
   "execution_count": null
  },
  {
   "metadata": {},
   "cell_type": "code",
   "source": "system.table.data.plot('t', 'mx', xlabel='time, t (ns)', ylabel='avg. m$_\\\\text{x}$ (A m$^{-1}$)')",
   "id": "1afdd0dc25a411b9",
   "outputs": [],
   "execution_count": null
  },
  {
   "metadata": {},
   "cell_type": "code",
   "source": "position = (1024e-9, 0, 0)",
   "id": "607fe10849150ed6",
   "outputs": [],
   "execution_count": null
  },
  {
   "metadata": {},
   "cell_type": "code",
   "source": "system.m.orientation((position[0], position[1], position[2]))",
   "id": "337e86773dced13e",
   "outputs": [],
   "execution_count": null
  },
  {
   "metadata": {},
   "cell_type": "code",
   "source": "import os",
   "id": "44f68d30fddd60c9",
   "outputs": [],
   "execution_count": null
  },
  {
   "metadata": {},
   "cell_type": "code",
   "source": [
    "# Define the directory containing your .omf files\n",
    "omf_dir = '/Users/cameronmceleney/PycharmProjects/Ubermag/include/breaking_test/drive-14'\n",
    "\n",
    "# List all .omf files in the directory\n",
    "omf_files = sorted([f for f in os.listdir(omf_dir) if f.endswith('.omf') and f != 'm0.omf'])"
   ],
   "id": "a0a91ee7feaa69ca",
   "outputs": [],
   "execution_count": null
  },
  {
   "metadata": {},
   "cell_type": "code",
   "source": "times = system.table.data['t']",
   "id": "e3d47a7f3fdb8f4f",
   "outputs": [],
   "execution_count": null
  },
  {
   "metadata": {},
   "cell_type": "code",
   "source": [
    "# Initialize lists to store magnetization components\n",
    "times = []\n",
    "mx_values = []\n",
    "my_values = []\n",
    "mz_values = []\n",
    "\n",
    "# Read each .omf file and extract the magnetization at the specified position\n",
    "for omf_file in omf_files:\n",
    "    # Read the field from the .omf file\n",
    "    field = df.Field.from_file(os.path.join(omf_dir, omf_file))\n",
    "    exit(0)\n",
    "    \n",
    "    # Extract the magnetization components at the specified position\n",
    "    m_at_pos = field(position)\n",
    "    mx_values.append(m_at_pos[0])\n",
    "    my_values.append(m_at_pos[1])\n",
    "    mz_values.append(m_at_pos[2])\n",
    "    \n",
    "    # Extract the time from the filename (assuming filenames have time information)\n",
    "    # Example: \"filename_t=0.omf\" -> time = 0\n",
    "    time = float(omf_file.split('t=')[1].split('.omf')[0])\n",
    "    times.append(time)"
   ],
   "id": "44ff384111fc24a6",
   "outputs": [],
   "execution_count": null
  },
  {
   "metadata": {},
   "cell_type": "code",
   "source": "plt.plot(times, mx_values)",
   "id": "404b0ffc947cb535",
   "outputs": [],
   "execution_count": null
  },
  {
   "metadata": {},
   "cell_type": "code",
   "source": [
    "# Plot the magnetization components over time\n",
    "plt.figure(figsize=(8, 6))\n",
    "plt.plot(times, mx_values, label='m$_\\\\text{x}$ (normalized)')\n",
    "plt.plot(times, my_values, label='m$_\\\\text{y}$ (normalized)')\n",
    "#plt.plot(times, mz_values, label='m$_\\\\text{z}$ (normalized)')\n",
    "plt.xlabel('Time (s)')\n",
    "plt.ylabel('Magnetization (normalized)')\n",
    "plt.title('Magnetization components at position {} over time'.format(position))\n",
    "plt.legend()\n",
    "plt.grid()\n",
    "plt.show()"
   ],
   "id": "b3a6e8fc6b51cab6",
   "outputs": [],
   "execution_count": null
  },
  {
   "metadata": {},
   "cell_type": "code",
   "source": "",
   "id": "d7b0ee05d238698d",
   "outputs": [],
   "execution_count": null
  },
  {
   "metadata": {},
   "cell_type": "code",
   "source": [
    "fig2, (fig2_ax1, fig2_ax2, fig2_ax3) = plt.subplots(nrows=3, ncols=1, figsize=(20, 5))\n",
    "fig2.suptitle('Magnetisation fields after relaxation (y-plane)', fontsize=24)\n",
    "\n",
    "# plot vectors on grid of 20 x 5 over the numerical resulotion\n",
    "system.m.x.sel(\"y\").mpl(ax=fig2_ax1, scalar_kw={\"colorbar_label\": \"m$_\\\\text{x}$ (A m$^{-1}$)\"})\n",
    "fig2_ax1.set(aspect=200)\n",
    "\n",
    "system.m.y.sel('y').mpl(ax=fig2_ax2, scalar_kw={\"colorbar_label\": \"m$_\\\\text{y}$ (A m$^{-1}$)\"})\n",
    "fig2_ax2.set(aspect=200)\n",
    "\n",
    "system.m.z.sel('y').mpl(ax=fig2_ax3, scalar_kw={\"colorbar_label\": \"m$_\\\\text{z}$ (A m$^{-1}$)\"})\n",
    "fig2_ax3.set(aspect=200)"
   ],
   "id": "3328835a8ae6fa0a",
   "outputs": [],
   "execution_count": null
  },
  {
   "metadata": {},
   "cell_type": "code",
   "source": "data = md.Data(system.name)",
   "id": "7250a5aec1f978be",
   "outputs": [],
   "execution_count": null
  },
  {
   "metadata": {},
   "cell_type": "code",
   "source": "data.info",
   "id": "2bf010a8534be544",
   "outputs": [],
   "execution_count": null
  },
  {
   "metadata": {},
   "cell_type": "code",
   "source": [
    "# Use only the last time drive\n",
    "time_drive = data[1]\n",
    "time_drive.info\n",
    "print(time_drive.calculator_script)"
   ],
   "id": "fedd918d821c01c8",
   "outputs": [],
   "execution_count": null
  },
  {
   "metadata": {},
   "cell_type": "code",
   "source": [
    "#list(time_drive)\n",
    "#time_drive.to_xarray()"
   ],
   "id": "ada792f4002e99ec",
   "outputs": [],
   "execution_count": null
  },
  {
   "metadata": {},
   "cell_type": "code",
   "source": [
    "fig3, fig3_axs = plt.subplots(nrows=1, ncols=1, figsize=(8, 6))\n",
    "time_drive[700].sel('y').mpl(ax=fig3_axs, vector_kw={'color':'white', 'alpha':0})\n",
    "fig3_axs.set(aspect=60)"
   ],
   "id": "baf7e81928db17e1",
   "outputs": [],
   "execution_count": null
  },
  {
   "metadata": {},
   "cell_type": "code",
   "source": "data_oi = []",
   "id": "54a87bf6333dc9d7",
   "outputs": [],
   "execution_count": null
  },
  {
   "metadata": {},
   "cell_type": "code",
   "source": [
    "\n",
    "time_drive.hv(\n",
    "    kdims=[\"x\", \"y\"],\n",
    "    scalar_kw={\"clim\": (-Ms, Ms), \"cmap\": \"coolwarm\"},\n",
    ")"
   ],
   "id": "c3f815439001ecfb",
   "outputs": [],
   "execution_count": null
  }
 ],
 "metadata": {
  "kernelspec": {
   "display_name": "Python 3",
   "language": "python",
   "name": "python3"
  },
  "language_info": {
   "codemirror_mode": {
    "name": "ipython",
    "version": 2
   },
   "file_extension": ".py",
   "mimetype": "text/x-python",
   "name": "python",
   "nbconvert_exporter": "python",
   "pygments_lexer": "ipython2",
   "version": "2.7.6"
  }
 },
 "nbformat": 4,
 "nbformat_minor": 5
}
