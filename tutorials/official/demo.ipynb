{
 "cells": [
  {
   "cell_type": "markdown",
   "metadata": {
    "editable": true,
    "slideshow": {
     "slide_type": ""
    },
    "tags": []
   },
   "source": [
    "# Demo\n",
    "## Vortex dynamics\n",
    "\n",
    "In this example, we are going to simulate vortex core dynamics. After creating a vortex structure, we are first going to displace it by applying an external magnetic field. We will then turn off the external field, and compute the time-development of the system, and then be able to see the dynamics of the vortex core.\n",
    "\n",
    "The sample is a two-dimensional Permalloy disk sample with $r=50 \\,\\text{nm}$ edge length and $10\\,\\text{nm}$ thickness. Its energy equation consists of ferromagnetic exchange, Zeeman, and demagnetisation energy terms:\n",
    "    \n",
    "$$E = \\int_{V} \\left[-A\\mathbf{m}\\cdot\\nabla^{2}\\mathbf{m} - \\mu_{0}M_\\text{s}\\mathbf{m}\\cdot\\mathbf{H} + w_\\text{d}\\right] \\text{d}V,$$\n",
    "\n",
    "where $A = 13 \\,\\text{pJ}\\,\\text{m}^{-1}$ is the exchange energy constant, $M_\\text{s} = 8 \\times 10^{5} \\,\\text{A}\\,\\text{m}^{-1}$ magnetisation saturation, $w_\\text{d}$ demagnetisation energy density, $\\mathbf{H}$ an external magnetic field, and $\\mathbf{m}=\\mathbf{M}/M_\\text{s}$ the normalised magnetisation field.\n",
    "\n",
    "The magnetisation dynamics is governed by the Landau-Lifshitz-Gilbert equation consisting of precession and damping terms:\n",
    "\n",
    "$$\\frac{\\partial\\mathbf{m}}{\\partial t} = -\\frac{\\gamma_{0}}{1+\\alpha^{2}}\\mathbf{m}\\times\\mathbf{H}_\\text{eff} - \\frac{\\gamma_{0}\\alpha}{1+\\alpha^{2}}\\mathbf{m}\\times(\\mathbf{m}\\times\\mathbf{H}_\\text{eff}),$$\n",
    "\n",
    "where $\\gamma_{0} = 2.211 \\times 10^{5} \\,\\text{m}\\,\\text{A}^{-1}\\,\\text{s}^{-1}$ and $\\alpha = 0.05$ is the Gilbert damping.\n",
    "\n",
    "The (initial) magnetisation field is a vortex state, whose magnetisation at each point $(x, y, z)$ in the sample can be represented as $(m_{x}, m_{y}, m_{z}) = (-cy, cx, 0.1)$, with $c = 10^{-9} \\text{m}^{-1}$."
   ]
  },
  {
   "cell_type": "code",
   "execution_count": 1,
   "metadata": {
    "tags": []
   },
   "source": [
    "# Some initial configurations\n",
    "%config InlineBackend.figure_formats = ['svg']  # output matplotlib plots as SVG\n",
    "import pandas as pd\n",
    "import matplotlib.pyplot as plt\n",
    "pd.options.display.max_rows = 5\n",
    "pd.options.display.float_format = '{:,.2e}'.format"
   ],
   "outputs": []
  },
  {
   "cell_type": "markdown",
   "metadata": {},
   "source": [
    "## System initialisation\n",
    "\n",
    "The Ubermag code for defining the micromagnetic system is:"
   ]
  },
  {
   "cell_type": "code",
   "execution_count": 2,
   "metadata": {
    "tags": []
   },
   "source": [
    "import discretisedfield as df\n",
    "import micromagneticmodel as mm\n",
    "\n",
    "# Geometry\n",
    "r = 50e-9  # Radius of the thin nano magnetic disk (m)\n",
    "thickness = 10e-9  # sample thickness (m)\n",
    "\n",
    "# Material (Permalloy) parameters\n",
    "Ms = 8e5  # saturation magnetisation (A/m)\n",
    "A = 13e-12  # exchange energy constant (J/m)\n",
    "\n",
    "# Dynamics (LLG equation) parameters\n",
    "gamma0 = mm.consts.gamma0  # gyromagnetic ratio (m/As)\n",
    "alpha = 0.05  # Gilbert damping\n",
    "\n",
    "system = mm.System(name='vortex_dynamics')\n",
    "\n",
    "# Energy equation. We omit Zeeman energy term, because H=0.\n",
    "system.energy = mm.Exchange(A=A) + mm.Demag()\n",
    "\n",
    "# Dynamics equation\n",
    "system.dynamics = mm.Precession(gamma0=gamma0) + mm.Damping(alpha=alpha)\n",
    "\n",
    "\n",
    "# initial magnetisation state\n",
    "def m_init(point):\n",
    "    x, y, _ = point\n",
    "    c = 1e9  # (1/m)\n",
    "    return (-c*y, c*x, 0.1)\n",
    "\n",
    "\n",
    "# Defining the geometry of the material as a circular disk\n",
    "def Ms_func(point):\n",
    "    x, y, _ = point\n",
    "    if x**2 + y**2 <= r**2:\n",
    "        return Ms\n",
    "    else:\n",
    "        return 0\n",
    "\n",
    "\n",
    "# Sample's centre is placed at origin\n",
    "region = df.Region(p1=(-r, -r, -thickness/2), p2=(r, r, thickness/2))\n",
    "mesh = df.Mesh(region=region, cell=(5e-9, 5e-9, 10e-9))\n",
    "\n",
    "system.m = df.Field(mesh, nvdim=3, value=m_init, norm=Ms_func, valid='norm')"
   ],
   "outputs": []
  },
  {
   "cell_type": "markdown",
   "metadata": {},
   "source": [
    "The system object is now defined and we can investigate some of its properties:"
   ]
  },
  {
   "cell_type": "code",
   "execution_count": 3,
   "metadata": {
    "tags": []
   },
   "source": [
    "system.energy"
   ],
   "outputs": []
  },
  {
   "cell_type": "code",
   "execution_count": 4,
   "metadata": {
    "tags": []
   },
   "source": [
    "system.dynamics"
   ],
   "outputs": []
  },
  {
   "cell_type": "code",
   "execution_count": 5,
   "metadata": {
    "tags": [
     "nbval-ignore-output"
    ]
   },
   "source": [
    "system.m.orientation.sel('z').mpl()"
   ],
   "outputs": []
  },
  {
   "cell_type": "markdown",
   "metadata": {},
   "source": [
    "## Energy minimisation\n",
    "To carry out micromagnetic simulation, we need to use a micromagnetic calulator. We are going to use OOMMF for this.\n",
    "We can now relax the system in the absence of external magnetic field using energy minimisation driver (`MinDriver`):"
   ]
  },
  {
   "cell_type": "code",
   "execution_count": 6,
   "metadata": {
    "tags": [
     "nbval-ignore-output"
    ]
   },
   "source": [
    "import oommfc as oc  # Micromagnetic Calculator\n",
    "\n",
    "md = oc.MinDriver()\n",
    "md.drive(system)\n",
    "\n",
    "system.m.orientation.sel('z').mpl()"
   ],
   "outputs": []
  },
  {
   "cell_type": "markdown",
   "metadata": {
    "editable": true,
    "slideshow": {
     "slide_type": ""
    },
    "tags": []
   },
   "source": [
    "## Displacement with magnetic field\n",
    "\n",
    "Now, we have a relaxed vortex state, with its core at the centre of the sample. As the next step, we want to add an external magnetic field $H=3.4 \\times 10^{4}\\,\\text{Am}^{-1}$ in the positive $x$-direction to displace the vortex core. We do that by adding the Zeeman energy term to the energy equation:"
   ]
  },
  {
   "cell_type": "code",
   "execution_count": 7,
   "metadata": {
    "tags": [
     "nbval-ignore-output"
    ]
   },
   "source": [
    "H = (3.4e4, 0, 0)  # an external magnetic field (A/m)\n",
    "\n",
    "system.energy += mm.Zeeman(H=H)\n",
    "\n",
    "md.drive(system)\n",
    "system.m.orientation.sel('z').mpl()"
   ],
   "outputs": []
  },
  {
   "cell_type": "markdown",
   "metadata": {},
   "source": [
    "## Free relaxation\n",
    "\n",
    "The vortex core is now displaced in the positive $y$-direction. As the last step, we are going to turn off the external magnetic field and simulate dynamics using `TimeDriver`. We are going to run simulation for $20\\,\\text{ns}$ and save the magnetisation in $500$ steps."
   ]
  },
  {
   "cell_type": "code",
   "execution_count": 8,
   "metadata": {
    "tags": []
   },
   "source": [
    "system.energy -= mm.Zeeman(H=H)\n",
    "\n",
    "td = oc.TimeDriver()\n",
    "td.drive(system, t=20e-9, n=500, verbose=2)"
   ],
   "outputs": []
  },
  {
   "cell_type": "markdown",
   "metadata": {},
   "source": [
    "The final magnetisation state shows that the vortex core has moved back to the sample's centre."
   ]
  },
  {
   "cell_type": "code",
   "execution_count": 9,
   "metadata": {
    "tags": [
     "nbval-ignore-output"
    ]
   },
   "source": [
    "system.m.orientation.sel('z').mpl()"
   ],
   "outputs": []
  },
  {
   "cell_type": "markdown",
   "metadata": {},
   "source": [
    "## Data analysis\n",
    "\n",
    "### Spatially averaged data\n",
    "The table with scalar data saved during the simulation. Each row corresponds to one of the 500 saved configurations. We only show selected columns."
   ]
  },
  {
   "cell_type": "code",
   "execution_count": 10,
   "metadata": {
    "tags": [
     "nbval-ignore-output"
    ]
   },
   "source": [
    "system.table.data[['t', 'mx', 'my', 'mz', 'E']].head()"
   ],
   "outputs": []
  },
  {
   "cell_type": "markdown",
   "metadata": {},
   "source": [
    "We can now plot the average $m_{x}$, $m_{y}$ and $m_{z}$ values as taken from the table as a function of time to give us an idea of the vortex core position."
   ]
  },
  {
   "cell_type": "code",
   "execution_count": 11,
   "metadata": {
    "tags": [
     "nbval-ignore-output"
    ]
   },
   "source": [
    "system.table.mpl(y=['mx', 'my', 'mz'])"
   ],
   "outputs": []
  },
  {
   "cell_type": "markdown",
   "metadata": {},
   "source": [
    "### Spatially resolved data\n",
    "Finally, we are going to have a look at the magnetisation field at different time-steps using `micromagneticdata`."
   ]
  },
  {
   "cell_type": "code",
   "execution_count": 12,
   "metadata": {
    "tags": [
     "nbval-ignore-output"
    ]
   },
   "source": [
    "import micromagneticdata as mdata\n",
    "\n",
    "data = mdata.Data(system.name)\n",
    "data.info"
   ],
   "outputs": []
  },
  {
   "cell_type": "markdown",
   "metadata": {},
   "source": [
    "To interactively inspect the time dependent magnetisation, we use `data[-1]` to refer to the last drive."
   ]
  },
  {
   "cell_type": "code",
   "execution_count": 13,
   "metadata": {
    "tags": [
     "nbval-ignore-output"
    ]
   },
   "source": [
    "data[-1].hv(kdims=['x', 'y'], vdims=['x', 'y'], scalar_kw={'cmap': 'viridis', 'clim': (0, Ms)})"
   ],
   "outputs": []
  },
  {
   "cell_type": "markdown",
   "metadata": {},
   "source": [
    "We can now compute winding number using operators from `discretisedfield`:\n",
    "$$ S = \\frac{1}{4\\pi}\\iint q \\,\\,\\text{d}x\\text{d}y = \\frac{1}{4\\pi}\\iint\\mathbf{m}\\cdot\\left(\\frac{\\partial \\mathbf{m}}{\\partial x} \\times \\frac{\\partial \\mathbf{m}}{\\partial y~}\\right)\\text{d}x\\text{d}y$$"
   ]
  },
  {
   "cell_type": "code",
   "execution_count": 14,
   "metadata": {
    "tags": []
   },
   "source": [
    "import math\n",
    "\n",
    "m = system.m.orientation.sel('z')\n",
    "S = m.dot(m.diff(\"x\").cross(m.diff(\"y\"))).integrate() / (4 * math.pi)\n",
    "S"
   ],
   "outputs": []
  },
  {
   "cell_type": "markdown",
   "metadata": {},
   "source": [
    "The winding number is commonly used and there is a predefined function in `discretisedfield.tools`. To get more accurate results we use a different numerical method than just \"naively\" evaluating the integral."
   ]
  },
  {
   "cell_type": "code",
   "execution_count": 15,
   "metadata": {
    "editable": true,
    "slideshow": {
     "slide_type": ""
    },
    "tags": [
     "nbval-ignore-output"
    ]
   },
   "source": [
    "df.tools.topological_charge(system.m.sel('z'), method='berg-luescher')"
   ],
   "outputs": []
  },
  {
   "cell_type": "markdown",
   "metadata": {},
   "source": [
    "We can also plot the topological charge density in an interactive plot."
   ]
  },
  {
   "cell_type": "code",
   "execution_count": 16,
   "metadata": {
    "editable": true,
    "slideshow": {
     "slide_type": ""
    },
    "tags": [
     "nbval-ignore-output"
    ]
   },
   "source": [
    "data[-1].register_callback(lambda f: df.tools.topological_charge_density(f.sel('z'))).hv(kdims=['x', 'y'])"
   ],
   "outputs": []
  },
  {
   "cell_type": "markdown",
   "metadata": {},
   "source": [
    "### Trajectory of the vortex core\n",
    "\n",
    "We can compute the trajectory of the vortex core via the center of mass of the topological charge:\n",
    "$$\\mathbf{R} = \\frac{ \\int \\mathbf{r} \\rho(\\mathbf{r}) d^2\\mathbf{r}}{\\int \\rho(\\mathbf{r}) d^2\\mathbf{r}}. $$"
   ]
  },
  {
   "cell_type": "code",
   "execution_count": 17,
   "metadata": {
    "editable": true,
    "slideshow": {
     "slide_type": ""
    },
    "tags": [
     "nbval-ignore-output"
    ]
   },
   "source": [
    "rho = df.tools.topological_charge_density(system.m.sel('z'))\n",
    "r = system.m.sel('z').mesh.coordinate_field()\n",
    "R = (r*rho).integrate()/rho.integrate()\n",
    "R"
   ],
   "outputs": []
  },
  {
   "cell_type": "markdown",
   "metadata": {},
   "source": [
    "Now, we need to find the center of the vortex at each time step, this can be achieved by taking the data from last drive."
   ]
  },
  {
   "cell_type": "code",
   "execution_count": 18,
   "metadata": {},
   "source": [
    "def compute_vortex_centre(drive):\n",
    "    x_coords = []\n",
    "    y_coords = []\n",
    "\n",
    "    r = drive[0].sel('z').mesh.coordinate_field()\n",
    "    \n",
    "    for m in drive:\n",
    "        tcd = df.tools.topological_charge_density(m.sel('z'))\n",
    "        centre_of_mass = (r*tcd).integrate()/tcd.integrate()\n",
    "        x_coords.append(centre_of_mass[0])\n",
    "        y_coords.append(centre_of_mass[1])\n",
    "\n",
    "    return pd.DataFrame({'t': drive.table.data['t'], 'pos x': x_coords, 'pos y': y_coords})"
   ],
   "outputs": []
  },
  {
   "cell_type": "code",
   "execution_count": 19,
   "metadata": {},
   "source": [
    "pos_pol_plus = compute_vortex_centre(data[-1])"
   ],
   "outputs": []
  },
  {
   "cell_type": "markdown",
   "metadata": {},
   "source": [
    "We can now plot the vortex trajectory on top of the initial configuration."
   ]
  },
  {
   "cell_type": "code",
   "execution_count": 20,
   "metadata": {
    "editable": true,
    "slideshow": {
     "slide_type": ""
    },
    "tags": [
     "nbval-ignore-output"
    ]
   },
   "source": [
    "fig, ax = plt.subplots()\n",
    "data[-1][0].orientation.sel('z').mpl(ax=ax, scalar_kw={'clim': (0, 1)})\n",
    "ax.plot(pos_pol_plus['pos x']*1e9, pos_pol_plus['pos y']*1e9, c='yellow')"
   ],
   "outputs": []
  },
  {
   "cell_type": "markdown",
   "metadata": {},
   "source": [
    "Finally, let us delete all simulation files:"
   ]
  },
  {
   "cell_type": "code",
   "execution_count": 21,
   "metadata": {
    "tags": []
   },
   "source": [
    "oc.delete(system)"
   ],
   "outputs": []
  }
 ],
 "metadata": {
  "kernelspec": {
   "display_name": "Python 3 (ipykernel)",
   "language": "python",
   "name": "python3"
  },
  "language_info": {
   "codemirror_mode": {
    "name": "ipython",
    "version": 3
   },
   "file_extension": ".py",
   "mimetype": "text/x-python",
   "name": "python",
   "nbconvert_exporter": "python",
   "pygments_lexer": "ipython3",
   "version": "3.10.0"
  },
  "widgets": {
   "application/vnd.jupyter.widget-state+json": {
    "state": {},
    "version_major": 2,
    "version_minor": 0
   }
  }
 },
 "nbformat": 4,
 "nbformat_minor": 4
}
