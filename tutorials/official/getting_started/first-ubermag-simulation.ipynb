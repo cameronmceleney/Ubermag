{
 "cells": [
  {
   "cell_type": "markdown",
   "metadata": {},
   "source": [
    "# Our first ubermag simulation\n",
    "\n",
    "The main goal of this tutorial is to have a quick look at how a simple ubermag simulation inside Jupyter looks like and to make ourselves comfortable with Jupyter. We are going to try to guess what the meaning of Python commands in code cells is, and eventually try to identify the skeleton of ubermag simulation. There are probably going to be many parts you do not understand, but please do not worry - we are going to go into all the details in the next sessions.\n",
    "\n",
    "Before we specify and run the simulation, we have to import Ubermag modules we intend to use. For defining micromagnetic models, we need to import `micromagneticmodel` and for defining finite-diference fields, we are going to import `discretisedfield`."
   ]
  },
  {
   "cell_type": "code",
   "execution_count": 1,
   "metadata": {},
   "source": [
    "import micromagneticmodel as mm  # mm is just a shorter name we want to use later\n",
    "import discretisedfield as df  # df is just a shorter name we want to use later"
   ],
   "outputs": []
  },
  {
   "attachments": {},
   "cell_type": "markdown",
   "metadata": {},
   "source": [
    "## The main object in Ubermag: System object\n",
    "\n",
    "The main object in ubermag is `mm.System`. In order to define the micromagnetic system we want to simulate, we have to specify:\n",
    "\n",
    "1. Energy equation,\n",
    "2. Initial magentisation state configuration."
   ]
  },
  {
   "cell_type": "code",
   "execution_count": 2,
   "metadata": {},
   "source": [
    "system = mm.System(name='first_ubermag_simulation')"
   ],
   "outputs": []
  },
  {
   "cell_type": "markdown",
   "metadata": {},
   "source": [
    "### 1. Energy equation\n",
    "\n",
    "The energy equation for the first Ubermag simulaton is very simple and contains only the following energy terms:\n",
    "\n",
    "1. Exchange $A=1\\,\\text{pJ}/\\text{m}$,\n",
    "2. Zeeman $H=(5 \\times 10^{6}, 0, 0) \\,\\text{A/m}$,\n",
    "3. Demagnetisation."
   ]
  },
  {
   "cell_type": "code",
   "execution_count": 3,
   "metadata": {},
   "source": [
    "A = 1e-12  # exchange energy constant (J/m)\n",
    "H = (5e6, 0, 0)  # external magnetic field in the x-direction (A/m)\n",
    "system.energy = mm.Exchange(A=A) + mm.Demag() + mm.Zeeman(H=H)"
   ],
   "outputs": []
  },
  {
   "attachments": {},
   "cell_type": "markdown",
   "metadata": {},
   "source": [
    "### 2. Initial magnetisation\n",
    "\n",
    "We choose to simulate a cube with $50 \\,\\,\\text{nm}$ edge length and discretise it into $10$ cells in each direction ($1000$ in total). We initialise the system in positive $y$-direction, i.e. $\\mathbf{m} = (0, 1, 0)$, which is different from the equlibrium state we expect for the external magnetic field applied in $x$-direction. For its norm (saturation magnetisation), we choose $M_\\text{s} = 8\\times 10^{6} \\,\\text{A}/\\text{m}$."
   ]
  },
  {
   "cell_type": "code",
   "execution_count": 4,
   "metadata": {},
   "source": [
    "L = 50e-9  # cubic sample edge length (m)\n",
    "region = df.Region(p1=(0, 0, 0), p2=(L, L, L))\n",
    "mesh = df.Mesh(region=region, n=(10, 10, 10))\n",
    "\n",
    "Ms = 8e6  # saturation magnetisation (A/m)\n",
    "system.m = df.Field(mesh, nvdim=3, value=(0, 1, 0), norm=Ms)"
   ],
   "outputs": []
  },
  {
   "cell_type": "markdown",
   "metadata": {},
   "source": [
    "## Inspecting system object\n",
    "\n",
    "We have defined the system object and now we can do some inspection to make sure we did not make a mistake. First, we are going to check the energy equation:"
   ]
  },
  {
   "cell_type": "code",
   "execution_count": 5,
   "metadata": {},
   "source": [
    "system.energy"
   ],
   "outputs": []
  },
  {
   "attachments": {},
   "cell_type": "markdown",
   "metadata": {},
   "source": [
    "This gives us a human-readable equation, which is actually the sum of terms we defined earlier."
   ]
  },
  {
   "cell_type": "markdown",
   "metadata": {},
   "source": [
    "Inspecting magnetisation is sligtly more complicated because there are many things we can ask the magnetisation for. Let us have a look at a few basic ones and the rest of them, we are going to explore in later sessions.\n",
    "\n",
    "The region we defined is:"
   ]
  },
  {
   "cell_type": "code",
   "execution_count": 6,
   "metadata": {
    "tags": [
     "nbval-ignore-output"
    ]
   },
   "source": [
    "system.m.mesh.region.mpl()"
   ],
   "outputs": []
  },
  {
   "cell_type": "markdown",
   "metadata": {},
   "source": [
    "Representation of the mesh:"
   ]
  },
  {
   "cell_type": "code",
   "execution_count": 7,
   "metadata": {
    "tags": [
     "nbval-ignore-output"
    ]
   },
   "source": [
    "system.m.mesh.mpl()"
   ],
   "outputs": []
  },
  {
   "cell_type": "markdown",
   "metadata": {},
   "source": [
    "A 2d plot of the magnetisation in the z-slice:"
   ]
  },
  {
   "cell_type": "code",
   "execution_count": 8,
   "metadata": {},
   "source": [
    "system.m.sel('z').mpl()"
   ],
   "outputs": []
  },
  {
   "cell_type": "markdown",
   "metadata": {},
   "source": [
    "## Driving the system\n",
    "\n",
    "After the system object is created, we can minimise its energy (relax it) using the Minimisation Driver (`MinDriver`). At this point, we choose the calculator we want to use. During this workshop, we are going to use OOMMF. Therefore, we import OOMMF calculator - `oommfc`."
   ]
  },
  {
   "cell_type": "code",
   "execution_count": 9,
   "metadata": {},
   "source": [
    "import oommfc as mc\n",
    "\n",
    "md = mc.MinDriver()\n",
    "md.drive(system)"
   ],
   "outputs": []
  },
  {
   "attachments": {},
   "cell_type": "markdown",
   "metadata": {},
   "source": [
    "The system is now relaxed and its previous magnetisation is now replaced with the new one.\n",
    "\n",
    "Please note: `system.m` is updated after using a `Driver`. This means if you use a second `Driver` it will start from the `system.m` that was obtained after the first `Driver`. If you want to start from the initial `system.m` you will have to reinitialise it with a `df.Field` in the same way it was done originally (Cell 5). \n",
    "\n",
    "We can plot its slice and compute its average magnetisation."
   ]
  },
  {
   "cell_type": "code",
   "execution_count": 10,
   "metadata": {},
   "source": [
    "system.m.sel('z').resample((10, 10)).mpl()"
   ],
   "outputs": []
  },
  {
   "cell_type": "code",
   "execution_count": 11,
   "metadata": {
    "tags": [
     "nbval-ignore-output"
    ]
   },
   "source": [
    "system.m.mean()"
   ],
   "outputs": []
  },
  {
   "cell_type": "code",
   "execution_count": 12,
   "metadata": {
    "tags": [
     "nbval-ignore-output"
    ]
   },
   "source": [
    "system.m.orientation.mean()"
   ],
   "outputs": []
  },
  {
   "cell_type": "markdown",
   "metadata": {},
   "source": [
    "We can see that the magnetisation is aligned along the $x$-direction, as expected having in mind we applied the external magnetic field in that direction."
   ]
  }
 ],
 "metadata": {
  "anaconda-cloud": {},
  "kernelspec": {
   "display_name": "Python 3 (ipykernel)",
   "language": "python",
   "name": "python3"
  },
  "language_info": {
   "codemirror_mode": {
    "name": "ipython",
    "version": 3
   },
   "file_extension": ".py",
   "mimetype": "text/x-python",
   "name": "python",
   "nbconvert_exporter": "python",
   "pygments_lexer": "ipython3",
   "version": "3.10.12"
  },
  "vscode": {
   "interpreter": {
    "hash": "916dbcbb3f70747c44a77c7bcd40155683ae19c65e1c03b4aa3499c5328201f1"
   }
  },
  "widgets": {
   "application/vnd.jupyter.widget-state+json": {
    "state": {},
    "version_major": 2,
    "version_minor": 0
   }
  }
 },
 "nbformat": 4,
 "nbformat_minor": 4
}
