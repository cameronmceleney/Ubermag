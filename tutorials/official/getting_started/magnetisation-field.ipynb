{
 "cells": [
  {
   "cell_type": "markdown",
   "metadata": {},
   "source": [
    "# Magnetisation field\n",
    "\n",
    "One of the main objects, which we have to be specify as a part of the micromagnetic system is the magnetisation field $\\mathbf{M}$. In Ubermag, by defining the magnetisation field, the mesh, the geometry of the sample, as well as the magnetisation saturation $M_\\text{s}$ are defined.\n",
    "\n",
    "The Ubermag package we use to define finite difference regions, meshes, and fields is `discretisedfield` and we have to import it before we use it."
   ]
  },
  {
   "cell_type": "code",
   "execution_count": 1,
   "metadata": {},
   "source": [
    "import discretisedfield as df  # df is just a shorter name"
   ],
   "outputs": []
  },
  {
   "cell_type": "markdown",
   "metadata": {},
   "source": [
    "## Region\n",
    "\n",
    "In finite differences, the region on which the mesh and the field are specified is always cuboidal. In order to define a mesh, two points $p_{1}$ and $p_{2}$ must be passed to `discretisedfield.Region`. Those points correspond to two points between which the region spans.\n",
    "\n",
    "For instance, if we want to define the following region:\n",
    "\n",
    "$$x \\in [0, 100]\\,\\text{nm}$$\n",
    "$$y \\in [-20, 20]\\,\\text{nm}$$\n",
    "$$z \\in [0, 10]\\,\\text{nm}$$\n",
    "\n",
    "two points we need to pass are:\n",
    "\n",
    "$$p_\\text{1} = (0 \\,\\text{nm}, -20 \\,\\text{nm}, 0 \\,\\text{nm})$$\n",
    "$$p_\\text{2} = (100 \\,\\text{nm}, 20 \\,\\text{nm}, 10 \\,\\text{nm})$$\n",
    "\n",
    "In Ubermag, points are defined as sequences, for instance, tuples. The length of these sequences gives the number of spatial dimensions that are defined in the region. Accordingly, the region we want is:"
   ]
  },
  {
   "cell_type": "code",
   "execution_count": 2,
   "metadata": {},
   "source": [
    "p1 = (0, -20e-9, 0)  # point 1\n",
    "p2 = (100e-9, 20e-9, 10e-9)  # point 2\n",
    "\n",
    "region = df.Region(p1=p1, p2=p2)"
   ],
   "outputs": []
  },
  {
   "cell_type": "markdown",
   "metadata": {},
   "source": [
    "There are several quantitites we can ask the region object for."
   ]
  },
  {
   "cell_type": "code",
   "execution_count": 3,
   "metadata": {},
   "source": [
    "region.pmin  # minimum coordinate in the region"
   ],
   "outputs": []
  },
  {
   "cell_type": "code",
   "execution_count": 4,
   "metadata": {},
   "source": [
    "region.pmax  # maximum coordinate in the region"
   ],
   "outputs": []
  },
  {
   "cell_type": "code",
   "execution_count": 5,
   "metadata": {},
   "source": [
    "region.centre  # the region centre"
   ],
   "outputs": []
  },
  {
   "cell_type": "code",
   "execution_count": 6,
   "metadata": {},
   "source": [
    "region.edges  # edge lengths of the region"
   ],
   "outputs": []
  },
  {
   "cell_type": "markdown",
   "metadata": {},
   "source": [
    "We can visualise the region e.g. using matplotlib `mpl()`."
   ]
  },
  {
   "cell_type": "code",
   "execution_count": 7,
   "metadata": {},
   "source": [
    "region.mpl()"
   ],
   "outputs": []
  },
  {
   "cell_type": "markdown",
   "metadata": {},
   "source": [
    "## Mesh\n",
    "\n",
    "After the region is defined, we need to discretise it in order to define a mesh. There are two ways how a region can be discretised - by passing:\n",
    "\n",
    "1. Discretisation cell size (`cell`), or\n",
    "2. Number of discretisation cells in all three directions (`n`).\n",
    "\n",
    "Let us say we want to discretise our region in cells of size $(10\\,\\text{nm}, 10\\,\\text{nm}, 10\\,\\text{nm})$. Then, we pass the region and the cell size to `Mesh` class."
   ]
  },
  {
   "cell_type": "code",
   "execution_count": 8,
   "metadata": {},
   "source": [
    "cell = (10e-9, 10e-9, 10e-9)  # discretisation cell\n",
    "mesh = df.Mesh(region=region, cell=cell)  # mesh definition"
   ],
   "outputs": []
  },
  {
   "cell_type": "markdown",
   "metadata": {},
   "source": [
    "We can then inspect some basic parameters of the mesh."
   ]
  },
  {
   "cell_type": "code",
   "execution_count": 9,
   "metadata": {},
   "source": [
    "mesh.n  # number of discretisation cells"
   ],
   "outputs": []
  },
  {
   "cell_type": "code",
   "execution_count": 10,
   "metadata": {},
   "source": [
    "len(mesh)  # total number of discretisation cells"
   ],
   "outputs": []
  },
  {
   "cell_type": "markdown",
   "metadata": {},
   "source": [
    "We can visualise the mesh e.g. using matplotlib `mpl()`."
   ]
  },
  {
   "cell_type": "code",
   "execution_count": 11,
   "metadata": {},
   "source": [
    "mesh.mpl()"
   ],
   "outputs": []
  },
  {
   "cell_type": "markdown",
   "metadata": {},
   "source": [
    "When we have the mesh object created, we can access the region using `.` operator. For instance:"
   ]
  },
  {
   "cell_type": "code",
   "execution_count": 12,
   "metadata": {},
   "source": [
    "mesh.region.centre"
   ],
   "outputs": []
  },
  {
   "cell_type": "markdown",
   "metadata": {},
   "source": [
    "## Field\n",
    "\n",
    "After we defined the mesh, we can define a finite difference field. For that, we use `Field` class. We must provide the following 3 mandatory parameters:\n",
    "\n",
    "1. mesh (`discretisedfield.Mesh`),\n",
    "2. dimension of the value/vector (e.g. `nvdim=1` for scalar, `nvdim=3` for three dimensional vector),\n",
    "3. value of the field (`value`).\n",
    "\n",
    "For instance, let us define a 3D-vector field (`nvdim=3`) that is uniform in the $x$-direction `value=(1, 0, 0)` direction."
   ]
  },
  {
   "cell_type": "code",
   "execution_count": 13,
   "metadata": {},
   "source": [
    "m = df.Field(mesh, nvdim=3, value=(1, 0, 0))"
   ],
   "outputs": []
  },
  {
   "cell_type": "markdown",
   "metadata": {},
   "source": [
    "A simple visualisation of the field in $z$-slice through the middle is:"
   ]
  },
  {
   "cell_type": "code",
   "execution_count": 14,
   "metadata": {},
   "source": [
    "m.sel('z').mpl()"
   ],
   "outputs": []
  },
  {
   "cell_type": "markdown",
   "metadata": {},
   "source": [
    "The average value of the field is:"
   ]
  },
  {
   "cell_type": "code",
   "execution_count": 15,
   "metadata": {},
   "source": [
    "m.mean()"
   ],
   "outputs": []
  },
  {
   "cell_type": "markdown",
   "metadata": {},
   "source": [
    "We can specify the norm of the field, by passing `norm` parameter. In the case of magnetisation, norm corresponds to magnetisation saturation $M_\\text{s}$."
   ]
  },
  {
   "cell_type": "code",
   "execution_count": 16,
   "metadata": {},
   "source": [
    "Ms = 8e6  # A/m\n",
    "m = df.Field(mesh, nvdim=3, value=(0, 0, 1), norm=Ms)"
   ],
   "outputs": []
  },
  {
   "cell_type": "markdown",
   "metadata": {},
   "source": [
    "Now, if we have a look at the average:"
   ]
  },
  {
   "cell_type": "code",
   "execution_count": 17,
   "metadata": {},
   "source": [
    "m.mean()"
   ],
   "outputs": []
  },
  {
   "cell_type": "markdown",
   "metadata": {},
   "source": [
    "### Spatially varying field value\n",
    "\n",
    "When we defined a uniform vector field, we used a tuple `value=(1, 0, 0)` to define its value. However, we can also pass a callable (e.g. Python function) if we want to define a non-uniform field. This function takes the coordinate of the mesh cell as an input, and returns a value that the field should have at that point. The function must be defined at all points in the mesh."
   ]
  },
  {
   "cell_type": "code",
   "execution_count": 18,
   "metadata": {},
   "source": [
    "def m_value(point):\n",
    "    x, y, z = point  # unpack position into individual components\n",
    "    if y > 0:\n",
    "        return (1, 0, 0)\n",
    "    else:\n",
    "        return (-1, 1, 0)\n",
    "    \n",
    "m = df.Field(mesh, nvdim=3, value=m_value)"
   ],
   "outputs": []
  },
  {
   "cell_type": "markdown",
   "metadata": {},
   "source": [
    "Now, we can plot it using `mpl`."
   ]
  },
  {
   "cell_type": "code",
   "execution_count": 19,
   "metadata": {},
   "source": [
    "m.sel('z').mpl()"
   ],
   "outputs": []
  },
  {
   "cell_type": "markdown",
   "metadata": {},
   "source": [
    "The field object can be treated as a callable - if we pass a point to the function, it will return the vector value of the field at that location:"
   ]
  },
  {
   "cell_type": "code",
   "execution_count": 20,
   "metadata": {},
   "source": [
    "point = (0, -10e-9, 0)\n",
    "m(point)"
   ],
   "outputs": []
  },
  {
   "cell_type": "code",
   "execution_count": 21,
   "metadata": {},
   "source": [
    "point = (0, 10e-9, 0)\n",
    "m(point)"
   ],
   "outputs": []
  },
  {
   "cell_type": "code",
   "execution_count": 22,
   "metadata": {},
   "source": [
    "m(m.mesh.region.centre)"
   ],
   "outputs": []
  },
  {
   "cell_type": "markdown",
   "metadata": {},
   "source": [
    "### Spatially varying $M_\\mathrm{s}$\n",
    "\n",
    "By defining a norm of a field, we can specify different geometries. More precisely, we can set $M_\\text{s}=0$ where no magnetic material is present. For instance, let us assume we want to define a sphere of radius $r=50\\,\\text{nm}$, discrectised by 10 cells in each direction, and magnetise it in the negative $y$ direction. We can also set where we want the field to be valid, for example where the norm is not zero."
   ]
  },
  {
   "cell_type": "code",
   "execution_count": 23,
   "metadata": {},
   "source": [
    "r = 50e-9\n",
    "n = (10, 10, 10)\n",
    "region = df.Region(p1=(-r, -r, -r), p2=(r, r, r))\n",
    "mesh = df.Mesh(region=region, n=n)\n",
    "\n",
    "def Ms_value(point):\n",
    "    x, y, z = point\n",
    "    if x**2 + y**2 + z**2 < r**2:\n",
    "        return Ms\n",
    "    else:\n",
    "        return 0\n",
    "\n",
    "m = df.Field(mesh, nvdim=3, value=(0, -1, 0), norm=Ms_value, valid=\"norm\")\n",
    "\n",
    "m.sel('z').mpl()"
   ],
   "outputs": []
  },
  {
   "cell_type": "markdown",
   "metadata": {},
   "source": [
    "## Example\n",
    "\n",
    "Let us define a thin-film disk sample of thickness $t = 10 \\,\\text{nm}$ and diameter $d = 120 \\,\\text{nm}$. The saturation magnetisation $M_\\mathrm{s} = 10^{7}\\mathrm{A/m}$. The disk is centred at the origin (0, 0, 0) and the magnetisation is $\\mathbf{m} = (1, 0, 0)$ at all mesh points."
   ]
  },
  {
   "cell_type": "code",
   "execution_count": 24,
   "metadata": {
    "tags": [
     "nbval-ignore-output"
    ]
   },
   "source": [
    "t = 10e-9  # thickness (m)\n",
    "d = 120e-9  # diameter (m)\n",
    "cell = (5e-9, 5e-9, 5e-9)  # discretisation cell size (m)\n",
    "Ms = 1e7  # saturation magnetisation (A/m)\n",
    "\n",
    "region = df.Region(p1=(-d/2, -d/2, -t/2), p2=(d/2, d/2, t/2))\n",
    "mesh = df.Mesh(region=region, cell=cell)\n",
    "\n",
    "def Ms_value(point):\n",
    "    x, y, z = point\n",
    "    if (x**2 + y**2)**0.5 < d/2:\n",
    "        return Ms\n",
    "    else:\n",
    "        return 0\n",
    "\n",
    "m = df.Field(mesh, nvdim=3, value=(1, 0, 0), norm=Ms_value)\n",
    "\n",
    "m.norm.sel('z').mpl()"
   ],
   "outputs": []
  },
  {
   "cell_type": "markdown",
   "metadata": {},
   "source": [
    "Now, let us say we want to extend the solution from the previous example so that the magnetisation is:\n",
    "\n",
    "$$\\mathbf{m} = \\begin{cases} (-1, 0, 0) & \\text{for } y \\le 0 \\\\ (1, 1, 1) & \\text{for } y > 0 \\end{cases}$$\n",
    "\n",
    "with saturation magnetisation $M_\\text{s} = 10^{7} \\,\\text{A}\\,\\text{m}^{-1}$."
   ]
  },
  {
   "cell_type": "code",
   "execution_count": 25,
   "metadata": {},
   "source": [
    "def m_value(pos):\n",
    "    x, y, z = pos\n",
    "    if y <= 0:\n",
    "        return (-1, 0, 0)\n",
    "    else:\n",
    "        return (1, 1, 1)\n",
    "    \n",
    "m = df.Field(mesh, nvdim=3, value=m_value, norm=Ms_value)\n",
    "\n",
    "m.sel('z').resample((15, 15)).mpl()"
   ],
   "outputs": []
  },
  {
   "cell_type": "markdown",
   "metadata": {},
   "source": [
    "## Exercise\n",
    "\n",
    "Define the following sample with $10\\,\\text{nm}$ thickness:\n",
    "\n",
    "   <img src=\"figures/geometry_exercise2.png\" width=\"400\">  \n",
    "\n",
    "The magnetisation saturation is $M_\\mathrm{s} = 8 \\times 10^{6} \\,\\mathrm{A}\\,\\mathrm{m}^{-1}$ and the magnetisation direction is as shown in the figure.\n",
    "\n",
    "**Solution**"
   ]
  },
  {
   "cell_type": "code",
   "execution_count": 26,
   "metadata": {},
   "source": [
    "cell = (5e-9, 5e-9, 5e-9)  # discretisation cell size (m)\n",
    "Ms = 8e6  # saturation magnetisation (A/m)\n",
    "\n",
    "region = df.Region(p1=(0, 0, 0), p2=(100e-9, 50e-9, 10e-9))\n",
    "mesh = df.Mesh(region=region, cell=cell)\n",
    "\n",
    "def Ms_value(pos):\n",
    "    x, y, z = pos\n",
    "    if x < 50e-9 and y > 35e-9:\n",
    "        return 0\n",
    "    else:\n",
    "        return Ms\n",
    "    \n",
    "def m_value(pos):\n",
    "    x, y, z = pos\n",
    "    if 20e-9 < x <= 30e-9:\n",
    "        return (1, 1, -1)\n",
    "    else:\n",
    "        return (1, 1, 1)\n",
    "    \n",
    "m = df.Field(mesh, nvdim=3, value=m_value, norm=Ms_value, valid=\"norm\")\n",
    "\n",
    "m.sel('z').mpl()"
   ],
   "outputs": []
  }
 ],
 "metadata": {
  "kernelspec": {
   "display_name": "Python 3 (ipykernel)",
   "language": "python",
   "name": "python3"
  },
  "language_info": {
   "codemirror_mode": {
    "name": "ipython",
    "version": 3
   },
   "file_extension": ".py",
   "mimetype": "text/x-python",
   "name": "python",
   "nbconvert_exporter": "python",
   "pygments_lexer": "ipython3",
   "version": "3.10.12"
  },
  "widgets": {
   "application/vnd.jupyter.widget-state+json": {
    "state": {
     "021acbac02a245489a5184dcce877644": {
      "model_module": "@jupyter-widgets/output",
      "model_module_version": "1.0.0",
      "model_name": "OutputModel",
      "state": {
       "layout": "IPY_MODEL_893697d50602494ab099b4099f58f753",
       "outputs": [
        {
         "data": {
          "application/vnd.jupyter.widget-view+json": {
           "model_id": "c21b546829924ad6bdbee9b11114c43a",
           "version_major": 2,
           "version_minor": 0
          },
          "text/plain": "Plot(antialias=3, axes=['x', 'y', 'z'], axes_helper=1.0, background_color=16777215, camera_animation=[], camer…"
         },
         "metadata": {},
         "output_type": "display_data"
        }
       ]
      }
     },
     "05664ace11a141d3b99b4abafe357035": {
      "model_module": "@jupyter-widgets/output",
      "model_module_version": "1.0.0",
      "model_name": "OutputModel",
      "state": {
       "layout": "IPY_MODEL_f9cf8363beca40a0b1bb757489f3c0f8",
       "outputs": [
        {
         "data": {
          "application/vnd.jupyter.widget-view+json": {
           "model_id": "bdd0e588680e4343a167723c7660048b",
           "version_major": 2,
           "version_minor": 0
          },
          "text/plain": "Plot(antialias=3, axes=['x', 'y', 'z'], axes_helper=1.0, background_color=16777215, camera_animation=[], camer…"
         },
         "metadata": {},
         "output_type": "display_data"
        }
       ]
      }
     },
     "05f56747b0114600af5c88df60d7aa48": {
      "buffers": [
       {
        "data": "UoTdAFKE3QBShN0AUoTdAFKE3QBShN0AUoTdAFKE3QBShN0AUoTdAFKE3QBShN0AUoTdAFKE3QBShN0AUoTdAFKE3QBShN0AUoTdAFKE3QBShN0AUoTdAFKE3QBShN0AUoTdAFKE3QBShN0AUoTdAFKE3QBShN0AUoTdAFKE3QBShN0AUoTdAFKE3QBShN0AUoTdAFKE3QBShN0AUoTdAFKE3QBShN0AUoTdAFKE3QBShN0AUoTdAFKE3QBShN0AUoTdAFKE3QBShN0AUoTdAFKE3QBShN0AUoTdAFKE3QBShN0AUoTdAFKE3QBShN0AUoTdAFKE3QBShN0AUoTdAFKE3QBShN0AUoTdAFKE3QBShN0AUoTdAFKE3QBShN0AUoTdAFKE3QBShN0AUoTdAFKE3QBShN0AUoTdAFKE3QA=",
        "encoding": "base64",
        "path": [
         "colors",
         "data"
        ]
       },
       {
        "data": "AACAPwAAAAAAAAAAAAAAAAAAAAAAAIA/AAAAAAAAAAAAAAAAAAAAAAAAgD8AAAAAAAAAAAAAAAAAAAAAAACAPw==",
        "encoding": "base64",
        "path": [
         "model_matrix",
         "data"
        ]
       },
       {
        "data": "AAAAAAAAcMEAAKBAAAAgQQAAcMEAAKBAAACgQQAAcMEAAKBAAADwQQAAcMEAAKBAAAAgQgAAcMEAAKBAAABIQgAAcMEAAKBAAABwQgAAcMEAAKBAAACMQgAAcMEAAKBAAACgQgAAcMEAAKBAAAC0QgAAcMEAAKBAAAAAAAAAoMAAAKBAAAAgQQAAoMAAAKBAAACgQQAAoMAAAKBAAADwQQAAoMAAAKBAAAAgQgAAoMAAAKBAAABIQgAAoMAAAKBAAABwQgAAoMAAAKBAAACMQgAAoMAAAKBAAACgQgAAoMAAAKBAAAC0QgAAoMAAAKBAAAAAAAAAoEAAAKBAAAAgQQAAoEAAAKBAAACgQQAAoEAAAKBAAADwQQAAoEAAAKBAAAAgQgAAoEAAAKBAAABIQgAAoEAAAKBAAABwQgAAoEAAAKBAAACMQgAAoEAAAKBAAACgQgAAoEAAAKBAAAC0QgAAoEAAAKBAAAAAAAAAcEEAAKBAAAAgQQAAcEEAAKBAAACgQQAAcEEAAKBAAADwQQAAcEEAAKBAAAAgQgAAcEEAAKBAAABIQgAAcEEAAKBAAABwQgAAcEEAAKBAAACMQgAAcEEAAKBAAACgQgAAcEEAAKBAAAC0QgAAcEEAAKBA",
        "encoding": "base64",
        "path": [
         "origins",
         "data"
        ]
       },
       {
        "data": "AAAgQQAAAAAAAAAAAAAgQQAAAAAAAAAAAAAgQQAAAAAAAAAAAAAgQQAAAAAAAAAAAAAgQQAAAAAAAAAAAAAgQQAAAAAAAAAAAAAgQQAAAAAAAAAAAAAgQQAAAAAAAAAAAAAgQQAAAAAAAAAAAAAgQQAAAAAAAAAAAAAgQQAAAAAAAAAAAAAgQQAAAAAAAAAAAAAgQQAAAAAAAAAAAAAgQQAAAAAAAAAAAAAgQQAAAAAAAAAAAAAgQQAAAAAAAAAAAAAgQQAAAAAAAAAAAAAgQQAAAAAAAAAAAAAgQQAAAAAAAAAAAAAgQQAAAAAAAAAAAAAgQQAAAAAAAAAAAAAgQQAAAAAAAAAAAAAgQQAAAAAAAAAAAAAgQQAAAAAAAAAAAAAgQQAAAAAAAAAAAAAgQQAAAAAAAAAAAAAgQQAAAAAAAAAAAAAgQQAAAAAAAAAAAAAgQQAAAAAAAAAAAAAgQQAAAAAAAAAAAAAgQQAAAAAAAAAAAAAgQQAAAAAAAAAAAAAgQQAAAAAAAAAAAAAgQQAAAAAAAAAAAAAgQQAAAAAAAAAAAAAgQQAAAAAAAAAAAAAgQQAAAAAAAAAAAAAgQQAAAAAAAAAAAAAgQQAAAAAAAAAAAAAgQQAAAAAAAAAA",
        "encoding": "base64",
        "path": [
         "vectors",
         "data"
        ]
       }
      ],
      "model_module": "k3d",
      "model_module_version": "2.11.0",
      "model_name": "ObjectModel",
      "state": {
       "_view_count": null,
       "_view_module": null,
       "_view_module_version": "",
       "_view_name": null,
       "colorLegend": false,
       "colors": {
        "data": {},
        "dtype": "uint32",
        "shape": [
         40,
         2
        ]
       },
       "compression_level": 0,
       "head_color": 255,
       "head_size": 20,
       "id": 140098903943968,
       "label_size": 1,
       "labels": [],
       "line_width": 0.01,
       "model_matrix": {
        "data": {},
        "dtype": "float32",
        "shape": [
         4,
         4
        ]
       },
       "name": "Vectors #1",
       "origin_color": 255,
       "origins": {
        "data": {},
        "dtype": "float32",
        "shape": [
         40,
         3
        ]
       },
       "type": "Vectors",
       "use_head": true,
       "vectors": {
        "data": {},
        "dtype": "float32",
        "shape": [
         40,
         3
        ]
       },
       "visible": true
      }
     },
     "194d6d8b02784f18b3d55e2b1e1f98a8": {
      "model_module": "@jupyter-widgets/base",
      "model_module_version": "1.2.0",
      "model_name": "LayoutModel",
      "state": {}
     },
     "1ab14bfdc1ec446e92018b52f0e88949": {
      "model_module": "k3d",
      "model_module_version": "2.11.0",
      "model_name": "PlotModel",
      "state": {
       "_backend_version": "2.11.0",
       "_dom_classes": [],
       "_view_count": null,
       "antialias": 3,
       "auto_rendering": true,
       "axes": [
        "x\\,\\text{ (nm)}",
        "y\\,\\text{ (nm)}",
        "z\\,\\text{ (nm)}"
       ],
       "axes_helper": 1,
       "background_color": 16777215,
       "camera": [
        144.83307408319013,
        -218.49961098043016,
        14.033307460287052,
        -0.4999999422580004,
        -0.4999999422580004,
        -0.4999999422580004,
        0,
        0,
        1
       ],
       "camera_animation": [],
       "camera_auto_fit": true,
       "camera_damping_factor": 0,
       "camera_fov": 60,
       "camera_mode": "trackball",
       "camera_no_pan": false,
       "camera_no_rotate": false,
       "camera_no_zoom": false,
       "camera_pan_speed": 0.3,
       "camera_rotate_speed": 1,
       "camera_zoom_speed": 1.2,
       "clipping_planes": [],
       "colorbar_object_id": -1,
       "colorbar_scientific": false,
       "fps": 25,
       "fps_meter": false,
       "grid": [
        -1,
        -1,
        -1,
        1,
        1,
        1
       ],
       "grid_auto_fit": true,
       "grid_color": 15132390,
       "grid_visible": true,
       "height": 512,
       "label_color": 4473924,
       "layout": "IPY_MODEL_aaac4ed50e9c4c5aa3ae08ca7c60c769",
       "lighting": 1.5,
       "manipulate_mode": "translate",
       "menu_visibility": true,
       "mode": "view",
       "name": null,
       "object_ids": [
        140098902442144
       ],
       "rendering_steps": 1,
       "screenshot": "",
       "screenshot_scale": 2,
       "snapshot": "",
       "snapshot_type": "full",
       "time": 0,
       "voxel_paint_color": 0
      }
     },
     "1c95a7587fab423a9f8fbee0deb0e19e": {
      "buffers": [
       {
        "data": "sHJMAA==",
        "encoding": "base64",
        "path": [
         "color_map",
         "data"
        ]
       },
       {
        "data": "AADIQgAAAAAAAAAAAABIQgAAAAAAACBCAAAAAAAAAAAAAAAAAAAAAAAAIEEAAKBAAAAAAAAAAAAAAAAAAACAPw==",
        "encoding": "base64",
        "path": [
         "model_matrix",
         "data"
        ]
       },
       {
        "data": "AQ==",
        "encoding": "base64",
        "path": [
         "voxels",
         "data"
        ]
       }
      ],
      "model_module": "k3d",
      "model_module_version": "2.11.0",
      "model_name": "ObjectModel",
      "state": {
       "_view_count": null,
       "_view_module": null,
       "_view_module_version": "",
       "_view_name": null,
       "colorLegend": false,
       "color_map": {
        "data": {},
        "dtype": "uint32",
        "shape": []
       },
       "compression_level": 0,
       "id": 140098939852256,
       "model_matrix": {
        "data": {},
        "dtype": "float32",
        "shape": [
         4,
         4
        ]
       },
       "name": "Voxels #1",
       "opacity": 1,
       "outlines": false,
       "outlines_color": 0,
       "type": "Voxels",
       "visible": true,
       "voxels": {
        "data": {},
        "dtype": "uint8",
        "shape": [
         1,
         1,
         1
        ]
       },
       "wireframe": false
      }
     },
     "3505ad26d08746458f00fff4dd6855a9": {
      "model_module": "@jupyter-widgets/base",
      "model_module_version": "1.2.0",
      "model_name": "LayoutModel",
      "state": {}
     },
     "376550f2c6a940a6a1723f445bde1fb6": {
      "model_module": "@jupyter-widgets/output",
      "model_module_version": "1.0.0",
      "model_name": "OutputModel",
      "state": {
       "layout": "IPY_MODEL_3505ad26d08746458f00fff4dd6855a9",
       "outputs": [
        {
         "data": {
          "application/vnd.jupyter.widget-view+json": {
           "model_id": "dbb1db4153b043babc18a05374b412df",
           "version_major": 2,
           "version_minor": 0
          },
          "text/plain": "Plot(antialias=3, axes=['x', 'y', 'z'], axes_helper=1.0, background_color=16777215, camera_animation=[], camer…"
         },
         "metadata": {},
         "output_type": "display_data"
        }
       ]
      }
     },
     "630523617380428789b5a900cd8c6cc6": {
      "model_module": "@jupyter-widgets/base",
      "model_module_version": "1.2.0",
      "model_name": "LayoutModel",
      "state": {}
     },
     "66c8473522974252956c50296d592152": {
      "model_module": "@jupyter-widgets/output",
      "model_module_version": "1.0.0",
      "model_name": "OutputModel",
      "state": {
       "layout": "IPY_MODEL_852050a5760343b8b419e004f22ff56e",
       "outputs": [
        {
         "data": {
          "application/vnd.jupyter.widget-view+json": {
           "model_id": "aa2f0207bfef40c6812fcbde0d158bf1",
           "version_major": 2,
           "version_minor": 0
          },
          "text/plain": "Plot(antialias=3, axes=['x', 'y', 'z'], axes_helper=1.0, background_color=16777215, camera_animation=[], camer…"
         },
         "metadata": {},
         "output_type": "display_data"
        }
       ]
      }
     },
     "68e17d69caf542828b8ac34538ea4de9": {
      "model_module": "@jupyter-widgets/output",
      "model_module_version": "1.0.0",
      "model_name": "OutputModel",
      "state": {
       "layout": "IPY_MODEL_e50e2f4956b24fbeb2aab0613839b2a3",
       "outputs": [
        {
         "data": {
          "application/vnd.jupyter.widget-view+json": {
           "model_id": "1ab14bfdc1ec446e92018b52f0e88949",
           "version_major": 2,
           "version_minor": 0
          },
          "text/plain": "Plot(antialias=3, axes=['x', 'y', 'z'], axes_helper=1.0, background_color=16777215, camera_animation=[], camer…"
         },
         "metadata": {},
         "output_type": "display_data"
        }
       ]
      }
     },
     "6a095690941546c6802dec050d5093cc": {
      "buffers": [
       {
        "data": "",
        "encoding": "base64",
        "path": [
         "attribute",
         "data"
        ]
       },
       {
        "data": "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",
        "encoding": "base64",
        "path": [
         "color_map",
         "data"
        ]
       },
       {
        "data": "",
        "encoding": "base64",
        "path": [
         "colors",
         "data"
        ]
       },
       {
        "data": "AACAPwAAAAAAAAAAAAAAAAAAAAAAAIA/AAAAAAAAAAAAAAAAAAAAAAAAgD8AAAAAAAAAAAAAAAAAAAAAAACAPw==",
        "encoding": "base64",
        "path": [
         "model_matrix",
         "data"
        ]
       },
       {
        "data": "",
        "encoding": "base64",
        "path": [
         "opacities",
         "data"
        ]
       },
       {
        "data": "",
        "encoding": "base64",
        "path": [
         "opacity_function",
         "data"
        ]
       },
       {
        "data": "",
        "encoding": "base64",
        "path": [
         "point_sizes",
         "data"
        ]
       },
       {
        "data": "AACgQAAAcMEAAKBAAABwQQAAcMEAAKBAAADIQQAAcMEAAKBAAAAMQgAAcMEAAKBAAAA0QgAAcMEAAKBAAABcQgAAcMEAAKBAAACCQgAAcMEAAKBAAACWQgAAcMEAAKBAAACqQgAAcMEAAKBAAAC+QgAAcMEAAKBAAACgQAAAoMAAAKBAAABwQQAAoMAAAKBAAADIQQAAoMAAAKBAAAAMQgAAoMAAAKBAAAA0QgAAoMAAAKBAAABcQgAAoMAAAKBAAACCQgAAoMAAAKBAAACWQgAAoMAAAKBAAACqQgAAoMAAAKBAAAC+QgAAoMAAAKBAAACgQAAAoEAAAKBAAABwQQAAoEAAAKBAAADIQQAAoEAAAKBAAAAMQgAAoEAAAKBAAAA0QgAAoEAAAKBAAABcQgAAoEAAAKBAAACCQgAAoEAAAKBAAACWQgAAoEAAAKBAAACqQgAAoEAAAKBAAAC+QgAAoEAAAKBAAACgQAAAcEEAAKBAAABwQQAAcEEAAKBAAADIQQAAcEEAAKBAAAAMQgAAcEEAAKBAAAA0QgAAcEEAAKBAAABcQgAAcEEAAKBAAACCQgAAcEEAAKBAAACWQgAAcEEAAKBAAACqQgAAcEEAAKBAAAC+QgAAcEEAAKBA",
        "encoding": "base64",
        "path": [
         "positions",
         "data"
        ]
       }
      ],
      "model_module": "k3d",
      "model_module_version": "2.11.0",
      "model_name": "ObjectModel",
      "state": {
       "_view_count": null,
       "_view_module": null,
       "_view_module_version": "",
       "_view_name": null,
       "attribute": {
        "data": {},
        "dtype": "float32",
        "shape": [
         0
        ]
       },
       "color": 5010096,
       "colorLegend": false,
       "color_map": {
        "data": {},
        "dtype": "float32",
        "shape": [
         1024
        ]
       },
       "color_range": [],
       "colors": {
        "data": {},
        "dtype": "uint32",
        "shape": [
         0
        ]
       },
       "compression_level": 0,
       "id": 140098903943008,
       "mesh_detail": 2,
       "model_matrix": {
        "data": {},
        "dtype": "float32",
        "shape": [
         4,
         4
        ]
       },
       "name": "Points #1",
       "opacities": {
        "data": {},
        "dtype": "float32",
        "shape": [
         0
        ]
       },
       "opacity": 1,
       "opacity_function": {
        "data": {},
        "dtype": "float32",
        "shape": [
         0
        ]
       },
       "point_size": 2.5,
       "point_sizes": {
        "data": {},
        "dtype": "float32",
        "shape": [
         0
        ]
       },
       "positions": {
        "data": {},
        "dtype": "float32",
        "shape": [
         40,
         3
        ]
       },
       "shader": "3dSpecular",
       "type": "Points",
       "visible": true
      }
     },
     "852050a5760343b8b419e004f22ff56e": {
      "model_module": "@jupyter-widgets/base",
      "model_module_version": "1.2.0",
      "model_name": "LayoutModel",
      "state": {}
     },
     "893697d50602494ab099b4099f58f753": {
      "model_module": "@jupyter-widgets/base",
      "model_module_version": "1.2.0",
      "model_name": "LayoutModel",
      "state": {}
     },
     "aa2f0207bfef40c6812fcbde0d158bf1": {
      "model_module": "k3d",
      "model_module_version": "2.11.0",
      "model_name": "PlotModel",
      "state": {
       "_backend_version": "2.11.0",
       "_dom_classes": [],
       "_view_count": null,
       "antialias": 3,
       "auto_rendering": true,
       "axes": [
        "x\\,\\text{(nm)}",
        "y\\,\\text{(nm)}",
        "z\\,\\text{(nm)}"
       ],
       "axes_helper": 1,
       "background_color": 16777215,
       "camera": [
        140.60517762479648,
        -137.15776646979103,
        14.1105177567056,
        49.500000057742,
        -0.5000001192092896,
        5,
        0,
        0,
        1
       ],
       "camera_animation": [],
       "camera_auto_fit": true,
       "camera_damping_factor": 0,
       "camera_fov": 60,
       "camera_mode": "trackball",
       "camera_no_pan": false,
       "camera_no_rotate": false,
       "camera_no_zoom": false,
       "camera_pan_speed": 0.3,
       "camera_rotate_speed": 1,
       "camera_zoom_speed": 1.2,
       "clipping_planes": [],
       "colorbar_object_id": -1,
       "colorbar_scientific": false,
       "fps": 25,
       "fps_meter": false,
       "grid": [
        -1,
        -1,
        -1,
        1,
        1,
        1
       ],
       "grid_auto_fit": true,
       "grid_color": 15132390,
       "grid_visible": true,
       "height": 512,
       "label_color": 4473924,
       "layout": "IPY_MODEL_194d6d8b02784f18b3d55e2b1e1f98a8",
       "lighting": 1.5,
       "manipulate_mode": "translate",
       "menu_visibility": true,
       "mode": "view",
       "name": null,
       "object_ids": [
        140098940845648
       ],
       "rendering_steps": 1,
       "screenshot": "",
       "screenshot_scale": 2,
       "snapshot": "",
       "snapshot_type": "full",
       "time": 0,
       "voxel_paint_color": 0
      }
     },
     "aaac4ed50e9c4c5aa3ae08ca7c60c769": {
      "model_module": "@jupyter-widgets/base",
      "model_module_version": "1.2.0",
      "model_name": "LayoutModel",
      "state": {}
     },
     "b421538b8c254430a94daecf73f9557e": {
      "buffers": [
       {
        "data": "sHJMAFKE3QA=",
        "encoding": "base64",
        "path": [
         "color_map",
         "data"
        ]
       },
       {
        "data": "AADIQgAAAAAAAAAAAABIQgAAAAAAACBCAAAAAAAAAAAAAAAAAAAAAAAAIEEAAKBAAAAAAAAAAAAAAAAAAACAPw==",
        "encoding": "base64",
        "path": [
         "model_matrix",
         "data"
        ]
       },
       {
        "data": "AQEBAQEBAQEBAgEBAQEBAQEBAQEBAQEBAQEBAQEBAQEBAQEBAQEBAQ==",
        "encoding": "base64",
        "path": [
         "voxels",
         "data"
        ]
       }
      ],
      "model_module": "k3d",
      "model_module_version": "2.11.0",
      "model_name": "ObjectModel",
      "state": {
       "_view_count": null,
       "_view_module": null,
       "_view_module_version": "",
       "_view_name": null,
       "colorLegend": false,
       "color_map": {
        "data": {},
        "dtype": "uint32",
        "shape": [
         2
        ]
       },
       "compression_level": 0,
       "id": 140098940845648,
       "model_matrix": {
        "data": {},
        "dtype": "float32",
        "shape": [
         4,
         4
        ]
       },
       "name": "Voxels #1",
       "opacity": 1,
       "outlines": false,
       "outlines_color": 0,
       "type": "Voxels",
       "visible": true,
       "voxels": {
        "data": {},
        "dtype": "uint8",
        "shape": [
         1,
         4,
         10
        ]
       },
       "wireframe": false
      }
     },
     "bdd0e588680e4343a167723c7660048b": {
      "model_module": "k3d",
      "model_module_version": "2.11.0",
      "model_name": "PlotModel",
      "state": {
       "_backend_version": "2.11.0",
       "_dom_classes": [],
       "_view_count": null,
       "antialias": 3,
       "auto_rendering": true,
       "axes": [
        "x\\,\\text{(nm)}",
        "y\\,\\text{(nm)}",
        "z\\,\\text{(nm)}"
       ],
       "axes_helper": 1,
       "background_color": 16777215,
       "camera": [
        157.83423289022687,
        -161.7513493353403,
        15.783423289022867,
        50,
        0,
        5,
        0,
        0,
        1
       ],
       "camera_animation": [],
       "camera_auto_fit": true,
       "camera_damping_factor": 0,
       "camera_fov": 60,
       "camera_mode": "trackball",
       "camera_no_pan": false,
       "camera_no_rotate": false,
       "camera_no_zoom": false,
       "camera_pan_speed": 0.3,
       "camera_rotate_speed": 1,
       "camera_zoom_speed": 1.2,
       "clipping_planes": [],
       "colorbar_object_id": -1,
       "colorbar_scientific": false,
       "fps": 25,
       "fps_meter": false,
       "grid": [
        -1,
        -1,
        -1,
        1,
        1,
        1
       ],
       "grid_auto_fit": true,
       "grid_color": 15132390,
       "grid_visible": true,
       "height": 512,
       "label_color": 4473924,
       "layout": "IPY_MODEL_e2007395160f4aa8b949c149f61d686c",
       "lighting": 1.5,
       "manipulate_mode": "translate",
       "menu_visibility": true,
       "mode": "view",
       "name": null,
       "object_ids": [
        140098939852256
       ],
       "rendering_steps": 1,
       "screenshot": "",
       "screenshot_scale": 2,
       "snapshot": "",
       "snapshot_type": "full",
       "time": 0,
       "voxel_paint_color": 0
      }
     },
     "c21b546829924ad6bdbee9b11114c43a": {
      "model_module": "k3d",
      "model_module_version": "2.11.0",
      "model_name": "PlotModel",
      "state": {
       "_backend_version": "2.11.0",
       "_dom_classes": [],
       "_view_count": null,
       "antialias": 3,
       "auto_rendering": true,
       "axes": [
        "x\\,\\text{ (nm)}",
        "y\\,\\text{ (nm)}",
        "z\\,\\text{ (nm)}"
       ],
       "axes_helper": 1,
       "background_color": 16777215,
       "camera": [
        136.96884130554827,
        -130.45326195832237,
        13.744629835205847,
        50,
        0,
        5.047745704650879,
        0,
        0,
        1
       ],
       "camera_animation": [],
       "camera_auto_fit": true,
       "camera_damping_factor": 0,
       "camera_fov": 60,
       "camera_mode": "trackball",
       "camera_no_pan": false,
       "camera_no_rotate": false,
       "camera_no_zoom": false,
       "camera_pan_speed": 0.3,
       "camera_rotate_speed": 1,
       "camera_zoom_speed": 1.2,
       "clipping_planes": [],
       "colorbar_object_id": -1,
       "colorbar_scientific": false,
       "fps": 25,
       "fps_meter": false,
       "grid": [
        -1,
        -1,
        -1,
        1,
        1,
        1
       ],
       "grid_auto_fit": true,
       "grid_color": 15132390,
       "grid_visible": true,
       "height": 512,
       "label_color": 4473924,
       "layout": "IPY_MODEL_c718ab80fd53410a963d9d05016348f6",
       "lighting": 1.5,
       "manipulate_mode": "translate",
       "menu_visibility": true,
       "mode": "view",
       "name": null,
       "object_ids": [
        140098903943968,
        140098903943008
       ],
       "rendering_steps": 1,
       "screenshot": "",
       "screenshot_scale": 2,
       "snapshot": "",
       "snapshot_type": "full",
       "time": 0,
       "voxel_paint_color": 0
      }
     },
     "c718ab80fd53410a963d9d05016348f6": {
      "model_module": "@jupyter-widgets/base",
      "model_module_version": "1.2.0",
      "model_name": "LayoutModel",
      "state": {}
     },
     "dbb1db4153b043babc18a05374b412df": {
      "model_module": "k3d",
      "model_module_version": "2.11.0",
      "model_name": "PlotModel",
      "state": {
       "_backend_version": "2.11.0",
       "_dom_classes": [],
       "_view_count": null,
       "antialias": 3,
       "auto_rendering": true,
       "axes": [
        "x\\,\\text{ (nm)}",
        "y\\,\\text{ (nm)}",
        "z\\,\\text{ (nm)}"
       ],
       "axes_helper": 1,
       "background_color": 16777215,
       "camera": [
        141.59280974168428,
        -213.01421464512268,
        13.934280915867868,
        -0.25000001303851604,
        -0.25000001303851604,
        -0.2500000596046448,
        0,
        0,
        1
       ],
       "camera_animation": [],
       "camera_auto_fit": true,
       "camera_damping_factor": 0,
       "camera_fov": 60,
       "camera_mode": "trackball",
       "camera_no_pan": false,
       "camera_no_rotate": false,
       "camera_no_zoom": false,
       "camera_pan_speed": 0.3,
       "camera_rotate_speed": 1,
       "camera_zoom_speed": 1.2,
       "clipping_planes": [],
       "colorbar_object_id": -1,
       "colorbar_scientific": false,
       "fps": 25,
       "fps_meter": false,
       "grid": [
        -1,
        -1,
        -1,
        1,
        1,
        1
       ],
       "grid_auto_fit": true,
       "grid_color": 15132390,
       "grid_visible": true,
       "height": 512,
       "label_color": 4473924,
       "layout": "IPY_MODEL_630523617380428789b5a900cd8c6cc6",
       "lighting": 1.5,
       "manipulate_mode": "translate",
       "menu_visibility": true,
       "mode": "view",
       "name": null,
       "object_ids": [
        140098904679760
       ],
       "rendering_steps": 1,
       "screenshot": "",
       "screenshot_scale": 2,
       "snapshot": "",
       "snapshot_type": "full",
       "time": 0,
       "voxel_paint_color": 0
      }
     },
     "e2007395160f4aa8b949c149f61d686c": {
      "model_module": "@jupyter-widgets/base",
      "model_module_version": "1.2.0",
      "model_name": "LayoutModel",
      "state": {}
     },
     "e50e2f4956b24fbeb2aab0613839b2a3": {
      "model_module": "@jupyter-widgets/base",
      "model_module_version": "1.2.0",
      "model_name": "LayoutModel",
      "state": {}
     },
     "e96eb926246a47deb56ca2d84d9ada06": {
      "buffers": [
       {
        "data": "sHJMAA==",
        "encoding": "base64",
        "path": [
         "color_map",
         "data"
        ]
       },
       {
        "data": "AADIQgAAAAAAAAAAAAAAAAAAAAAAAMhCAAAAAAAAAAAAAAAAAAAAAAAAyEIAAAAAAAAAAAAAAAAAAAAAAACAPw==",
        "encoding": "base64",
        "path": [
         "model_matrix",
         "data"
        ]
       },
       {
        "data": "AAAAAAAAAAAAAAAAAAAAAAAAAAAAAAAAAAAAAAAAAAAAAQEBAQAAAAAAAAEBAQEAAAAAAAABAQEBAAAAAAAAAQEBAQAAAAAAAAAAAAAAAAAAAAAAAAAAAAAAAAAAAAAAAAAAAAAAAAAAAAAAAAAAAAAAAQEAAAAAAAABAQEBAQEAAAAAAQEBAQEBAAAAAQEBAQEBAQEAAAEBAQEBAQEBAAAAAQEBAQEBAAAAAAEBAQEBAQAAAAAAAAEBAAAAAAAAAAAAAAAAAAAAAAAAAAAAAAAAAAABAQEBAQEAAAABAQEBAQEBAQAAAQEBAQEBAQEAAAEBAQEBAQEBAAABAQEBAQEBAQAAAQEBAQEBAQEAAAEBAQEBAQEBAAAAAQEBAQEBAAAAAAAAAAAAAAAAAAAAAQEBAQAAAAAAAQEBAQEBAAAAAQEBAQEBAQEAAQEBAQEBAQEBAQEBAQEBAQEBAQEBAQEBAQEBAQEBAQEBAQEBAQEBAQABAQEBAQEBAQAAAAEBAQEBAQAAAAAAAQEBAQAAAAAAAAEBAQEAAAAAAQEBAQEBAQEAAAEBAQEBAQEBAAEBAQEBAQEBAQEBAQEBAQEBAQEBAQEBAQEBAQEBAQEBAQEBAQEBAQEAAQEBAQEBAQEAAAEBAQEBAQEBAAAAAAEBAQEAAAAAAAABAQEBAAAAAAEBAQEBAQEBAAABAQEBAQEBAQABAQEBAQEBAQEBAQEBAQEBAQEBAQEBAQEBAQEBAQEBAQEBAQEBAQEBAAEBAQEBAQEBAAABAQEBAQEBAQAAAAABAQEBAAAAAAAAAQEBAQAAAAAAAQEBAQEBAAAAAQEBAQEBAQEAAQEBAQEBAQEBAQEBAQEBAQEBAQEBAQEBAQEBAQEBAQEBAQEBAQEBAQABAQEBAQEBAQAAAAEBAQEBAQAAAAAAAQEBAQAAAAAAAAAAAAAAAAAAAAEBAQEBAQAAAAEBAQEBAQEBAAABAQEBAQEBAQAAAQEBAQEBAQEAAAEBAQEBAQEBAAABAQEBAQEBAQAAAQEBAQEBAQEAAAABAQEBAQEAAAAAAAAAAAAAAAAAAAAAAAAAAAAAAAAAAAEBAAAAAAAAAQEBAQEBAAAAAAEBAQEBAQAAAAEBAQEBAQEBAAABAQEBAQEBAQAAAAEBAQEBAQAAAAABAQEBAQEAAAAAAAABAQAAAAAAAAAAAAAAAAAAAAAAAAAAAAAAAAAAAAAAAAAAAAAAAAAAAAAAAAAAAAAAAQEBAQAAAAAAAAEBAQEAAAAAAAABAQEBAAAAAAAAAQEBAQAAAAAAAAAAAAAAAAAAAAAAAAAAAAAAAAAAAAAAAAAAAA==",
        "encoding": "base64",
        "path": [
         "voxels",
         "data"
        ]
       }
      ],
      "model_module": "k3d",
      "model_module_version": "2.11.0",
      "model_name": "ObjectModel",
      "state": {
       "_view_count": null,
       "_view_module": null,
       "_view_module_version": "",
       "_view_name": null,
       "colorLegend": false,
       "color_map": {
        "data": {},
        "dtype": "uint32",
        "shape": []
       },
       "compression_level": 0,
       "id": 140098902442144,
       "model_matrix": {
        "data": {},
        "dtype": "float32",
        "shape": [
         4,
         4
        ]
       },
       "name": "Voxels #1",
       "opacity": 1,
       "outlines": false,
       "outlines_color": 0,
       "type": "Voxels",
       "visible": true,
       "voxels": {
        "data": {},
        "dtype": "uint8",
        "shape": [
         10,
         10,
         10
        ]
       },
       "wireframe": false
      }
     },
     "f99a244cc7a34b4fb9025cb621256e6b": {
      "buffers": [
       {
        "data": "sHJMAA==",
        "encoding": "base64",
        "path": [
         "color_map",
         "data"
        ]
       },
       {
        "data": "AADwQgAAAAAAAAAAAAAAAAAAAAAAAPBCAAAAAAAAAAAAAAAAAAAAAAAAIEEAAAAAAAAAAAAAAAAAAAAAAACAPw==",
        "encoding": "base64",
        "path": [
         "model_matrix",
         "data"
        ]
       },
       {
        "data": "AAAAAAAAAAAAAQEBAQEBAAAAAAAAAAAAAAAAAAAAAQEBAQEBAQEBAQEBAAAAAAAAAAAAAAABAQEBAQEBAQEBAQEBAQAAAAAAAAAAAAEBAQEBAQEBAQEBAQEBAQEAAAAAAAAAAQEBAQEBAQEBAQEBAQEBAQEBAAAAAAABAQEBAQEBAQEBAQEBAQEBAQEBAQAAAAEBAQEBAQEBAQEBAQEBAQEBAQEBAQEAAAEBAQEBAQEBAQEBAQEBAQEBAQEBAQEAAAEBAQEBAQEBAQEBAQEBAQEBAQEBAQEAAQEBAQEBAQEBAQEBAQEBAQEBAQEBAQEBAQEBAQEBAQEBAQEBAQEBAQEBAQEBAQEBAQEBAQEBAQEBAQEBAQEBAQEBAQEBAQEBAQEBAQEBAQEBAQEBAQEBAQEBAQEBAQEBAQEBAQEBAQEBAQEBAQEBAQEBAQEBAQEBAQEBAQEBAQEBAQEBAQEBAQEBAQEBAQEBAAEBAQEBAQEBAQEBAQEBAQEBAQEBAQEAAAEBAQEBAQEBAQEBAQEBAQEBAQEBAQEAAAEBAQEBAQEBAQEBAQEBAQEBAQEBAQEAAAABAQEBAQEBAQEBAQEBAQEBAQEBAQAAAAAAAQEBAQEBAQEBAQEBAQEBAQEBAAAAAAAAAAEBAQEBAQEBAQEBAQEBAQEAAAAAAAAAAAABAQEBAQEBAQEBAQEBAQAAAAAAAAAAAAAAAQEBAQEBAQEBAQEBAAAAAAAAAAAAAAAAAAAAAQEBAQEBAAAAAAAAAAAAAAAAAAAAAAAAAQEBAQEBAAAAAAAAAAAAAAAAAAAAAQEBAQEBAQEBAQEBAAAAAAAAAAAAAAABAQEBAQEBAQEBAQEBAQAAAAAAAAAAAAEBAQEBAQEBAQEBAQEBAQEAAAAAAAAAAQEBAQEBAQEBAQEBAQEBAQEBAAAAAAABAQEBAQEBAQEBAQEBAQEBAQEBAQAAAAEBAQEBAQEBAQEBAQEBAQEBAQEBAQEAAAEBAQEBAQEBAQEBAQEBAQEBAQEBAQEAAAEBAQEBAQEBAQEBAQEBAQEBAQEBAQEAAQEBAQEBAQEBAQEBAQEBAQEBAQEBAQEBAQEBAQEBAQEBAQEBAQEBAQEBAQEBAQEBAQEBAQEBAQEBAQEBAQEBAQEBAQEBAQEBAQEBAQEBAQEBAQEBAQEBAQEBAQEBAQEBAQEBAQEBAQEBAQEBAQEBAQEBAQEBAQEBAQEBAQEBAQEBAQEBAQEBAQEBAQEBAQEBAAEBAQEBAQEBAQEBAQEBAQEBAQEBAQEAAAEBAQEBAQEBAQEBAQEBAQEBAQEBAQEAAAEBAQEBAQEBAQEBAQEBAQEBAQEBAQEAAAABAQEBAQEBAQEBAQEBAQEBAQEBAQAAAAAAAQEBAQEBAQEBAQEBAQEBAQEBAAAAAAAAAAEBAQEBAQEBAQEBAQEBAQEAAAAAAAAAAAABAQEBAQEBAQEBAQEBAQAAAAAAAAAAAAAAAQEBAQEBAQEBAQEBAAAAAAAAAAAAAAAAAAAAAQEBAQEBAAAAAAAAAAAA",
        "encoding": "base64",
        "path": [
         "voxels",
         "data"
        ]
       }
      ],
      "model_module": "k3d",
      "model_module_version": "2.11.0",
      "model_name": "ObjectModel",
      "state": {
       "_view_count": null,
       "_view_module": null,
       "_view_module_version": "",
       "_view_name": null,
       "colorLegend": false,
       "color_map": {
        "data": {},
        "dtype": "uint32",
        "shape": []
       },
       "compression_level": 0,
       "id": 140098904679760,
       "model_matrix": {
        "data": {},
        "dtype": "float32",
        "shape": [
         4,
         4
        ]
       },
       "name": "Voxels #1",
       "opacity": 1,
       "outlines": false,
       "outlines_color": 0,
       "type": "Voxels",
       "visible": true,
       "voxels": {
        "data": {},
        "dtype": "uint8",
        "shape": [
         2,
         24,
         24
        ]
       },
       "wireframe": false
      }
     },
     "f9cf8363beca40a0b1bb757489f3c0f8": {
      "model_module": "@jupyter-widgets/base",
      "model_module_version": "1.2.0",
      "model_name": "LayoutModel",
      "state": {}
     }
    },
    "version_major": 2,
    "version_minor": 0
   }
  }
 },
 "nbformat": 4,
 "nbformat_minor": 4
}
