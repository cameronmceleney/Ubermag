{
 "cells": [
  {
   "cell_type": "markdown",
   "id": "817d905f-3017-44d0-9eba-09abd70c5caa",
   "metadata": {
    "editable": true,
    "slideshow": {
     "slide_type": ""
    },
    "tags": []
   },
   "source": [
    "# Time-dependent fields and currents\n",
    "\n",
    "It is possible to define an arbitrary time dependence for external Zeeman fields, Slonczewski and Zhang-Li currents. This is done via defining an additional time-dependent prefactor that is used to multiply the initial field/current values. Two different mechanisms can be used:\n",
    "\n",
    "- Defining the time dependence in a Python function.\n",
    "- Writing `tcl` to be added to the `mif` file.\n",
    "\n",
    "The first option, defining a Python function, is generally much simpler - but a bit more limited than the second method. Nevertheless, our recommendation is to use this option unless you need advanced features. The general concept is as follows: when defining the relevant term from `micromagnetimodel` you have to pass two additional arguments `func` and `dt`. `func` is a callable (usually a user-defined Python function) that takes one argument, an arbitrary timestep, and returns the value of the prefactor at that timestep. This function **has to be differentiable** with respect to time (first derivatives are numerically computed internally). Internally, this function is evaluated at time steps separated by `dt` starting from the initial simulation time (t=0) and all prefactors are passed to OOMMF as a list together with the correstponding time information. Therefore, `dt` must be choosen properly. Too small steps result in too much data that has to be passed to OOMMF (very large `mif` files), to large steps can result in too coarse \"resolution\" of the sampled function and too large derivatives that can result in a failure of the simulation (and/or extremely large runtimes). A good initial guess is somewhere between `dt=1e-12` and `dt=1e-13`. It is not possible to have non-uniform timesteps.\n",
    "\n",
    "The second option, writing `tcl` that is directly passed to OOMMF allows for some advanced features. It is possible to define to some degree non-differentiable time-dependence (refer to the OOMMF documentation for the details, e.g. https://math.nist.gov/oommf/doc/userguide12b3/userguide/Standard_Oxs_Ext_Child_Clas.html#SU) and there is no interpolation between fixed time-steps as the `tcl` script is evaluated at exact time steps required by the simulation. To use this you have to pass a dictionary `tcl_strings` defining a fixed set of keys depending on field or current (see below).\n",
    "\n",
    "For both methods, there are some differences in the details stemming from the different dimensionality of current (scalar) and field (vector) that are explained below."
   ]
  },
  {
   "cell_type": "code",
   "execution_count": 1,
   "id": "253e89ea-aa93-471f-b7e8-2d162b4a1c46",
   "metadata": {
    "tags": []
   },
   "source": [
    "import discretisedfield as df\n",
    "import micromagneticmodel as mm\n",
    "import oommfc as mc\n",
    "import micromagneticdata\n",
    "import numpy as np\n",
    "import matplotlib.pyplot as plt\n",
    "import math"
   ],
   "outputs": []
  },
  {
   "cell_type": "markdown",
   "id": "a4af2825-f855-4c68-aea7-c98ec06a09bb",
   "metadata": {},
   "source": [
    "## Zeeman field\n",
    "\n",
    "### Python function\n",
    "\n",
    "There are two differen options for time-dependent fields, either a scalar value can be used to define a field with varying amplitude or a matrix to define a field with varying amplitude and rotation.\n",
    "\n",
    "#### Scalar \n",
    "\n",
    "To demonstrate a time-dependent field with varying amplitude we look at a toy example, a single macrospin in an exteral field. We define a system with only damping and neglect precession to simplify the motion. We initialise the magnetisation in `x` direction and apply a field pulse in `z` direction. We can observe the alignment with the external field.\n",
    "\n",
    "_NOTE_: This system does not require a time-dependent field. It is much simpler to divide the process into two runs. First, we would apply a Zeeman field and drive the system for the duration of the pulse. Then we could remove the Zeeman field and drive the free system (see the end of this section). We only use this system with a time-dependent field (and a single run) because the motion is particularly easy to understand.\n",
    "\n",
    "For reference and comparison we first apply a static Zeeman field and drive the system for $5\\,\\mathrm{ns}$."
   ]
  },
  {
   "cell_type": "code",
   "execution_count": 2,
   "id": "042d47de-ce88-4c61-914f-1a0d9d7063ee",
   "metadata": {
    "tags": []
   },
   "source": [
    "system = mm.System(name='macrospin')\n",
    "system.energy = mm.Zeeman(H=(0, 0, 5e4))\n",
    "system.dynamics = mm.Damping(alpha=0.1)\n",
    "mesh = df.Mesh(p1=(0, 0, 0), p2=(1, 1, 1), n=(1, 1, 1))\n",
    "system.m = df.Field(mesh, nvdim=3, value=(1, 0, 0), norm=1e4)\n",
    "system.m.sel('y').mpl.vector()"
   ],
   "outputs": []
  },
  {
   "cell_type": "code",
   "execution_count": 3,
   "id": "12926968-0904-4aa4-90b3-c00bf25a9598",
   "metadata": {
    "tags": []
   },
   "source": [
    "td = mc.TimeDriver()\n",
    "td.drive(system, t=5e-9, n=100)\n",
    "system.m.sel('y').mpl.vector()"
   ],
   "outputs": []
  },
  {
   "cell_type": "markdown",
   "id": "d56b7dc5-d76f-4eac-ae4e-aab0934de650",
   "metadata": {},
   "source": [
    "We can see that the macrospin has rotated by almost ninty degrees. We can plot the time-evolution of the magnetisation:"
   ]
  },
  {
   "cell_type": "code",
   "execution_count": 4,
   "id": "eeb555d3-ef97-44dd-8403-c2348506c563",
   "metadata": {
    "tags": []
   },
   "source": [
    "system.table.mpl(y=['mx', 'my', 'mz'])"
   ],
   "outputs": []
  },
  {
   "cell_type": "markdown",
   "id": "1fe40cda-2283-4223-a3ff-e27ecf48164f",
   "metadata": {},
   "source": [
    "Now, we create the same system but apply only a shorter pulse with a duration of $2\\,\\mathrm{ns}$. We still drive the system for $5\\,\\mathrm{ns}$.\n",
    "\n",
    "To define this time dependence we have to pass two additional parameters to `mm.Zeeman`. The first one `func` must be a callable must accept a single argument and return a single value (the prefactor at an arbitrary time step given as input argument). The second parameter `dt` defines spacing of the points at which this callable is evaluated. Here, we define a simple step function that returns `1` for the first nanosecond and `0` afterwards."
   ]
  },
  {
   "cell_type": "code",
   "execution_count": 5,
   "id": "3aaf6bf6-c471-4ac2-87c2-42bce4987246",
   "metadata": {
    "tags": []
   },
   "source": [
    "def t_func(t):\n",
    "    if t < 1e-9:\n",
    "        return 1\n",
    "    else:\n",
    "        return 0\n",
    "\n",
    "system = mm.System(name='macrospin_pulse')\n",
    "system.energy = mm.Zeeman(H=(0, 0, 5e4), func=t_func, dt=1e-12)\n",
    "system.dynamics = mm.Damping(alpha=0.1)\n",
    "mesh = df.Mesh(p1=(0, 0, 0), p2=(1, 1, 1), n=(1, 1, 1))\n",
    "system.m = df.Field(mesh, nvdim=3, value=(1, 0, 0), norm=1e4)\n",
    "system.m.sel('y').mpl.vector()"
   ],
   "outputs": []
  },
  {
   "cell_type": "code",
   "execution_count": 6,
   "id": "50a9bdf4-a02b-405a-8eb1-0b2c83819cde",
   "metadata": {
    "tags": []
   },
   "source": [
    "td.drive(system, t=5e-9, n=100)\n",
    "system.m.sel('y').mpl.vector()"
   ],
   "outputs": []
  },
  {
   "cell_type": "code",
   "execution_count": 7,
   "id": "6beb877e-0b22-46fb-b033-db6619b01bea",
   "metadata": {
    "tags": []
   },
   "source": [
    "fig, (ax1, ax2) = plt.subplots(2, figsize=(8, 8))\n",
    "system.table.mpl(ax=ax1, y=['Bx_zeeman', 'By_zeeman', 'Bz_zeeman'])\n",
    "system.table.mpl(ax=ax2, y=['mx', 'my', 'mz'])"
   ],
   "outputs": []
  },
  {
   "cell_type": "markdown",
   "id": "54bd0be2-fa8c-48d1-8458-03cb54e7eda8",
   "metadata": {},
   "source": [
    "We can see that the macrospin starts to align with the external magnetic field. As the pulse is switched off at $1\\,\\mathrm{ns}$ the motion stops and the system remains in the current state.\n",
    "\n",
    "##### How to properly simulate this field pulse\n",
    "\n",
    "As already mentioned above the field pulse can be simulated without a time-dependent field. We briefly show how to do this. We first apply a constant field and drive the system for $1\\,\\mathrm{ns}$. Then we remove the field and drive the free system for $4\\,\\mathrm{ns}$. The main difference is that we end up with two separate runs (and tables)."
   ]
  },
  {
   "cell_type": "code",
   "execution_count": 8,
   "id": "14b58136-9e15-48f8-bbd0-d60eaaadf674",
   "metadata": {
    "tags": []
   },
   "source": [
    "system = mm.System(name='macrospin_pulse_drive')\n",
    "system.energy = mm.Zeeman(H=(0, 0, 5e4))\n",
    "system.dynamics = mm.Damping(alpha=0.1)\n",
    "mesh = df.Mesh(p1=(0, 0, 0), p2=(1, 1, 1), n=(1, 1, 1))\n",
    "system.m = df.Field(mesh, nvdim=3, value=(1, 0, 0), norm=1e4)\n",
    "\n",
    "td.drive(system, t=1e-9, n=20)\n",
    "system.table.mpl(y=['mx', 'my', 'mz'])"
   ],
   "outputs": []
  },
  {
   "cell_type": "code",
   "execution_count": 9,
   "id": "209571b9-1898-4123-9397-5191a1d38166",
   "metadata": {
    "tags": []
   },
   "source": [
    "system.energy -= mm.Zeeman(H=(0, 0, 5e4))\n",
    "td.drive(system, t=4e-9, n=20)\n",
    "system.table.mpl(y=['mx', 'my', 'mz'])"
   ],
   "outputs": []
  },
  {
   "cell_type": "markdown",
   "id": "98eb2922-83b5-420e-959a-5b8ca4b33f41",
   "metadata": {},
   "source": [
    "We can use `micromagneticdata` to combine the two separate runs."
   ]
  },
  {
   "cell_type": "code",
   "execution_count": 10,
   "id": "e49ad4f0-1a50-48b5-b821-f26c3e765224",
   "metadata": {
    "tags": []
   },
   "source": [
    "data = micromagneticdata.Data(name='macrospin_pulse_drive')\n",
    "(data[-2].table << data[-1].table).mpl(y=['mx', 'my', 'mz'])"
   ],
   "outputs": []
  },
  {
   "cell_type": "markdown",
   "id": "33cb017c-0d0f-43e0-8b48-086e0c319e3b",
   "metadata": {},
   "source": [
    "#### Pre-defined functions\n",
    "\n",
    "Two of the most commonly used functions, `sin` and `sinc`, are available as pre-defined functions. These can be used as follows (again using the example of a macrospin). The user has to define:\n",
    "\n",
    "- the `func`tion type (`sin` or `sinc`)\n",
    "- a frequency `f` in Hz\n",
    "- optionally an offset `t0` in s"
   ]
  },
  {
   "cell_type": "code",
   "execution_count": 11,
   "id": "ed95933e-41da-4305-99c6-4f77d767baa8",
   "metadata": {
    "tags": []
   },
   "source": [
    "system = mm.System(name='macrospin_sin')\n",
    "system.energy = mm.Zeeman(H=(0, 1e4, 5e4), func='sin', f=.5e9, t0=0)\n",
    "system.dynamics = mm.Damping(alpha=0.1)\n",
    "mesh = df.Mesh(p1=(0, 0, 0), p2=(1, 1, 1), n=(1, 1, 1))\n",
    "system.m = df.Field(mesh, nvdim=3, value=(1, 0, 0), norm=1e4)\n",
    "td.drive(system, t=5e-9, n=100)"
   ],
   "outputs": []
  },
  {
   "cell_type": "code",
   "execution_count": 12,
   "id": "dbfa9230-5fff-416b-a324-31143a2440a9",
   "metadata": {
    "tags": []
   },
   "source": [
    "fig, (ax1, ax2) = plt.subplots(2, figsize=(8, 8))\n",
    "system.table.mpl(ax=ax1, y=['Bx_zeeman', 'By_zeeman', 'Bz_zeeman'])\n",
    "system.table.mpl(ax=ax2, y=['mx', 'my', 'mz'])"
   ],
   "outputs": []
  },
  {
   "cell_type": "code",
   "execution_count": 13,
   "id": "e6c3df79-25cb-450c-84c5-a494e6753e31",
   "metadata": {
    "tags": []
   },
   "source": [
    "system = mm.System(name='macrospin_sinc')\n",
    "system.energy = mm.Zeeman(H=(0, 1e4, 5e4), func='sinc', f=1e9, t0=1e-9)\n",
    "system.dynamics = mm.Damping(alpha=0.1)\n",
    "mesh = df.Mesh(p1=(0, 0, 0), p2=(1, 1, 1), n=(1, 1, 1))\n",
    "system.m = df.Field(mesh, nvdim=3, value=(1, 0, 0), norm=1e4)\n",
    "td.drive(system, t=10e-9, n=200)"
   ],
   "outputs": []
  },
  {
   "cell_type": "code",
   "execution_count": 14,
   "id": "a5a872e1-aef0-458d-b0fc-9b469d6ed2b5",
   "metadata": {
    "tags": []
   },
   "source": [
    "fig, (ax1, ax2) = plt.subplots(2, figsize=(8, 8))\n",
    "system.table.mpl(ax=ax1, y=['Bx_zeeman', 'By_zeeman', 'Bz_zeeman'])\n",
    "system.table.mpl(ax=ax2, y=['mx', 'my', 'mz'])"
   ],
   "outputs": []
  },
  {
   "cell_type": "markdown",
   "id": "e812d455-71f0-4779-a6b3-a8baeb466175",
   "metadata": {},
   "source": [
    "#### Experimentally measured time-dependence\n",
    "\n",
    "As a third example we assume that we have a list of values (with potentially non-uniform time stepping). This could for example be an experimentally measured time profile. Here, we generate some artifical data, an exponentially decaying sin wave with a constant offset.\n",
    "\n",
    "_NOTE_: If your data contains noise you should apply some sort of smoothing."
   ]
  },
  {
   "cell_type": "code",
   "execution_count": 15,
   "id": "ad3a590a-a008-4d39-add7-5cac4f5be07c",
   "metadata": {
    "tags": []
   },
   "source": [
    "t_sample = np.arange(1001) * 10e-12  # in total 10ns with resolution of 10ps\n",
    "T = 4e-9\n",
    "omega = 2 * np.pi / 1e-9  # frequency 1 GHz\n",
    "np.random.seed(1)\n",
    "measured_time_dependence = np.exp(-t_sample/T) * np.sin(omega * t_sample) + 0.2  # + np.random.randn(t.size)*.01\n",
    "measured_time_dependence"
   ],
   "outputs": []
  },
  {
   "cell_type": "code",
   "execution_count": 16,
   "id": "f3817b0d-84e5-4726-b5e5-e9d4f7d73445",
   "metadata": {
    "tags": []
   },
   "source": [
    "plt.plot(t_sample, measured_time_dependence)"
   ],
   "outputs": []
  },
  {
   "cell_type": "markdown",
   "id": "1c9b6637-3432-43a0-a968-63c64edce3db",
   "metadata": {},
   "source": [
    "We have to wrap this with a function that returns a single value for an arbitrary timestep. This also allows to handle non-uniform spacing of the (measured) values. In this simple example we assume that we already have equally spaced values. OOMMF is very sensitive to large derivative values. We interpolate between neighbouring values to \"improve accuracy\" (to decrease derivative values)."
   ]
  },
  {
   "cell_type": "code",
   "execution_count": 17,
   "id": "d6ff2efe-4a2e-4650-aad4-1a8359b59c6e",
   "metadata": {
    "tags": []
   },
   "source": [
    "def time_dependence(t):\n",
    "    return np.interp(t, t_sample, measured_time_dependence)"
   ],
   "outputs": []
  },
  {
   "cell_type": "code",
   "execution_count": 18,
   "id": "fd83546c-350a-42c3-9f53-7d4a2e40e72e",
   "metadata": {
    "tags": []
   },
   "source": [
    "system = mm.System(name='macrospin_measured')\n",
    "system.energy = mm.Zeeman(H=(0, 0, 5e4), func=time_dependence, dt=1e-13)\n",
    "system.dynamics = mm.Damping(alpha=0.1)\n",
    "mesh = df.Mesh(p1=(0, 0, 0), p2=(1, 1, 1), n=(1, 1, 1))\n",
    "system.m = df.Field(mesh, nvdim=3, value=(1, 0, 0), norm=1e4)\n",
    "td.drive(system, t=5e-9, n=100)"
   ],
   "outputs": []
  },
  {
   "cell_type": "code",
   "execution_count": 19,
   "id": "32d3eeb0-35c2-4bfe-91f3-881e49d24194",
   "metadata": {
    "tags": []
   },
   "source": [
    "fig, (ax1, ax2) = plt.subplots(2, figsize=(8, 8))\n",
    "system.table.mpl(ax=ax1, y=['Bx_zeeman', 'By_zeeman', 'Bz_zeeman'])\n",
    "system.table.mpl(ax=ax2, y=['mx', 'my', 'mz'])"
   ],
   "outputs": []
  },
  {
   "cell_type": "markdown",
   "id": "086bcb79-c040-40bd-bc64-5fa41984d9cc",
   "metadata": {},
   "source": [
    "#### Vector\n",
    "\n",
    "The external magnetic field is a vector quantity and hence cannot only be modulated in amplitude but also rotated over time. Here we demonstrate a rotation in xy-plane (definition of the rotation following an example given on the OOMMF website https://math.nist.gov/oommf/doc/userguide20a2/userguide/Standard_Oxs_Ext_Child_Clas.html#TZ). In the next section we use the same example, but with custom tcl."
   ]
  },
  {
   "cell_type": "code",
   "execution_count": 20,
   "id": "07cfdf19-296e-4fb2-bede-020cb8e71beb",
   "metadata": {
    "tags": []
   },
   "source": [
    "system = mm.System(name='rotation')\n",
    "mesh = df.Mesh(p1=(0, 0, 0), p2=(10, 10, 1), cell=(1, 1, 1))\n",
    "system.m = df.Field(mesh, nvdim=3, value=(0, 0, 1), norm=1e4)"
   ],
   "outputs": []
  },
  {
   "cell_type": "markdown",
   "id": "474330fc-9efc-411f-8a6a-b85a79af1430",
   "metadata": {},
   "source": [
    "To define a field rotation the function specifying the time-dependence must return a list of nine values instead of a single one. The elements are the matrix elements of the rotation matrix ($R_{xx}, R_{xy}, R_{xz}, R_{yx}, R_{yy}, R_{yz}, R_{zx}, R_{zy}, R_{zz}$) in this order."
   ]
  },
  {
   "cell_type": "code",
   "execution_count": 21,
   "id": "59dafd86-61c8-49ea-a1e8-d6a59a547253",
   "metadata": {
    "tags": []
   },
   "source": [
    "tstep = 1e-13\n",
    "def rotation(t):\n",
    "    omega = 2*np.pi * 1e9\n",
    "    return [np.cos(omega * t), -np.sin(omega * t), 0,\n",
    "            np.sin(omega * t), np.cos(omega * t), 0,\n",
    "            0, 0, 1]"
   ],
   "outputs": []
  },
  {
   "cell_type": "markdown",
   "id": "4b2b41b8-05e6-4d08-9a10-f4f693d771fa",
   "metadata": {},
   "source": [
    "We have to define the external magnetic field using a `discretisedfield.Field` object."
   ]
  },
  {
   "cell_type": "code",
   "execution_count": 22,
   "id": "53cfe236-56ea-45e5-b06f-ea163d5452a8",
   "metadata": {
    "tags": []
   },
   "source": [
    "H_field = df.Field(mesh, nvdim=3, value=(1,0,0), norm=5e4)"
   ],
   "outputs": []
  },
  {
   "cell_type": "code",
   "execution_count": 23,
   "id": "28d18de3-4b00-4c2a-8778-33af0b1c8814",
   "metadata": {
    "tags": []
   },
   "source": [
    "system.energy = (mm.Exchange(A=1e-11)\n",
    "                 + mm.Demag()\n",
    "                 + mm.Zeeman(H=H_field, func=rotation, dt=tstep))"
   ],
   "outputs": []
  },
  {
   "cell_type": "code",
   "execution_count": 24,
   "id": "2b033b55-30d6-452e-91ab-91a265870e72",
   "metadata": {
    "tags": []
   },
   "source": [
    "system.dynamics = mm.Damping(alpha=.2)"
   ],
   "outputs": []
  },
  {
   "cell_type": "code",
   "execution_count": 25,
   "id": "c503e335-f19a-495c-8f56-65d8fc9a9e87",
   "metadata": {
    "tags": []
   },
   "source": [
    "td = mc.TimeDriver()"
   ],
   "outputs": []
  },
  {
   "cell_type": "code",
   "execution_count": 26,
   "id": "3d688fc7-cbbe-4cda-967b-4b9965cc0851",
   "metadata": {
    "tags": []
   },
   "source": [
    "td.drive(system, t=25e-9, n=1000)"
   ],
   "outputs": []
  },
  {
   "cell_type": "code",
   "execution_count": 27,
   "id": "3cae4e7f-9043-453d-b5a7-ea6e87f3df7e",
   "metadata": {
    "tags": []
   },
   "source": [
    "system.table.mpl(y=['mx', 'my', 'mz'])"
   ],
   "outputs": []
  },
  {
   "cell_type": "markdown",
   "id": "357d298b-44b0-44f5-80fc-bcabe4175278",
   "metadata": {},
   "source": [
    "### Tcl\n",
    "\n",
    "If the above-presented ways of defining a time-dependence are not enough it is possible to pass several `tcl` strings that are directly forwarded to OOMMF. For any details on available options please refer to the relevant OOMMF documentation and check the generated `mif` file in case of problems or if additional information on certain parameters is required.\n",
    "\n",
    "To give an example we demonstrate the same rotation in xy-plane as shown in the section above."
   ]
  },
  {
   "cell_type": "code",
   "execution_count": 28,
   "id": "46e49451-e756-447b-9bc7-6f8afc4d5b51",
   "metadata": {
    "tags": []
   },
   "source": [
    "system_tcl = mm.System(name='custom_tcl')\n",
    "mesh = df.Mesh(p1=(0, 0, 0), p2=(10, 10, 1), cell=(1, 1, 1))\n",
    "system_tcl.m = df.Field(mesh, nvdim=3, value=(0, 0, 1), norm=1e4)"
   ],
   "outputs": []
  },
  {
   "cell_type": "code",
   "execution_count": 29,
   "id": "99cd687a-6269-4a56-ba9d-a46add868f8a",
   "metadata": {
    "tags": []
   },
   "source": [
    "H_field = df.Field(mesh, nvdim=3, value=(1, 0, 0), norm=5e4)"
   ],
   "outputs": []
  },
  {
   "cell_type": "markdown",
   "id": "0c07030d-4fe7-4f51-be5f-2bdd2fd167ab",
   "metadata": {},
   "source": [
    "A dictionary `tcl_strings` has to passed to the energy term. It must contain the following keys (details on the OOMMF documentation page https://math.nist.gov/oommf/doc/userguide20a3/userguide/Standard_Oxs_Ext_Child_Clas.html):\n",
    "\n",
    "- `script`: the script for time-dependence\n",
    "- `script_args`: arguments passed to the `script`\n",
    "- `script_name`: name of the `script`\n",
    "- `type`: transform type (`Oxs_TransformZeeman` only)\n",
    "- `energy`: class of the energy term (easiest to take from the `mif` file without)"
   ]
  },
  {
   "cell_type": "code",
   "execution_count": 30,
   "id": "f6e06a92-5894-4d16-aa31-afde63e31256",
   "metadata": {
    "tags": []
   },
   "source": [
    "# taken from https://math.nist.gov/oommf/doc/userguide20a2/userguide/Standard_Oxs_Ext_Child_Clas.html#TZ\n",
    "tcl_strings = {}\n",
    "tcl_strings['script'] = '''proc TimeFunction { total_time } {\n",
    "  set PI [expr {4*atan(1.)}]\n",
    "  set w [expr {1e9*2*$PI}]\n",
    "  set ct [expr {cos($w*$total_time)}]\n",
    "  set mct [expr {-1*$ct}]      ;# \"mct\" is \"minus cosine (w)t\"\n",
    "  set st [expr {sin($w*$total_time)}]\n",
    "  set mst [expr {-1*$st}]      ;# \"mst\" is \"minus sine (w)t\"\n",
    "  return [list  $ct $mst  0 \\\n",
    "                $st $ct   0 \\\n",
    "                  0   0   1 \\\n",
    "                [expr {$w*$mst}] [expr {$w*$mct}] 0 \\\n",
    "                [expr {$w*$ct}]  [expr {$w*$mst}] 0 \\\n",
    "                       0                0         0]\n",
    "}'''\n",
    "tcl_strings['energy'] = 'Oxs_TransformZeeman'\n",
    "tcl_strings['type'] = 'general'\n",
    "tcl_strings['script_args'] = 'total_time'\n",
    "tcl_strings['script_name'] = 'TimeFunction'\n",
    "\n",
    "system_tcl.energy = mm.Exchange(A=1e-11) + mm.Demag() + mm.Zeeman(H=H_field, tcl_strings=tcl_strings)"
   ],
   "outputs": []
  },
  {
   "cell_type": "code",
   "execution_count": 31,
   "id": "45d3ea00-853a-4919-aa81-18c71e3d9a03",
   "metadata": {
    "tags": []
   },
   "source": [
    "system_tcl.dynamics = mm.Damping(alpha=.2)"
   ],
   "outputs": []
  },
  {
   "cell_type": "code",
   "execution_count": 32,
   "id": "84b5ed3a-0aee-427a-9898-30989b5e0f05",
   "metadata": {
    "tags": []
   },
   "source": [
    "td = mc.TimeDriver()"
   ],
   "outputs": []
  },
  {
   "cell_type": "code",
   "execution_count": 33,
   "id": "88c092cf-e863-4351-b93a-a950c1bc8f5b",
   "metadata": {
    "tags": []
   },
   "source": [
    "td.drive(system_tcl, t=25e-9, n=500)"
   ],
   "outputs": []
  },
  {
   "cell_type": "code",
   "execution_count": 34,
   "id": "d07e47f2-3757-41ff-9d0b-181388efa2ce",
   "metadata": {
    "tags": []
   },
   "source": [
    "system.table.mpl(ax=ax2, y=['mx', 'my', 'mz'])"
   ],
   "outputs": []
  },
  {
   "cell_type": "markdown",
   "id": "1a052791-530c-4706-8cdc-98a1ff96333a",
   "metadata": {},
   "source": [
    "## Slonczewski and Zhang-Li currents\n",
    "\n",
    "From the point of view of modelling time-dependent currents both Slonczewski and Zhang-Li behave the same. Examples here use `ZhangLi` but can be directly applied to `Slonczewski`.\n",
    "\n",
    "### Python function\n",
    "\n",
    "The callable `time_dependence` must return a single number that is used to multiply the initial values. To demonstrate this we show an example of moving a domain wall with Zhang-Li current."
   ]
  },
  {
   "cell_type": "code",
   "execution_count": 35,
   "id": "69a647f4-5125-4153-952f-3e49eb72c47c",
   "metadata": {
    "tags": []
   },
   "source": [
    "# Definition of parameters\n",
    "L = 500e-9  # sample length (m)\n",
    "w = 20e-9  # sample width (m)\n",
    "d = 2.5e-9  # discretisation cell size (m)\n",
    "Ms = 5.8e5  # saturation magnetisation (A/m)\n",
    "A = 15e-12  # exchange energy constant (J/)\n",
    "D = 3e-3  # Dzyaloshinkii-Moriya energy constant (J/m**2)\n",
    "K = 0.5e6  # uniaxial anisotropy constant (J/m**3)\n",
    "u = (0, 0, 1)  # easy axis\n",
    "gamma0 = 2.211e5  # gyromagnetic ratio (m/As)\n",
    "alpha = 0.3  # Gilbert damping\n",
    "\n",
    "# Mesh definition\n",
    "p1 = (0, 0, 0)\n",
    "p2 = (L, w, d)\n",
    "cell = (d, d, d)\n",
    "region = df.Region(p1=p1, p2=p2)\n",
    "mesh = df.Mesh(region=region, cell=cell)\n",
    "\n",
    "# Micromagnetic system definition\n",
    "system = mm.System(name='domain_wall')\n",
    "system.energy = mm.Exchange(A=A) + \\\n",
    "                mm.DMI(D=D, crystalclass='Cnv_z') + \\\n",
    "                mm.UniaxialAnisotropy(K=K, u=u)\n",
    "system.dynamics = mm.Precession(gamma0=gamma0) + mm.Damping(alpha=alpha)"
   ],
   "outputs": []
  },
  {
   "cell_type": "markdown",
   "id": "506f41a8-8f48-4f16-a1fd-0e7360873d8d",
   "metadata": {},
   "source": [
    "Because we want to move a DW, we need to initialise the magnetisation in an appropriate way before we relax the system."
   ]
  },
  {
   "cell_type": "code",
   "execution_count": 36,
   "id": "c702b006-7caa-44be-8bcd-b08509d95068",
   "metadata": {
    "tags": []
   },
   "source": [
    "def m_value(pos):\n",
    "    x, y, z = pos\n",
    "    if x < 40e-9:\n",
    "        return (0, 0, -1)\n",
    "    else:\n",
    "        return (0, 0, 1)\n",
    "\n",
    "system.m = df.Field(mesh, nvdim=3, value=m_value, norm=Ms)\n",
    "\n",
    "system.m.orientation.z.sel('z').mpl.scalar(colorbar_label=\"$m_z$\", figsize=(15, 10))"
   ],
   "outputs": []
  },
  {
   "cell_type": "markdown",
   "id": "70296e63-ea1a-4c62-a81a-644aed4c03b1",
   "metadata": {},
   "source": [
    "Now, we can relax the magnetisation."
   ]
  },
  {
   "cell_type": "code",
   "execution_count": 37,
   "id": "ca698c4f-bdba-4beb-a8aa-4267b59e7d15",
   "metadata": {
    "tags": []
   },
   "source": [
    "md = mc.MinDriver()\n",
    "md.drive(system)\n",
    "\n",
    "system.m.orientation.z.sel('z').mpl.scalar(colorbar_label=\"$m_z$\", figsize=(15, 10))"
   ],
   "outputs": []
  },
  {
   "cell_type": "markdown",
   "id": "8079ffbe-dad8-4279-a19b-b902141bc66c",
   "metadata": {},
   "source": [
    "Now we can add the STT term to the dynamics equation. We define a sinusoidal modulation with period $T=1\\,\\mathrm{ns}$."
   ]
  },
  {
   "cell_type": "code",
   "execution_count": 38,
   "id": "53df68b5-2609-4ec3-ba84-3d862e443e46",
   "metadata": {
    "tags": []
   },
   "source": [
    "ux = 400  # velocity in x-direction (m/s)\n",
    "beta = 0.5  # non-adiabatic STT parameter\n",
    "\n",
    "def time_func(t):\n",
    "    omega = 2 * np.pi / 1e-9\n",
    "    return np.sin(omega * t)\n",
    "\n",
    "system.dynamics += mm.ZhangLi(u=ux, beta=beta, func=time_func, dt=1e-12)"
   ],
   "outputs": []
  },
  {
   "cell_type": "markdown",
   "id": "aa998814-302f-4636-961e-18fca0dbeea5",
   "metadata": {},
   "source": [
    "And drive the system for $1.5 \\,\\text{ns}$ ($1.5T$):"
   ]
  },
  {
   "cell_type": "code",
   "execution_count": 39,
   "id": "fe71895d-1dcc-47dd-a21a-09551dc46e53",
   "metadata": {
    "tags": []
   },
   "source": [
    "td = mc.TimeDriver()\n",
    "td.drive(system, t=1.5e-9, n=100)\n",
    "\n",
    "system.m.orientation.z.sel('z').mpl.scalar(colorbar_label=\"$m_z$\", figsize=(15, 10))"
   ],
   "outputs": []
  },
  {
   "cell_type": "markdown",
   "id": "4e8e3e24-94ac-4dfd-b1e5-a49e1421a124",
   "metadata": {},
   "source": [
    "We see that the DW pair has moved to the positive $x$ direction. We can get more information about the movement by plotting the average magnetisation in z-direction as a function of time:"
   ]
  },
  {
   "cell_type": "code",
   "execution_count": 40,
   "id": "af48e58a-5b2d-4154-b9a6-76d0ed4dbd65",
   "metadata": {
    "tags": []
   },
   "source": [
    "fig, (ax1, ax2) = plt.subplots(2, figsize=(8, 8))\n",
    "system.table.mpl(ax=ax1, y=['average_u'])\n",
    "system.table.mpl(ax=ax2, y=['mz'])"
   ],
   "outputs": []
  },
  {
   "cell_type": "markdown",
   "id": "c23f3f2b-a6af-4e33-a47b-130dc107c417",
   "metadata": {},
   "source": [
    "We can see that the magnetisation follows the sinusoidal modulation of the current. Now, let us visualise the motion using an interactive plot."
   ]
  },
  {
   "cell_type": "code",
   "execution_count": 41,
   "id": "8a698196-4e79-420a-9cb2-94e9201b410a",
   "metadata": {
    "tags": [
     "nbval-ignore-output"
    ]
   },
   "source": [
    "data = micromagneticdata.Data(system.name)\n",
    "\n",
    "data[-1].hv(kdims=[\"x\", \"y\"])"
   ],
   "outputs": []
  },
  {
   "cell_type": "markdown",
   "id": "13aeabc0-8dfc-4ea4-8719-82ea3bb0a95a",
   "metadata": {},
   "source": [
    "We repeat the same simulation with `Slonczewski` spin current. First we remove the `ZhangLi` term and reset the magnetisation"
   ]
  },
  {
   "cell_type": "code",
   "execution_count": 42,
   "id": "be0019dc-ec17-4866-b180-bba027946334",
   "metadata": {
    "tags": []
   },
   "source": [
    "system.dynamics -= mm.ZhangLi(u=ux, beta=beta, func=time_func, dt=1e-12)\n",
    "\n",
    "def m_value(pos):\n",
    "    x, y, z = pos\n",
    "    if x < 40e-9:\n",
    "        return (0, 0, -1)\n",
    "    else:\n",
    "        return (0, 0, 1)\n",
    "\n",
    "system.m = df.Field(mesh, nvdim=3, value=m_value, norm=Ms)\n",
    "\n",
    "system.m.orientation.z.sel('z').mpl.scalar(colorbar_label=\"$m_z$\", figsize=(15, 10))"
   ],
   "outputs": []
  },
  {
   "cell_type": "markdown",
   "id": "067ef275-9efd-4771-a58f-4790d4253041",
   "metadata": {},
   "source": [
    "Now, we can relax the magnetisation."
   ]
  },
  {
   "cell_type": "code",
   "execution_count": 43,
   "id": "d7cd6e6a-5306-4e89-837f-23b8682363c0",
   "metadata": {
    "tags": []
   },
   "source": [
    "md = mc.MinDriver()\n",
    "md.drive(system)\n",
    "\n",
    "system.m.orientation.z.sel('z').mpl.scalar(colorbar_label=\"$m_z$\", figsize=(15, 10))"
   ],
   "outputs": []
  },
  {
   "cell_type": "markdown",
   "id": "2a3a5329-2378-49d3-b632-f3b641e2aa91",
   "metadata": {},
   "source": [
    "Then, we add the `Slonczewski` term."
   ]
  },
  {
   "cell_type": "code",
   "execution_count": 44,
   "id": "046a87c4-3756-4619-9bce-5c718154ec09",
   "metadata": {
    "tags": []
   },
   "source": [
    "J = 2e12\n",
    "mp = (0, 0, -1)\n",
    "P = 0.8\n",
    "Lambda = 1\n",
    "\n",
    "def time_func(t):\n",
    "    omega = 2 * np.pi / 1e-9\n",
    "    return np.sin(omega * t)\n",
    "\n",
    "system.dynamics += mm.Slonczewski(J=J, mp=mp, P=P, Lambda=Lambda, func=time_func, dt=1e-12)"
   ],
   "outputs": []
  },
  {
   "cell_type": "markdown",
   "id": "2e8c3128-12f4-4d1e-973a-86a3de58ba36",
   "metadata": {},
   "source": [
    "And drive the system for $1.5 \\,\\text{ns}$ ($1.5T$):"
   ]
  },
  {
   "cell_type": "code",
   "execution_count": 45,
   "id": "dcaabb45-d263-4865-9eaf-5daafbcb216c",
   "metadata": {
    "tags": []
   },
   "source": [
    "td = mc.TimeDriver()\n",
    "td.drive(system, t=1.5e-9, n=100)\n",
    "\n",
    "system.m.orientation.z.sel('z').mpl.scalar(colorbar_label=\"$m_z$\", figsize=(15, 10))"
   ],
   "outputs": []
  },
  {
   "cell_type": "markdown",
   "id": "c0f369bb-dd29-4def-8c41-db206662b44b",
   "metadata": {},
   "source": [
    "We can get more information about the movement by plotting the average magnetisation in z-direction as a function of time:"
   ]
  },
  {
   "cell_type": "code",
   "execution_count": 46,
   "id": "f6131a41-2c91-4a7e-9e8f-545817b5b981",
   "metadata": {
    "tags": []
   },
   "source": [
    "fig, (ax1, ax2) = plt.subplots(2, figsize=(8, 8))\n",
    "system.table.mpl(ax=ax1, y=['average_J'])\n",
    "system.table.mpl(ax=ax2, y=['mz'])"
   ],
   "outputs": []
  },
  {
   "cell_type": "markdown",
   "id": "3da7178c-f475-4ef6-8bbe-b6fdc9f49437",
   "metadata": {},
   "source": [
    "We can see that the magnetisation follows the sinusoidal modulation of the current. Now, let us visualise the motion using an interactive plot."
   ]
  },
  {
   "cell_type": "code",
   "execution_count": 47,
   "id": "dbcd44ce-b797-4f3a-bf00-4b4c4b2e16a0",
   "metadata": {
    "tags": [
     "nbval-ignore-output"
    ]
   },
   "source": [
    "data = micromagneticdata.Data(system.name)\n",
    "\n",
    "data[-1].hv(kdims=[\"x\", \"y\"])"
   ],
   "outputs": []
  },
  {
   "cell_type": "markdown",
   "id": "cec18872-1145-4d7e-be14-85bacfa5381a",
   "metadata": {},
   "source": [
    "### Tcl\n",
    "\n",
    "Custom `tcl` can be passed similar to the Zeeman field. The dictionary `tcl_strings` has to be passed to the energy term. It must contain the following keys (details on the OOMMF documentation pages):\n",
    "\n",
    "- `script`: the script for time-dependence\n",
    "- `script_args`: arguments passed to the `script`\n",
    "- `script_name`: name of the `script`"
   ]
  }
 ],
 "metadata": {
  "kernelspec": {
   "display_name": "Python 3 (ipykernel)",
   "language": "python",
   "name": "python3"
  },
  "language_info": {
   "codemirror_mode": {
    "name": "ipython",
    "version": 3
   },
   "file_extension": ".py",
   "mimetype": "text/x-python",
   "name": "python",
   "nbconvert_exporter": "python",
   "pygments_lexer": "ipython3",
   "version": "3.10.0"
  },
  "widgets": {
   "application/vnd.jupyter.widget-state+json": {
    "state": {
     "251b3e410a3a40078c208b2548e80d12": {
      "model_module": "@jupyter-widgets/controls",
      "model_module_version": "1.5.0",
      "model_name": "VBoxModel",
      "state": {
       "_dom_classes": [
        "widget-interact"
       ],
       "children": [
        "IPY_MODEL_2b795b214318480e8a97acd269ecaa3a",
        "IPY_MODEL_2e8ad8b2ee8048e7931fdedd63911923"
       ],
       "layout": "IPY_MODEL_bbb0d67c106745059643adab6fe59bec"
      }
     },
     "2b795b214318480e8a97acd269ecaa3a": {
      "model_module": "@jupyter-widgets/controls",
      "model_module_version": "1.5.0",
      "model_name": "IntSliderModel",
      "state": {
       "description": "step",
       "layout": "IPY_MODEL_f02ee331043c4b0c9f0396eb9c0b5ff3",
       "max": 99,
       "style": "IPY_MODEL_5f11fdc7aff74d1fb5f197b596b5aecc"
      }
     },
     "2e8ad8b2ee8048e7931fdedd63911923": {
      "model_module": "@jupyter-widgets/output",
      "model_module_version": "1.0.0",
      "model_name": "OutputModel",
      "state": {
       "layout": "IPY_MODEL_57bf7a6017824d0f89e9e83612642eb9",
       "outputs": [
        {
         "data": {
          "image/png": "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\n",
          "text/plain": "<Figure size 576x432 with 2 Axes>"
         },
         "metadata": {},
         "output_type": "display_data"
        }
       ]
      }
     },
     "364b147b7311413e8c70033baaabceb8": {
      "model_module": "@jupyter-widgets/controls",
      "model_module_version": "1.5.0",
      "model_name": "SliderStyleModel",
      "state": {
       "description_width": ""
      }
     },
     "3f81d8e11ba94f6491fef6dbc2271829": {
      "model_module": "@jupyter-widgets/controls",
      "model_module_version": "1.5.0",
      "model_name": "IntSliderModel",
      "state": {
       "description": "step",
       "layout": "IPY_MODEL_b26aef99cb5946f8a27c7232e96adc54",
       "max": 99,
       "style": "IPY_MODEL_364b147b7311413e8c70033baaabceb8"
      }
     },
     "3fb9c4876a474b60a51b30d729f47710": {
      "model_module": "@jupyter-widgets/base",
      "model_module_version": "1.2.0",
      "model_name": "LayoutModel",
      "state": {}
     },
     "44d2022b160a46dfb940ec930e5c6211": {
      "model_module": "@jupyter-widgets/controls",
      "model_module_version": "1.5.0",
      "model_name": "VBoxModel",
      "state": {
       "_dom_classes": [
        "widget-interact"
       ],
       "children": [
        "IPY_MODEL_3f81d8e11ba94f6491fef6dbc2271829",
        "IPY_MODEL_5eaeb7cd219d460dbe6cf331b6eef02e"
       ],
       "layout": "IPY_MODEL_3fb9c4876a474b60a51b30d729f47710"
      }
     },
     "57bf7a6017824d0f89e9e83612642eb9": {
      "model_module": "@jupyter-widgets/base",
      "model_module_version": "1.2.0",
      "model_name": "LayoutModel",
      "state": {}
     },
     "5eaeb7cd219d460dbe6cf331b6eef02e": {
      "model_module": "@jupyter-widgets/output",
      "model_module_version": "1.0.0",
      "model_name": "OutputModel",
      "state": {
       "layout": "IPY_MODEL_62c2f5f1b8ed4ce59583223effe06c64",
       "outputs": [
        {
         "data": {
          "image/png": "iVBORw0KGgoAAAANSUhEUgAAAeUAAAFUCAYAAAAapiSyAAAAOXRFWHRTb2Z0d2FyZQBNYXRwbG90bGliIHZlcnNpb24zLjUuMSwgaHR0cHM6Ly9tYXRwbG90bGliLm9yZy/YYfK9AAAACXBIWXMAAAsTAAALEwEAmpwYAAAs3ElEQVR4nO3de3wU1f3/8fdsIDdA1AZEFEIIFLGICVAgFA0GrUYCiAZUKvrFIgRFEX4UKohELioqUKkKXxAV0BYEKVHRiiikPr4ImHJRbhHNimDqJSCBkCu78/sjZMuaC8ElyYF5PR+PeejOzs6cnUfIO59zzsxYtm3bAgAAdc5V1w0AAAClCGUAAAxBKAMAYAhCGQAAQxDKAAAYglAGAMAQ9eq6AQAAVMT73a8D+ryr2RdnqSW1h1AGABjJK29Anz8Xu4IJZQCAkTx2YKF8LgbcudhmAIADeOW8G06ei9U9AADnJSplAICRAh1TPhcRygAAI3kc+LwkQhkAYCTGlAEAQJ2hUgYAGMnjwEqZUAYAGMmJ3deEMgDASEz0AgDAEM67IIqJXgAAGINKGQBgJCZ6AQBgCI/zMplQBgCYyYljyoQyAMBIHll13YRax0QvAAAMQaUMADCSlzFlAADM4MTua0IZAGAkJ4YyY8oAABiCShkAYCSv7bxKmVAGABjJid3XhDIAwEgeB46wEsoAACM5sfvaeX+GAABgKCplAICRGFMGAMAQHtt5nbmEMgDASF4HjrASygAAIzmx+9p5f4YAAGAoKmUAgJEYUwYAwBBeB3ZfE8oAACM58Y5ezvvGAADH2717t5KTkxUTE6P+/ftr+/bt5bYZNmyYYmNjfcvVV1+tdu3aaevWrZKkqVOnqkOHDn7bZGdnB9QuKmUAgJFqaky5qKhIKSkpSklJ0cCBA5WWlqaRI0dq3bp1atCggW+7l156ye9zEyZM0IkTJ9SpUydJpcH+7LPP6qabbjprbaNSBgAYyStXQEtlNm3aJJfLpcGDB6t+/fpKTk5WRESE0tPTK/3MunXrtGnTJj3++OOlbfN6lZmZqfbt25/V70woAwCM5LGtgJbKuN1uRUdH+62LiopSVlZWhdufOHFCTz75pCZMmKCGDRtKkr7++msVFhZq5syZ6t69u2655RatX78+4O9MKAMAjOSRK6ClMvn5+QoLC/NbFxoaqsLCwgq3f/fddxUSEuLXTX306FF17dpVw4YN08cff6xRo0bp4YcfVmZmZkDfmTFlAICjhIWFlQvgwsJChYeHV7j9qlWrNGjQILlc/w36mJgYLV682Pf6+uuvV1xcnDZs2KB27dr94rZRKQMAjOS1XQEtlWndurXcbrffOrfbrTZt2pTbNi8vT59++qkSExP91n/yySdatmyZ37qioiKFhIQE8I0JZQCAoWqq+zouLk7FxcVaunSpSkpKtHLlSuXk5Khnz57ltt25c6eaNm2qSy65xG+9ZVmaOXOmMjIy5PF49Pbbb2vHjh3lwvtM0X0NADBSVZO1AhEcHKyFCxcqNTVVs2fPVmRkpObNm6fw8HANGzZMXbp0UUpKiiTp22+/VZMmTcrto3v37po4caImTpyoH374QVFRUZo/f3658D5Tlm3bdkB7AACgBizd1z2gzw9pu+kstaT2UCkDAIzE85QBADAET4kCAMAQPCUKAABDOLFSdt43BgDAUFTKAAAjOfF5yoQyAMBI3hq6TtlkhDIAwEhUygAAGKKq+1efr5z3jQEAMBSVMgDASB6uUwYAwAxO7L4mlAEARnJipey8P0MAADAUlTIAwEh0XwMAYAgn3vuaUAYAGImnRAEAYAgnVsrO+8YAABiKShkAYCQeSAEAgCF4IAUAAIagUgYAwBBeB1bKzvvGAAAYikoZAGAkD93XAACYgTFlAAAM4cR7XzvvGwMAYCgqZQCAkZz4PGVCGQBgJMaUAQAwBGPKAAAYwisroKUqu3fvVnJysmJiYtS/f39t3769wu2SkpJ09dVXKzY2VrGxserTp4/vvY0bNyopKUkxMTEaPHiw3G53wN+ZUAYAOEpRUZFSUlJ066236tNPP9WQIUM0cuRIHT9+3G+7wsJCZWVlaf369dq2bZu2bdumNWvWSJJycnI0atQojR07Vlu2bFGPHj00atQo2bYdUNsIZQCAkTy2FdBSmU2bNsnlcmnw4MGqX7++kpOTFRERofT0dL/tvvjiC0VEROjiiy8ut4+1a9eqffv2SkhIUHBwsEaOHKkffvhBn3/+eUDfmVAGABjJa7sCWirjdrsVHR3tty4qKkpZWVl+63bv3q169erp9ttvV/fu3XXvvffqq6++kiRlZWX57SMoKEgtWrQot48zRSgDAIzkta2Alsrk5+crLCzMb11oaKgKCwvLbXvVVVdp1qxZ2rBhgzp06KD77rtPhYWFKigoKLePsLAwFRQUBPSdCWUAgJFqaqJXWFhYuQAuLCxUeHi437o77rhDzz33nC6//HKFhoZqzJgxys3N1Z49eyrcR0FBQbl9nClCGQDgKK1bty43U9rtdqtNmzZ+65YvX66NGzf6Xns8Hp04cUIhISHl9uHxePTNN9+U28eZIpQBAEaqqe7ruLg4FRcXa+nSpSopKdHKlSuVk5Ojnj17+m33ww8/aMaMGfrPf/6jwsJCPfXUU2rdurWuuOIK3XDDDdq5c6fWrl2r4uJizZs3T82aNdOVV14Z0HcmlAEARqqpiV7BwcFauHCh1qxZo65du+q1117TvHnzFB4ermHDhmn+/PmSpJSUFPXs2VMDBw5UXFycvvnmG73wwgtyuVxq0qSJXnzxRT3//PPq1q2bNm7cqL/+9a+yrMDuQmbZgV5UBQBADRi4cWRAn1/RY95ZakntoVIGAMAQ3PsaAGCk090q83xEKAMAjMRTogAAMAShDACAIZwYykz0AgDAEFTKAAAjObFSJpQBAEZi9jUAAIagUgYAwBBODGUmegEAYAgqZQCAkZxYKRPKAAAjEcoAABjCdmAoM6YMAIAhqJQBAEbiOmUAAAzBmDIAAIZw4pgyoQwAMJITK2UmegEAYAgqZQCAkei+BgDAEE7sviaUAQBGsu26bkHtI5QBAEZy4nXKTPQCAMAQVMoAACMx0QsAAEMw0QsAAEM4caIXY8oAABiCShkAYCTGlAEAMIQTQ5nuawCAkby2FdBSld27dys5OVkxMTHq37+/tm/fXuF2L774onr16qUuXbpoyJAh+uKLL3zvTZ06VR06dFBsbKxvyc7ODug7E8oAACPZdmBLZYqKipSSkqJbb71Vn376qYYMGaKRI0fq+PHjftutWrVKaWlpWrp0qTZt2qS4uDiNGDFCXq9XUmmwP/vss9q2bZtvad68eUDfmVAGADjKpk2b5HK5NHjwYNWvX1/JycmKiIhQenq633Y//fSTUlJS1KJFC9WrV0933323srOz9d1338nr9SozM1Pt27c/q21jTBkAYKSaGlN2u92Kjo72WxcVFaWsrCy/dX/84x/9Xn/00Ue68MIL1axZM3399dcqLCzUzJkztXXrVjVr1kyjR4/WddddF1DbqJQBAEaybSugpTL5+fkKCwvzWxcaGqrCwsJKP7NlyxZNmTJFjz76qFwul44ePaquXbtq2LBh+vjjjzVq1Cg9/PDDyszMDOg7E8oAACPZAS6VCQsLKxfAhYWFCg8Pr3D71atXa8SIEZo8ebL69u0rSYqJidHixYvVqVMn1a9fX9dff73i4uK0YcOGX/p1JRHKAABD1VSl3Lp1a7ndbr91brdbbdq0KbftCy+8oCeffFIvvviibr31Vt/6Tz75RMuWLfPbtqioSCEhIQF9Z0IZAOAocXFxKi4u1tKlS1VSUqKVK1cqJydHPXv29NvuzTff1OLFi/W3v/1NcXFxfu9ZlqWZM2cqIyNDHo9Hb7/9tnbs2KHExMSA2mbZthPvLgoAMN2vV04L6PNfJE+u9L29e/cqNTVVmZmZioyMVGpqqmJiYjRs2DB16dJFKSkpuvHGG3Xw4EEFBwf7fXblypWKjo7WihUrtHDhQv3www+KiorSI488oq5duwbUZkIZAGCktiumB/T5fQMfPUstqT1cEgUAMJITS0bGlAEAMASVMgDASE58IAWhDAAwE6EMAIAZnDimTCgDAMzkwFBmohcAAIagUgYAGImJXgAAmMKB3deEMgDASE6slBlTBgDAEFTKAAAz0X0NAIApnNd9TSgDAMxEpQwAgCEcGMpnPNHr2LFjysvLq4m2AADgaKetlPPy8rRixQp99NFH2rFjh0pKSiRJoaGhuvrqq3X99dfrlltuUcOGDWu8sQAAB3HgJVGVhrLX69WCBQu0cOFCNW/eXL169dLAgQN18cUXy+Px6KefftLu3bu1YsUKPffcc7r33nt13333qV49esQBAIHjgRSnGDRokK688kq98cYbio6OrnCbW265RZK0d+9eLV68WIMGDdKqVatqpKEAAIdxYChbtl3x3yJffvml2rRpc0Y727dvn9q2bXtWGgYAcLbIl54J6PP7h/3pLLWk9lQ60etMA1kSgQwAQACqNQBcUlKiN998U/v27VNxcXG596dNm3bWGwYAcDbLgd3X1QrlP//5z1q7dq3at2+vkJAQv/csy3mz4wAAtYBQrtiGDRs0e/Zs3XDDDTXdHgAASjnwkqhq3TykUaNGioqKCvhgGRkZGjhwoDp37qzrr79ey5YtkyTl5ubqgQceUOfOndWrVy+tWLEi4GMBAHCuqValPHz4cM2cOVOPP/64mjdv/osOlJubq/vvv1+TJ09Wnz59tGfPHg0dOlQtW7bUsmXLFB4ero0bNyozM1P33Xef2rZtq5iYmF90LADAeYDu64r95je/0XPPPafevXvL5XKVG0feuXPnafeRnZ2t+Ph49e3b17fPbt26aevWrVq3bp3ef/99hYSEqGPHjkpKStLq1asJZQBwMkK5YhMnTlSrVq3Ur18/hYeH/6IDtW/fXs88899rznJzc5WRkaF27dqpXr16atGihe+9qKgorV279hcdBwBwniCUK3bgwAG99dZbatWq1Vk56LFjx5SSkuKrlpcsWeL3fmhoqAoLCyv9fGLLhyWPR3ZxseS1S/+/Lu7H5vWWX+cqHaa36tWTglyywsJkh4XIc3EDFVwSqvymQcqNlk40LdFV0QfVqsEh9bzgC/0qKE/NgvIUankUYklBkoIsy2/Qv4KjAUCt89i2PCr9nXTMG6QS26VOkd+c/QM5cKJXtbuv9+/ff1ZC+cCBA0pJSVGLFi30l7/8RV999ZWKior8tiksLKyyIreLiiWvR3ZhkWTbsj2e0je8BvxZ5Tr5Q+T1ygoKkurVk1UvSJbHllX2UyxJlq16lkchrhMKtUoUapUo3PIo1JJCLZfqWy65zvwhXgBQ47yWVx7ZKrG9ksujEttT1006b1QrlG+99VZNnDhRgwYNUsuWLcs9dKJsnPh0du3apWHDhqlfv36aMGGCXC6XIiMjVVJSouzsbN8kMrfbXfUdxWxvaQDbdmm16rVL19Uwu4rQt3xhfDJIbbu0erdtWSdfWz+r5l0nr4wPsrwKkq0g62R1bFlyyaWgU8buKwtoL/UzgLOsot83fr9rbJckr2S55LI9NVY+cPOQSkyePFmSNG/evHLvWZZVrVDOycnRsGHDNHToUA0fPty3vmHDhurdu7dmzZql6dOna9++fXrnnXe0YMGCynfm8ZZ2WXs8kveUSrkWgrkyvj8ULbs0oL1eybL++8dDJd3rLstWkGy5LK9ckurLUn0Fney6dsmlqrtvXAo6u18EACpw6u8al2XLK0uyPQq2LNXY4G8NhvLu3bv12GOP6csvv1RkZKQef/zxCicXv/rqq1q0aJGOHz+uhIQETZ061deT+84772jOnDk6dOiQunXrphkzZigiIiKgdlUrlPfu3RvQQSRp5cqVOnz4sObNm+cX7nfffbemTZumKVOmKD4+XuHh4frTn/6kq6++uvKd2d7/jiGXBbHvv3X0p9XPZqTbZRVy9TYv5+eBHGTRlQ2gbnl+VviUVtTnXtd1UVGRUlJSlJKSooEDByotLU0jR47UunXr1KBBA99269ev16JFi7RkyRJFRERo7Nixevrpp5Wamqq9e/dqypQpevnll9WuXTtNmzZNjzzyiBYuXBhQ22rt4cdlJ6Ayzz333Jnv1PvzYK7Dvg7fsb2yvS5ZQadvT2mVXNr2INkV1ryEMQBT+H4f2f/tzHZJNdZfV1Pd15s2bZLL5dLgwYMlScnJyVq8eLHS09N18803+7ZLS0tTcnKy7+ZZo0eP1pAhQzR58mS9/fbb6t27t6+AHDdunOLi4pSTkxNQtVytUP7qq680Y8YMbdu2TSUlJeXer851yjiF8yYUAoAx3G63oqOj/dZFRUUpKyvLb11WVpbf7aWjoqKUn5+v77//XllZWYqNjfW9d9FFF6lx48Zyu901H8qPPfaYcnNzNWbMGDVq1OgXHwwAcH6p0Zk8NXRJVH5+vsLCwvzWVXQpbkFBgUJDQ32vyz5TUFBQ7r2y9wsKCgJqW7VC+bPPPtOKFSt0xRVXBHSwGmO5SruwLavux5QtlyyXVXrXs1MHjn3vn9luPbaXLmwARigbU/b+bAZWjY0q19Cv87CwsHIBXNGluKGhoX6X7JYFboMGDSoN8V96g60y1QrlJk2a1M3NOapgWZZsl3XyEiTPqW/UWZsq5Kpeezyy/H6wS0dsSid7/XxyBQDUNY9tyyuvPDWZDTW069atW+u1117zW+d2u5WUlOS3Ljo62q9L2+1264ILLlDTpk0VHR0tt9vte+/w4cPKzc0t1y1+pqoVyikpKXriiSc0depURUZGyuU6+5VbdaenS5KCgiR5ZAUFyZZHloL8ujmqdT3xGapqn377LatqXS6p7D7hJxf7Z38weG1LHrnkkSWv7ZJXUolsueSR7CDJOnUyReXnnGuVAZxtZb9zKvr9UhbIJbZXHkklZtVspxUXF6fi4mItXbpUd9xxh9LS0pSTk6OePXv6bdevXz9NmTJFN954oy699FLNnTtXSUlJcrlcSkpK0l133aXbbrtNV111lWbPnq1rr71WF110UUBtq1Yov/LKKzpw4IBuvvlmWZZVLpQDnehV3enpPq6Tc/2sE75g9t20Qyqd+XyWVXufvnC2/AK5dJ2q7L722KXve21bXst78gL9k++dg5cdADh3VfY7pyykSwPZVoldc+PKNTX7Ojg4WAsXLlRqaqpmz56tyMhIzZs3T+Hh4Ro2bJi6dOmilJQUJSQk6ODBgxoxYoSOHj2q+Ph4jR8/XlLp8xymTZumSZMm6ccff1SXLl305JNPBtw2y65Gv/Q//vGPKt8fMGBAQI1IT0/XlClTtGHDBt+6vn37auTIkX7T08v43fu67AYiBt372rKs0mr+lHtfn/hVQxVeEqLjTYN0tI3kaVqsjlEH1arhIV3T6AtdGHRczYOOKdTyqr6lkxfkl3/gNTUxgLpWdu/rEls6ZtdTie3SbyP3n/XjRM+aHdDnv/p/Y89SS2pPtSrlQEP3dKo7Pd3Hskq7h8vCTx5ZZ5JWZ9KFXVW3dVAl5bPLKl0s18n/WpKl0u7rk4c+9W8Ijyx5bJe8suRVafAW26XXLZ9JfUwtDSAQ1ekQLPs9U1Yhlw7D1dBcnnOsW/xsqDSUhwwZogkTJqhDhw7V2tG2bds0a9ascoPn1VHd6ell3ts/54yPAQA4t3Dv61OMHj1a48aNU0REhBITExUfH6/LL7/cb5svv/xSmzdv1qpVq3T06FHNmDHjFzWiutPTAQA4n1Uayl26dNFbb72lN998U4sXL9b06dMVGhqqCy+8UB6PR0eOHFFJSYmioqJ01113KTk5WcHBwb+oEdWdng4AcBCep+wvODhYd955p+6880653W7t2LFDhw4dkmVZatKkiTp27KjIyMiAG1Hd6ekAAAeh+7pyUVFRvptyn21VTU8HADiTE8eUjbl/4xVXXKFly5Zp27ZtWr16dYU3Dtm9e7eSk5MVExOj/v37a/v27bXeThN89tlnfr0Iubm5euCBB9S5c2f16tVLK1as8L1XXFysiRMnqmvXrurRo0eFz8Q+H2RkZGjgwIHq3Lmzrr/+ei1btkwS56bMu+++q8TERMXGxqpPnz5at26dJM7PqXJychQXF6f169dLkg4ePKh77rlHsbGxuvHGG33rparP2/lk0aJF6tChg2JjY31LRkZG7f3c2AEu56Bae3RjoM74BiPnIdu29eabb+qpp55S0CmXY02ePFnh4eHauHGjMjMzdd9996lt27aKiYnRnDlzlJ2drQ8//FCHDh3Svffeq8jIyAqv/z5X5ebm6v7779fkyZPVp08f7dmzR0OHDlXLli21bNkyR58bqXR+xsSJE/Xyyy+rU6dO2rhxo4YPH65//etfSk1Ndfz5KTNp0iQdOXLE93r06NHq0aOHXnrpJW3cuFFjxozRO++8o+bNm1f5b+58snv3bo0ZM0Z//OMf/dY/9NBD/NzUEGMq5dM59fmX9evXV3JysiIiIpSenl7XTas18+fP15IlS/yeS338+HGtW7dODz30kEJCQtSxY0clJSVp9erVkkqfBzpixAg1atRIrVq10l133XXam8Gca7KzsxUfH6++ffvK5XLpN7/5jbp166atW7c6/txIpUNP//d//6dOnTrpxIkTysnJUYMGDRQcHMz5Oenvf/+7wsLCdOmll0oqfVztF198oQceeED169dXfHy8unbtqjVr1pz239z5ZM+ePWrfvr3futr8nWPZgS3nomqF8t69e2u6Had1xjcYOQ/ddtttSktL01VXXeVbt3//ftWrV08tWrTwrSs7L7m5uTp06JDatGlT7r3zSfv27fXMM8/4Xufm5iojI0OSHH9uyjRo0EAHDhxQx44dNX78eI0ZM0bffPMN50elv1teeeUVpaam+tZlZWXpsssu83s0X9n3r+rf3PmkoKBAbrdbS5Ys0e9+9zslJiZq5cqVtfs7x4Hd19UK5VtuuUUDBgzQ0qVLdfjw4ZpuU4XO9AYj56OmTZuW3sLzFPn5+eWe6Vl2XsoeM3bqeTvfz9mxY8eUkpLiq5Y5N/916aWXaseOHXrllVc0c+ZMffTRR44/PydOnND48eM1adIkXXjhhb71Vf2+qerf3PkkJydHnTt31p133qn169dr2rRpeuqpp7R+/fra+7khlCu2du1a9e7dW6+99pquvfZaPfDAA1q3bp1OnDhR0+3z4QYjFQsLC/N73qf03/NS9g/n1PN2Pp+zAwcO6I477lDjxo31/PPPKzw8nHNzinr16ql+/fqKi4vT73//e+3cudPx5+fFF19U+/btFR8f77e+qt83Vf2bO5+0aNFCr732muLj4xUcHKwuXbqof//+ysjIcPzPTU2qVii3bNlSo0aN0vvvv6+lS5fqkksu0bRp03TNNddoxowZtdK93bp1a79nV0ql3U6ndpM4UWRkpEpKSpSdne1bV3ZeLrzwQv3qV7/yO28VDQOcD3bt2qVBgwapZ8+eevHFFxUaGsq5OSk9PV3/8z//47eupKRELVu2dPz5effdd7VmzRp16dJFXbp0UXZ2tsaOHSu3261vv/1WxcXFvm3Lzk1VP1fnk127dmnBggV+64qKinTppZfW2s8NY8rVEBsbq9///vfq3bu3CgoK9NZbb2ngwIEaPHhwudA8m069wUhJSYlWrlzJDUYkNWzYUL1799asWbNUUFCgzz77TO+884769u0rqfR5oH/961915MgRff3113rttdfUv3//Om712ZWTk6Nhw4Zp6NCheuSRR3yPFuXclLryyiu1c+dOrV69Wl6vV+np6UpPT9ftt9/u+PPzz3/+U//+97+VkZGhjIwMNW/eXLNnz9aIESPUpk0b/eUvf1FxcbHS09O1efNm3XTTTaf9uTpfhIeH6/nnn9c///lPeb1effLJJ1qzZo3+8Ic/OP7npiZV69GNUulkr7S0NK1Zs0aHDx9WfHy8BgwYoF69eunYsWOaNGmSDhw4oLfffrvGGrt3716lpqYqMzNTkZGRSk1NPe8uQaiOzZs366GHHtLmzZslSUeOHNGUKVP0ySefKDw8XKNGjVJycrKk0q6jJ554Qh988IEsy9Ldd9/tN3v7fDB//nzNmTOnXBfZ3XffraFDhzr63JTJyMjQE088oa+//lqtWrXS+PHj1b17d8f/7PxcQkKCJk+erOuuu07ffvutHnvsMW3fvl0RERH685//rOuuu05S1f/mzicfffSR5syZowMHDuiSSy7RmDFjdNNNN9Xaz027qYE9fCjzsTEBfb4uVCuUk5KS9NVXX+nXv/61BgwYoH79+uniiy/22+b999/Xo48+qk8//bTGGgsAcI4rHg8slPdOOfdCuVo3D+nRo4eeeeaZcternapbt2567733zlrDAABwmmqF8sSJE0+7zamXEwAAELBzdLJWIM6Z22wCAByGUAYAwAzn6mVNgSCUAQBmcmAonzMPpAAA4HxHKAM1KCMjQ3fddVeN7X/fvn267bbbavWWt0Bt4Y5eAM6aoqIiTZo0SePHj6+xY7Rt21bt27fXwoULa+wYQJ3hgRQAzpZVq1bpV7/6lTp27Fijxxk6dKgWLlyoY8eO1ehxgFpHKAOoyHvvvad27dopPT1dkmTbtoYOHaoBAwb4PbTgVK+++qoSExN9r1etWqWbbrpJy5cvV0JCgjp06KDBgwfrq6++8m3Trl07rVixQnfccYeuuuoq3Xzzzdq+fbv+9re/KT4+Xp06ddLYsWP9jhkdHa3LLrtMb7zxRg19ewC1hVAGqiExMVFJSUlKTU3V8ePHtXTpUm3btk3PPvusgoODy22flZWlr7/+Wr169fJbf/DgQb399tuaO3eu3njjDeXm5mratGl+28yePVvDhw9XWlqaGjZsqOHDh+vDDz/UwoUL9eSTT2rt2rVauXKl32fi4+P10UcfnfXvDdQlxpQBVOqxxx7TiRMnNGnSJM2aNUuPPPJIpY+k++yzzxQWFqbLL7/cb31JSYkef/xxdejQQVdeeaUGDRqk7du3+20zaNAgJSQkqHXr1urfv79yc3OVmpqqX//617rxxhvVvn177du3z+8zbdu21Y4dO87q9wXqHN3XACrTuHFjTZ06Ve+99566dOmi22+/vdJtc3Jy1LhxY1mW5bfesixFRkb6Xjdq1EglJSV+27Rs2dL3/2FhYXK5XH7hHhoaWq7L/OKLL1ZJSYlyc3N/0XcDjEQoA6jKrl27FBQUpD179ujw4cOVbmdZljweT7n1LpdL9er537Pn5w9q+/n7lmWVC/ef83q9vv0D5wu6rwFUaufOnZo3b56effZZRURE6LHHHqt02yZNmujIkSPlAremHD58WGFhYWrUqFGtHA9AzSCUgWooLi7WhAkTlJCQoJtvvlnTp0/Xhx9+qNWrV1e4fceOHVVSUlJu7Lem7N69u8YvvQJqXR11X7/66qu65ppr1KlTJ40bN075+fkVbvfdd9/p/vvvV7du3fS73/1O06ZN8w0t2batTp06KTY21rcMGzbstMcmlIFqmDNnjn788UdfddyxY0fdfffdmjFjhr777rty27dq1UqtW7fW5s2ba6V9mzdvVu/evWvlWEBtqYvu6/Xr12vRokVasmSJ0tPTlZubq6effrrCbf/0pz+pWbNm+te//qXVq1fr888/1wsvvCBJ2r9/vyRp69at2rZtm7Zt26aXXnqpGt+5tvrXAId5/fXX9eabb2rVqlU1epy9e/fqD3/4g9avX68LLrigRo8F1Kar/t+cgD7/+awxZ/yZhx9+WFFRURo9erSk0mGrIUOGKCMjQ0FBQb7tiouLNWrUKM2YMUNNmjSRJC1dulQffPCBlixZonfffVdLly7V3//+9zM6PpUyUEMGDhyo3Nxc/fvf/67R4yxevFhDhw4lkHH+qaHu6xMnTujo0aPllry8PGVlZalNmza+baOiopSfn6/vv//ebx/BwcFasGCBL5Cl0ir7iiuukCTt2bNHeXl56t+/v+Li4vTQQw+V20dFCGWghgQHB+uJJ57QrFmzauwYX3zxhfbu3avhw4fX2DGA882WLVv029/+ttzSr18/FRQUKDQ01LdtWFiYJKmgoKDS/dm2renTpysrK0sjRoyQVPrvPyYmRosWLdLatWsVHh6uBx988LRto/saAGCkjmMD677+bPaZd1/37dtXI0eO1M033yxJOn78uDp16qT09HQ1a9as3PaFhYUaP368MjMz9dJLL6lFixYV7venn35S9+7d9fHHH6tp06aVHp9KGQBgpjqYfR0dHa2srCzfa7fbrQsuuKDCID1y5IjuuusuHTlyRMuXL/cL5AULFmjXrl2+12WzskNCQqo8PqEMADBSXcy+7tevn5YvX659+/YpLy9Pc+fOVVJSUrkb89i2rQcffFARERFatGiRLrzwQr/3s7Ky9NRTT+mnn37SsWPHNGPGDPXu3VuNGzeu8vj1qnwXAAAHSUhI0MGDBzVixAgdPXpU8fHxvmeiZ2dnq0+fPlqzZo2+++47bdmyRSEhIeratavv81deeaVef/11Pfroo5oxY4YSExNVUlKiXr16lXv4TEUYUwYAGOnq0YGNKe947szHlOsalTIAwEwOLBkJZQCAkc7Vh0oEglAGAJjJgaHM7GsAAAxBpQwAMBLd1wAAmIJQBgDADE6slBlTBgDAEFTKAAAzObBSJpQBAGYilAEAMIMTx5QJZQCAmRwYykz0AgDAEFTKAAAjWQ58iCGhDAAwk/MymVAGAJiJiV4AAJjCgaHMRC8AAAxBpQwAMBLd1wAAmIJQBgDADE6slBlTBgDAEFTKAAAzObBSJpQBAEZyYvc1oQwAMBO32QQAwAxOrJSZ6AUAgCGolAEAZnJgpUwoAwCMZHnrugW1j1AGAJjJgZUyY8oAACNZdmDLL/Xqq6/qmmuuUadOnTRu3Djl5+dXuN3nn3+u9u3bKzY21rfMnz9fkmTbtmbNmqXu3bvrt7/9raZPny6Px3PaYxPKAACctH79ei1atEhLlixRenq6cnNz9fTTT1e47Z49e3Tttddq27ZtviUlJUWS9Prrr2vDhg1666239O6772rr1q16+eWXT3t8QhkAYCbbDmz5BdLS0pScnKyoqCg1atRIo0ePVlpaWoVV7u7du3XFFVdUup977rlHTZs2VZMmTTRixAj94x//OO3xGVMGABippq5TPnHiRIVd0i6XS1lZWbrhhht866KiopSfn6/vv/9ezZs399t+z549Cg4OVkJCgrxerxITEzVmzBgFBwcrKytLbdq08duP2+2WbduyLKvSthHKAAAz1VAob9myRUOHDi23/rLLLlNQUJBCQ0N968LCwiRJBQUF5ba/6KKL1K1bN91+++06dOiQRo8erblz52rcuHEqKCgotx+v16vi4mKFhIRU2jZCGQDgKD169FBmZmaF7/Xt21dFRUW+12Vh3KBBg3Lblk3qkqTw8HCNGDFCs2fP1rhx4xQaGlpuP/Xq1asykCXGlAEAhqqL2dfR0dHKysryvXa73brgggvUtGlTv+1yc3M1c+ZM5eXl+dYVFRX5Qjc6Olput9tvP61btz7t8QllAICZ6mCiV79+/bR8+XLt27dPeXl5mjt3rpKSkuRy+cdlo0aN9MEHH+j5559XSUmJ9u/fr/nz5+vWW2/17WfRokX67rvvlJOTo//93/9V//79T3t8uq8BAEaqiwdSJCQk6ODBgxoxYoSOHj2q+Ph4jR8/XpKUnZ2tPn36aM2aNWrevLnmz5+v6dOnq3v37goNDdXtt9+ue+65R5I0ePBg5eTkKDk5WSUlJerbt2+F49g/Z9m2A5+NBQAw3rX9ngno8/96609nqSW1h+5rAAAMQfc1AMBITnyeMqEMADCT13mpTCgDAMzkvEwmlAEAZnJi9zUTvQAAMASVMgDATA68YpdQBgAYyYnd14QyAMBMDgxlxpQBADAElTIAwEgWY8oAABjCW9cNqH2EMgDASFTKAACYwnmZzEQvAABMQaUMADAT3dcAAJiBm4cAAGAKKmUAAMxgOfCSKCZ6AQBgCCplAICZ6L4GAMAQzstkQhkAYCYn3tGLMWUAAAxBpQwAMJMDK2VCGQBgJgdeEkUoAwCM5MQxZUIZAGAmB4YyE70AADAElTIAwEwOrJQJZQCAmZjoBQCAGepqoterr76qRYsW6fjx40pISNDUqVMVHh7ut012drb69Onjt664uFiXX3653n//fdm2rc6dO8s+5Tt07txZL730UpXHJpQBAGaqg1Bev369Fi1apCVLligiIkJjx47V008/rdTUVL/tmjdvrm3btvle//jjjxowYIAmTZokSdq/f78kaevWrbIsq9rHZ6IXAAAnpaWlKTk5WVFRUWrUqJFGjx6ttLQ0eTyeKj83ZcoUJSYm6tprr5Uk7d69W+3atTujQJYIZQCAqWw7sKUSJ06c0NGjR8steXl5ysrKUps2bXzbRkVFKT8/X99//32l+/vkk0+0detWPfzww751e/bsUV5envr376+4uDg99NBDVe6jDN3XAAAz1VD39ZYtWzR06NBy6y+77DIFBQUpNDTUty4sLEySVFBQUOn+FixYoHvvvVcNGjTwrQsODlZMTIxGjx6tkJAQzZgxQw8++KDeeOONKttGKAMAzFRDs6979OihzMzMCt/r27evioqKfK/LwvjUwD3Vf/7zH3366aeaNWuW3/oHH3zQ7/WECRPUvXt3/fDDD2ratGmlbaP7GgCAk6Kjo5WVleV77Xa7dcEFF1QapOvXr1fXrl118cUX+61fsGCBdu3a5XtdXFwsSQoJCany+IQyAMBIlm0HtPwS/fr10/Lly7Vv3z7l5eVp7ty5SkpKkstVcVzu2LFDMTEx5dZnZWXpqaee0k8//aRjx45pxowZ6t27txo3blzl8QllAICZamiiV1USEhJ03333acSIEerVq5caNWqk8ePHSyq9Njk2NlbZ2dm+7b/99ls1adKk3H4effRRXX755UpMTFSvXr1Uv359Pfnkk6c9vmXbv7DlAADUoMR2fw7o8+9lPnWWWlJ7mOgFADCTA2tGuq8BADAElTIAwEwOrJQJZQCAmQhlAAAM4SWUAQAwg+28Byoz0QsAAENQKQMAzMSYMgAAhmBMGQAAQziwUmZMGQAAQ1ApAwDM5MBKmVAGAJiJUAYAwBBe512nTCgDAMzkwEqZiV4AABiCShkAYCYHVsqEMgDATNw8BAAAM9g8kAIAANQVKmUAgJnovgYAwBBM9AIAwBDcPAQAAEM4sFJmohcAAIagUgYAGMmm+xoAAEM4sPuaUAYAmIlLogAAMAR39AIAAHWFShkAYCSb7msAAAzhwO5rQhkAYCQnVsqMKQMAYAgqZQCAmRzYfW3ZtgOvzgYAwEB0XwMAYAhCGQAAQxDKAAAYglAGAMAQhDIAAIYglAEAMMT/B7YXHWmYt0SnAAAAAElFTkSuQmCC\n",
          "text/plain": "<Figure size 576x432 with 2 Axes>"
         },
         "metadata": {},
         "output_type": "display_data"
        }
       ]
      }
     },
     "5f11fdc7aff74d1fb5f197b596b5aecc": {
      "model_module": "@jupyter-widgets/controls",
      "model_module_version": "1.5.0",
      "model_name": "SliderStyleModel",
      "state": {
       "description_width": ""
      }
     },
     "62c2f5f1b8ed4ce59583223effe06c64": {
      "model_module": "@jupyter-widgets/base",
      "model_module_version": "1.2.0",
      "model_name": "LayoutModel",
      "state": {}
     },
     "b26aef99cb5946f8a27c7232e96adc54": {
      "model_module": "@jupyter-widgets/base",
      "model_module_version": "1.2.0",
      "model_name": "LayoutModel",
      "state": {}
     },
     "bbb0d67c106745059643adab6fe59bec": {
      "model_module": "@jupyter-widgets/base",
      "model_module_version": "1.2.0",
      "model_name": "LayoutModel",
      "state": {}
     },
     "f02ee331043c4b0c9f0396eb9c0b5ff3": {
      "model_module": "@jupyter-widgets/base",
      "model_module_version": "1.2.0",
      "model_name": "LayoutModel",
      "state": {}
     }
    },
    "version_major": 2,
    "version_minor": 0
   }
  }
 },
 "nbformat": 4,
 "nbformat_minor": 5
}
