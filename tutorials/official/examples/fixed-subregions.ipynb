{
 "cells": [
  {
   "cell_type": "markdown",
   "metadata": {
    "editable": true,
    "slideshow": {
     "slide_type": ""
    },
    "tags": []
   },
   "source": [
    "# Fixed subregions\n",
    "\n",
    "It is sometimes necessary to \"fix\" specific regions of the mesh to ensure they do not change during driving. In order to do that, the first step is to create a mesh and specify subregions we want to keep fixed.\n",
    "\n",
    "As an example, let us simulate a simple one-dimensional sample and define subregions in such a way that the first and the last discretisation cell remain fixed."
   ]
  },
  {
   "cell_type": "code",
   "execution_count": 1,
   "metadata": {
    "tags": [
     "nbval-ignore-output"
    ]
   },
   "source": [
    "import oommfc as mc\n",
    "import discretisedfield as df\n",
    "import micromagneticmodel as mm\n",
    "\n",
    "region = df.Region(p1=(-30e-9, 0, 0), p2=(30e-9, 3e-9, 3e-9))\n",
    "cell = (3e-9, 3e-9, 3e-9)\n",
    "subregions = {'fixed1': df.Region(p1=(-30e-9, 0, 0), p2=(-27e-9, 3e-9, 3e-9)),\n",
    "              'free': df.Region(p1=(-27e-9, 0, 0), p2=(27e-9, 3e-9, 3e-9)),\n",
    "              'fixed2': df.Region(p1=(27e-9, 0, 0), p2=(30e-9, 3e-9, 3e-9))}\n",
    "mesh = df.Mesh(region=region, cell=cell, subregions=subregions)"
   ],
   "outputs": []
  },
  {
   "cell_type": "code",
   "execution_count": 2,
   "metadata": {
    "tags": [
     "nbval-ignore-output"
    ]
   },
   "source": [
    "mesh.mpl.subregions(box_aspect=(10, 3, 3), figsize=(12, 12))"
   ],
   "outputs": []
  },
  {
   "cell_type": "markdown",
   "metadata": {
    "editable": true,
    "slideshow": {
     "slide_type": ""
    },
    "tags": []
   },
   "source": [
    "Now, let us define a system whose energy equation consists of only exchange energy:"
   ]
  },
  {
   "cell_type": "code",
   "execution_count": 3,
   "metadata": {
    "tags": []
   },
   "source": [
    "system = mm.System(name='fixed_spins')\n",
    "system.energy = mm.Exchange(A=1e-12)"
   ],
   "outputs": []
  },
  {
   "cell_type": "markdown",
   "metadata": {},
   "source": [
    "We are going to initialise the magnetisation in `fixed1` region to be $(0, 0, 1)$ and in `fixed2` region $(0, 0, -1)$. In the `free` region, we are going to choose $(1, 0, 0)$ for initial magnetisation."
   ]
  },
  {
   "cell_type": "code",
   "execution_count": 4,
   "metadata": {
    "tags": []
   },
   "source": [
    "m = {'fixed1': (0, 0, 1), 'fixed2': (0, 0, -1), 'free': (1, 0, 0)}\n",
    "system.m = df.Field(mesh, nvdim=3, value=m, norm=1e6)"
   ],
   "outputs": []
  },
  {
   "cell_type": "markdown",
   "metadata": {},
   "source": [
    "The magnetisation is now:"
   ]
  },
  {
   "cell_type": "code",
   "execution_count": 5,
   "metadata": {
    "tags": []
   },
   "source": [
    "system.m.sel('y').mpl(\n",
    "    figsize=(12, 2),\n",
    "    scalar_kw={\"colorbar_label\":\"$m_y$\"},\n",
    ")"
   ],
   "outputs": []
  },
  {
   "cell_type": "markdown",
   "metadata": {},
   "source": [
    "Finally, we can drive the system. In this case, we are going to choose `MinDriver`. When we call `drive` method, we have to pass `fixed_subregions` argument, which is a list of subregions names we want to keep fixed duriing relaxation."
   ]
  },
  {
   "cell_type": "code",
   "execution_count": 6,
   "metadata": {
    "tags": []
   },
   "source": [
    "md = mc.MinDriver()\n",
    "md.drive(system, fixed_subregions=['fixed1', 'fixed2'])"
   ],
   "outputs": []
  },
  {
   "cell_type": "markdown",
   "metadata": {},
   "source": [
    "The relaxed magnetisation is:"
   ]
  },
  {
   "cell_type": "code",
   "execution_count": 7,
   "metadata": {
    "tags": []
   },
   "source": [
    "system.m.sel('y').mpl(\n",
    "    figsize=(12, 2),\n",
    "    scalar_kw={\"colorbar_label\":\"$m_y$\"},\n",
    ")"
   ],
   "outputs": []
  },
  {
   "cell_type": "markdown",
   "metadata": {
    "editable": true,
    "slideshow": {
     "slide_type": ""
    },
    "tags": []
   },
   "source": [
    "From the resulting magnetisation field, we can see that the first and the last spin have remained the same as in the initial magnetisation and a Neel domain wall has formed in between due to the exchange energy."
   ]
  }
 ],
 "metadata": {
  "kernelspec": {
   "display_name": "Python 3 (ipykernel)",
   "language": "python",
   "name": "python3"
  },
  "language_info": {
   "codemirror_mode": {
    "name": "ipython",
    "version": 3
   },
   "file_extension": ".py",
   "mimetype": "text/x-python",
   "name": "python",
   "nbconvert_exporter": "python",
   "pygments_lexer": "ipython3",
   "version": "3.10.12"
  },
  "widgets": {
   "application/vnd.jupyter.widget-state+json": {
    "state": {
     "69fd5c2d053a4072a220dda142fa25f5": {
      "model_module": "@jupyter-widgets/base",
      "model_module_version": "1.2.0",
      "model_name": "LayoutModel",
      "state": {}
     },
     "77128acde3f84a219ff2af618b362fb3": {
      "model_module": "@jupyter-widgets/output",
      "model_module_version": "1.0.0",
      "model_name": "OutputModel",
      "state": {
       "layout": "IPY_MODEL_69fd5c2d053a4072a220dda142fa25f5",
       "outputs": [
        {
         "data": {
          "application/vnd.jupyter.widget-view+json": {
           "model_id": "93b3315088ef43569a995d2ac65da20a",
           "version_major": 2,
           "version_minor": 0
          },
          "text/plain": "Plot(antialias=3, axes=['x', 'y', 'z'], axes_helper=1.0, background_color=16777215, camera_animation=[], camer…"
         },
         "metadata": {},
         "output_type": "display_data"
        }
       ]
      }
     },
     "93b3315088ef43569a995d2ac65da20a": {
      "model_module": "k3d",
      "model_module_version": "2.11.0",
      "model_name": "PlotModel",
      "state": {
       "_backend_version": "2.11.0",
       "_dom_classes": [],
       "_view_count": null,
       "antialias": 3,
       "auto_rendering": true,
       "axes": [
        "x\\,\\text{(nm)}",
        "y\\,\\text{(nm)}",
        "z\\,\\text{(nm)}"
       ],
       "axes_helper": 1,
       "background_color": 16777215,
       "camera": [
        50.12385891146911,
        -73.91078834121976,
        6.527385889414734,
        -0.1499999826774001,
        1.5,
        1.5,
        0,
        0,
        1
       ],
       "camera_animation": [],
       "camera_auto_fit": true,
       "camera_damping_factor": 0,
       "camera_fov": 60,
       "camera_mode": "trackball",
       "camera_no_pan": false,
       "camera_no_rotate": false,
       "camera_no_zoom": false,
       "camera_pan_speed": 0.3,
       "camera_rotate_speed": 1,
       "camera_zoom_speed": 1.2,
       "clipping_planes": [],
       "colorbar_object_id": -1,
       "colorbar_scientific": false,
       "fps": 25,
       "fps_meter": false,
       "grid": [
        -1,
        -1,
        -1,
        1,
        1,
        1
       ],
       "grid_auto_fit": true,
       "grid_color": 15132390,
       "grid_visible": true,
       "height": 512,
       "label_color": 4473924,
       "layout": "IPY_MODEL_9d4e0697ace44229be910b13b4cccd8a",
       "lighting": 1.5,
       "manipulate_mode": "translate",
       "menu_visibility": true,
       "mode": "view",
       "name": null,
       "object_ids": [
        139622512334208
       ],
       "rendering_steps": 1,
       "screenshot": "",
       "screenshot_scale": 2,
       "snapshot": "",
       "snapshot_type": "full",
       "time": 0,
       "voxel_paint_color": 0
      }
     },
     "9d4e0697ace44229be910b13b4cccd8a": {
      "model_module": "@jupyter-widgets/base",
      "model_module_version": "1.2.0",
      "model_name": "LayoutModel",
      "state": {}
     },
     "d289df29c94242c19701728d15337bb6": {
      "buffers": [
       {
        "data": "sHJMAFKE3QBoqFUAUk7EALNygQBgeJMAw4vaAIyMjAB0ucwAzbVkAA==",
        "encoding": "base64",
        "path": [
         "color_map",
         "data"
        ]
       },
       {
        "data": "AABwQgAAAAAAAAAAAAAAAAAAAAAAAEBAAAAAAAAAwD8AAAAAAAAAAAAAQEAAAMA/AAAAAAAAAAAAAAAAAACAPw==",
        "encoding": "base64",
        "path": [
         "model_matrix",
         "data"
        ]
       },
       {
        "data": "AQICAgICAgICAgICAgICAgICAgM=",
        "encoding": "base64",
        "path": [
         "voxels",
         "data"
        ]
       }
      ],
      "model_module": "k3d",
      "model_module_version": "2.11.0",
      "model_name": "ObjectModel",
      "state": {
       "_view_count": null,
       "_view_module": null,
       "_view_module_version": "",
       "_view_name": null,
       "colorLegend": false,
       "color_map": {
        "data": {},
        "dtype": "uint32",
        "shape": [
         10
        ]
       },
       "compression_level": 0,
       "id": 139622512334208,
       "model_matrix": {
        "data": {},
        "dtype": "float32",
        "shape": [
         4,
         4
        ]
       },
       "name": "Voxels #1",
       "opacity": 1,
       "outlines": false,
       "outlines_color": 0,
       "type": "Voxels",
       "visible": true,
       "voxels": {
        "data": {},
        "dtype": "uint8",
        "shape": [
         1,
         1,
         20
        ]
       },
       "wireframe": false
      }
     }
    },
    "version_major": 2,
    "version_minor": 0
   }
  }
 },
 "nbformat": 4,
 "nbformat_minor": 4
}
