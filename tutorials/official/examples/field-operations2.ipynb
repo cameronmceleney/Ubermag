{
 "cells": [
  {
   "cell_type": "markdown",
   "metadata": {
    "editable": true,
    "slideshow": {
     "slide_type": ""
    },
    "tags": []
   },
   "source": [
    "# Field operations 2\n",
    "\n",
    "In this notebook, we show (and compare) computing individual energy terms:"
   ]
  },
  {
   "cell_type": "code",
   "execution_count": 1,
   "metadata": {
    "tags": []
   },
   "source": [
    "import discretisedfield as df\n",
    "import micromagneticmodel as mm\n",
    "import oommfc as mc"
   ],
   "outputs": []
  },
  {
   "cell_type": "markdown",
   "metadata": {},
   "source": [
    "As an example, we use skyrmion magnetisation field."
   ]
  },
  {
   "cell_type": "code",
   "execution_count": 2,
   "metadata": {
    "tags": []
   },
   "source": [
    "# Geometry\n",
    "L = 100e-9\n",
    "thickness = 5e-9\n",
    "cell = (5e-9, 5e-9, 5e-9)\n",
    "p1 = (-L/2, -L/2, 0)\n",
    "p2 = (L/2, L/2, thickness)\n",
    "region = df.Region(p1=p1, p2=p2)\n",
    "mesh = df.Mesh(region=region, cell=cell, bc=\"xy\")\n",
    "\n",
    "# Parameters\n",
    "Ms = 3.84e5\n",
    "A = 8.78e-12\n",
    "D = 1.58e-3\n",
    "K = 1e4\n",
    "u = (0, 0, 1)\n",
    "H = (0, 0, 1e5)\n",
    "system = mm.System(name='skyrmion')\n",
    "system.energy = mm.Exchange(A=A) + mm.DMI(D=D, crystalclass='T') + mm.Zeeman(H=H) + mm.UniaxialAnisotropy(K=K, u=u)\n",
    "\n",
    "def m_initial(point):\n",
    "    x, y, z = point\n",
    "    if x**2 + y**2 < (L/4)**2:\n",
    "        return (0, 0, -1)\n",
    "    else:\n",
    "        return (0, 0, 1)\n",
    "    \n",
    "system.m = df.Field(mesh, nvdim=3, value=m_initial, norm=Ms)\n",
    "\n",
    "md = mc.MinDriver()\n",
    "md.drive(system)\n",
    "\n",
    "system.m.sel('z').mpl(figsize=(9, 7))"
   ],
   "outputs": []
  },
  {
   "cell_type": "markdown",
   "metadata": {},
   "source": [
    "## Magnetisation\n",
    "\n",
    "$$\\mathbf{m} = \\frac{\\mathbf{M}}{M_\\text{s}}$$"
   ]
  },
  {
   "cell_type": "code",
   "execution_count": 3,
   "metadata": {
    "tags": []
   },
   "source": [
    "m = system.m.orientation\n",
    "\n",
    "m.sel('z').mpl(scalar_kw={'clim': (-1, 1)})"
   ],
   "outputs": []
  },
  {
   "cell_type": "markdown",
   "metadata": {},
   "source": [
    "## Zeeman\n",
    "\n",
    "| property | equation in continuous form | discretisedfield form |\n",
    "|-|-|-|\n",
    "| Energy density | $w = -\\mu_{0}M_\\text{s}\\mathbf{m}\\cdot\\mathbf{H}$ | `- mu0 * Ms * m.dot(H)` |\n",
    "| Energy | $E = -\\int_{V}\\mu_{0}M_\\text{s}\\mathbf{m}\\cdot\\mathbf{H} dV$ | `(- mu0 * Ms * m.dot(H)).integrate()` |\n",
    "| Effective field | $\\mathbf{H}_\\text{eff} = \\mathbf{H}$ | `H` |\n",
    "\n",
    "#### Energy density"
   ]
  },
  {
   "cell_type": "code",
   "execution_count": 4,
   "metadata": {
    "tags": []
   },
   "source": [
    "wdf = - mm.consts.mu0 * Ms * m.dot(H)\n",
    "wmc = mc.compute(system.energy.zeeman.density, system)\n",
    "wdf.allclose(wmc)"
   ],
   "outputs": []
  },
  {
   "cell_type": "markdown",
   "metadata": {},
   "source": [
    "#### Energy"
   ]
  },
  {
   "cell_type": "code",
   "execution_count": 5,
   "metadata": {
    "tags": [
     "nbval-ignore-output"
    ]
   },
   "source": [
    "Edf = (- mm.consts.mu0 * Ms * m.dot(H)).integrate()\n",
    "Emc = mc.compute(system.energy.zeeman.energy, system)\n",
    "print(f'df: {Edf}')\n",
    "print(f'mc: {Emc}')\n",
    "print(f'rerr: {abs(Edf-Emc)/Edf * 100} %')"
   ],
   "outputs": []
  },
  {
   "cell_type": "markdown",
   "metadata": {},
   "source": [
    "#### Effective field"
   ]
  },
  {
   "cell_type": "code",
   "execution_count": 6,
   "metadata": {
    "tags": []
   },
   "source": [
    "Hdf = df.Field(mesh, nvdim=3, value=H)\n",
    "Hmc = mc.compute(system.energy.zeeman.effective_field, system)\n",
    "Hdf.allclose(Hmc)"
   ],
   "outputs": []
  },
  {
   "cell_type": "markdown",
   "metadata": {
    "tags": []
   },
   "source": [
    "## Uniaxial anisotropy\n",
    "\n",
    "| property | equation in continuous form | discretisedfield form |\n",
    "|-|-|-|\n",
    "| Energy density | $w = K |\\mathbf{m} \\times \\mathbf{u}|^{2}$ | `K * abs(m.cross(u)).dot(abs(m.cross(u)))` |\n",
    "| Energy | $E = \\int_{V}K |\\mathbf{m} \\times \\mathbf{u}|^{2} dV$ | `(K * abs(m.cross(u)).dot(abs(m.cross(u)))).integrate()` |\n",
    "| Effective field | $\\mathbf{H}_\\text{eff} = \\frac{2K}{\\mu_{0}M_\\text{s}} (\\mathbf{m} \\cdot \\mathbf{u})\\mathbf{u}$ | `2 * K / (mm.consts.mu0 * Ms) * (m.dot(u)) * u` |\n",
    "\n",
    "#### Energy density"
   ]
  },
  {
   "cell_type": "code",
   "execution_count": 7,
   "metadata": {
    "tags": []
   },
   "source": [
    "wdf = K * abs(m.cross(u)).dot(abs(m.cross(u)))\n",
    "wmc = mc.compute(system.energy.uniaxialanisotropy.density, system)\n",
    "wdf.allclose(wmc)"
   ],
   "outputs": []
  },
  {
   "cell_type": "markdown",
   "metadata": {},
   "source": [
    "#### Energy"
   ]
  },
  {
   "cell_type": "code",
   "execution_count": 8,
   "metadata": {
    "tags": [
     "nbval-ignore-output"
    ]
   },
   "source": [
    "Edf = (K * abs(m.cross(u)).dot(abs(m.cross(u)))).integrate()\n",
    "Emc = mc.compute(system.energy.uniaxialanisotropy.energy, system)\n",
    "print(f'df: {Edf}')\n",
    "print(f'mc: {Emc}')\n",
    "print(f'rerr: {abs(Edf-Emc)/Edf * 100} %')"
   ],
   "outputs": []
  },
  {
   "cell_type": "markdown",
   "metadata": {},
   "source": [
    "#### Effective field"
   ]
  },
  {
   "cell_type": "code",
   "execution_count": 9,
   "metadata": {
    "tags": []
   },
   "source": [
    "Hdf = 2 * K / (mm.consts.mu0 * Ms) * (m.dot(u)) * u\n",
    "Hmc = mc.compute(system.energy.uniaxialanisotropy.effective_field, system)\n",
    "Hdf.allclose(Hmc)"
   ],
   "outputs": []
  },
  {
   "cell_type": "markdown",
   "metadata": {},
   "source": [
    "## Exchange\n",
    "\n",
    "| property | equation in continuous form | discretisedfield form |\n",
    "|-|-|-|\n",
    "| Energy density | $w = - A \\mathbf{m} \\cdot \\nabla^{2} \\mathbf{m}$ | `- A * m.dot(m.laplace)` |\n",
    "| Energy | $E = -\\int_{V} A \\mathbf{m} \\cdot \\nabla^{2} \\mathbf{m} dV$ | `(- A * m.dot(m.laplace)).integrate()` |\n",
    "| Effective field | $\\mathbf{H}_\\text{eff} = \\frac{2A}{\\mu_{0}M_\\text{s}} \\nabla^{2} \\mathbf{m}$ | `2 * A / (mu0 * Ms) * m.laplace` |\n",
    "\n",
    "#### Energy density"
   ]
  },
  {
   "cell_type": "code",
   "execution_count": 10,
   "metadata": {
    "tags": []
   },
   "source": [
    "wdf = - A * m.dot(m.laplace)\n",
    "wmc = mc.compute(system.energy.exchange.density, system)\n",
    "wdf.allclose(wmc)"
   ],
   "outputs": []
  },
  {
   "cell_type": "markdown",
   "metadata": {},
   "source": [
    "#### Energy"
   ]
  },
  {
   "cell_type": "code",
   "execution_count": 11,
   "metadata": {
    "tags": [
     "nbval-ignore-output"
    ]
   },
   "source": [
    "Edf = (- A * m.dot(m.laplace)).integrate()\n",
    "Emc = mc.compute(system.energy.exchange.energy, system)\n",
    "print(f'df: {Edf}')\n",
    "print(f'mc: {Emc}')\n",
    "print(f'rerr: {abs(Edf-Emc)/Edf * 100} %')"
   ],
   "outputs": []
  },
  {
   "cell_type": "markdown",
   "metadata": {},
   "source": [
    "#### Effective field"
   ]
  },
  {
   "cell_type": "code",
   "execution_count": 12,
   "metadata": {
    "tags": []
   },
   "source": [
    "Hdf = 2 * A / (mm.consts.mu0 * Ms) * m.laplace\n",
    "Hmc = mc.compute(system.energy.exchange.effective_field, system)\n",
    "Hdf.allclose(Hmc)"
   ],
   "outputs": []
  },
  {
   "cell_type": "markdown",
   "metadata": {},
   "source": [
    "## DMI (T)\n",
    "\n",
    "| property | equation in continuous form | discretisedfield form |\n",
    "|-|-|-|\n",
    "| Energy density | $w = D \\mathbf{m} \\cdot (\\nabla \\times \\mathbf{m})$ | `D * m @ m.curl` |\n",
    "| Energy | $E = \\int_{V} D \\mathbf{m} \\cdot (\\nabla \\times \\mathbf{m}) dV$ | `(D * m @ m.curl).volume_integral` |\n",
    "| Effective field | $\\mathbf{H}_\\text{eff} = -\\frac{2D}{\\mu_{0}M_\\text{s}} (\\nabla \\times \\mathbf{m})$ | `- 2 * D / (mu0 * Ms) * m.curl` |\n",
    "\n",
    "#### Energy density"
   ]
  },
  {
   "cell_type": "code",
   "execution_count": 13,
   "metadata": {
    "tags": []
   },
   "source": [
    "wdf = D * m.dot(m.curl)\n",
    "wmc = mc.compute(system.energy.dmi.density, system)\n",
    "wdf.allclose(wmc)"
   ],
   "outputs": []
  },
  {
   "cell_type": "markdown",
   "metadata": {},
   "source": [
    "#### Energy"
   ]
  },
  {
   "cell_type": "code",
   "execution_count": 14,
   "metadata": {
    "tags": [
     "nbval-ignore-output"
    ]
   },
   "source": [
    "Edf =(D * m.dot(m.curl)).integrate()\n",
    "Emc = mc.compute(system.energy.dmi.energy, system)\n",
    "print(f'df: {Edf}')\n",
    "print(f'mc: {Emc}')\n",
    "print(f'rerr: {abs(Edf-Emc)/Edf * 100} %')"
   ],
   "outputs": []
  },
  {
   "cell_type": "markdown",
   "metadata": {},
   "source": [
    "#### Effective field"
   ]
  },
  {
   "cell_type": "code",
   "execution_count": 15,
   "metadata": {
    "tags": []
   },
   "source": [
    "Hdf = - 2 * D / (mm.consts.mu0 * Ms) * m.curl\n",
    "Hmc = mc.compute(system.energy.dmi.effective_field, system)\n",
    "Hdf.allclose(Hmc)"
   ],
   "outputs": []
  },
  {
   "cell_type": "markdown",
   "metadata": {},
   "source": [
    "## (Oversimplified) micromagnetic calculator\n",
    "\n",
    "Here we try to implement an (oversimplified) micromagnetic calculator we had a look at in the first session:\n",
    "\n",
    "<img src=\"figures/algorithm.png\" width=\"600\">\n",
    "\n",
    "We start by defining some basic parameters:"
   ]
  },
  {
   "cell_type": "code",
   "execution_count": 16,
   "metadata": {
    "tags": []
   },
   "source": [
    "# Geometry\n",
    "L = 100e-9\n",
    "thickness = 5e-9\n",
    "cell = (5e-9, 5e-9, 5e-9)\n",
    "p1 = (-L/2, -L/2, 0)\n",
    "p2 = (L/2, L/2, thickness)\n",
    "region = df.Region(p1=p1, p2=p2)\n",
    "mesh = df.Mesh(region=region, cell=cell, bc='xy')\n",
    "\n",
    "# Material parameters\n",
    "Ms = 3.84e5\n",
    "A = 8.78e-12\n",
    "D = 1.58e-3\n",
    "K = 1e4\n",
    "u = (0, 0, 1)\n",
    "H = (0, 0, 1e5)\n",
    "alpha = 1\n",
    "\n",
    "def m_initial(point):\n",
    "    x, y, z = point\n",
    "    if x**2 + y**2 < (L/4)**2:\n",
    "        return (0, 0, -1)\n",
    "    else:\n",
    "        return (0, 0, 1)\n",
    "    \n",
    "# Magnetisation field (M=Ms*m)\n",
    "M = df.Field(mesh, nvdim=3, value=m_initial, norm=Ms)\n",
    "\n",
    "M.sel('z').z.mpl()"
   ],
   "outputs": []
  },
  {
   "cell_type": "markdown",
   "metadata": {},
   "source": [
    "Up to this point, everything should be exactly the same as we saw previously.\n",
    "\n",
    "In the next step, we are going to implement functions which we are going to use to compute effective field and magnetisation time-derivative. The effective field we want is:\n",
    "\n",
    "$$\\mathbf{H}_\\text{eff} = f(\\mathbf{m}) = \\frac{2A}{\\mu_{0}M_\\text{s}} \\nabla^{2} \\mathbf{m} - \\frac{2D}{\\mu_{0}M_\\text{s}} (\\nabla \\times \\mathbf{m}) + \\frac{2K}{\\mu_{0}M_\\text{s}} (\\mathbf{m} \\cdot \\mathbf{u})\\mathbf{u} + \\mathbf{H}$$\n",
    "\n",
    "Dynamics equation we are going to use consists only of Damping term (in order to make simulations faster):\n",
    "\n",
    "$$\\frac{d\\mathbf{m}}{dt} = f(\\mathbf{m}, \\mathbf{H}_\\text{eff}) = -\\frac{\\gamma_{0}\\alpha}{1+\\alpha^{2}} \\mathbf{m} \\times (\\mathbf{m} \\times \\mathbf{H}_\\text{eff})$$"
   ]
  },
  {
   "cell_type": "code",
   "execution_count": 17,
   "metadata": {
    "tags": []
   },
   "source": [
    "def Heff_function(m):\n",
    "    return (2 * A / (mm.consts.mu0 * Ms) * m.laplace -\n",
    "            2 * D / (mm.consts.mu0 * Ms) * m.curl +\n",
    "            2 * K / (mm.consts.mu0 * Ms) * (m.dot(u)) * u +\n",
    "            df.Field(mesh, nvdim=3, value=H))\n",
    "    \n",
    "def dmdt_function(m, Heff):\n",
    "    return -(mm.consts.gamma0*alpha)/(1+alpha**2) * m.cross(m.cross(Heff)) "
   ],
   "outputs": []
  },
  {
   "cell_type": "markdown",
   "metadata": {},
   "source": [
    "Now, we can try to perform the time integration, so that at each step we update our magnetisation:\n",
    "\n",
    "$$\\mathbf{m}_{i+1} = \\mathbf{m}_{i} + \\frac{d\\mathbf{m}_{i}}{dt} \\Delta t$$\n",
    "\n",
    "So, our ubermag time driver would be:"
   ]
  },
  {
   "cell_type": "code",
   "execution_count": 18,
   "metadata": {
    "tags": []
   },
   "source": [
    "T = 0.1e-9  # simulation time (s)\n",
    "n = 100  # number of steps\n",
    "dt = T/n\n",
    "\n",
    "for i in range(n):\n",
    "    m = M.orientation\n",
    "    m += dmdt_function(m, Heff_function(m)) * dt\n",
    "    M = df.Field(mesh, nvdim=3, value=m, norm=Ms)"
   ],
   "outputs": []
  },
  {
   "cell_type": "markdown",
   "metadata": {},
   "source": [
    "Finally, we can plot the magnetisation:"
   ]
  },
  {
   "cell_type": "code",
   "execution_count": 19,
   "metadata": {
    "editable": true,
    "slideshow": {
     "slide_type": ""
    },
    "tags": []
   },
   "source": [
    "M.sel('z').mpl()"
   ],
   "outputs": []
  }
 ],
 "metadata": {
  "kernelspec": {
   "display_name": "Python 3 (ipykernel)",
   "language": "python",
   "name": "python3"
  },
  "language_info": {
   "codemirror_mode": {
    "name": "ipython",
    "version": 3
   },
   "file_extension": ".py",
   "mimetype": "text/x-python",
   "name": "python",
   "nbconvert_exporter": "python",
   "pygments_lexer": "ipython3",
   "version": "3.10.12"
  },
  "widgets": {
   "application/vnd.jupyter.widget-state+json": {
    "state": {},
    "version_major": 2,
    "version_minor": 0
   }
  }
 },
 "nbformat": 4,
 "nbformat_minor": 4
}
