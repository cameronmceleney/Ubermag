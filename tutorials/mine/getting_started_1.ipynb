{
 "cells": [
  {
   "cell_type": "markdown",
   "id": "6d70dd376cad7467",
   "metadata": {},
   "source": [
    "# My first ubermag simulation"
   ]
  },
  {
   "cell_type": "markdown",
   "id": "9c195cb53356465d",
   "metadata": {},
   "source": [
    "## 1. Setup"
   ]
  },
  {
   "cell_type": "markdown",
   "id": "421d0626-1228-49c4-9758-6afec42afc81",
   "metadata": {},
   "source": [
    "Before defining our system to simulate, and then performing the computation work, we first need to import the required modules. In the case of Ubermag this means importing specific micromagnetic models and other such tools.\n",
    "\n",
    "The `mm` module contain the core `mm.System` object which we use to specify the physical system; not the mesh. For now, we'll just give it a name."
   ]
  },
  {
   "cell_type": "code",
   "execution_count": 3,
   "id": "aa6c6c71-4033-4dac-99b9-047cdeaebb07",
   "metadata": {},
   "source": [
    "import micromagneticmodel as mm\n",
    "import discretisedfield as df"
   ],
   "outputs": []
  },
  {
   "cell_type": "code",
   "execution_count": 5,
   "id": "ab1cb94f-a26c-4e7b-9c81-17eb6b8e2cf7",
   "metadata": {},
   "source": [
    "system = mm.System(name='first_ubermag_simulation')"
   ],
   "outputs": []
  },
  {
   "cell_type": "markdown",
   "id": "63fc6aea-2fec-4fbc-bc06-fc3ffb98f210",
   "metadata": {},
   "source": [
    "## 2. System Objects"
   ]
  },
  {
   "cell_type": "markdown",
   "id": "d7a16ef7-accd-4e07-a46e-4312b8dfc6c9",
   "metadata": {},
   "source": [
    "The micromagnetic system will be defined through\n",
    "\n",
    "1. An energy equation that will be used to define the effective mangetic field $H_{eff}$, and in turn the magnetisation dynamics of the system.\n",
    "2. A mesh which represents the dimensions (any shapes can be quickly defined with helper functions) of the physical object/structure\n",
    "3. The initial magnetisation state of the structure"
   ]
  },
  {
   "cell_type": "markdown",
   "id": "6adc9ffb-a404-44cc-9829-19ccd31d8f6f",
   "metadata": {},
   "source": [
    "### 2.1. Energy equation"
   ]
  },
  {
   "cell_type": "code",
   "execution_count": 6,
   "id": "9df27e88-c293-4e36-a2d8-57357b1729a3",
   "metadata": {},
   "source": [
    "A = 1e-12  # exchange energy constant (J/m)\n",
    "\n",
    "# While Ubermag denotes this as a tuple, Mumax3 would have it as a vector ( H_ext = vector(x,y,z)\n",
    "H = (0, 0, 5e6)  # external magnetic field (A/m). \n",
    "\n",
    "# See the documentation for a full list of methods and arguments.\n",
    "system.energy = mm.Exchange(A=A) + mm.Demag() + mm.Zeeman(H=H)"
   ],
   "outputs": []
  },
  {
   "cell_type": "markdown",
   "id": "25101551-06d3-49d5-b40f-b1ddf0936b87",
   "metadata": {},
   "source": [
    "### 2.2. Mesh"
   ]
  },
  {
   "cell_type": "markdown",
   "id": "c8e430bb-378e-490b-af4c-f9e45f275812",
   "metadata": {},
   "source": [
    "Here we'll be simulating a cube with edges of lengths $50~nm$. We'll then discretise it into $8$ cells along each cardinal axis; meaning 512 cells in total). Once should choose a number of cells (along each axis) following these guidelines (from best to worst). The number of cells:\n",
    "\n",
    "- is a power of 2.\n",
    "- has only a few factors, and each is a small valued prime number (*i.e.* 14 has factors of 2 and 7 which is reasonable)\n",
    "- is itself a prime number that is small (*i.e.* 31 is better than 37)\n",
    "- are not too large\n",
    "\n",
    "The final point is important as excessive discretisation of a mesh can lead to the micromagnetic solvers producing nonsense, just as too few cells can lead to a macroscopic representation of a microscopic system, which also leads to errors."
   ]
  },
  {
   "cell_type": "code",
   "execution_count": 9,
   "id": "4fd0803b-8069-46ae-b584-d6a80f148f46",
   "metadata": {},
   "source": [
    "L = 50e-9  # cubic sample edge length (m)\n",
    "num_cells = 8  # number of cells along each axis\n",
    "\n",
    "# Ubermag knows if three points are provided where p1[0]=p1[1]=p1[2] and p2[0]=p2[1]=p2[2] then the shape is a cube\n",
    "region = df.Region(p1=(0,0,0), p2=(L,L,L))  # p1 and p2 are the parameters used to define a line. \n",
    "\n",
    "mesh = df.Mesh(region=region, n=(num_cells,num_cells,num_cells))"
   ],
   "outputs": []
  },
  {
   "cell_type": "markdown",
   "id": "1b12693d-ac9d-4601-8a03-dd1556ee9858",
   "metadata": {},
   "source": [
    "### 2.3. Initial magenetistaion"
   ]
  },
  {
   "cell_type": "markdown",
   "id": "ed251fb5-b615-41d4-a378-bab48d530025",
   "metadata": {},
   "source": [
    "Here we'll keep things simply. We'll initialise the system in a positive $\\hat{z}$ direction, while the equilibrium state due to $H_0$ is along the $\\hat{z}$ axis."
   ]
  },
  {
   "cell_type": "code",
   "execution_count": 10,
   "id": "25af1891-9606-4486-b2c7-68cd6343510b",
   "metadata": {},
   "source": [
    "Ms = 8e6  # saturisation magnetisation (A/m)\n",
    "m_init = (0, 0, 1)  # initial reduced magnetisation\n",
    "num_dim = 3  # number of dimensions in this mesh\n",
    "\n",
    "system.m = df.Field(mesh, nvdim=num_dim, value=m_init, norm=Ms)"
   ],
   "outputs": []
  },
  {
   "cell_type": "markdown",
   "id": "96c6505b-e1d1-4893-8f21-52001ea0a0bd",
   "metadata": {},
   "source": [
    "## 3. Inspecting this new system object"
   ]
  },
  {
   "cell_type": "markdown",
   "id": "2992a218-3084-4d3c-99c1-da811e69dcb2",
   "metadata": {},
   "source": [
    "We now have our system object `mm.System`! One of the fantastic aspects of Ubermag, over using the micromagnetic calculators directly, is that we are able to have symbolic interactions with our equations. This is useful for gaining intuition, and looking for mistakes in the implementations of our various equations."
   ]
  },
  {
   "cell_type": "markdown",
   "id": "5e3c6b27-09f5-404d-9f34-430c18ffed10",
   "metadata": {},
   "source": [
    "### 3.1. Energy equation"
   ]
  },
  {
   "cell_type": "markdown",
   "id": "fa7424b1-a66e-43d3-9e00-d0b89020602c",
   "metadata": {},
   "source": [
    "This, for example, is the energy equation we just defined:"
   ]
  },
  {
   "cell_type": "code",
   "execution_count": 11,
   "id": "0d7fe8c8-91ce-4a62-aca3-f65b4d9b2ccb",
   "metadata": {},
   "source": [
    "system.energy"
   ],
   "outputs": []
  },
  {
   "cell_type": "markdown",
   "id": "33722dd0-ca88-4b0d-a160-08b8cc311102",
   "metadata": {},
   "source": [
    "### 3.2. Mesh"
   ]
  },
  {
   "cell_type": "markdown",
   "id": "9fd3d896-224b-45bf-bbeb-42cac4c6383b",
   "metadata": {},
   "source": [
    "It can be quite hard to visualise complex system's meshes (wireframes and more are great ways), so for now we'll just look at a simple `matplotlib` rendering (similar to how Qiskit abstracts Qubits). On the below figure the blue cube is the full mesh, and the orange cube is our cell."
   ]
  },
  {
   "cell_type": "code",
   "execution_count": 15,
   "id": "66d83630-2cde-4441-80b3-5a53fbfbe540",
   "metadata": {},
   "source": [
    "system.m.mesh.mpl()\n",
    "# system.m.mesh.region.mpl()  # use this if you don't want to see the cell"
   ],
   "outputs": []
  },
  {
   "cell_type": "markdown",
   "id": "46b9341e-79be-4c3d-af09-79eddfea8255",
   "metadata": {},
   "source": [
    "### 3.3. Magnetisation"
   ]
  },
  {
   "cell_type": "markdown",
   "id": "5537eb2e-40db-41ae-8f22-b5fd29308013",
   "metadata": {},
   "source": [
    "The magnetisation is best seen in these simple cases as a 2D slice of the magnetisation. We know that our earlier setup worked through the observations:\n",
    "\n",
    "- The $\\hat{x}$ and $\\hat{y}$ directions are aligned along the $\\hat{z}$ direction, and these magnetisation components are both equal and small in magnitude (compared to the $\\hat{h}$ direction).\n",
    "- The $\\hat{z}$ direction is entirely saturated.\n",
    "\n",
    "Not that we don't have arrows on the $x-y$ plane to show if the magnetisation component is in or out of the plane. Instead on all figures we look to the colourbar on the righthand side for this information. We can therefore note that the positive values of the z-component in the $x-y$ plane show we are aligned along $+\\hat{z}$."
   ]
  },
  {
   "cell_type": "code",
   "execution_count": 32,
   "id": "565a095c-a887-44c2-8231-7314476c8e1b",
   "metadata": {},
   "source": [
    "for select_axis in ['x', 'y', 'z']:\n",
    "    system.m.sel(select_axis).mpl()"
   ],
   "outputs": []
  },
  {
   "cell_type": "markdown",
   "id": "d3012347-dc09-4d1c-9351-9b97bdbaf597",
   "metadata": {},
   "source": [
    "## 4. Driving the system"
   ]
  },
  {
   "cell_type": "markdown",
   "id": "b4f3c875-b9df-436d-b9e2-731938446b66",
   "metadata": {},
   "source": [
    "Now that we're all setup, it's time to consider how we want to drive the system *i.e.* introduce spatially- and temporally-dependent parameters. We also need to choose the micromagnetic calculator (`mumax3c`, `oommfc`, *etc*) we want to implement. "
   ]
  },
  {
   "cell_type": "markdown",
   "id": "50f930c4-e211-4f19-9d18-fd672970a118",
   "metadata": {},
   "source": [
    "### 4.1. Select a calculator"
   ]
  },
  {
   "cell_type": "markdown",
   "id": "8fa62dc2-7b55-4f08-84fa-c440d4f0e87d",
   "metadata": {},
   "source": [
    "Here I'm going to use `oommfc` because it is more completely supported by Ubermag."
   ]
  },
  {
   "cell_type": "code",
   "execution_count": 34,
   "id": "272928c2-d83f-4292-be7c-9c08b89c1202",
   "metadata": {},
   "source": [
    "import oommfc as mc  # the name comes from Object Orientationed MicroMagnetic Framework (OOMMF) Calculator (c)"
   ],
   "outputs": []
  },
  {
   "cell_type": "markdown",
   "id": "228cafab-0a96-4ae9-86f8-c1835abae09e",
   "metadata": {},
   "source": [
    "We will first minimise the system's energy through a relaxation process controlled by the Minimisation Driver `MinDriver`. For the first time you see a popup stating *Running OOMMF*; check the terminal where Jupyter was called to see the steps that OOMMF performed!"
   ]
  },
  {
   "cell_type": "code",
   "execution_count": 35,
   "id": "eb749fc7-7715-4671-9dc8-19042f0bc085",
   "metadata": {},
   "source": [
    "md = mc.MinDriver()\n",
    "md.drive(system)"
   ],
   "outputs": []
  },
  {
   "cell_type": "markdown",
   "id": "5e121c9e-acdf-42e8-9f0c-6561c4f51aed",
   "metadata": {},
   "source": [
    "The system is now relaxed, and we have updated the magnetisation. This is a destructive process because we are overwriting the values held within `system.m`. If you want to reuse a given system then be sure to use a unique declaration like `system_base`. Also note that each `Driver` will be applied sequentially so be sure that you call each `Driver` in the correct order!\n",
    "\n",
    "Let's take a look at our relaxed system, and demonstrate a few computations."
   ]
  },
  {
   "cell_type": "code",
   "execution_count": 80,
   "id": "3f885e1a-72fa-4609-9ca5-c445c21a36cc",
   "metadata": {},
   "source": [
    "# Helper function to format numpy arrays\n",
    "def formatted_array(input_array):\n",
    "    return \", \".join(f\"{x:.3e}\" for x in input_array)\n",
    "\n",
    "print(f'Mean: {formatted_array(system.m.mean())}')\n",
    "\n",
    "mean_axes = system.m.orientation.mean()\n",
    "print(f'Mean (orientation): {formatted_array(mean_axes)}')\n",
    "\n",
    "# Showing how your operations aren't mutating `system`\n",
    "print(f'Mean (sum): {sum([value for value in mean_axes]):.3f}')"
   ],
   "outputs": []
  },
  {
   "cell_type": "code",
   "execution_count": 81,
   "id": "b09f7ae5-ff1d-4e10-a36b-4f6f106141ae",
   "metadata": {},
   "source": [
    "# Just another way to loop over consecutive characters\n",
    "for select_axis in range(ord('x'), ord('z')+1):\n",
    "    resample_num_cells = num_cells  # Try changing to see what happens!\n",
    "    system.m.sel(chr(select_axis)).resample((resample_num_cells, resample_num_cells)).mpl()"
   ],
   "outputs": []
  },
  {
   "cell_type": "markdown",
   "id": "e9889fcf-9c7b-4112-8bf5-a52ddc3a2c00",
   "metadata": {},
   "source": [
    "## 5. Final result"
   ]
  },
  {
   "cell_type": "markdown",
   "id": "5740d99e-033d-4fac-b562-d0ddb582355b",
   "metadata": {},
   "source": [
    "The magnetisation is aligned along the $\\hat{x}$ axis which is what we expected for the geometry we selected. Success!"
   ]
  },
  {
   "cell_type": "code",
   "execution_count": null,
   "id": "e871899c-7ad0-48fd-96f4-ba209108bbc4",
   "metadata": {},
   "source": [],
   "outputs": []
  }
 ],
 "metadata": {
  "kernelspec": {
   "display_name": "Python 3 (ipykernel)",
   "language": "python",
   "name": "python3"
  },
  "language_info": {
   "codemirror_mode": {
    "name": "ipython",
    "version": 3
   },
   "file_extension": ".py",
   "mimetype": "text/x-python",
   "name": "python",
   "nbconvert_exporter": "python",
   "pygments_lexer": "ipython3",
   "version": "3.12.3"
  }
 },
 "nbformat": 4,
 "nbformat_minor": 5
}
